{
  "nbformat": 4,
  "nbformat_minor": 0,
  "metadata": {
    "colab": {
      "provenance": [],
      "authorship_tag": "ABX9TyNbf2tgx9OwupAMLU0ypPZU",
      "include_colab_link": true
    },
    "kernelspec": {
      "name": "python3",
      "display_name": "Python 3"
    },
    "language_info": {
      "name": "python"
    }
  },
  "cells": [
    {
      "cell_type": "markdown",
      "metadata": {
        "id": "view-in-github",
        "colab_type": "text"
      },
      "source": [
        "<a href=\"https://colab.research.google.com/github/RaymondLeong94/Flatiron_Capstone_Project-/blob/main/Final_Notebook_collab.ipynb\" target=\"_parent\"><img src=\"https://colab.research.google.com/assets/colab-badge.svg\" alt=\"Open In Colab\"/></a>"
      ]
    },
    {
      "cell_type": "markdown",
      "source": [
        "Yelp NLP project\n",
        "\n",
        "Part Four of Four\n",
        "\n",
        "Raymond Leong"
      ],
      "metadata": {
        "id": "lFL3i-FBiOou"
      }
    },
    {
      "cell_type": "markdown",
      "source": [
        "#Using Yelp's dataset to help PA restaurants identify areas of improvement in Service or Food Quality. "
      ],
      "metadata": {
        "id": "fk00yp1JEGYj"
      }
    },
    {
      "cell_type": "markdown",
      "source": [
        "Notebook 1: https://github.com/RaymondLeong94/Flatiron_Capstone_Project-/blob/main/Notebook1%20Preliminary%20EDA%20and%20FE.ipynb\n",
        "\n",
        "Notebook 2: https://github.com/RaymondLeong94/Flatiron_Capstone_Project-/blob/main/Notebook%202%20EDA_Entity%20Extraction_other%20FE.ipynb\n",
        "\n",
        "Notebook 3: https://github.com/RaymondLeong94/Flatiron_Capstone_Project-/blob/main/Notebook%203%20Modeling.ipynb\n",
        "\n",
        "Notebook 4 will use google collab to expand the vocabulary size with word to vec and then use our final chosen model method"
      ],
      "metadata": {
        "id": "vXgdQAU69ALx"
      }
    },
    {
      "cell_type": "markdown",
      "source": [
        "# Business problem\n",
        "________________________\n",
        "\n",
        "Yelp reviews can come in handy for a variety of reasons, for instance identifying key nouns and adjectives can help resturant owners and investors can bring clarity to investors. In our business case, we are interested in identifying nouns related to service or food - in hopes that we can start identifying statements that can improve either hospitality or food quality. Together these two are the ingredients for a successful resturant that we aim to look at for our stakeholders"
      ],
      "metadata": {
        "id": "DU3Z1KBAi20r"
      }
    },
    {
      "cell_type": "markdown",
      "source": [
        "# Stakeholders\n",
        "_______________________\n",
        "\n",
        "The stake holder would be someone who has multiple restaurants in Philadelphia and they want to identify which aspects of their business (service or food quality) to improve first based on yelp reviews and other attributes in order to obtain higher star ratings."
      ],
      "metadata": {
        "id": "bsOxuIYTjzJi"
      }
    },
    {
      "cell_type": "markdown",
      "source": [
        "#Data\n",
        "______________\n",
        "For this project we will be utilizing yelp's dataset which can be found here: https://www.yelp.com/dataset/download. This dataset is provided by yelp and contains 5 different JSON files.\n",
        "\n",
        "The first is buisness\n",
        "\n",
        "it contains: the id of the buisness, business name, address, city, state, postal code, lat, long, stars, review count, is it open?, attributes, categories, and hours\n",
        "\n",
        "For this first one we will be utilizing all features. except some locational attributes name, address, state, postal code. Some attributes are of usage to us, categories needs to be .exploded() in order to obtain resturants and establisments related to food. Hours can be generated. \n",
        "\n",
        "Please refer to Notebook 3 for the full code for: final_pre_processed_data, a json file that combines business and the \"review.json\"\n",
        "\n",
        "The second one is review.json \n",
        "\n",
        "It contains review id, user id, business id, stars, date, text, useful, funny and cool (the latter 3 being # of votes received by other consumers). We will only be interested in user_id, buisness id_, stars, and text. \n",
        "\n",
        "The third one is users: we will not have time to explode this \n",
        "\n",
        "The fourth one is checkin.json we will not have time to explode this \n",
        "\n",
        "The fifth one is tip.json\n",
        "This one is important because it represents an abbreviated form of review, we are interested in seeing how this works and have explored that tips do not work as well as the full text from a ML perspective.\n",
        "\n",
        " "
      ],
      "metadata": {
        "id": "RNwv9jvjWo82"
      }
    },
    {
      "cell_type": "markdown",
      "source": [
        "## Preprocessing the data:\n",
        "____________\n",
        "Final_preprocessed_data.json is the merge of business.json and reviews that have their entities extracted. The rows populated are PA restaurants only.\n",
        "\n",
        "EDA.JSON is the same as final_preprocessed_data except without entities and other NLP tasks. It is for feature engineering."
      ],
      "metadata": {
        "id": "28CzK_V5Csic"
      }
    },
    {
      "cell_type": "code",
      "execution_count": null,
      "metadata": {
        "colab": {
          "base_uri": "https://localhost:8080/"
        },
        "id": "fo0_E549BTi_",
        "outputId": "f2737c15-d4fb-40ae-f3b9-bc16cc1592ad"
      },
      "outputs": [
        {
          "output_type": "stream",
          "name": "stdout",
          "text": [
            "Mounted at /content/gdrive/\n"
          ]
        }
      ],
      "source": [
        "#import pandas and mount drive \n",
        "\n",
        "import pandas as pd\n",
        "import json\n",
        "from google.colab import drive\n",
        "\n",
        "drive.mount('/content/gdrive/', force_remount=True)"
      ]
    },
    {
      "cell_type": "code",
      "source": [
        "#change directory\n",
        "%cd gdrive/MyDrive"
      ],
      "metadata": {
        "colab": {
          "base_uri": "https://localhost:8080/"
        },
        "id": "PfAfm61GBW_M",
        "outputId": "f729c27a-b69c-4849-e87d-56f14b875bf4"
      },
      "execution_count": null,
      "outputs": [
        {
          "output_type": "stream",
          "name": "stdout",
          "text": [
            "/content/gdrive/MyDrive\n"
          ]
        }
      ]
    },
    {
      "cell_type": "code",
      "source": [
        "#import the file from notebook 2 titled \"final_preprocessed_data\" which contains all the restaurants and food establishments in philly\n",
        "import json\n",
        "preprocessed3 = pd.read_json('/content/gdrive/MyDrive/final_preprocessed_data.json', encoding='utf8') "
      ],
      "metadata": {
        "id": "sgCp0y90BgDo"
      },
      "execution_count": 2,
      "outputs": []
    },
    {
      "cell_type": "code",
      "source": [
        "#we have entities and their respective nouns and adjectives for each review\n",
        "preprocessed3['entities']"
      ],
      "metadata": {
        "colab": {
          "base_uri": "https://localhost:8080/"
        },
        "id": "Dzl33QEWX8dk",
        "outputId": "5546635f-e59b-4c7a-a6a0-8405edb5c06c"
      },
      "execution_count": 3,
      "outputs": [
        {
          "output_type": "execute_result",
          "data": {
            "text/plain": [
              "0        (S\\n  nice/JJ\\n  little/JJ\\n  bakery/JJ\\n  hea...\n",
              "1        (S\\n  bakery/NN\\n  usually/RB\\n  go/VBP\\n  chi...\n",
              "2        (S\\n  delightful/JJ\\n  find/VBP\\n  chinatown/J...\n",
              "3        (S\\n  order/NN\\n  graduation/NN\\n  cake/VB\\n  ...\n",
              "4        (S\\n  hkstyle/JJ\\n  milk/NN\\n  tea/IN\\n  four/...\n",
              "                               ...                        \n",
              "67359    (S\\n  cute/JJ\\n  coffee/NN\\n  shop/NN\\n  aroun...\n",
              "67360    (S\\n  nice/JJ\\n  cash/NN\\n  coffee/NN\\n  spot/...\n",
              "67361    (S\\n  hand/NN\\n  best/JJS\\n  ice/NN\\n  coffee/...\n",
              "67362    (S\\n  place/NN\\n  great/JJ\\n  super/JJ\\n  chil...\n",
              "67363    (S\\n  neighborhood/NN\\n  gem/NN\\n  owner/NN\\n ...\n",
              "Name: entities, Length: 65698, dtype: object"
            ]
          },
          "metadata": {},
          "execution_count": 3
        }
      ]
    },
    {
      "cell_type": "markdown",
      "source": [
        "Looking at sentiment analysis of nouns and adjectives"
      ],
      "metadata": {
        "id": "5L0FUwQhiOS8"
      }
    },
    {
      "cell_type": "code",
      "source": [
        "!pip install vaderSentiment\n",
        "from vaderSentiment.vaderSentiment import SentimentIntensityAnalyzer"
      ],
      "metadata": {
        "id": "hgBHPEZCnmDZ",
        "colab": {
          "base_uri": "https://localhost:8080/"
        },
        "outputId": "5323e926-93e5-4c70-ba2a-e4957690b85a"
      },
      "execution_count": 5,
      "outputs": [
        {
          "output_type": "stream",
          "name": "stdout",
          "text": [
            "Looking in indexes: https://pypi.org/simple, https://us-python.pkg.dev/colab-wheels/public/simple/\n",
            "Collecting vaderSentiment\n",
            "  Downloading vaderSentiment-3.3.2-py2.py3-none-any.whl (125 kB)\n",
            "\u001b[2K     \u001b[90m━━━━━━━━━━━━━━━━━━━━━━━━━━━━━━━━━━━━━━━\u001b[0m \u001b[32m126.0/126.0 KB\u001b[0m \u001b[31m3.5 MB/s\u001b[0m eta \u001b[36m0:00:00\u001b[0m\n",
            "\u001b[?25hRequirement already satisfied: requests in /usr/local/lib/python3.8/dist-packages (from vaderSentiment) (2.25.1)\n",
            "Requirement already satisfied: idna<3,>=2.5 in /usr/local/lib/python3.8/dist-packages (from requests->vaderSentiment) (2.10)\n",
            "Requirement already satisfied: certifi>=2017.4.17 in /usr/local/lib/python3.8/dist-packages (from requests->vaderSentiment) (2022.12.7)\n",
            "Requirement already satisfied: urllib3<1.27,>=1.21.1 in /usr/local/lib/python3.8/dist-packages (from requests->vaderSentiment) (1.24.3)\n",
            "Requirement already satisfied: chardet<5,>=3.0.2 in /usr/local/lib/python3.8/dist-packages (from requests->vaderSentiment) (4.0.0)\n",
            "Installing collected packages: vaderSentiment\n",
            "Successfully installed vaderSentiment-3.3.2\n"
          ]
        }
      ]
    },
    {
      "cell_type": "code",
      "source": [
        "preprocessed3.nouns_adjec =preprocessed3.nouns_adjec.astype(str)\n"
      ],
      "metadata": {
        "id": "nzfPu-lRlBSA"
      },
      "execution_count": 6,
      "outputs": []
    },
    {
      "cell_type": "code",
      "source": [
        "#get vader sentiment analysis going to cross compare \n",
        "\n",
        "\n",
        "def sentiment_scores(sentence):\n",
        "\n",
        "    \"\"\"\n",
        "    This function serves as vader's provided documentation for sentiment, when we look at the thresholds, we consider scores less than -.1 as negative, and higher than .1 as positive\n",
        "    In between is neutral, which we would like to minimize \n",
        "    Ihave tried adaptive thresholds for finding the proper range but settled for the default due to it's pervalence across other language models\n",
        "    \"\"\"\n",
        "\n",
        "    sid_obj = SentimentIntensityAnalyzer()\n",
        "    #obtain sentance and find the score via the polarity_score fx \n",
        "    sentiment_dict = sid_obj.polarity_scores(sentence)\n",
        "    \n",
        "    if sentiment_dict['compound'] >= 0.1 :\n",
        "        return \"Positive\"\n",
        " \n",
        "    elif sentiment_dict['compound'] <= - 0.1 :\n",
        "        return \"Negative\"\n",
        " \n",
        "    else :\n",
        "        return \"Neutral\"\n",
        "\n",
        "preprocessed3['vader_nouns_adjecs']= preprocessed3['nouns_adjec'].map(sentiment_scores)"
      ],
      "metadata": {
        "id": "5tfx6G_NlTuU"
      },
      "execution_count": 7,
      "outputs": []
    },
    {
      "cell_type": "markdown",
      "source": [
        "Visualizing the distribution"
      ],
      "metadata": {
        "id": "WBnbnOQHmVqH"
      }
    },
    {
      "cell_type": "code",
      "source": [
        "import matplotlib.pyplot as plt\n",
        "preprocessed3['vader_nouns_adjecs'].value_counts().plot(kind='barh')\n",
        "ax = plt.title(\"Vader Score for Nouns and Adjectives\")\n",
        "ax = plt.title(\"Sentiment scores for PA Restaurants \")\n",
        "plt.show()\n"
      ],
      "metadata": {
        "colab": {
          "base_uri": "https://localhost:8080/",
          "height": 281
        },
        "id": "XXLV_QpZlMcW",
        "outputId": "d68ee922-3976-4a45-9005-e1dd17bff00c"
      },
      "execution_count": null,
      "outputs": [
        {
          "output_type": "display_data",
          "data": {
            "text/plain": [
              "<Figure size 432x288 with 1 Axes>"
            ],
            "image/png": "[encoded data removed]"
          },
          "metadata": {
            "needs_background": "light"
          }
        }
      ]
    },
    {
      "cell_type": "code",
      "source": [
        "#this dataset is business data except with the attributes exploded and only resturants/food places in PA are listed\n",
        "#this is the distinct businesses of pa restaurants\n",
        "pd.set_option('mode.chained_assignment', None)\n",
        "EDA = pd.read_csv('/content/gdrive/MyDrive/EDA.csv', encoding='utf8')\n"
      ],
      "metadata": {
        "id": "_glVpvFnXKJt",
        "colab": {
          "base_uri": "https://localhost:8080/"
        },
        "outputId": "09af1f52-953d-49e6-b660-3ed434fc9b24"
      },
      "execution_count": 21,
      "outputs": [
        {
          "output_type": "stream",
          "name": "stderr",
          "text": [
            "/usr/local/lib/python3.8/dist-packages/IPython/core/interactiveshell.py:3326: DtypeWarning: Columns (17,18,43,49,50,51,52) have mixed types.Specify dtype option on import or set low_memory=False.\n",
            "  exec(code_obj, self.user_global_ns, self.user_ns)\n"
          ]
        }
      ]
    },
    {
      "cell_type": "code",
      "source": [
        "#drop the extra star\n",
        "EDA = EDA.dropna(subset=['stars_y'])"
      ],
      "metadata": {
        "id": "ZUnGBhZo_q5b"
      },
      "execution_count": 22,
      "outputs": []
    },
    {
      "cell_type": "markdown",
      "source": [],
      "metadata": {
        "id": "x3CEmokKwO4U"
      }
    },
    {
      "cell_type": "code",
      "source": [
        "#fill the na this time with really low time differences like 30 minutes \n",
        "#still doesnt cut out the 0 but at least it gives us smaller hours \n",
        "days = [\"Monday\",\"Tuesday\",\"Wednesday\",\"Thursday\",\"Friday\",\"Saturday\",\"Sunday\"]\n",
        "EDA[days] = EDA[days].astype(str)\n",
        "EDA[days] = EDA[days].fillna('1:0-1:30')\n"
      ],
      "metadata": {
        "id": "dqmlKovOd5VI"
      },
      "execution_count": 23,
      "outputs": []
    },
    {
      "cell_type": "code",
      "source": [
        "#refer to notebook 1 \n",
        "\n",
        "def calculate_hours(row: pd.Series) -> float:\n",
        "    \"\"\"The point of this function is to take the row which is the format \"x:y-a:b\"\n",
        "    and x:y is the opening time and a:b is the closing time\n",
        "    then we seperate x and a and y and b  into opening/closing time respectively\n",
        "    we finally make it that if start hour = to end hour then it returns 0 for the closed resturants. we can aslo assume that we would want our resturant to be open for more than 12 hours.\n",
        "    \"\"\"\n",
        "    try:\n",
        "        # split the given times to start and end time\n",
        "        opening_time, closing_time = row.split(\"-\")\n",
        "        # split hours and minutes\n",
        "        start_hour, start_minute = opening_time.split(\":\")\n",
        "        end_hour, end_minute = closing_time.split(\":\")\n",
        "        # calculate start time (in hours)\n",
        "        start_time = float(start_hour) + float(start_minute) / 60\n",
        "        # calculate end time (in hours)\n",
        "        end_time = float(end_hour) + float(end_minute) / 60\n",
        "        # handle overneight and 24h openings\n",
        "        if start_time >= end_time:\n",
        "            end_time += 24\n",
        "        # return the duration from start time to end time\n",
        "        return end_time - start_time\n",
        "        \n",
        "    except:\n",
        "        return 0.0\n"
      ],
      "metadata": {
        "id": "EYDgkU5wehVy"
      },
      "execution_count": 24,
      "outputs": []
    },
    {
      "cell_type": "code",
      "source": [
        "#get weekend hours\n",
        "EDA[\"weekend_hours\"]=  EDA[\"Friday\"].apply(calculate_hours) +\\\n",
        "             EDA[\"Saturday\"].apply(calculate_hours) +\\\n",
        "             EDA[\"Sunday\"].apply(calculate_hours)"
      ],
      "metadata": {
        "id": "hQzgXp32fNB6"
      },
      "execution_count": 25,
      "outputs": []
    },
    {
      "cell_type": "code",
      "source": [
        "#the function didnt account for 00;00- 00;00 and reads as 24 so we can replace 24,48,72 with 0 hours \n",
        "\n",
        "EDA[\"weekend_hours\"] = EDA[\"weekend_hours\"].astype(str).replace('72.0', '0')\n",
        "\n",
        "EDA[\"weekend_hours\"] = EDA[\"weekend_hours\"].astype(str).replace('72.00', '0')\n",
        "EDA[\"weekend_hours\"] = EDA[\"weekend_hours\"].astype(str).replace('48.00', '0')"
      ],
      "metadata": {
        "id": "5AuwEwEke5fP"
      },
      "execution_count": 26,
      "outputs": []
    },
    {
      "cell_type": "code",
      "source": [
        "EDA['weekend_hours'] = EDA['weekend_hours'].astype(float)"
      ],
      "metadata": {
        "id": "4NaW_wZnmoCX"
      },
      "execution_count": 27,
      "outputs": []
    },
    {
      "cell_type": "code",
      "source": [
        "#obtain weekend hours\n",
        "import matplotlib.pyplot as plt\n",
        "EDA['stars_y']=  EDA['stars_y'].astype(float)\n",
        "ax= EDA.boxplot(column=['weekend_hours'], by = ['stars_y'])\n",
        "plt.title(\"Resturants and their Weekend hours\")\n",
        "plt.suptitle('')\n",
        "\n",
        "plt.show()\n"
      ],
      "metadata": {
        "colab": {
          "base_uri": "https://localhost:8080/",
          "height": 295
        },
        "id": "W7Lits1whiDT",
        "outputId": "5c55a3f0-3802-40a1-fe62-8a41b4b552d7"
      },
      "execution_count": 28,
      "outputs": [
        {
          "output_type": "display_data",
          "data": {
            "text/plain": [
              "<Figure size 432x288 with 1 Axes>"
            ],
            "image/png": "[encoded data removed]"
          },
          "metadata": {
            "needs_background": "light"
          }
        }
      ]
    },
    {
      "cell_type": "code",
      "source": [
        "#simple OLS model to see if theres any linear correlation \n",
        "\n",
        "from scipy import stats\n",
        "from mpl_toolkits.mplot3d import Axes3D\n",
        "\n",
        "from sklearn.linear_model import LinearRegression\n",
        "from statsmodels.stats.outliers_influence import variance_inflation_factor\n",
        "import sklearn.metrics as metrics\n",
        "import statsmodels.api as sm\n",
        "import statsmodels.api as sm\n",
        "from statsmodels.formula.api import ols\n",
        "Y = preprocessed3['stars_y']\n",
        "X = preprocessed3[['weekend_hours']]\n",
        "X = sm.add_constant(X)\n",
        "\n",
        "model = sm.OLS(Y, X).fit()\n",
        "print(model.summary())\n",
        "\n",
        "print(\"_____________________________\")\n",
        "vif = [variance_inflation_factor(X.values, i) for i in range(X.shape[1])]\n",
        "\n",
        "print(vif)"
      ],
      "metadata": {
        "colab": {
          "base_uri": "https://localhost:8080/"
        },
        "id": "wlcatCQvj5AI",
        "outputId": "16fe7279-f72e-4eb6-b2a3-cc1949e46210"
      },
      "execution_count": 29,
      "outputs": [
        {
          "output_type": "stream",
          "name": "stdout",
          "text": [
            "                            OLS Regression Results                            \n",
            "==============================================================================\n",
            "Dep. Variable:                stars_y   R-squared:                       0.018\n",
            "Model:                            OLS   Adj. R-squared:                  0.018\n",
            "Method:                 Least Squares   F-statistic:                     1196.\n",
            "Date:                Sun, 26 Feb 2023   Prob (F-statistic):          1.22e-259\n",
            "Time:                        03:30:45   Log-Likelihood:            -1.0975e+05\n",
            "No. Observations:               65698   AIC:                         2.195e+05\n",
            "Df Residuals:                   65696   BIC:                         2.195e+05\n",
            "Df Model:                           1                                         \n",
            "Covariance Type:            nonrobust                                         \n",
            "=================================================================================\n",
            "                    coef    std err          t      P>|t|      [0.025      0.975]\n",
            "---------------------------------------------------------------------------------\n",
            "const             4.2474      0.013    328.770      0.000       4.222       4.273\n",
            "weekend_hours    -0.0127      0.000    -34.577      0.000      -0.013      -0.012\n",
            "==============================================================================\n",
            "Omnibus:                     7006.470   Durbin-Watson:                   1.689\n",
            "Prob(Omnibus):                  0.000   Jarque-Bera (JB):             9326.370\n",
            "Skew:                          -0.914   Prob(JB):                         0.00\n",
            "Kurtosis:                       2.749   Cond. No.                         90.3\n",
            "==============================================================================\n",
            "\n",
            "Notes:\n",
            "[1] Standard Errors assume that the covariance matrix of the errors is correctly specified.\n",
            "_____________________________\n",
            "[6.628744112450324, 1.0000000000000013]\n"
          ]
        },
        {
          "output_type": "stream",
          "name": "stderr",
          "text": [
            "/usr/local/lib/python3.8/dist-packages/statsmodels/tsa/tsatools.py:142: FutureWarning: In a future version of pandas all arguments of concat except for the argument 'objs' will be keyword-only\n",
            "  x = pd.concat(x[::order], 1)\n"
          ]
        }
      ]
    },
    {
      "cell_type": "markdown",
      "source": [
        "There is no linear correlation between hours opened and stars let us look at the correlation between stars and the nouns_adjectives columns for each individual review"
      ],
      "metadata": {
        "id": "PM0qYnyILati"
      }
    },
    {
      "cell_type": "code",
      "source": [
        " practice_set= preprocessed3"
      ],
      "metadata": {
        "id": "LpIYHT7ayDu2"
      },
      "execution_count": 30,
      "outputs": []
    },
    {
      "cell_type": "code",
      "source": [
        "#start by looking at at the columns and stars\n",
        "practice_set= practice_set[['nouns_adjec', 'stars_y']]"
      ],
      "metadata": {
        "id": "b1VqNTPNCE9l"
      },
      "execution_count": 31,
      "outputs": []
    },
    {
      "cell_type": "code",
      "source": [
        "practice_set"
      ],
      "metadata": {
        "colab": {
          "base_uri": "https://localhost:8080/",
          "height": 424
        },
        "id": "iON7iAtH_g5-",
        "outputId": "c3ba1083-1184-45d1-a19a-24fc59555822"
      },
      "execution_count": 32,
      "outputs": [
        {
          "output_type": "execute_result",
          "data": {
            "text/plain": [
              "                                             nouns_adjec  stars_y\n",
              "0      'heart', 'philadelphia', 'female', 'cashier', ...        4\n",
              "1      'bakery', 'variety', 'bun', 'pastry', 'bun', '...        4\n",
              "2      'kind', 'service', 'everyone', 'treat', 'treat...        5\n",
              "3      'order', 'graduation', 'event', 'staff', 'nice...        5\n",
              "4      'milk', 'saint', 'honore', 'pastry', 'business...        4\n",
              "...                                                  ...      ...\n",
              "67359  'coffee', 'shop', 'work', 'price', 'variety', ...        5\n",
              "67360  'cash', 'coffee', 'spot', 'cozy', 'spot', 'cof...        3\n",
              "67361  'hand', 'ice', 'coffee', 'terrific', 'guy', 'c...        5\n",
              "67362  'place', 'chill', 'corner', 'coffee', 'shop', ...        5\n",
              "67363  'neighborhood', 'gem', 'owner', 'guy', 'place'...        4\n",
              "\n",
              "[65698 rows x 2 columns]"
            ],
            "text/html": [
              "\n",
              "  <div id=\"df-ae999b42-8fcb-4973-aa6f-10db09dc2cce\">\n",
              "    <div class=\"colab-df-container\">\n",
              "      <div>\n",
              "<style scoped>\n",
              "    .dataframe tbody tr th:only-of-type {\n",
              "        vertical-align: middle;\n",
              "    }\n",
              "\n",
              "    .dataframe tbody tr th {\n",
              "        vertical-align: top;\n",
              "    }\n",
              "\n",
              "    .dataframe thead th {\n",
              "        text-align: right;\n",
              "    }\n",
              "</style>\n",
              "<table border=\"1\" class=\"dataframe\">\n",
              "  <thead>\n",
              "    <tr style=\"text-align: right;\">\n",
              "      <th></th>\n",
              "      <th>nouns_adjec</th>\n",
              "      <th>stars_y</th>\n",
              "    </tr>\n",
              "  </thead>\n",
              "  <tbody>\n",
              "    <tr>\n",
              "      <th>0</th>\n",
              "      <td>'heart', 'philadelphia', 'female', 'cashier', ...</td>\n",
              "      <td>4</td>\n",
              "    </tr>\n",
              "    <tr>\n",
              "      <th>1</th>\n",
              "      <td>'bakery', 'variety', 'bun', 'pastry', 'bun', '...</td>\n",
              "      <td>4</td>\n",
              "    </tr>\n",
              "    <tr>\n",
              "      <th>2</th>\n",
              "      <td>'kind', 'service', 'everyone', 'treat', 'treat...</td>\n",
              "      <td>5</td>\n",
              "    </tr>\n",
              "    <tr>\n",
              "      <th>3</th>\n",
              "      <td>'order', 'graduation', 'event', 'staff', 'nice...</td>\n",
              "      <td>5</td>\n",
              "    </tr>\n",
              "    <tr>\n",
              "      <th>4</th>\n",
              "      <td>'milk', 'saint', 'honore', 'pastry', 'business...</td>\n",
              "      <td>4</td>\n",
              "    </tr>\n",
              "    <tr>\n",
              "      <th>...</th>\n",
              "      <td>...</td>\n",
              "      <td>...</td>\n",
              "    </tr>\n",
              "    <tr>\n",
              "      <th>67359</th>\n",
              "      <td>'coffee', 'shop', 'work', 'price', 'variety', ...</td>\n",
              "      <td>5</td>\n",
              "    </tr>\n",
              "    <tr>\n",
              "      <th>67360</th>\n",
              "      <td>'cash', 'coffee', 'spot', 'cozy', 'spot', 'cof...</td>\n",
              "      <td>3</td>\n",
              "    </tr>\n",
              "    <tr>\n",
              "      <th>67361</th>\n",
              "      <td>'hand', 'ice', 'coffee', 'terrific', 'guy', 'c...</td>\n",
              "      <td>5</td>\n",
              "    </tr>\n",
              "    <tr>\n",
              "      <th>67362</th>\n",
              "      <td>'place', 'chill', 'corner', 'coffee', 'shop', ...</td>\n",
              "      <td>5</td>\n",
              "    </tr>\n",
              "    <tr>\n",
              "      <th>67363</th>\n",
              "      <td>'neighborhood', 'gem', 'owner', 'guy', 'place'...</td>\n",
              "      <td>4</td>\n",
              "    </tr>\n",
              "  </tbody>\n",
              "</table>\n",
              "<p>65698 rows × 2 columns</p>\n",
              "</div>\n",
              "      <button class=\"colab-df-convert\" onclick=\"convertToInteractive('df-ae999b42-8fcb-4973-aa6f-10db09dc2cce')\"\n",
              "              title=\"Convert this dataframe to an interactive table.\"\n",
              "              style=\"display:none;\">\n",
              "        \n",
              "  <svg xmlns=\"http://www.w3.org/2000/svg\" height=\"24px\"viewBox=\"0 0 24 24\"\n",
              "       width=\"24px\">\n",
              "    <path d=\"M0 0h24v24H0V0z\" fill=\"none\"/>\n",
              "    <path d=\"M18.56 5.44l.94 2.06.94-2.06 2.06-.94-2.06-.94-.94-2.06-.94 2.06-2.06.94zm-11 1L8.5 8.5l.94-2.06 2.06-.94-2.06-.94L8.5 2.5l-.94 2.06-2.06.94zm10 10l.94 2.06.94-2.06 2.06-.94-2.06-.94-.94-2.06-.94 2.06-2.06.94z\"/><path d=\"M17.41 7.96l-1.37-1.37c-.4-.4-.92-.59-1.43-.59-.52 0-1.04.2-1.43.59L10.3 9.45l-7.72 7.72c-.78.78-.78 2.05 0 2.83L4 21.41c.39.39.9.59 1.41.59.51 0 1.02-.2 1.41-.59l7.78-7.78 2.81-2.81c.8-.78.8-2.07 0-2.86zM5.41 20L4 18.59l7.72-7.72 1.47 1.35L5.41 20z\"/>\n",
              "  </svg>\n",
              "      </button>\n",
              "      \n",
              "  <style>\n",
              "    .colab-df-container {\n",
              "      display:flex;\n",
              "      flex-wrap:wrap;\n",
              "      gap: 12px;\n",
              "    }\n",
              "\n",
              "    .colab-df-convert {\n",
              "      background-color: #E8F0FE;\n",
              "      border: none;\n",
              "      border-radius: 50%;\n",
              "      cursor: pointer;\n",
              "      display: none;\n",
              "      fill: #1967D2;\n",
              "      height: 32px;\n",
              "      padding: 0 0 0 0;\n",
              "      width: 32px;\n",
              "    }\n",
              "\n",
              "    .colab-df-convert:hover {\n",
              "      background-color: #E2EBFA;\n",
              "      box-shadow: 0px 1px 2px rgba(60, 64, 67, 0.3), 0px 1px 3px 1px rgba(60, 64, 67, 0.15);\n",
              "      fill: #174EA6;\n",
              "    }\n",
              "\n",
              "    [theme=dark] .colab-df-convert {\n",
              "      background-color: #3B4455;\n",
              "      fill: #D2E3FC;\n",
              "    }\n",
              "\n",
              "    [theme=dark] .colab-df-convert:hover {\n",
              "      background-color: #434B5C;\n",
              "      box-shadow: 0px 1px 3px 1px rgba(0, 0, 0, 0.15);\n",
              "      filter: drop-shadow(0px 1px 2px rgba(0, 0, 0, 0.3));\n",
              "      fill: #FFFFFF;\n",
              "    }\n",
              "  </style>\n",
              "\n",
              "      <script>\n",
              "        const buttonEl =\n",
              "          document.querySelector('#df-ae999b42-8fcb-4973-aa6f-10db09dc2cce button.colab-df-convert');\n",
              "        buttonEl.style.display =\n",
              "          google.colab.kernel.accessAllowed ? 'block' : 'none';\n",
              "\n",
              "        async function convertToInteractive(key) {\n",
              "          const element = document.querySelector('#df-ae999b42-8fcb-4973-aa6f-10db09dc2cce');\n",
              "          const dataTable =\n",
              "            await google.colab.kernel.invokeFunction('convertToInteractive',\n",
              "                                                     [key], {});\n",
              "          if (!dataTable) return;\n",
              "\n",
              "          const docLinkHtml = 'Like what you see? Visit the ' +\n",
              "            '<a target=\"_blank\" href=https://colab.research.google.com/notebooks/data_table.ipynb>data table notebook</a>'\n",
              "            + ' to learn more about interactive tables.';\n",
              "          element.innerHTML = '';\n",
              "          dataTable['output_type'] = 'display_data';\n",
              "          await google.colab.output.renderOutput(dataTable, element);\n",
              "          const docLink = document.createElement('div');\n",
              "          docLink.innerHTML = docLinkHtml;\n",
              "          element.appendChild(docLink);\n",
              "        }\n",
              "      </script>\n",
              "    </div>\n",
              "  </div>\n",
              "  "
            ]
          },
          "metadata": {},
          "execution_count": 32
        }
      ]
    },
    {
      "cell_type": "code",
      "source": [
        "#idea from https://www.youtube.com/watch?v=Fuw0wv3X-0o\n",
        "import numpy as np\n",
        "from tensorflow.keras.preprocessing.text import one_hot\n",
        "from tensorflow.keras.preprocessing.sequence import pad_sequences\n",
        "from tensorflow.keras.models import Sequential\n",
        "from tensorflow.keras.layers import Dense\n",
        "from tensorflow.keras.layers import Flatten\n",
        "from tensorflow.keras.layers import Embedding"
      ],
      "metadata": {
        "id": "DsOv6K47DJLe"
      },
      "execution_count": 33,
      "outputs": []
    },
    {
      "cell_type": "code",
      "source": [
        "#convert\n",
        "practice_set['nouns_adjec']= practice_set['nouns_adjec'].astype(str)"
      ],
      "metadata": {
        "id": "JeRgBLT9Dwo2"
      },
      "execution_count": 34,
      "outputs": []
    },
    {
      "cell_type": "code",
      "source": [
        "#make sure there are no nan values\n",
        "practice_set.info()"
      ],
      "metadata": {
        "id": "1dF2LqSzEgH3",
        "colab": {
          "base_uri": "https://localhost:8080/"
        },
        "outputId": "40b31ef9-e8a3-46c5-f189-eb729be48fc7"
      },
      "execution_count": 35,
      "outputs": [
        {
          "output_type": "stream",
          "name": "stdout",
          "text": [
            "<class 'pandas.core.frame.DataFrame'>\n",
            "Int64Index: 65698 entries, 0 to 67363\n",
            "Data columns (total 2 columns):\n",
            " #   Column       Non-Null Count  Dtype \n",
            "---  ------       --------------  ----- \n",
            " 0   nouns_adjec  65698 non-null  object\n",
            " 1   stars_y      65698 non-null  int64 \n",
            "dtypes: int64(1), object(1)\n",
            "memory usage: 1.5+ MB\n"
          ]
        }
      ]
    },
    {
      "cell_type": "code",
      "source": [
        "#replace the elements so that the tokenizer can do its job\n",
        "practice_set['nouns_adjec'] = practice_set['nouns_adjec'].astype(str).apply(lambda x: x.replace('\"', ''))\n",
        "practice_set['nouns_adjec'] = practice_set['nouns_adjec'].apply(lambda x: x.replace('[', ''))\n",
        "practice_set['nouns_adjec'] = practice_set['nouns_adjec'].apply(lambda x: x.replace(']', ''))\n",
        "practice_set['nouns_adjec'] = practice_set['nouns_adjec'].apply(lambda x: x.replace(',', ''))\n",
        "practice_set['nouns_adjec'] =practice_set['nouns_adjec'].apply(lambda x: x.replace(\", '\", \"'\"))\n",
        "practice_set['nouns_adjec'] =practice_set['nouns_adjec'].apply(lambda x: x.replace(\"'\", \"\"))"
      ],
      "metadata": {
        "id": "uWpmuHM9kFBz"
      },
      "execution_count": 36,
      "outputs": []
    },
    {
      "cell_type": "code",
      "source": [
        "#create the 'top' restaurants based off teh discussion thus far\n",
        "top_rest_cv= practice_set[(practice_set['stars_y'] >= 3)]"
      ],
      "metadata": {
        "id": "Ab5FKZfjgiIL"
      },
      "execution_count": 37,
      "outputs": []
    },
    {
      "cell_type": "code",
      "source": [
        "#this accounts for more than 75% of the reviews, the output is heavily weighed towards positive reviews anyways\n",
        "top_rest_cv"
      ],
      "metadata": {
        "id": "HkWFSBeYhAUd",
        "colab": {
          "base_uri": "https://localhost:8080/",
          "height": 424
        },
        "outputId": "19052593-fae6-4e0c-f507-e1f7e62dfc91"
      },
      "execution_count": 39,
      "outputs": [
        {
          "output_type": "execute_result",
          "data": {
            "text/plain": [
              "                                             nouns_adjec  stars_y\n",
              "0      heart philadelphia female cashier pastry show ...        4\n",
              "1      bakery variety bun pastry bun mung coconut stu...        4\n",
              "2      kind service everyone treat treat judgement th...        5\n",
              "3      order graduation event staff niceniece perfect...        5\n",
              "4      milk saint honore pastry business boyfriend ti...        4\n",
              "...                                                  ...      ...\n",
              "67359  coffee shop work price variety beverage cold c...        5\n",
              "67360  cash coffee spot cozy spot coffee medium latte...        3\n",
              "67361  hand ice coffee terrific guy counter try apart...        5\n",
              "67362  place chill corner coffee shop baristaowner ne...        5\n",
              "67363  neighborhood gem owner guy place spot hang wor...        4\n",
              "\n",
              "[54135 rows x 2 columns]"
            ],
            "text/html": [
              "\n",
              "  <div id=\"df-9ac47ef2-84a3-4d8b-bea6-6fc66419fc43\">\n",
              "    <div class=\"colab-df-container\">\n",
              "      <div>\n",
              "<style scoped>\n",
              "    .dataframe tbody tr th:only-of-type {\n",
              "        vertical-align: middle;\n",
              "    }\n",
              "\n",
              "    .dataframe tbody tr th {\n",
              "        vertical-align: top;\n",
              "    }\n",
              "\n",
              "    .dataframe thead th {\n",
              "        text-align: right;\n",
              "    }\n",
              "</style>\n",
              "<table border=\"1\" class=\"dataframe\">\n",
              "  <thead>\n",
              "    <tr style=\"text-align: right;\">\n",
              "      <th></th>\n",
              "      <th>nouns_adjec</th>\n",
              "      <th>stars_y</th>\n",
              "    </tr>\n",
              "  </thead>\n",
              "  <tbody>\n",
              "    <tr>\n",
              "      <th>0</th>\n",
              "      <td>heart philadelphia female cashier pastry show ...</td>\n",
              "      <td>4</td>\n",
              "    </tr>\n",
              "    <tr>\n",
              "      <th>1</th>\n",
              "      <td>bakery variety bun pastry bun mung coconut stu...</td>\n",
              "      <td>4</td>\n",
              "    </tr>\n",
              "    <tr>\n",
              "      <th>2</th>\n",
              "      <td>kind service everyone treat treat judgement th...</td>\n",
              "      <td>5</td>\n",
              "    </tr>\n",
              "    <tr>\n",
              "      <th>3</th>\n",
              "      <td>order graduation event staff niceniece perfect...</td>\n",
              "      <td>5</td>\n",
              "    </tr>\n",
              "    <tr>\n",
              "      <th>4</th>\n",
              "      <td>milk saint honore pastry business boyfriend ti...</td>\n",
              "      <td>4</td>\n",
              "    </tr>\n",
              "    <tr>\n",
              "      <th>...</th>\n",
              "      <td>...</td>\n",
              "      <td>...</td>\n",
              "    </tr>\n",
              "    <tr>\n",
              "      <th>67359</th>\n",
              "      <td>coffee shop work price variety beverage cold c...</td>\n",
              "      <td>5</td>\n",
              "    </tr>\n",
              "    <tr>\n",
              "      <th>67360</th>\n",
              "      <td>cash coffee spot cozy spot coffee medium latte...</td>\n",
              "      <td>3</td>\n",
              "    </tr>\n",
              "    <tr>\n",
              "      <th>67361</th>\n",
              "      <td>hand ice coffee terrific guy counter try apart...</td>\n",
              "      <td>5</td>\n",
              "    </tr>\n",
              "    <tr>\n",
              "      <th>67362</th>\n",
              "      <td>place chill corner coffee shop baristaowner ne...</td>\n",
              "      <td>5</td>\n",
              "    </tr>\n",
              "    <tr>\n",
              "      <th>67363</th>\n",
              "      <td>neighborhood gem owner guy place spot hang wor...</td>\n",
              "      <td>4</td>\n",
              "    </tr>\n",
              "  </tbody>\n",
              "</table>\n",
              "<p>54135 rows × 2 columns</p>\n",
              "</div>\n",
              "      <button class=\"colab-df-convert\" onclick=\"convertToInteractive('df-9ac47ef2-84a3-4d8b-bea6-6fc66419fc43')\"\n",
              "              title=\"Convert this dataframe to an interactive table.\"\n",
              "              style=\"display:none;\">\n",
              "        \n",
              "  <svg xmlns=\"http://www.w3.org/2000/svg\" height=\"24px\"viewBox=\"0 0 24 24\"\n",
              "       width=\"24px\">\n",
              "    <path d=\"M0 0h24v24H0V0z\" fill=\"none\"/>\n",
              "    <path d=\"M18.56 5.44l.94 2.06.94-2.06 2.06-.94-2.06-.94-.94-2.06-.94 2.06-2.06.94zm-11 1L8.5 8.5l.94-2.06 2.06-.94-2.06-.94L8.5 2.5l-.94 2.06-2.06.94zm10 10l.94 2.06.94-2.06 2.06-.94-2.06-.94-.94-2.06-.94 2.06-2.06.94z\"/><path d=\"M17.41 7.96l-1.37-1.37c-.4-.4-.92-.59-1.43-.59-.52 0-1.04.2-1.43.59L10.3 9.45l-7.72 7.72c-.78.78-.78 2.05 0 2.83L4 21.41c.39.39.9.59 1.41.59.51 0 1.02-.2 1.41-.59l7.78-7.78 2.81-2.81c.8-.78.8-2.07 0-2.86zM5.41 20L4 18.59l7.72-7.72 1.47 1.35L5.41 20z\"/>\n",
              "  </svg>\n",
              "      </button>\n",
              "      \n",
              "  <style>\n",
              "    .colab-df-container {\n",
              "      display:flex;\n",
              "      flex-wrap:wrap;\n",
              "      gap: 12px;\n",
              "    }\n",
              "\n",
              "    .colab-df-convert {\n",
              "      background-color: #E8F0FE;\n",
              "      border: none;\n",
              "      border-radius: 50%;\n",
              "      cursor: pointer;\n",
              "      display: none;\n",
              "      fill: #1967D2;\n",
              "      height: 32px;\n",
              "      padding: 0 0 0 0;\n",
              "      width: 32px;\n",
              "    }\n",
              "\n",
              "    .colab-df-convert:hover {\n",
              "      background-color: #E2EBFA;\n",
              "      box-shadow: 0px 1px 2px rgba(60, 64, 67, 0.3), 0px 1px 3px 1px rgba(60, 64, 67, 0.15);\n",
              "      fill: #174EA6;\n",
              "    }\n",
              "\n",
              "    [theme=dark] .colab-df-convert {\n",
              "      background-color: #3B4455;\n",
              "      fill: #D2E3FC;\n",
              "    }\n",
              "\n",
              "    [theme=dark] .colab-df-convert:hover {\n",
              "      background-color: #434B5C;\n",
              "      box-shadow: 0px 1px 3px 1px rgba(0, 0, 0, 0.15);\n",
              "      filter: drop-shadow(0px 1px 2px rgba(0, 0, 0, 0.3));\n",
              "      fill: #FFFFFF;\n",
              "    }\n",
              "  </style>\n",
              "\n",
              "      <script>\n",
              "        const buttonEl =\n",
              "          document.querySelector('#df-9ac47ef2-84a3-4d8b-bea6-6fc66419fc43 button.colab-df-convert');\n",
              "        buttonEl.style.display =\n",
              "          google.colab.kernel.accessAllowed ? 'block' : 'none';\n",
              "\n",
              "        async function convertToInteractive(key) {\n",
              "          const element = document.querySelector('#df-9ac47ef2-84a3-4d8b-bea6-6fc66419fc43');\n",
              "          const dataTable =\n",
              "            await google.colab.kernel.invokeFunction('convertToInteractive',\n",
              "                                                     [key], {});\n",
              "          if (!dataTable) return;\n",
              "\n",
              "          const docLinkHtml = 'Like what you see? Visit the ' +\n",
              "            '<a target=\"_blank\" href=https://colab.research.google.com/notebooks/data_table.ipynb>data table notebook</a>'\n",
              "            + ' to learn more about interactive tables.';\n",
              "          element.innerHTML = '';\n",
              "          dataTable['output_type'] = 'display_data';\n",
              "          await google.colab.output.renderOutput(dataTable, element);\n",
              "          const docLink = document.createElement('div');\n",
              "          docLink.innerHTML = docLinkHtml;\n",
              "          element.appendChild(docLink);\n",
              "        }\n",
              "      </script>\n",
              "    </div>\n",
              "  </div>\n",
              "  "
            ]
          },
          "metadata": {},
          "execution_count": 39
        }
      ]
    },
    {
      "cell_type": "markdown",
      "source": [
        "Model with CV to look at 30 most ocmmon words of top rest"
      ],
      "metadata": {
        "id": "Do3PZzHTNNJ4"
      }
    },
    {
      "cell_type": "code",
      "source": [
        "import matplotlib.pyplot as plt\n",
        "from sklearn.feature_extraction.text import CountVectorizer\n",
        "#set X to encompass all tweet_text \n",
        "X=None\n",
        "X = top_rest_cv['nouns_adjec']\n",
        "\n",
        "\n",
        "#use the CV classifier to pass the column without a tokenizer, preprocessor and set lowercase=False \n",
        "cv = CountVectorizer(tokenizer=None,\n",
        "                             preprocessor=None,\n",
        "                             lowercase=False)\n",
        "#creates a sparse matrix\n",
        "words = cv.fit_transform(X)\n",
        "#add all the values into a variable called sum_words\n",
        "sum_words = words.sum(axis=0)\n",
        "\n",
        "#for every word in cv.vocabulary.items (which returns a list), add it to the unique count\n",
        "#gives off a list of tuples' (item',count) that resembles a pd\n",
        "words_freq = [(word, sum_words[0, i]) for word, i in cv.vocabulary_.items()]\n",
        "#sort by ascending order\n",
        "words_freq = sorted(words_freq, key = lambda x: x[1], reverse = True)\n",
        "#create the df\n",
        "frequency = pd.DataFrame(words_freq, columns=['word', 'freq'])\n",
        "#use iloc next time\n",
        "frequency.head(30).plot(x='word', y='freq', kind='bar', figsize=(15, 7), color = 'red')\n",
        "plt.xlabel(\"Word\")\n",
        "plt.ylabel(\"Counts of Word\", labelpad=14)\n",
        "plt.title(\"Word analysis through Count Vectorization\", y=1.02)"
      ],
      "metadata": {
        "colab": {
          "base_uri": "https://localhost:8080/",
          "height": 525
        },
        "id": "IZmgGs4BYfKg",
        "outputId": "f2b9c511-2603-4b7e-d2e9-dbd430d7d208"
      },
      "execution_count": 40,
      "outputs": [
        {
          "output_type": "execute_result",
          "data": {
            "text/plain": [
              "Text(0.5, 1.02, 'Word analysis through Count Vectorization')"
            ]
          },
          "metadata": {},
          "execution_count": 40
        },
        {
          "output_type": "display_data",
          "data": {
            "text/plain": [
              "<Figure size 1080x504 with 1 Axes>"
            ],
            "image/png": "[encoded data removed]"
          },
          "metadata": {
            "needs_background": "light"
          }
        }
      ]
    },
    {
      "cell_type": "code",
      "source": [
        "#low reviews\n",
        "low_rest_cv= practice_set[(practice_set['stars_y'] <= 3)]"
      ],
      "metadata": {
        "id": "VgBmnnfKiG_f"
      },
      "execution_count": 41,
      "outputs": []
    },
    {
      "cell_type": "code",
      "source": [
        "import matplotlib.pyplot as plt\n",
        "from sklearn.feature_extraction.text import CountVectorizer\n",
        "#set X to encompass all tweet_text \n",
        "X=None\n",
        "\n",
        "sum_words= None\n",
        "words_freq = None\n",
        "frequency = None\n",
        "X = low_rest_cv['nouns_adjec']\n",
        "\n",
        "\n",
        "#use the CV classifier to pass the column without a tokenizer, preprocessor and set lowercase=False \n",
        "cv = CountVectorizer(tokenizer=None,\n",
        "                             preprocessor=None,\n",
        "                             lowercase=False)\n",
        "#creates a sparse matrix\n",
        "words = cv.fit_transform(X)\n",
        "#add all the values into a variable called sum_words\n",
        "sum_words = words.sum(axis=0)\n",
        "\n",
        "#for every word in cv.vocabulary.items (which returns a list), add it to the unique count\n",
        "#gives off a list of tuples' (item',count) that resembles a pd\n",
        "words_freq = [(word, sum_words[0, i]) for word, i in cv.vocabulary_.items()]\n",
        "#sort by ascending order\n",
        "words_freq = sorted(words_freq, key = lambda x: x[1], reverse = True)\n",
        "#create the df\n",
        "frequency = pd.DataFrame(words_freq, columns=['word', 'freq'])\n",
        "#use iloc next time\n",
        "frequency.head(30).plot(x='word', y='freq', kind='bar', figsize=(15, 7), color = 'red')\n",
        "plt.xlabel(\"Word\")\n",
        "plt.ylabel(\"Counts of Word\", labelpad=14)\n",
        "plt.title(\"Word analysis through Count Vectorization\", y=1.02)"
      ],
      "metadata": {
        "colab": {
          "base_uri": "https://localhost:8080/",
          "height": 525
        },
        "id": "XJgEVkomho6m",
        "outputId": "a60c4c51-4d9b-4645-b997-4f4e6c1d24d3"
      },
      "execution_count": 42,
      "outputs": [
        {
          "output_type": "execute_result",
          "data": {
            "text/plain": [
              "Text(0.5, 1.02, 'Word analysis through Count Vectorization')"
            ]
          },
          "metadata": {},
          "execution_count": 42
        },
        {
          "output_type": "display_data",
          "data": {
            "text/plain": [
              "<Figure size 1080x504 with 1 Axes>"
            ],
            "image/png": "[encoded data removed]"
          },
          "metadata": {
            "needs_background": "light"
          }
        }
      ]
    },
    {
      "cell_type": "markdown",
      "source": [
        "Model with W2V"
      ],
      "metadata": {
        "id": "5XKJ2Yv8NRHJ"
      }
    },
    {
      "cell_type": "code",
      "source": [
        "#import gensim for word to vec\n",
        "import nltk\n",
        "from gensim.models import Word2Vec, KeyedVectors\n"
      ],
      "metadata": {
        "id": "NllTx_scMjnC"
      },
      "execution_count": 43,
      "outputs": []
    },
    {
      "cell_type": "code",
      "source": [
        "nltk.download('punkt')"
      ],
      "metadata": {
        "id": "kZth_U5mM3-c",
        "colab": {
          "base_uri": "https://localhost:8080/"
        },
        "outputId": "6c6cd3e3-2392-49b9-dbd4-309c00aafb41"
      },
      "execution_count": 44,
      "outputs": [
        {
          "output_type": "stream",
          "name": "stderr",
          "text": [
            "[nltk_data] Downloading package punkt to /root/nltk_data...\n",
            "[nltk_data]   Unzipping tokenizers/punkt.zip.\n"
          ]
        },
        {
          "output_type": "execute_result",
          "data": {
            "text/plain": [
              "True"
            ]
          },
          "metadata": {},
          "execution_count": 44
        }
      ]
    },
    {
      "cell_type": "code",
      "source": [
        "practice_set['nouns_adjec']"
      ],
      "metadata": {
        "colab": {
          "base_uri": "https://localhost:8080/"
        },
        "id": "NVWWxb7Mfmc9",
        "outputId": "574d25a9-7630-444e-b25c-730db54f741a"
      },
      "execution_count": 45,
      "outputs": [
        {
          "output_type": "execute_result",
          "data": {
            "text/plain": [
              "0        heart philadelphia female cashier pastry show ...\n",
              "1        bakery variety bun pastry bun mung coconut stu...\n",
              "2        kind service everyone treat treat judgement th...\n",
              "3        order graduation event staff niceniece perfect...\n",
              "4        milk saint honore pastry business boyfriend ti...\n",
              "                               ...                        \n",
              "67359    coffee shop work price variety beverage cold c...\n",
              "67360    cash coffee spot cozy spot coffee medium latte...\n",
              "67361    hand ice coffee terrific guy counter try apart...\n",
              "67362    place chill corner coffee shop baristaowner ne...\n",
              "67363    neighborhood gem owner guy place spot hang wor...\n",
              "Name: nouns_adjec, Length: 65698, dtype: object"
            ]
          },
          "metadata": {},
          "execution_count": 45
        }
      ]
    },
    {
      "cell_type": "code",
      "source": [
        "from nltk import word_tokenize\n",
        "nltk.download('punkt') "
      ],
      "metadata": {
        "id": "3r_ZhU_9sWMX",
        "colab": {
          "base_uri": "https://localhost:8080/"
        },
        "outputId": "117a13a0-0d41-47af-d03e-b5e9d7bb4baa"
      },
      "execution_count": 46,
      "outputs": [
        {
          "output_type": "stream",
          "name": "stderr",
          "text": [
            "[nltk_data] Downloading package punkt to /root/nltk_data...\n",
            "[nltk_data]   Package punkt is already up-to-date!\n"
          ]
        },
        {
          "output_type": "execute_result",
          "data": {
            "text/plain": [
              "True"
            ]
          },
          "metadata": {},
          "execution_count": 46
        }
      ]
    },
    {
      "cell_type": "code",
      "source": [
        "practice_set['nouns_adjec']= practice_set['nouns_adjec'].astype(str)"
      ],
      "metadata": {
        "id": "17Vs6HunhHOJ"
      },
      "execution_count": 47,
      "outputs": []
    },
    {
      "cell_type": "markdown",
      "source": [
        "Tokenize prior to analysis"
      ],
      "metadata": {
        "id": "z0B-vwJfzA_A"
      }
    },
    {
      "cell_type": "code",
      "source": [
        "corpus =  practice_set['nouns_adjec'].map(word_tokenize)\n"
      ],
      "metadata": {
        "id": "m4DUxWvvPJhC"
      },
      "execution_count": 48,
      "outputs": []
    },
    {
      "cell_type": "code",
      "source": [
        "#these are the words we're analyzing\n",
        "corpus"
      ],
      "metadata": {
        "id": "nYIEeJJJw7C4",
        "outputId": "76a6b9e5-1280-45b2-910d-103d26118fd8",
        "colab": {
          "base_uri": "https://localhost:8080/"
        }
      },
      "execution_count": null,
      "outputs": [
        {
          "output_type": "execute_result",
          "data": {
            "text/plain": [
              "0                                                                                                                                                                                  [heart, philadelphia, female, cashier, pastry, show, display, case, evening, sesame, ball, paste, rice, ball, bai, tang, gao, areanice, little, bakery, chinatown, flirtatious, adorn, fill, bean, glutinous, similar, place, worth]\n",
              "1                                                                                                                             [bakery, variety, bun, pastry, bun, mung, coconut, stuff, egg, tart, dozen, price, standard, thing, service, serve, coffee, tea, couple, group, guy, chillin, corner, debate, something, place, stock, bun, townchinatown, decent, beanfilled, bun, free, good, table, old, table, great]\n",
              "2                                                                                                                                                                                                                                                                                        [kind, service, everyone, treat, treat, judgement, theyre, favoritedelightful, chinatown, clean, happy, delicious, ton, sweet]\n",
              "3                                                                                                                                                                                                                                                                                                                                             [order, graduation, event, staff, niceniece, perfect, come, future, good]\n",
              "4        [milk, saint, honore, pastry, business, boyfriend, time, cross, mind, try, think, year, try, hkstyle, milk, tea, hook, think, day, week, milk, tea, sugar, i, zhong, gang, milk, day, ice, ice, etc, note, try, crispy, roast, pork, bun, name, pork, bun, crispy, roast, pork, bunhkstyle, sure, memorable, decide, watch, good, good, hkstyle, certain, lady, enough, much, side, wrong, roast, decent, try]\n",
              "                                                                                                                                                                                                              ...                                                                                                                                                                                                      \n",
              "67359                                                                                                                                                                                                                                                                                           [coffee, shop, work, price, variety, beverage, cold, choose, selection, something, eatcute, low, nice, hot, seem, nice]\n",
              "67360                                                                                                                                                                                                                                                                                                          [cash, coffee, spot, cozy, spot, coffee, medium, latte, get, time, partnice, invite, pick, ordered, bad]\n",
              "67361                                                                                                                                                                                                                                                                                               [hand, ice, coffee, terrific, guy, counter, try, apartment, bella, vista, place, vote, apartment, goodfreak, close]\n",
              "67362                                                                                                  [place, chill, corner, coffee, shop, baristaowner, neighborhood, order, tea, afternoon, jerk, get, anyway, say, day, judgment, pushiness, pastry, nothing, complain, chairgreat, super, nonpretentious, friendly, iced, free, wifi, im, know, im, cheap, comfortable, awesome, great, little, comfortable, much]\n",
              "67363                                                                                                                                                                                                                                                                                                                     [neighborhood, gem, owner, guy, place, spot, hang, work, coffeesuper, nice, great, delicious]\n",
              "Name: nouns_adjec, Length: 65698, dtype: object"
            ]
          },
          "metadata": {},
          "execution_count": 54
        }
      ]
    },
    {
      "cell_type": "code",
      "source": [
        "#phrases will allow us to analyze words in pairs \n",
        "from gensim.models import Phrases\n",
        "\n",
        "# Train a bigram detector.\n",
        "bigram_transformer = Phrases(corpus)\n",
        "\n",
        "# Apply the trained MWE detector to a corpus, using the result to train a Word2vec model.\n",
        "bi_gram_model = Word2Vec(bigram_transformer[corpus], min_count=1)"
      ],
      "metadata": {
        "colab": {
          "base_uri": "https://localhost:8080/"
        },
        "id": "ryJOoIKZN8PU",
        "outputId": "b5eb899a-8a34-49b2-ad34-d35b35663557"
      },
      "execution_count": 49,
      "outputs": [
        {
          "output_type": "stream",
          "name": "stderr",
          "text": [
            "/usr/local/lib/python3.8/dist-packages/gensim/models/phrases.py:598: UserWarning: For a faster implementation, use the gensim.models.phrases.Phraser class\n",
            "  warnings.warn(\"For a faster implementation, use the gensim.models.phrases.Phraser class\")\n"
          ]
        }
      ]
    },
    {
      "cell_type": "code",
      "source": [
        "#look at the bigram most similar to waitress\n",
        "list_model_manager= bi_gram_model.most_similar('waiter')\n",
        "list_model_manager\n",
        "word = []\n",
        "frequency = []\n",
        "\n",
        "for i in range(len(list_model_manager)):\n",
        "  word.append(list_model_manager[i][0])\n",
        "  frequency.append(list_model_manager[i][1])\n",
        "\n",
        "\n",
        "plt.barh(word, frequency, color='r')\n",
        "\n",
        "plt.xlabel(\"Cosine Similarity\")\n",
        "plt.ylabel(\"Words\", labelpad=14)\n",
        "plt.title(\"n gram associated with Waiter\", y=1.02)\n",
        "plt.show()\n"
      ],
      "metadata": {
        "colab": {
          "base_uri": "https://localhost:8080/",
          "height": 335
        },
        "id": "sGqprXAJPAhc",
        "outputId": "57aaf00f-4f6f-4286-a2d8-5ac6287bc915"
      },
      "execution_count": 54,
      "outputs": [
        {
          "output_type": "stream",
          "name": "stderr",
          "text": [
            "<ipython-input-54-cb288308a323>:2: DeprecationWarning: Call to deprecated `most_similar` (Method will be removed in 4.0.0, use self.wv.most_similar() instead).\n",
            "  list_model_manager= bi_gram_model.most_similar('waiter')\n"
          ]
        },
        {
          "output_type": "display_data",
          "data": {
            "text/plain": [
              "<Figure size 432x288 with 1 Axes>"
            ],
            "image/png": "[encoded data removed]"
          },
          "metadata": {
            "needs_background": "light"
          }
        }
      ]
    },
    {
      "cell_type": "markdown",
      "source": [
        "So here we see that scores associated with waiter that are high in cosine similarity would be to address the actions such as refilling water, explaining menues, noticing when customer requires attention. Lets look at more"
      ],
      "metadata": {
        "id": "hK6-0K7s0_tU"
      }
    },
    {
      "cell_type": "code",
      "source": [
        "#min count = 1 for freq \n",
        "#vectorsize = 100 \n",
        "#windows = amount it will go left and right \n",
        "model = Word2Vec(corpus, size=300, min_count = 1, window = 10)"
      ],
      "metadata": {
        "id": "D_0Uvq4_PlQh"
      },
      "execution_count": 57,
      "outputs": []
    },
    {
      "cell_type": "code",
      "source": [
        "vocabulary = model.wv.vocab"
      ],
      "metadata": {
        "id": "kQnxQGGjRsKQ"
      },
      "execution_count": 58,
      "outputs": []
    },
    {
      "cell_type": "code",
      "source": [
        "model1 = model.wv"
      ],
      "metadata": {
        "id": "jIhF_UtBUc9Q"
      },
      "execution_count": 59,
      "outputs": []
    },
    {
      "cell_type": "code",
      "source": [
        "list_model_manager= model1.most_similar('waiter')\n",
        "list_model_manager\n",
        "word = []\n",
        "frequency = []\n",
        "\n",
        "for i in range(len(list_model_manager)):\n",
        "  word.append(list_model_manager[i][0])\n",
        "  frequency.append(list_model_manager[i][1])\n",
        "\n",
        "\n",
        "plt.barh(word, frequency, color='r')\n",
        "\n",
        "plt.xlabel(\"Cosine Similarity\")\n",
        "plt.ylabel(\"Words\", labelpad=14)\n",
        "plt.title(\"Words associated with Waiter\", y=1.02)\n",
        "plt.show()\n"
      ],
      "metadata": {
        "colab": {
          "base_uri": "https://localhost:8080/",
          "height": 300
        },
        "id": "sheUkEmV21jk",
        "outputId": "8b350049-5dc2-4935-b652-0a1fa97889ef"
      },
      "execution_count": 61,
      "outputs": [
        {
          "output_type": "display_data",
          "data": {
            "text/plain": [
              "<Figure size 432x288 with 1 Axes>"
            ],
            "image/png": "[encoded data removed]"
          },
          "metadata": {
            "needs_background": "light"
          }
        }
      ]
    },
    {
      "cell_type": "code",
      "source": [
        "list_model_flavor= model1.most_similar(\"flavor\")\n",
        "\n",
        "word = []\n",
        "frequency = []\n",
        "\n",
        "for i in range(len(list_model_flavor)):\n",
        "  word.append(list_model_flavor[i][0])\n",
        "  frequency.append(list_model_flavor[i][1])\n",
        "\n",
        "\n",
        "plt.barh(word, frequency, color='r')\n",
        "plt.xlabel(\"Cosine Similarity\")\n",
        "plt.ylabel(\"Words\", labelpad=14)\n",
        "plt.title(\"Words associated with Flavor\", y=1.02)\n",
        "plt.show()"
      ],
      "metadata": {
        "colab": {
          "base_uri": "https://localhost:8080/",
          "height": 300
        },
        "id": "D4sE4c_3zOzx",
        "outputId": "401693a7-2f31-4f13-8925-37551e0d4566"
      },
      "execution_count": 62,
      "outputs": [
        {
          "output_type": "display_data",
          "data": {
            "text/plain": [
              "<Figure size 432x288 with 1 Axes>"
            ],
            "image/png": "[encoded data removed]"
          },
          "metadata": {
            "needs_background": "light"
          }
        }
      ]
    },
    {
      "cell_type": "code",
      "source": [
        "list_model_flavor= model1.most_similar(\"food\")\n",
        "\n",
        "word = []\n",
        "frequency = []\n",
        "\n",
        "for i in range(len(list_model_flavor)):\n",
        "  word.append(list_model_flavor[i][0])\n",
        "  frequency.append(list_model_flavor[i][1])\n",
        "\n",
        "\n",
        "plt.barh(word, frequency, color='r')\n",
        "plt.xlabel(\"Cosine Similarity\")\n",
        "plt.ylabel(\"Words\", labelpad=14)\n",
        "plt.title(\"Words associated with Food\", y=1.02)\n",
        "plt.show()"
      ],
      "metadata": {
        "colab": {
          "base_uri": "https://localhost:8080/",
          "height": 300
        },
        "id": "3bpNIhZDU2VJ",
        "outputId": "1bf03e08-5079-41ae-a052-4fbb0244447c"
      },
      "execution_count": 63,
      "outputs": [
        {
          "output_type": "display_data",
          "data": {
            "text/plain": [
              "<Figure size 432x288 with 1 Axes>"
            ],
            "image/png": "[encoded data removed]"
          },
          "metadata": {
            "needs_background": "light"
          }
        }
      ]
    },
    {
      "cell_type": "code",
      "source": [
        "for_keras= practice_set['nouns_adjec'].values"
      ],
      "metadata": {
        "id": "2KFBydfs25Yh"
      },
      "execution_count": 64,
      "outputs": []
    },
    {
      "cell_type": "code",
      "source": [
        "import numpy as np\n",
        "from tensorflow.keras.preprocessing.text import one_hot\n",
        "from tensorflow.keras.preprocessing.sequence import pad_sequences\n",
        "from tensorflow.keras.models import Sequential\n",
        "from tensorflow.keras.layers import Dense\n",
        "from tensorflow.keras.layers import Flatten\n",
        "from tensorflow.keras.layers import Embedding"
      ],
      "metadata": {
        "id": "PdmBPr_O4i3Z"
      },
      "execution_count": 66,
      "outputs": []
    },
    {
      "cell_type": "code",
      "source": [
        "#vocab size, one hot for keras \n",
        "vocab_size = 300\n",
        "encoded_reviews = [one_hot(x, vocab_size) for x in for_keras]\n",
        "print(encoded_reviews)"
      ],
      "metadata": {
        "colab": {
          "base_uri": "https://localhost:8080/"
        },
        "id": "sGEvSMEj4uEL",
        "outputId": "ae735e5d-0b14-4762-92d7-d3d357f1c3c9"
      },
      "execution_count": 67,
      "outputs": [
        {
          "output_type": "stream",
          "name": "stderr",
          "text": [
            "IOPub data rate exceeded.\n",
            "The notebook server will temporarily stop sending output\n",
            "to the client in order to avoid crashing it.\n",
            "To change this limit, set the config variable\n",
            "`--NotebookApp.iopub_data_rate_limit`.\n",
            "\n",
            "Current values:\n",
            "NotebookApp.iopub_data_rate_limit=1000000.0 (bytes/sec)\n",
            "NotebookApp.rate_limit_window=3.0 (secs)\n",
            "\n"
          ]
        }
      ]
    },
    {
      "cell_type": "code",
      "source": [
        "max_length = 10\n",
        "padded_reviews = pad_sequences(encoded_reviews, maxlen=max_length, padding='post')\n",
        "print(padded_reviews)"
      ],
      "metadata": {
        "colab": {
          "base_uri": "https://localhost:8080/"
        },
        "id": "qQu_UqWl5d6T",
        "outputId": "be19fed9-3319-45c6-9e97-06c58bdb508c"
      },
      "execution_count": 68,
      "outputs": [
        {
          "output_type": "stream",
          "name": "stdout",
          "text": [
            "[[225 294 223 ... 222  54 299]\n",
            " [ 56 132  32 ...  94 147 271]\n",
            " [119 203 199 ... 214 242 155]\n",
            " ...\n",
            " [ 63 206 127 ... 127 180 191]\n",
            " [277  27 277 ...  28  15 199]\n",
            " [169 215  54 ...  31 271 214]]\n"
          ]
        }
      ]
    },
    {
      "cell_type": "code",
      "source": [
        "embeded_vector_size = 5\n",
        "model = Sequential()\n",
        "model.add(Embedding(vocab_size, embeded_vector_size, input_length=max_length, name = \"embedding\"))\n",
        "model.add(Flatten())\n",
        "model.add(Dense(1, activation='sigmoid'))"
      ],
      "metadata": {
        "id": "ll578UG65-Ij"
      },
      "execution_count": 69,
      "outputs": []
    },
    {
      "cell_type": "code",
      "source": [
        "practice_set.columns"
      ],
      "metadata": {
        "colab": {
          "base_uri": "https://localhost:8080/"
        },
        "id": "KTGSRxxrAoI_",
        "outputId": "2527e8b1-6aa3-4be7-9532-b299ea86211b"
      },
      "execution_count": 70,
      "outputs": [
        {
          "output_type": "execute_result",
          "data": {
            "text/plain": [
              "Index(['nouns_adjec', 'stars_y'], dtype='object')"
            ]
          },
          "metadata": {},
          "execution_count": 70
        }
      ]
    },
    {
      "cell_type": "code",
      "source": [
        "def stars_transform(x):\n",
        "  if x >= 3.5:\n",
        "    return 1\n",
        "  else:\n",
        "    return 0 \n",
        "\n",
        "\n",
        "practice_set['stars_y'] = practice_set['stars_y'].apply(stars_transform)"
      ],
      "metadata": {
        "id": "nCgpBeg57B0b"
      },
      "execution_count": 71,
      "outputs": []
    },
    {
      "cell_type": "code",
      "source": [
        "practice_set['stars_y'].value_counts()"
      ],
      "metadata": {
        "colab": {
          "base_uri": "https://localhost:8080/"
        },
        "id": "ELtLB5NDkc40",
        "outputId": "49cfcdce-0fb5-4ecf-b5d6-91edd20a3fcd"
      },
      "execution_count": 72,
      "outputs": [
        {
          "output_type": "execute_result",
          "data": {
            "text/plain": [
              "1    45608\n",
              "0    20090\n",
              "Name: stars_y, dtype: int64"
            ]
          },
          "metadata": {},
          "execution_count": 72
        }
      ]
    },
    {
      "cell_type": "code",
      "source": [
        "sentiment = practice_set['stars_y'].values.flatten()"
      ],
      "metadata": {
        "id": "zLQxroEBk0ut"
      },
      "execution_count": 73,
      "outputs": []
    },
    {
      "cell_type": "code",
      "source": [
        "X = padded_reviews\n",
        "y=sentiment"
      ],
      "metadata": {
        "id": "HAqBMkWi7M-d"
      },
      "execution_count": 74,
      "outputs": []
    },
    {
      "cell_type": "code",
      "source": [
        "sentiment\n"
      ],
      "metadata": {
        "colab": {
          "base_uri": "https://localhost:8080/"
        },
        "id": "erHuaqsayBH1",
        "outputId": "1f667838-d29e-4446-9789-839ee1b4a8ae"
      },
      "execution_count": 75,
      "outputs": [
        {
          "output_type": "execute_result",
          "data": {
            "text/plain": [
              "array([1, 1, 1, ..., 1, 1, 1])"
            ]
          },
          "metadata": {},
          "execution_count": 75
        }
      ]
    },
    {
      "cell_type": "code",
      "source": [
        "model.compile(optimizer='adam', loss = 'binary_crossentropy', metrics=['accuracy'])\n",
        "model.summary()"
      ],
      "metadata": {
        "colab": {
          "base_uri": "https://localhost:8080/"
        },
        "id": "v1mGNdH87tn3",
        "outputId": "989515bb-ef3e-420d-f2f4-f0bb4879f294"
      },
      "execution_count": 76,
      "outputs": [
        {
          "output_type": "stream",
          "name": "stdout",
          "text": [
            "Model: \"sequential\"\n",
            "_________________________________________________________________\n",
            " Layer (type)                Output Shape              Param #   \n",
            "=================================================================\n",
            " embedding (Embedding)       (None, 10, 5)             1500      \n",
            "                                                                 \n",
            " flatten (Flatten)           (None, 50)                0         \n",
            "                                                                 \n",
            " dense (Dense)               (None, 1)                 51        \n",
            "                                                                 \n",
            "=================================================================\n",
            "Total params: 1,551\n",
            "Trainable params: 1,551\n",
            "Non-trainable params: 0\n",
            "_________________________________________________________________\n"
          ]
        }
      ]
    },
    {
      "cell_type": "code",
      "source": [
        "model.fit(X, y, epochs=50, verbose=0)"
      ],
      "metadata": {
        "colab": {
          "base_uri": "https://localhost:8080/"
        },
        "id": "hYEL52bp770G",
        "outputId": "dd1e8bce-011e-4395-aacb-a6236e35d269"
      },
      "execution_count": 77,
      "outputs": [
        {
          "output_type": "execute_result",
          "data": {
            "text/plain": [
              "<keras.callbacks.History at 0x7f1a711af6a0>"
            ]
          },
          "metadata": {},
          "execution_count": 77
        }
      ]
    },
    {
      "cell_type": "code",
      "source": [
        "loss, accuracy = model.evaluate(X,y)\n",
        "accuracy"
      ],
      "metadata": {
        "colab": {
          "base_uri": "https://localhost:8080/"
        },
        "id": "BIMv4lg38MPh",
        "outputId": "5b7ad7d8-9c9c-4c2b-c2f6-1694f5a86a8b"
      },
      "execution_count": 78,
      "outputs": [
        {
          "output_type": "stream",
          "name": "stdout",
          "text": [
            "2054/2054 [==============================] - 4s 2ms/step - loss: 0.4967 - accuracy: 0.7574\n"
          ]
        },
        {
          "output_type": "execute_result",
          "data": {
            "text/plain": [
              "0.7574355602264404"
            ]
          },
          "metadata": {},
          "execution_count": 78
        }
      ]
    },
    {
      "cell_type": "code",
      "source": [
        "model.get_layer('embedding').get_weights()[0]"
      ],
      "metadata": {
        "colab": {
          "base_uri": "https://localhost:8080/"
        },
        "id": "Nju41UYz8TpC",
        "outputId": "073ea820-8a84-4750-c5bd-6e34c5317fdc"
      },
      "execution_count": 79,
      "outputs": [
        {
          "output_type": "execute_result",
          "data": {
            "text/plain": [
              "array([[-0.14432722,  0.10198139, -0.08354782,  0.16448036, -0.16814466],\n",
              "       [-0.18789643, -0.16833805,  0.06182377, -0.3126696 ,  0.07632001],\n",
              "       [-0.5041636 , -0.17869663,  0.30787897,  0.11952055, -0.22242633],\n",
              "       ...,\n",
              "       [ 0.43661034, -0.01388535,  0.23481809,  0.50546926, -0.21864313],\n",
              "       [ 0.32559994,  0.28244582,  0.39330038,  0.12995213, -0.09276006],\n",
              "       [-0.10037865,  0.24062893, -0.28107136,  0.33685556,  0.00717293]],\n",
              "      dtype=float32)"
            ]
          },
          "metadata": {},
          "execution_count": 79
        }
      ]
    },
    {
      "cell_type": "markdown",
      "source": [
        "# Discussion\n",
        "Although the accuracy of the model is sub-80, actions prescribed can be validated by feeding in more data into the model. \n",
        "\n",
        "## Food Recommendations \n",
        "\n",
        "Tips are preferred compared to the full text.\n",
        "The words; balance and texture appear most similar with flavor.\n",
        "\n",
        "\n",
        "Some areas of flavor to explore might be spice and sweet flavors that have ‘hints’ of other ‘combinations’\n",
        "\n",
        "\n",
        "Additionally, consistency with flavor appears to high in similarity scores\n",
        "Waiter and Waitress show similar cosine similarity scores for certain behaviors.\n",
        "\n",
        "## Service Recommendations\n",
        "\n",
        "Refilling water is associated with the job, so a business recommendation may be to advise your staff to walk around with water when busy.\n",
        "\n",
        "Another task is probably taking orders from customers, don’t overcomplicate things or arrive too early before they’ve made up their mind on their order.\n",
        "\n",
        "\n"
      ],
      "metadata": {
        "id": "GU0lDb0Bc9In"
      }
    }
  ]
}