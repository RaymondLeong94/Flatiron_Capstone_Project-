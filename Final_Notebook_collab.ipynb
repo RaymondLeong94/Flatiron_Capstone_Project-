{
  "nbformat": 4,
  "nbformat_minor": 0,
  "metadata": {
    "colab": {
      "provenance": [],
      "authorship_tag": "ABX9TyOBEnREIiKrmPOwZwHNKpxd",
      "include_colab_link": true
    },
    "kernelspec": {
      "name": "python3",
      "display_name": "Python 3"
    },
    "language_info": {
      "name": "python"
    }
  },
  "cells": [
    {
      "cell_type": "markdown",
      "metadata": {
        "id": "view-in-github",
        "colab_type": "text"
      },
      "source": [
        "<a href=\"https://colab.research.google.com/github/RaymondLeong94/Flatiron_Capstone_Project-/blob/main/Final_Notebook_collab.ipynb\" target=\"_parent\"><img src=\"https://colab.research.google.com/assets/colab-badge.svg\" alt=\"Open In Colab\"/></a>"
      ]
    },
    {
      "cell_type": "markdown",
      "source": [
        "#Using Yelp's dataset to help PA restaurants identify areas of improvement in Service or Food Quality. "
      ],
      "metadata": {
        "id": "fk00yp1JEGYj"
      }
    },
    {
      "cell_type": "markdown",
      "source": [
        "# Business problem\n",
        "________________________\n",
        "\n",
        "Yelp reviews can come in handy for a variety of reasons, for instance identifying key nouns and adjectives can help resturant owners and investors can bring clarity to investors. In our business case, we are interested in identifying nouns related to service or food - in hopes that we can start identifying statements that can improve either hospitality or food quality. Together these two are the ingredients for a successful resturant that we aim to look at for our stakeholders"
      ],
      "metadata": {
        "id": "DU3Z1KBAi20r"
      }
    },
    {
      "cell_type": "markdown",
      "source": [
        "# Stakeholders\n",
        "_______________________\n",
        "\n",
        "The stake holder would be someone who has multiple restaurants in Philadelphia and they want to identify which aspects of their business (service or food quality) to improve first based on yelp reviews and other attributes in order to obtain higher star ratings."
      ],
      "metadata": {
        "id": "bsOxuIYTjzJi"
      }
    },
    {
      "cell_type": "markdown",
      "source": [
        "Data"
      ],
      "metadata": {
        "id": "shKID1yoj3wk"
      }
    },
    {
      "cell_type": "markdown",
      "source": [
        "#EDA \n",
        "______________\n",
        "For this project we will be utilizing yelp's dataset which can be found here: https://www.yelp.com/dataset/download. This dataset is provided by yelp and contains 5 different JSON files.\n",
        "\n",
        "The first is buisness\n",
        "\n",
        "it contains: the id of the buisness, business name, address, city, state, postal code, lat, long, stars, review count, is it open?, attributes, categories, and hours\n",
        "\n",
        "For this first one we will be utilizing all features. except some locational attributes name, address, state, postal code. Some attributes are of usage to us, categories needs to be .exploded() in order to obtain resturants and establisments related to food. Hours can be generated. \n",
        "\n",
        "Please refer to Notebook 3 for the full code for: final_pre_processed_data, a json file that combines business and the \"review.json\"\n",
        "\n",
        "The second one is review.json \n",
        "\n",
        "It contains review id, user id, business id, stars, date, text, useful, funny and cool (the latter 3 being # of votes received by other consumers). We will only be interested in user_id, buisness id_, stars, and text. \n",
        "\n",
        "The third one is users: we will not have time to explode this \n",
        "\n",
        "The fourth one is checkin.json we will not have time to explode this \n",
        "\n",
        "The fifth one is tip.json\n",
        "This one is important because it represents an abbreviated form of review, we are interested in seeing how this works and have explored that tips do not work as well as the full text from a ML perspective.\n",
        "\n",
        " "
      ],
      "metadata": {
        "id": "RNwv9jvjWo82"
      }
    },
    {
      "cell_type": "code",
      "source": [],
      "metadata": {
        "id": "ZaV1eiwKCrOE"
      },
      "execution_count": null,
      "outputs": []
    },
    {
      "cell_type": "markdown",
      "source": [
        "## Preprocessing the data:\n",
        "____________\n",
        "Final_preprocessed_data.json is the merge of business.json and reviews that have their entities extracted. The rows populated are PA restaurants only.\n",
        "\n",
        "EDA.JSON is the same as final_preprocessed_data except without entities and other NLP tasks. It is for feature engineering."
      ],
      "metadata": {
        "id": "28CzK_V5Csic"
      }
    },
    {
      "cell_type": "code",
      "source": [],
      "metadata": {
        "id": "bvTqRYBLXMvY"
      },
      "execution_count": null,
      "outputs": []
    },
    {
      "cell_type": "code",
      "execution_count": 1,
      "metadata": {
        "colab": {
          "base_uri": "https://localhost:8080/"
        },
        "id": "fo0_E549BTi_",
        "outputId": "1fe23223-7845-44f1-9652-8b4f2e1bb368"
      },
      "outputs": [
        {
          "output_type": "stream",
          "name": "stdout",
          "text": [
            "Mounted at /content/gdrive/\n"
          ]
        }
      ],
      "source": [
        "#import pandas and mount drive \n",
        "\n",
        "import pandas as pd\n",
        "import json\n",
        "from google.colab import drive\n",
        "\n",
        "drive.mount('/content/gdrive/', force_remount=True)"
      ]
    },
    {
      "cell_type": "code",
      "source": [
        "#change directory\n",
        "%cd gdrive/MyDrive"
      ],
      "metadata": {
        "colab": {
          "base_uri": "https://localhost:8080/"
        },
        "id": "PfAfm61GBW_M",
        "outputId": "f729c27a-b69c-4849-e87d-56f14b875bf4"
      },
      "execution_count": 2,
      "outputs": [
        {
          "output_type": "stream",
          "name": "stdout",
          "text": [
            "/content/gdrive/MyDrive\n"
          ]
        }
      ]
    },
    {
      "cell_type": "code",
      "source": [
        "#json is listed as preprocessed 3 which progresses differently in notebook 2\n",
        "import json\n",
        "preprocessed3 = pd.read_json('/content/gdrive/MyDrive/final_preprocessed_data.json', encoding='utf8') "
      ],
      "metadata": {
        "id": "sgCp0y90BgDo"
      },
      "execution_count": 3,
      "outputs": []
    },
    {
      "cell_type": "code",
      "source": [
        "#please refer to notebook 2 for obtaining these entitites \n",
        "preprocessed3['entities']"
      ],
      "metadata": {
        "colab": {
          "base_uri": "https://localhost:8080/"
        },
        "id": "Dzl33QEWX8dk",
        "outputId": "37b93fc3-9ba7-423b-9259-39d19502baab"
      },
      "execution_count": 4,
      "outputs": [
        {
          "output_type": "execute_result",
          "data": {
            "text/plain": [
              "0        (S\\n  nice/JJ\\n  little/JJ\\n  bakery/JJ\\n  hea...\n",
              "1        (S\\n  bakery/NN\\n  usually/RB\\n  go/VBP\\n  chi...\n",
              "2        (S\\n  delightful/JJ\\n  find/VBP\\n  chinatown/J...\n",
              "3        (S\\n  order/NN\\n  graduation/NN\\n  cake/VB\\n  ...\n",
              "4        (S\\n  hkstyle/JJ\\n  milk/NN\\n  tea/IN\\n  four/...\n",
              "                               ...                        \n",
              "67359    (S\\n  cute/JJ\\n  coffee/NN\\n  shop/NN\\n  aroun...\n",
              "67360    (S\\n  nice/JJ\\n  cash/NN\\n  coffee/NN\\n  spot/...\n",
              "67361    (S\\n  hand/NN\\n  best/JJS\\n  ice/NN\\n  coffee/...\n",
              "67362    (S\\n  place/NN\\n  great/JJ\\n  super/JJ\\n  chil...\n",
              "67363    (S\\n  neighborhood/NN\\n  gem/NN\\n  owner/NN\\n ...\n",
              "Name: entities, Length: 65698, dtype: object"
            ]
          },
          "metadata": {},
          "execution_count": 4
        }
      ]
    },
    {
      "cell_type": "code",
      "source": [
        "practice_set= preprocessed3\n",
        "practice_set.head()"
      ],
      "metadata": {
        "id": "kqkfW65zBrXC",
        "colab": {
          "base_uri": "https://localhost:8080/",
          "height": 595
        },
        "outputId": "1e777b6e-9029-4e9d-8ef7-3f8a54c742a9"
      },
      "execution_count": 5,
      "outputs": [
        {
          "output_type": "execute_result",
          "data": {
            "text/plain": [
              "              business_id  stars_x  review_count ByAppointmentOnly  \\\n",
              "0  MTSW4McQd7CbVtyjqoe9mw      4.0            80             False   \n",
              "1  MTSW4McQd7CbVtyjqoe9mw      4.0            80             False   \n",
              "2  MTSW4McQd7CbVtyjqoe9mw      4.0            80             False   \n",
              "3  MTSW4McQd7CbVtyjqoe9mw      4.0            80             False   \n",
              "4  MTSW4McQd7CbVtyjqoe9mw      4.0            80             False   \n",
              "\n",
              "  BusinessAcceptsCreditCards CoatCheck RestaurantsTakeOut RestaurantsDelivery  \\\n",
              "0                      False   unknown               True               False   \n",
              "1                      False   unknown               True               False   \n",
              "2                      False   unknown               True               False   \n",
              "3                      False   unknown               True               False   \n",
              "4                      False   unknown               True               False   \n",
              "\n",
              "  Caters     WiFi  ... stars_y  \\\n",
              "0   True  u'free'  ...       4   \n",
              "1   True  u'free'  ...       4   \n",
              "2   True  u'free'  ...       5   \n",
              "3   True  u'free'  ...       5   \n",
              "4   True  u'free'  ...       4   \n",
              "\n",
              "                                                text total_hours  \\\n",
              "0  This is nice little Chinese bakery in the hear...        94.0   \n",
              "1  This is the bakery I usually go to in Chinatow...        94.0   \n",
              "2  A delightful find in Chinatown! Very clean, an...        94.0   \n",
              "3  I ordered a graduation cake for my niece and i...        94.0   \n",
              "4  HK-STYLE MILK TEA:  FOUR STARS\\n\\nNot quite su...        94.0   \n",
              "\n",
              "  weekend_hours distance_to_lowest_star  \\\n",
              "0          42.0              987.992116   \n",
              "1          42.0              987.992116   \n",
              "2          42.0              987.992116   \n",
              "3          42.0              987.992116   \n",
              "4          42.0              987.992116   \n",
              "\n",
              "                                    text_refurbished  \\\n",
              "0  nice little bakery heart philadelphia chinatow...   \n",
              "1  bakery usually go chinatown decent variety bun...   \n",
              "2  delightful find chinatown clean kind service e...   \n",
              "3  order graduation cake niece come absolutely pe...   \n",
              "4  hkstyle milk tea four stars\\n\\nnot quite sure ...   \n",
              "\n",
              "                                            entities  \\\n",
              "0  (S\\n  nice/JJ\\n  little/JJ\\n  bakery/JJ\\n  hea...   \n",
              "1  (S\\n  bakery/NN\\n  usually/RB\\n  go/VBP\\n  chi...   \n",
              "2  (S\\n  delightful/JJ\\n  find/VBP\\n  chinatown/J...   \n",
              "3  (S\\n  order/NN\\n  graduation/NN\\n  cake/VB\\n  ...   \n",
              "4  (S\\n  hkstyle/JJ\\n  milk/NN\\n  tea/IN\\n  four/...   \n",
              "\n",
              "                                       extract_nouns  \\\n",
              "0  'heart', 'philadelphia', 'female', 'cashier', ...   \n",
              "1  'bakery', 'variety', 'bun', 'pastry', 'bun', '...   \n",
              "2  'kind', 'service', 'everyone', 'treat', 'treat...   \n",
              "3    'order', 'graduation', 'event', 'staff', 'nice'   \n",
              "4  'milk', 'saint', 'honore', 'pastry', 'business...   \n",
              "\n",
              "                                  extract_adjectives  \\\n",
              "0  'nice', 'little', 'bakery', 'chinatown', 'flir...   \n",
              "1  'chinatown', 'decent', 'beanfilled', 'bun', 'f...   \n",
              "2  'delightful', 'chinatown', 'clean', 'happy', '...   \n",
              "3       'niece', 'perfect', 'come', 'future', 'good'   \n",
              "4  'hkstyle', 'sure', 'memorable', 'decide', 'wat...   \n",
              "\n",
              "                                         nouns_adjec  \n",
              "0  'heart', 'philadelphia', 'female', 'cashier', ...  \n",
              "1  'bakery', 'variety', 'bun', 'pastry', 'bun', '...  \n",
              "2  'kind', 'service', 'everyone', 'treat', 'treat...  \n",
              "3  'order', 'graduation', 'event', 'staff', 'nice...  \n",
              "4  'milk', 'saint', 'honore', 'pastry', 'business...  \n",
              "\n",
              "[5 rows x 49 columns]"
            ],
            "text/html": [
              "\n",
              "  <div id=\"df-5ae967a5-149f-4c96-a10e-d53f12678fd4\">\n",
              "    <div class=\"colab-df-container\">\n",
              "      <div>\n",
              "<style scoped>\n",
              "    .dataframe tbody tr th:only-of-type {\n",
              "        vertical-align: middle;\n",
              "    }\n",
              "\n",
              "    .dataframe tbody tr th {\n",
              "        vertical-align: top;\n",
              "    }\n",
              "\n",
              "    .dataframe thead th {\n",
              "        text-align: right;\n",
              "    }\n",
              "</style>\n",
              "<table border=\"1\" class=\"dataframe\">\n",
              "  <thead>\n",
              "    <tr style=\"text-align: right;\">\n",
              "      <th></th>\n",
              "      <th>business_id</th>\n",
              "      <th>stars_x</th>\n",
              "      <th>review_count</th>\n",
              "      <th>ByAppointmentOnly</th>\n",
              "      <th>BusinessAcceptsCreditCards</th>\n",
              "      <th>CoatCheck</th>\n",
              "      <th>RestaurantsTakeOut</th>\n",
              "      <th>RestaurantsDelivery</th>\n",
              "      <th>Caters</th>\n",
              "      <th>WiFi</th>\n",
              "      <th>...</th>\n",
              "      <th>stars_y</th>\n",
              "      <th>text</th>\n",
              "      <th>total_hours</th>\n",
              "      <th>weekend_hours</th>\n",
              "      <th>distance_to_lowest_star</th>\n",
              "      <th>text_refurbished</th>\n",
              "      <th>entities</th>\n",
              "      <th>extract_nouns</th>\n",
              "      <th>extract_adjectives</th>\n",
              "      <th>nouns_adjec</th>\n",
              "    </tr>\n",
              "  </thead>\n",
              "  <tbody>\n",
              "    <tr>\n",
              "      <th>0</th>\n",
              "      <td>MTSW4McQd7CbVtyjqoe9mw</td>\n",
              "      <td>4.0</td>\n",
              "      <td>80</td>\n",
              "      <td>False</td>\n",
              "      <td>False</td>\n",
              "      <td>unknown</td>\n",
              "      <td>True</td>\n",
              "      <td>False</td>\n",
              "      <td>True</td>\n",
              "      <td>u'free'</td>\n",
              "      <td>...</td>\n",
              "      <td>4</td>\n",
              "      <td>This is nice little Chinese bakery in the hear...</td>\n",
              "      <td>94.0</td>\n",
              "      <td>42.0</td>\n",
              "      <td>987.992116</td>\n",
              "      <td>nice little bakery heart philadelphia chinatow...</td>\n",
              "      <td>(S\\n  nice/JJ\\n  little/JJ\\n  bakery/JJ\\n  hea...</td>\n",
              "      <td>'heart', 'philadelphia', 'female', 'cashier', ...</td>\n",
              "      <td>'nice', 'little', 'bakery', 'chinatown', 'flir...</td>\n",
              "      <td>'heart', 'philadelphia', 'female', 'cashier', ...</td>\n",
              "    </tr>\n",
              "    <tr>\n",
              "      <th>1</th>\n",
              "      <td>MTSW4McQd7CbVtyjqoe9mw</td>\n",
              "      <td>4.0</td>\n",
              "      <td>80</td>\n",
              "      <td>False</td>\n",
              "      <td>False</td>\n",
              "      <td>unknown</td>\n",
              "      <td>True</td>\n",
              "      <td>False</td>\n",
              "      <td>True</td>\n",
              "      <td>u'free'</td>\n",
              "      <td>...</td>\n",
              "      <td>4</td>\n",
              "      <td>This is the bakery I usually go to in Chinatow...</td>\n",
              "      <td>94.0</td>\n",
              "      <td>42.0</td>\n",
              "      <td>987.992116</td>\n",
              "      <td>bakery usually go chinatown decent variety bun...</td>\n",
              "      <td>(S\\n  bakery/NN\\n  usually/RB\\n  go/VBP\\n  chi...</td>\n",
              "      <td>'bakery', 'variety', 'bun', 'pastry', 'bun', '...</td>\n",
              "      <td>'chinatown', 'decent', 'beanfilled', 'bun', 'f...</td>\n",
              "      <td>'bakery', 'variety', 'bun', 'pastry', 'bun', '...</td>\n",
              "    </tr>\n",
              "    <tr>\n",
              "      <th>2</th>\n",
              "      <td>MTSW4McQd7CbVtyjqoe9mw</td>\n",
              "      <td>4.0</td>\n",
              "      <td>80</td>\n",
              "      <td>False</td>\n",
              "      <td>False</td>\n",
              "      <td>unknown</td>\n",
              "      <td>True</td>\n",
              "      <td>False</td>\n",
              "      <td>True</td>\n",
              "      <td>u'free'</td>\n",
              "      <td>...</td>\n",
              "      <td>5</td>\n",
              "      <td>A delightful find in Chinatown! Very clean, an...</td>\n",
              "      <td>94.0</td>\n",
              "      <td>42.0</td>\n",
              "      <td>987.992116</td>\n",
              "      <td>delightful find chinatown clean kind service e...</td>\n",
              "      <td>(S\\n  delightful/JJ\\n  find/VBP\\n  chinatown/J...</td>\n",
              "      <td>'kind', 'service', 'everyone', 'treat', 'treat...</td>\n",
              "      <td>'delightful', 'chinatown', 'clean', 'happy', '...</td>\n",
              "      <td>'kind', 'service', 'everyone', 'treat', 'treat...</td>\n",
              "    </tr>\n",
              "    <tr>\n",
              "      <th>3</th>\n",
              "      <td>MTSW4McQd7CbVtyjqoe9mw</td>\n",
              "      <td>4.0</td>\n",
              "      <td>80</td>\n",
              "      <td>False</td>\n",
              "      <td>False</td>\n",
              "      <td>unknown</td>\n",
              "      <td>True</td>\n",
              "      <td>False</td>\n",
              "      <td>True</td>\n",
              "      <td>u'free'</td>\n",
              "      <td>...</td>\n",
              "      <td>5</td>\n",
              "      <td>I ordered a graduation cake for my niece and i...</td>\n",
              "      <td>94.0</td>\n",
              "      <td>42.0</td>\n",
              "      <td>987.992116</td>\n",
              "      <td>order graduation cake niece come absolutely pe...</td>\n",
              "      <td>(S\\n  order/NN\\n  graduation/NN\\n  cake/VB\\n  ...</td>\n",
              "      <td>'order', 'graduation', 'event', 'staff', 'nice'</td>\n",
              "      <td>'niece', 'perfect', 'come', 'future', 'good'</td>\n",
              "      <td>'order', 'graduation', 'event', 'staff', 'nice...</td>\n",
              "    </tr>\n",
              "    <tr>\n",
              "      <th>4</th>\n",
              "      <td>MTSW4McQd7CbVtyjqoe9mw</td>\n",
              "      <td>4.0</td>\n",
              "      <td>80</td>\n",
              "      <td>False</td>\n",
              "      <td>False</td>\n",
              "      <td>unknown</td>\n",
              "      <td>True</td>\n",
              "      <td>False</td>\n",
              "      <td>True</td>\n",
              "      <td>u'free'</td>\n",
              "      <td>...</td>\n",
              "      <td>4</td>\n",
              "      <td>HK-STYLE MILK TEA:  FOUR STARS\\n\\nNot quite su...</td>\n",
              "      <td>94.0</td>\n",
              "      <td>42.0</td>\n",
              "      <td>987.992116</td>\n",
              "      <td>hkstyle milk tea four stars\\n\\nnot quite sure ...</td>\n",
              "      <td>(S\\n  hkstyle/JJ\\n  milk/NN\\n  tea/IN\\n  four/...</td>\n",
              "      <td>'milk', 'saint', 'honore', 'pastry', 'business...</td>\n",
              "      <td>'hkstyle', 'sure', 'memorable', 'decide', 'wat...</td>\n",
              "      <td>'milk', 'saint', 'honore', 'pastry', 'business...</td>\n",
              "    </tr>\n",
              "  </tbody>\n",
              "</table>\n",
              "<p>5 rows × 49 columns</p>\n",
              "</div>\n",
              "      <button class=\"colab-df-convert\" onclick=\"convertToInteractive('df-5ae967a5-149f-4c96-a10e-d53f12678fd4')\"\n",
              "              title=\"Convert this dataframe to an interactive table.\"\n",
              "              style=\"display:none;\">\n",
              "        \n",
              "  <svg xmlns=\"http://www.w3.org/2000/svg\" height=\"24px\"viewBox=\"0 0 24 24\"\n",
              "       width=\"24px\">\n",
              "    <path d=\"M0 0h24v24H0V0z\" fill=\"none\"/>\n",
              "    <path d=\"M18.56 5.44l.94 2.06.94-2.06 2.06-.94-2.06-.94-.94-2.06-.94 2.06-2.06.94zm-11 1L8.5 8.5l.94-2.06 2.06-.94-2.06-.94L8.5 2.5l-.94 2.06-2.06.94zm10 10l.94 2.06.94-2.06 2.06-.94-2.06-.94-.94-2.06-.94 2.06-2.06.94z\"/><path d=\"M17.41 7.96l-1.37-1.37c-.4-.4-.92-.59-1.43-.59-.52 0-1.04.2-1.43.59L10.3 9.45l-7.72 7.72c-.78.78-.78 2.05 0 2.83L4 21.41c.39.39.9.59 1.41.59.51 0 1.02-.2 1.41-.59l7.78-7.78 2.81-2.81c.8-.78.8-2.07 0-2.86zM5.41 20L4 18.59l7.72-7.72 1.47 1.35L5.41 20z\"/>\n",
              "  </svg>\n",
              "      </button>\n",
              "      \n",
              "  <style>\n",
              "    .colab-df-container {\n",
              "      display:flex;\n",
              "      flex-wrap:wrap;\n",
              "      gap: 12px;\n",
              "    }\n",
              "\n",
              "    .colab-df-convert {\n",
              "      background-color: #E8F0FE;\n",
              "      border: none;\n",
              "      border-radius: 50%;\n",
              "      cursor: pointer;\n",
              "      display: none;\n",
              "      fill: #1967D2;\n",
              "      height: 32px;\n",
              "      padding: 0 0 0 0;\n",
              "      width: 32px;\n",
              "    }\n",
              "\n",
              "    .colab-df-convert:hover {\n",
              "      background-color: #E2EBFA;\n",
              "      box-shadow: 0px 1px 2px rgba(60, 64, 67, 0.3), 0px 1px 3px 1px rgba(60, 64, 67, 0.15);\n",
              "      fill: #174EA6;\n",
              "    }\n",
              "\n",
              "    [theme=dark] .colab-df-convert {\n",
              "      background-color: #3B4455;\n",
              "      fill: #D2E3FC;\n",
              "    }\n",
              "\n",
              "    [theme=dark] .colab-df-convert:hover {\n",
              "      background-color: #434B5C;\n",
              "      box-shadow: 0px 1px 3px 1px rgba(0, 0, 0, 0.15);\n",
              "      filter: drop-shadow(0px 1px 2px rgba(0, 0, 0, 0.3));\n",
              "      fill: #FFFFFF;\n",
              "    }\n",
              "  </style>\n",
              "\n",
              "      <script>\n",
              "        const buttonEl =\n",
              "          document.querySelector('#df-5ae967a5-149f-4c96-a10e-d53f12678fd4 button.colab-df-convert');\n",
              "        buttonEl.style.display =\n",
              "          google.colab.kernel.accessAllowed ? 'block' : 'none';\n",
              "\n",
              "        async function convertToInteractive(key) {\n",
              "          const element = document.querySelector('#df-5ae967a5-149f-4c96-a10e-d53f12678fd4');\n",
              "          const dataTable =\n",
              "            await google.colab.kernel.invokeFunction('convertToInteractive',\n",
              "                                                     [key], {});\n",
              "          if (!dataTable) return;\n",
              "\n",
              "          const docLinkHtml = 'Like what you see? Visit the ' +\n",
              "            '<a target=\"_blank\" href=https://colab.research.google.com/notebooks/data_table.ipynb>data table notebook</a>'\n",
              "            + ' to learn more about interactive tables.';\n",
              "          element.innerHTML = '';\n",
              "          dataTable['output_type'] = 'display_data';\n",
              "          await google.colab.output.renderOutput(dataTable, element);\n",
              "          const docLink = document.createElement('div');\n",
              "          docLink.innerHTML = docLinkHtml;\n",
              "          element.appendChild(docLink);\n",
              "        }\n",
              "      </script>\n",
              "    </div>\n",
              "  </div>\n",
              "  "
            ]
          },
          "metadata": {},
          "execution_count": 5
        }
      ]
    },
    {
      "cell_type": "code",
      "source": [
        "!pip install vaderSentiment\n",
        "from vaderSentiment.vaderSentiment import SentimentIntensityAnalyzer"
      ],
      "metadata": {
        "id": "hgBHPEZCnmDZ",
        "colab": {
          "base_uri": "https://localhost:8080/"
        },
        "outputId": "9f6b479b-2e91-4ab3-c0eb-d952e89e01c1"
      },
      "execution_count": 7,
      "outputs": [
        {
          "output_type": "stream",
          "name": "stdout",
          "text": [
            "Looking in indexes: https://pypi.org/simple, https://us-python.pkg.dev/colab-wheels/public/simple/\n",
            "Collecting vaderSentiment\n",
            "  Downloading vaderSentiment-3.3.2-py2.py3-none-any.whl (125 kB)\n",
            "\u001b[2K     \u001b[90m━━━━━━━━━━━━━━━━━━━━━━━━━━━━━━━━━━━━━━━\u001b[0m \u001b[32m126.0/126.0 KB\u001b[0m \u001b[31m3.7 MB/s\u001b[0m eta \u001b[36m0:00:00\u001b[0m\n",
            "\u001b[?25hRequirement already satisfied: requests in /usr/local/lib/python3.8/dist-packages (from vaderSentiment) (2.25.1)\n",
            "Requirement already satisfied: idna<3,>=2.5 in /usr/local/lib/python3.8/dist-packages (from requests->vaderSentiment) (2.10)\n",
            "Requirement already satisfied: urllib3<1.27,>=1.21.1 in /usr/local/lib/python3.8/dist-packages (from requests->vaderSentiment) (1.24.3)\n",
            "Requirement already satisfied: chardet<5,>=3.0.2 in /usr/local/lib/python3.8/dist-packages (from requests->vaderSentiment) (4.0.0)\n",
            "Requirement already satisfied: certifi>=2017.4.17 in /usr/local/lib/python3.8/dist-packages (from requests->vaderSentiment) (2022.12.7)\n",
            "Installing collected packages: vaderSentiment\n",
            "Successfully installed vaderSentiment-3.3.2\n"
          ]
        }
      ]
    },
    {
      "cell_type": "code",
      "source": [
        "preprocessed3.nouns_adjec =preprocessed3.nouns_adjec.astype(str)\n"
      ],
      "metadata": {
        "id": "nzfPu-lRlBSA"
      },
      "execution_count": 8,
      "outputs": []
    },
    {
      "cell_type": "code",
      "source": [
        "#get vader sentiment analysis going to cross compare \n",
        "\n",
        "\n",
        "def sentiment_scores(sentence):\n",
        "\n",
        "    #The sentimentintensity analyzer classifier is used to rate the polarity of the sentance from highly negative to highly positive\n",
        "\n",
        "    sid_obj = SentimentIntensityAnalyzer()\n",
        "    #obtain sentance and find the score via the polarity_score fx \n",
        "    sentiment_dict = sid_obj.polarity_scores(sentence)\n",
        "    \n",
        "    #if compound = 0 then it is neutral, -1 = negative, + 1 positive. the value we assign to compound/positive/negative is beyond the scope of this project.\n",
        "    #if rated at least 10% positive then it is positive and the same for negative, anywhere in between and it's neutral.\n",
        "\n",
        "    if sentiment_dict['compound'] >= 0.1 :\n",
        "        return \"Positive\"\n",
        " \n",
        "    elif sentiment_dict['compound'] <= - 0.1 :\n",
        "        return \"Negative\"\n",
        " \n",
        "    else :\n",
        "        return \"Neutral\"\n",
        "\n",
        "preprocessed3['vader_nouns_adjecs']= preprocessed3['nouns_adjec'].map(sentiment_scores)"
      ],
      "metadata": {
        "id": "5tfx6G_NlTuU"
      },
      "execution_count": 9,
      "outputs": []
    },
    {
      "cell_type": "code",
      "source": [
        "import matplotlib.pyplot as plt\n",
        "preprocessed3['vader_nouns_adjecs'].value_counts().plot(kind='barh')\n",
        "ax = plt.title(\"Vader Score for Nouns and Adjectives\")\n",
        "\n",
        "\n",
        "ax = plt.title(\"Sentiment scores for PA Restaurants \")\n",
        "\n",
        "plt.show()\n",
        "\n"
      ],
      "metadata": {
        "colab": {
          "base_uri": "https://localhost:8080/",
          "height": 281
        },
        "id": "XXLV_QpZlMcW",
        "outputId": "d68ee922-3976-4a45-9005-e1dd17bff00c"
      },
      "execution_count": 11,
      "outputs": [
        {
          "output_type": "display_data",
          "data": {
            "text/plain": [
              "<Figure size 432x288 with 1 Axes>"
            ],
            "image/png": "[encoded data removed]"
          },
          "metadata": {
            "needs_background": "light"
          }
        }
      ]
    },
    {
      "cell_type": "code",
      "source": [
        "#this dataset is business data except with the attributes exploded and only resturants/food places in PA are listed\n",
        "EDA = pd.read_csv('/content/gdrive/MyDrive/EDA.csv', encoding='utf8')\n",
        "EDA"
      ],
      "metadata": {
        "id": "_glVpvFnXKJt"
      },
      "execution_count": null,
      "outputs": []
    },
    {
      "cell_type": "code",
      "source": [
        "EDA = EDA.dropna(subset=['stars_y'])"
      ],
      "metadata": {
        "id": "ZUnGBhZo_q5b"
      },
      "execution_count": 13,
      "outputs": []
    },
    {
      "cell_type": "code",
      "source": [
        "EDA.head()"
      ],
      "metadata": {
        "colab": {
          "base_uri": "https://localhost:8080/",
          "height": 612
        },
        "id": "nTZZBPVZJGfA",
        "outputId": "001b97f8-80ce-4aba-b1a4-a50d5c80f977"
      },
      "execution_count": 29,
      "outputs": [
        {
          "output_type": "execute_result",
          "data": {
            "text/plain": [
              "   Unnamed: 0             business_id                name      address  \\\n",
              "0           0  MTSW4McQd7CbVtyjqoe9mw  St Honore Pastries  935 Race St   \n",
              "1           1  MTSW4McQd7CbVtyjqoe9mw  St Honore Pastries  935 Race St   \n",
              "2           2  MTSW4McQd7CbVtyjqoe9mw  St Honore Pastries  935 Race St   \n",
              "3           3  MTSW4McQd7CbVtyjqoe9mw  St Honore Pastries  935 Race St   \n",
              "4           4  MTSW4McQd7CbVtyjqoe9mw  St Honore Pastries  935 Race St   \n",
              "\n",
              "           city state  postal_code   latitude  longitude  stars_x  ...  \\\n",
              "0  Philadelphia    PA      19107.0  39.955505 -75.155564      4.0  ...   \n",
              "1  Philadelphia    PA      19107.0  39.955505 -75.155564      4.0  ...   \n",
              "2  Philadelphia    PA      19107.0  39.955505 -75.155564      4.0  ...   \n",
              "3  Philadelphia    PA      19107.0  39.955505 -75.155564      4.0  ...   \n",
              "4  Philadelphia    PA      19107.0  39.955505 -75.155564      4.0  ...   \n",
              "\n",
              "   Wednesday  Thursday    Friday  Saturday    Sunday establishment_type  \\\n",
              "0   7:0-20:0  7:0-20:0  7:0-21:0  7:0-21:0  7:0-21:0        Restaurants   \n",
              "1   7:0-20:0  7:0-20:0  7:0-21:0  7:0-21:0  7:0-21:0        Restaurants   \n",
              "2   7:0-20:0  7:0-20:0  7:0-21:0  7:0-21:0  7:0-21:0        Restaurants   \n",
              "3   7:0-20:0  7:0-20:0  7:0-21:0  7:0-21:0  7:0-21:0        Restaurants   \n",
              "4   7:0-20:0  7:0-20:0  7:0-21:0  7:0-21:0  7:0-21:0        Restaurants   \n",
              "\n",
              "  stars_y                                               text  \\\n",
              "0     4.0  This is nice little Chinese bakery in the hear...   \n",
              "1     4.0  This is the bakery I usually go to in Chinatow...   \n",
              "2     5.0  A delightful find in Chinatown! Very clean, an...   \n",
              "3     5.0  I ordered a graduation cake for my niece and i...   \n",
              "4     4.0  HK-STYLE MILK TEA:  FOUR STARS\\n\\nNot quite su...   \n",
              "\n",
              "                  user_id weekend_hours  \n",
              "0  6_SpY41LIHZuIaiDs5FMKA          42.0  \n",
              "1  tCXElwhzekJEH6QJe3xs7Q          42.0  \n",
              "2  WqfKtI-aGMmvbA9pPUxNQQ          42.0  \n",
              "3  3-1va0IQfK-9tUMzfHWfTA          42.0  \n",
              "4  EouCKoDfzaVG0klEgdDvCQ          42.0  \n",
              "\n",
              "[5 rows x 65 columns]"
            ],
            "text/html": [
              "\n",
              "  <div id=\"df-5c19711c-2feb-4077-a3b6-dcc09e56afaa\">\n",
              "    <div class=\"colab-df-container\">\n",
              "      <div>\n",
              "<style scoped>\n",
              "    .dataframe tbody tr th:only-of-type {\n",
              "        vertical-align: middle;\n",
              "    }\n",
              "\n",
              "    .dataframe tbody tr th {\n",
              "        vertical-align: top;\n",
              "    }\n",
              "\n",
              "    .dataframe thead th {\n",
              "        text-align: right;\n",
              "    }\n",
              "</style>\n",
              "<table border=\"1\" class=\"dataframe\">\n",
              "  <thead>\n",
              "    <tr style=\"text-align: right;\">\n",
              "      <th></th>\n",
              "      <th>Unnamed: 0</th>\n",
              "      <th>business_id</th>\n",
              "      <th>name</th>\n",
              "      <th>address</th>\n",
              "      <th>city</th>\n",
              "      <th>state</th>\n",
              "      <th>postal_code</th>\n",
              "      <th>latitude</th>\n",
              "      <th>longitude</th>\n",
              "      <th>stars_x</th>\n",
              "      <th>...</th>\n",
              "      <th>Wednesday</th>\n",
              "      <th>Thursday</th>\n",
              "      <th>Friday</th>\n",
              "      <th>Saturday</th>\n",
              "      <th>Sunday</th>\n",
              "      <th>establishment_type</th>\n",
              "      <th>stars_y</th>\n",
              "      <th>text</th>\n",
              "      <th>user_id</th>\n",
              "      <th>weekend_hours</th>\n",
              "    </tr>\n",
              "  </thead>\n",
              "  <tbody>\n",
              "    <tr>\n",
              "      <th>0</th>\n",
              "      <td>0</td>\n",
              "      <td>MTSW4McQd7CbVtyjqoe9mw</td>\n",
              "      <td>St Honore Pastries</td>\n",
              "      <td>935 Race St</td>\n",
              "      <td>Philadelphia</td>\n",
              "      <td>PA</td>\n",
              "      <td>19107.0</td>\n",
              "      <td>39.955505</td>\n",
              "      <td>-75.155564</td>\n",
              "      <td>4.0</td>\n",
              "      <td>...</td>\n",
              "      <td>7:0-20:0</td>\n",
              "      <td>7:0-20:0</td>\n",
              "      <td>7:0-21:0</td>\n",
              "      <td>7:0-21:0</td>\n",
              "      <td>7:0-21:0</td>\n",
              "      <td>Restaurants</td>\n",
              "      <td>4.0</td>\n",
              "      <td>This is nice little Chinese bakery in the hear...</td>\n",
              "      <td>6_SpY41LIHZuIaiDs5FMKA</td>\n",
              "      <td>42.0</td>\n",
              "    </tr>\n",
              "    <tr>\n",
              "      <th>1</th>\n",
              "      <td>1</td>\n",
              "      <td>MTSW4McQd7CbVtyjqoe9mw</td>\n",
              "      <td>St Honore Pastries</td>\n",
              "      <td>935 Race St</td>\n",
              "      <td>Philadelphia</td>\n",
              "      <td>PA</td>\n",
              "      <td>19107.0</td>\n",
              "      <td>39.955505</td>\n",
              "      <td>-75.155564</td>\n",
              "      <td>4.0</td>\n",
              "      <td>...</td>\n",
              "      <td>7:0-20:0</td>\n",
              "      <td>7:0-20:0</td>\n",
              "      <td>7:0-21:0</td>\n",
              "      <td>7:0-21:0</td>\n",
              "      <td>7:0-21:0</td>\n",
              "      <td>Restaurants</td>\n",
              "      <td>4.0</td>\n",
              "      <td>This is the bakery I usually go to in Chinatow...</td>\n",
              "      <td>tCXElwhzekJEH6QJe3xs7Q</td>\n",
              "      <td>42.0</td>\n",
              "    </tr>\n",
              "    <tr>\n",
              "      <th>2</th>\n",
              "      <td>2</td>\n",
              "      <td>MTSW4McQd7CbVtyjqoe9mw</td>\n",
              "      <td>St Honore Pastries</td>\n",
              "      <td>935 Race St</td>\n",
              "      <td>Philadelphia</td>\n",
              "      <td>PA</td>\n",
              "      <td>19107.0</td>\n",
              "      <td>39.955505</td>\n",
              "      <td>-75.155564</td>\n",
              "      <td>4.0</td>\n",
              "      <td>...</td>\n",
              "      <td>7:0-20:0</td>\n",
              "      <td>7:0-20:0</td>\n",
              "      <td>7:0-21:0</td>\n",
              "      <td>7:0-21:0</td>\n",
              "      <td>7:0-21:0</td>\n",
              "      <td>Restaurants</td>\n",
              "      <td>5.0</td>\n",
              "      <td>A delightful find in Chinatown! Very clean, an...</td>\n",
              "      <td>WqfKtI-aGMmvbA9pPUxNQQ</td>\n",
              "      <td>42.0</td>\n",
              "    </tr>\n",
              "    <tr>\n",
              "      <th>3</th>\n",
              "      <td>3</td>\n",
              "      <td>MTSW4McQd7CbVtyjqoe9mw</td>\n",
              "      <td>St Honore Pastries</td>\n",
              "      <td>935 Race St</td>\n",
              "      <td>Philadelphia</td>\n",
              "      <td>PA</td>\n",
              "      <td>19107.0</td>\n",
              "      <td>39.955505</td>\n",
              "      <td>-75.155564</td>\n",
              "      <td>4.0</td>\n",
              "      <td>...</td>\n",
              "      <td>7:0-20:0</td>\n",
              "      <td>7:0-20:0</td>\n",
              "      <td>7:0-21:0</td>\n",
              "      <td>7:0-21:0</td>\n",
              "      <td>7:0-21:0</td>\n",
              "      <td>Restaurants</td>\n",
              "      <td>5.0</td>\n",
              "      <td>I ordered a graduation cake for my niece and i...</td>\n",
              "      <td>3-1va0IQfK-9tUMzfHWfTA</td>\n",
              "      <td>42.0</td>\n",
              "    </tr>\n",
              "    <tr>\n",
              "      <th>4</th>\n",
              "      <td>4</td>\n",
              "      <td>MTSW4McQd7CbVtyjqoe9mw</td>\n",
              "      <td>St Honore Pastries</td>\n",
              "      <td>935 Race St</td>\n",
              "      <td>Philadelphia</td>\n",
              "      <td>PA</td>\n",
              "      <td>19107.0</td>\n",
              "      <td>39.955505</td>\n",
              "      <td>-75.155564</td>\n",
              "      <td>4.0</td>\n",
              "      <td>...</td>\n",
              "      <td>7:0-20:0</td>\n",
              "      <td>7:0-20:0</td>\n",
              "      <td>7:0-21:0</td>\n",
              "      <td>7:0-21:0</td>\n",
              "      <td>7:0-21:0</td>\n",
              "      <td>Restaurants</td>\n",
              "      <td>4.0</td>\n",
              "      <td>HK-STYLE MILK TEA:  FOUR STARS\\n\\nNot quite su...</td>\n",
              "      <td>EouCKoDfzaVG0klEgdDvCQ</td>\n",
              "      <td>42.0</td>\n",
              "    </tr>\n",
              "  </tbody>\n",
              "</table>\n",
              "<p>5 rows × 65 columns</p>\n",
              "</div>\n",
              "      <button class=\"colab-df-convert\" onclick=\"convertToInteractive('df-5c19711c-2feb-4077-a3b6-dcc09e56afaa')\"\n",
              "              title=\"Convert this dataframe to an interactive table.\"\n",
              "              style=\"display:none;\">\n",
              "        \n",
              "  <svg xmlns=\"http://www.w3.org/2000/svg\" height=\"24px\"viewBox=\"0 0 24 24\"\n",
              "       width=\"24px\">\n",
              "    <path d=\"M0 0h24v24H0V0z\" fill=\"none\"/>\n",
              "    <path d=\"M18.56 5.44l.94 2.06.94-2.06 2.06-.94-2.06-.94-.94-2.06-.94 2.06-2.06.94zm-11 1L8.5 8.5l.94-2.06 2.06-.94-2.06-.94L8.5 2.5l-.94 2.06-2.06.94zm10 10l.94 2.06.94-2.06 2.06-.94-2.06-.94-.94-2.06-.94 2.06-2.06.94z\"/><path d=\"M17.41 7.96l-1.37-1.37c-.4-.4-.92-.59-1.43-.59-.52 0-1.04.2-1.43.59L10.3 9.45l-7.72 7.72c-.78.78-.78 2.05 0 2.83L4 21.41c.39.39.9.59 1.41.59.51 0 1.02-.2 1.41-.59l7.78-7.78 2.81-2.81c.8-.78.8-2.07 0-2.86zM5.41 20L4 18.59l7.72-7.72 1.47 1.35L5.41 20z\"/>\n",
              "  </svg>\n",
              "      </button>\n",
              "      \n",
              "  <style>\n",
              "    .colab-df-container {\n",
              "      display:flex;\n",
              "      flex-wrap:wrap;\n",
              "      gap: 12px;\n",
              "    }\n",
              "\n",
              "    .colab-df-convert {\n",
              "      background-color: #E8F0FE;\n",
              "      border: none;\n",
              "      border-radius: 50%;\n",
              "      cursor: pointer;\n",
              "      display: none;\n",
              "      fill: #1967D2;\n",
              "      height: 32px;\n",
              "      padding: 0 0 0 0;\n",
              "      width: 32px;\n",
              "    }\n",
              "\n",
              "    .colab-df-convert:hover {\n",
              "      background-color: #E2EBFA;\n",
              "      box-shadow: 0px 1px 2px rgba(60, 64, 67, 0.3), 0px 1px 3px 1px rgba(60, 64, 67, 0.15);\n",
              "      fill: #174EA6;\n",
              "    }\n",
              "\n",
              "    [theme=dark] .colab-df-convert {\n",
              "      background-color: #3B4455;\n",
              "      fill: #D2E3FC;\n",
              "    }\n",
              "\n",
              "    [theme=dark] .colab-df-convert:hover {\n",
              "      background-color: #434B5C;\n",
              "      box-shadow: 0px 1px 3px 1px rgba(0, 0, 0, 0.15);\n",
              "      filter: drop-shadow(0px 1px 2px rgba(0, 0, 0, 0.3));\n",
              "      fill: #FFFFFF;\n",
              "    }\n",
              "  </style>\n",
              "\n",
              "      <script>\n",
              "        const buttonEl =\n",
              "          document.querySelector('#df-5c19711c-2feb-4077-a3b6-dcc09e56afaa button.colab-df-convert');\n",
              "        buttonEl.style.display =\n",
              "          google.colab.kernel.accessAllowed ? 'block' : 'none';\n",
              "\n",
              "        async function convertToInteractive(key) {\n",
              "          const element = document.querySelector('#df-5c19711c-2feb-4077-a3b6-dcc09e56afaa');\n",
              "          const dataTable =\n",
              "            await google.colab.kernel.invokeFunction('convertToInteractive',\n",
              "                                                     [key], {});\n",
              "          if (!dataTable) return;\n",
              "\n",
              "          const docLinkHtml = 'Like what you see? Visit the ' +\n",
              "            '<a target=\"_blank\" href=https://colab.research.google.com/notebooks/data_table.ipynb>data table notebook</a>'\n",
              "            + ' to learn more about interactive tables.';\n",
              "          element.innerHTML = '';\n",
              "          dataTable['output_type'] = 'display_data';\n",
              "          await google.colab.output.renderOutput(dataTable, element);\n",
              "          const docLink = document.createElement('div');\n",
              "          docLink.innerHTML = docLinkHtml;\n",
              "          element.appendChild(docLink);\n",
              "        }\n",
              "      </script>\n",
              "    </div>\n",
              "  </div>\n",
              "  "
            ]
          },
          "metadata": {},
          "execution_count": 29
        }
      ]
    },
    {
      "cell_type": "code",
      "source": [
        "EDA.Tuesday.value_counts()\n",
        "#fill the na this time with really low time differences like 30 minutes \n",
        "#still doesnt cut out the 0 but at least it gives us smaller hours \n",
        "days = [\"Monday\",\"Tuesday\",\"Wednesday\",\"Thursday\",\"Friday\",\"Saturday\",\"Sunday\"]\n",
        "EDA[days] = EDA[days].astype(str)\n",
        "EDA[days] = EDA[days].fillna('1:0-1:30')\n"
      ],
      "metadata": {
        "id": "dqmlKovOd5VI",
        "colab": {
          "base_uri": "https://localhost:8080/"
        },
        "outputId": "04f81d1f-f367-4ad8-8794-46c9d1132055"
      },
      "execution_count": 15,
      "outputs": [
        {
          "output_type": "stream",
          "name": "stderr",
          "text": [
            "/usr/local/lib/python3.8/dist-packages/pandas/core/frame.py:3641: SettingWithCopyWarning: \n",
            "A value is trying to be set on a copy of a slice from a DataFrame.\n",
            "Try using .loc[row_indexer,col_indexer] = value instead\n",
            "\n",
            "See the caveats in the documentation: https://pandas.pydata.org/pandas-docs/stable/user_guide/indexing.html#returning-a-view-versus-a-copy\n",
            "  self[k1] = value[k2]\n"
          ]
        }
      ]
    },
    {
      "cell_type": "code",
      "source": [
        "\n",
        "\n",
        "def calculate_hours(row: pd.Series) -> float:\n",
        "    \"\"\"The point of this function is to take the row which is the format \"x:y-a:b\"\n",
        "    and x:y is the opening time and a:b is the closing time\n",
        "    then we seperate x and a and y and b  into opening/closing time respectively\n",
        "    we finally make it that if start hour = to end hour then it returns 0 for the closed resturants. we can aslo assume that we would want our resturant to be open for more than 12 hours.\n",
        "    \"\"\"\n",
        "    try:\n",
        "        # split the given times to start and end time\n",
        "        opening_time, closing_time = row.split(\"-\")\n",
        "        # split hours and minutes\n",
        "        start_hour, start_minute = opening_time.split(\":\")\n",
        "        end_hour, end_minute = closing_time.split(\":\")\n",
        "        # calculate start time (in hours)\n",
        "        start_time = float(start_hour) + float(start_minute) / 60\n",
        "        # calculate end time (in hours)\n",
        "        end_time = float(end_hour) + float(end_minute) / 60\n",
        "        # handle overneight and 24h openings\n",
        "        if start_time >= end_time:\n",
        "            end_time += 24\n",
        "        # return the duration from start time to end time\n",
        "        return end_time - start_time\n",
        "        \n",
        "    except:\n",
        "        return 0.0\n"
      ],
      "metadata": {
        "id": "EYDgkU5wehVy"
      },
      "execution_count": 30,
      "outputs": []
    },
    {
      "cell_type": "code",
      "source": [
        "#get weekend hours\n",
        "EDA[\"weekend_hours\"]=  EDA[\"Friday\"].apply(calculate_hours) +\\\n",
        "             EDA[\"Saturday\"].apply(calculate_hours) +\\\n",
        "             EDA[\"Sunday\"].apply(calculate_hours)"
      ],
      "metadata": {
        "id": "hQzgXp32fNB6",
        "colab": {
          "base_uri": "https://localhost:8080/"
        },
        "outputId": "d5d90a56-b3a1-4c77-c27b-9dd42d77458f"
      },
      "execution_count": 31,
      "outputs": [
        {
          "output_type": "stream",
          "name": "stderr",
          "text": [
            "<ipython-input-31-715f15b76764>:2: SettingWithCopyWarning: \n",
            "A value is trying to be set on a copy of a slice from a DataFrame.\n",
            "Try using .loc[row_indexer,col_indexer] = value instead\n",
            "\n",
            "See the caveats in the documentation: https://pandas.pydata.org/pandas-docs/stable/user_guide/indexing.html#returning-a-view-versus-a-copy\n",
            "  EDA[\"weekend_hours\"]=  EDA[\"Friday\"].apply(calculate_hours) +\\\n"
          ]
        }
      ]
    },
    {
      "cell_type": "code",
      "source": [
        "#the function didnt account for 00;00- 00;00 and reads as 24 so we can replace 24,48,72 with 0 hours \n",
        "\n",
        "EDA[\"weekend_hours\"] = EDA[\"weekend_hours\"].astype(str).replace('72.0', '0')\n",
        "\n",
        "EDA[\"weekend_hours\"] = EDA[\"weekend_hours\"].astype(str).replace('72.00', '0')\n",
        "EDA[\"weekend_hours\"] = EDA[\"weekend_hours\"].astype(str).replace('48.00', '0')"
      ],
      "metadata": {
        "id": "5AuwEwEke5fP",
        "colab": {
          "base_uri": "https://localhost:8080/"
        },
        "outputId": "8a798c54-064d-4451-aa1c-45dbbe5b909e"
      },
      "execution_count": 32,
      "outputs": [
        {
          "output_type": "stream",
          "name": "stderr",
          "text": [
            "<ipython-input-32-514edfa983d0>:3: SettingWithCopyWarning: \n",
            "A value is trying to be set on a copy of a slice from a DataFrame.\n",
            "Try using .loc[row_indexer,col_indexer] = value instead\n",
            "\n",
            "See the caveats in the documentation: https://pandas.pydata.org/pandas-docs/stable/user_guide/indexing.html#returning-a-view-versus-a-copy\n",
            "  EDA[\"weekend_hours\"] = EDA[\"weekend_hours\"].astype(str).replace('72.0', '0')\n",
            "<ipython-input-32-514edfa983d0>:5: SettingWithCopyWarning: \n",
            "A value is trying to be set on a copy of a slice from a DataFrame.\n",
            "Try using .loc[row_indexer,col_indexer] = value instead\n",
            "\n",
            "See the caveats in the documentation: https://pandas.pydata.org/pandas-docs/stable/user_guide/indexing.html#returning-a-view-versus-a-copy\n",
            "  EDA[\"weekend_hours\"] = EDA[\"weekend_hours\"].astype(str).replace('72.00', '0')\n",
            "<ipython-input-32-514edfa983d0>:6: SettingWithCopyWarning: \n",
            "A value is trying to be set on a copy of a slice from a DataFrame.\n",
            "Try using .loc[row_indexer,col_indexer] = value instead\n",
            "\n",
            "See the caveats in the documentation: https://pandas.pydata.org/pandas-docs/stable/user_guide/indexing.html#returning-a-view-versus-a-copy\n",
            "  EDA[\"weekend_hours\"] = EDA[\"weekend_hours\"].astype(str).replace('48.00', '0')\n"
          ]
        }
      ]
    },
    {
      "cell_type": "code",
      "source": [
        "EDA['weekend_hours'] = EDA['weekend_hours'].astype(float)"
      ],
      "metadata": {
        "colab": {
          "base_uri": "https://localhost:8080/"
        },
        "id": "4NaW_wZnmoCX",
        "outputId": "db2e4629-0374-45cd-ac23-397acf84672d"
      },
      "execution_count": 33,
      "outputs": [
        {
          "output_type": "stream",
          "name": "stderr",
          "text": [
            "<ipython-input-33-d17c9f2452ac>:1: SettingWithCopyWarning: \n",
            "A value is trying to be set on a copy of a slice from a DataFrame.\n",
            "Try using .loc[row_indexer,col_indexer] = value instead\n",
            "\n",
            "See the caveats in the documentation: https://pandas.pydata.org/pandas-docs/stable/user_guide/indexing.html#returning-a-view-versus-a-copy\n",
            "  EDA['weekend_hours'] = EDA['weekend_hours'].astype(float)\n"
          ]
        }
      ]
    },
    {
      "cell_type": "code",
      "source": [
        "#obtain weekend hours\n",
        "import matplotlib.pyplot as plt\n",
        "EDA['stars_y']=  EDA['stars_y'].astype(float)\n",
        "ax= EDA.boxplot(column=['weekend_hours'], by = ['stars_y'])\n",
        "plt.title(\"Resturants and their Weekend hours\")\n",
        "plt.suptitle('')\n",
        "\n",
        "plt.show()\n"
      ],
      "metadata": {
        "colab": {
          "base_uri": "https://localhost:8080/",
          "height": 454
        },
        "id": "W7Lits1whiDT",
        "outputId": "9a2826ed-50f6-47fa-cd88-fe99c2be30df"
      },
      "execution_count": 34,
      "outputs": [
        {
          "output_type": "stream",
          "name": "stderr",
          "text": [
            "<ipython-input-34-b1b9c3444545>:3: SettingWithCopyWarning: \n",
            "A value is trying to be set on a copy of a slice from a DataFrame.\n",
            "Try using .loc[row_indexer,col_indexer] = value instead\n",
            "\n",
            "See the caveats in the documentation: https://pandas.pydata.org/pandas-docs/stable/user_guide/indexing.html#returning-a-view-versus-a-copy\n",
            "  EDA['stars_y']=  EDA['stars_y'].astype(float)\n",
            "/usr/local/lib/python3.8/dist-packages/matplotlib/cbook/__init__.py:1376: VisibleDeprecationWarning: Creating an ndarray from ragged nested sequences (which is a list-or-tuple of lists-or-tuples-or ndarrays with different lengths or shapes) is deprecated. If you meant to do this, you must specify 'dtype=object' when creating the ndarray.\n",
            "  X = np.atleast_1d(X.T if isinstance(X, np.ndarray) else np.asarray(X))\n"
          ]
        },
        {
          "output_type": "display_data",
          "data": {
            "text/plain": [
              "<Figure size 432x288 with 1 Axes>"
            ],
            "image/png": "[encoded data removed]"
          },
          "metadata": {
            "needs_background": "light"
          }
        }
      ]
    },
    {
      "cell_type": "code",
      "source": [
        "#simple OLS model to see if theres any linear correlation \n",
        "\n",
        "from scipy import stats\n",
        "from mpl_toolkits.mplot3d import Axes3D\n",
        "\n",
        "from sklearn.linear_model import LinearRegression\n",
        "from statsmodels.stats.outliers_influence import variance_inflation_factor\n",
        "import sklearn.metrics as metrics\n",
        "import statsmodels.api as sm\n",
        "import statsmodels.api as sm\n",
        "from statsmodels.formula.api import ols\n",
        "Y = preprocessed3['stars_y']\n",
        "X = preprocessed3[['weekend_hours']]\n",
        "X = sm.add_constant(X)\n",
        "\n",
        "model = sm.OLS(Y, X).fit()\n",
        "print(model.summary())\n",
        "\n",
        "print(\"_____________________________\")\n",
        "vif = [variance_inflation_factor(X.values, i) for i in range(X.shape[1])]\n",
        "\n",
        "print(vif)"
      ],
      "metadata": {
        "colab": {
          "base_uri": "https://localhost:8080/"
        },
        "id": "wlcatCQvj5AI",
        "outputId": "f001a479-3d9d-4973-9de2-d932aa4a287d"
      },
      "execution_count": null,
      "outputs": [
        {
          "output_type": "stream",
          "name": "stdout",
          "text": [
            "                            OLS Regression Results                            \n",
            "==============================================================================\n",
            "Dep. Variable:                stars_y   R-squared:                       0.018\n",
            "Model:                            OLS   Adj. R-squared:                  0.018\n",
            "Method:                 Least Squares   F-statistic:                     1196.\n",
            "Date:                Mon, 13 Feb 2023   Prob (F-statistic):          1.22e-259\n",
            "Time:                        06:11:17   Log-Likelihood:            -1.0975e+05\n",
            "No. Observations:               65698   AIC:                         2.195e+05\n",
            "Df Residuals:                   65696   BIC:                         2.195e+05\n",
            "Df Model:                           1                                         \n",
            "Covariance Type:            nonrobust                                         \n",
            "=================================================================================\n",
            "                    coef    std err          t      P>|t|      [0.025      0.975]\n",
            "---------------------------------------------------------------------------------\n",
            "const             4.2474      0.013    328.770      0.000       4.222       4.273\n",
            "weekend_hours    -0.0127      0.000    -34.577      0.000      -0.013      -0.012\n",
            "==============================================================================\n",
            "Omnibus:                     7006.470   Durbin-Watson:                   1.689\n",
            "Prob(Omnibus):                  0.000   Jarque-Bera (JB):             9326.370\n",
            "Skew:                          -0.914   Prob(JB):                         0.00\n",
            "Kurtosis:                       2.749   Cond. No.                         90.3\n",
            "==============================================================================\n",
            "\n",
            "Notes:\n",
            "[1] Standard Errors assume that the covariance matrix of the errors is correctly specified.\n",
            "_____________________________\n",
            "[6.628744112450324, 1.0000000000000013]\n"
          ]
        },
        {
          "output_type": "stream",
          "name": "stderr",
          "text": [
            "/usr/local/lib/python3.8/dist-packages/statsmodels/tsa/tsatools.py:142: FutureWarning: In a future version of pandas all arguments of concat except for the argument 'objs' will be keyword-only\n",
            "  x = pd.concat(x[::order], 1)\n"
          ]
        }
      ]
    },
    {
      "cell_type": "markdown",
      "source": [
        "## Since there is no correlation we know that a NN is preferred.."
      ],
      "metadata": {
        "id": "PM0qYnyILati"
      }
    },
    {
      "cell_type": "code",
      "source": [
        "#start creating our Neural net\n",
        "practice_set= practice_set[['nouns_adjec', 'stars_y']]"
      ],
      "metadata": {
        "id": "b1VqNTPNCE9l"
      },
      "execution_count": 35,
      "outputs": []
    },
    {
      "cell_type": "code",
      "source": [
        "practice_set"
      ],
      "metadata": {
        "colab": {
          "base_uri": "https://localhost:8080/",
          "height": 424
        },
        "id": "iON7iAtH_g5-",
        "outputId": "aefe2849-cc75-4fca-c458-cbd4896c2716"
      },
      "execution_count": 36,
      "outputs": [
        {
          "output_type": "execute_result",
          "data": {
            "text/plain": [
              "                                             nouns_adjec  stars_y\n",
              "0      'heart', 'philadelphia', 'female', 'cashier', ...        4\n",
              "1      'bakery', 'variety', 'bun', 'pastry', 'bun', '...        4\n",
              "2      'kind', 'service', 'everyone', 'treat', 'treat...        5\n",
              "3      'order', 'graduation', 'event', 'staff', 'nice...        5\n",
              "4      'milk', 'saint', 'honore', 'pastry', 'business...        4\n",
              "...                                                  ...      ...\n",
              "67359  'coffee', 'shop', 'work', 'price', 'variety', ...        5\n",
              "67360  'cash', 'coffee', 'spot', 'cozy', 'spot', 'cof...        3\n",
              "67361  'hand', 'ice', 'coffee', 'terrific', 'guy', 'c...        5\n",
              "67362  'place', 'chill', 'corner', 'coffee', 'shop', ...        5\n",
              "67363  'neighborhood', 'gem', 'owner', 'guy', 'place'...        4\n",
              "\n",
              "[65698 rows x 2 columns]"
            ],
            "text/html": [
              "\n",
              "  <div id=\"df-8a376088-eb8a-43e6-8251-de1b5a6bbd4b\">\n",
              "    <div class=\"colab-df-container\">\n",
              "      <div>\n",
              "<style scoped>\n",
              "    .dataframe tbody tr th:only-of-type {\n",
              "        vertical-align: middle;\n",
              "    }\n",
              "\n",
              "    .dataframe tbody tr th {\n",
              "        vertical-align: top;\n",
              "    }\n",
              "\n",
              "    .dataframe thead th {\n",
              "        text-align: right;\n",
              "    }\n",
              "</style>\n",
              "<table border=\"1\" class=\"dataframe\">\n",
              "  <thead>\n",
              "    <tr style=\"text-align: right;\">\n",
              "      <th></th>\n",
              "      <th>nouns_adjec</th>\n",
              "      <th>stars_y</th>\n",
              "    </tr>\n",
              "  </thead>\n",
              "  <tbody>\n",
              "    <tr>\n",
              "      <th>0</th>\n",
              "      <td>'heart', 'philadelphia', 'female', 'cashier', ...</td>\n",
              "      <td>4</td>\n",
              "    </tr>\n",
              "    <tr>\n",
              "      <th>1</th>\n",
              "      <td>'bakery', 'variety', 'bun', 'pastry', 'bun', '...</td>\n",
              "      <td>4</td>\n",
              "    </tr>\n",
              "    <tr>\n",
              "      <th>2</th>\n",
              "      <td>'kind', 'service', 'everyone', 'treat', 'treat...</td>\n",
              "      <td>5</td>\n",
              "    </tr>\n",
              "    <tr>\n",
              "      <th>3</th>\n",
              "      <td>'order', 'graduation', 'event', 'staff', 'nice...</td>\n",
              "      <td>5</td>\n",
              "    </tr>\n",
              "    <tr>\n",
              "      <th>4</th>\n",
              "      <td>'milk', 'saint', 'honore', 'pastry', 'business...</td>\n",
              "      <td>4</td>\n",
              "    </tr>\n",
              "    <tr>\n",
              "      <th>...</th>\n",
              "      <td>...</td>\n",
              "      <td>...</td>\n",
              "    </tr>\n",
              "    <tr>\n",
              "      <th>67359</th>\n",
              "      <td>'coffee', 'shop', 'work', 'price', 'variety', ...</td>\n",
              "      <td>5</td>\n",
              "    </tr>\n",
              "    <tr>\n",
              "      <th>67360</th>\n",
              "      <td>'cash', 'coffee', 'spot', 'cozy', 'spot', 'cof...</td>\n",
              "      <td>3</td>\n",
              "    </tr>\n",
              "    <tr>\n",
              "      <th>67361</th>\n",
              "      <td>'hand', 'ice', 'coffee', 'terrific', 'guy', 'c...</td>\n",
              "      <td>5</td>\n",
              "    </tr>\n",
              "    <tr>\n",
              "      <th>67362</th>\n",
              "      <td>'place', 'chill', 'corner', 'coffee', 'shop', ...</td>\n",
              "      <td>5</td>\n",
              "    </tr>\n",
              "    <tr>\n",
              "      <th>67363</th>\n",
              "      <td>'neighborhood', 'gem', 'owner', 'guy', 'place'...</td>\n",
              "      <td>4</td>\n",
              "    </tr>\n",
              "  </tbody>\n",
              "</table>\n",
              "<p>65698 rows × 2 columns</p>\n",
              "</div>\n",
              "      <button class=\"colab-df-convert\" onclick=\"convertToInteractive('df-8a376088-eb8a-43e6-8251-de1b5a6bbd4b')\"\n",
              "              title=\"Convert this dataframe to an interactive table.\"\n",
              "              style=\"display:none;\">\n",
              "        \n",
              "  <svg xmlns=\"http://www.w3.org/2000/svg\" height=\"24px\"viewBox=\"0 0 24 24\"\n",
              "       width=\"24px\">\n",
              "    <path d=\"M0 0h24v24H0V0z\" fill=\"none\"/>\n",
              "    <path d=\"M18.56 5.44l.94 2.06.94-2.06 2.06-.94-2.06-.94-.94-2.06-.94 2.06-2.06.94zm-11 1L8.5 8.5l.94-2.06 2.06-.94-2.06-.94L8.5 2.5l-.94 2.06-2.06.94zm10 10l.94 2.06.94-2.06 2.06-.94-2.06-.94-.94-2.06-.94 2.06-2.06.94z\"/><path d=\"M17.41 7.96l-1.37-1.37c-.4-.4-.92-.59-1.43-.59-.52 0-1.04.2-1.43.59L10.3 9.45l-7.72 7.72c-.78.78-.78 2.05 0 2.83L4 21.41c.39.39.9.59 1.41.59.51 0 1.02-.2 1.41-.59l7.78-7.78 2.81-2.81c.8-.78.8-2.07 0-2.86zM5.41 20L4 18.59l7.72-7.72 1.47 1.35L5.41 20z\"/>\n",
              "  </svg>\n",
              "      </button>\n",
              "      \n",
              "  <style>\n",
              "    .colab-df-container {\n",
              "      display:flex;\n",
              "      flex-wrap:wrap;\n",
              "      gap: 12px;\n",
              "    }\n",
              "\n",
              "    .colab-df-convert {\n",
              "      background-color: #E8F0FE;\n",
              "      border: none;\n",
              "      border-radius: 50%;\n",
              "      cursor: pointer;\n",
              "      display: none;\n",
              "      fill: #1967D2;\n",
              "      height: 32px;\n",
              "      padding: 0 0 0 0;\n",
              "      width: 32px;\n",
              "    }\n",
              "\n",
              "    .colab-df-convert:hover {\n",
              "      background-color: #E2EBFA;\n",
              "      box-shadow: 0px 1px 2px rgba(60, 64, 67, 0.3), 0px 1px 3px 1px rgba(60, 64, 67, 0.15);\n",
              "      fill: #174EA6;\n",
              "    }\n",
              "\n",
              "    [theme=dark] .colab-df-convert {\n",
              "      background-color: #3B4455;\n",
              "      fill: #D2E3FC;\n",
              "    }\n",
              "\n",
              "    [theme=dark] .colab-df-convert:hover {\n",
              "      background-color: #434B5C;\n",
              "      box-shadow: 0px 1px 3px 1px rgba(0, 0, 0, 0.15);\n",
              "      filter: drop-shadow(0px 1px 2px rgba(0, 0, 0, 0.3));\n",
              "      fill: #FFFFFF;\n",
              "    }\n",
              "  </style>\n",
              "\n",
              "      <script>\n",
              "        const buttonEl =\n",
              "          document.querySelector('#df-8a376088-eb8a-43e6-8251-de1b5a6bbd4b button.colab-df-convert');\n",
              "        buttonEl.style.display =\n",
              "          google.colab.kernel.accessAllowed ? 'block' : 'none';\n",
              "\n",
              "        async function convertToInteractive(key) {\n",
              "          const element = document.querySelector('#df-8a376088-eb8a-43e6-8251-de1b5a6bbd4b');\n",
              "          const dataTable =\n",
              "            await google.colab.kernel.invokeFunction('convertToInteractive',\n",
              "                                                     [key], {});\n",
              "          if (!dataTable) return;\n",
              "\n",
              "          const docLinkHtml = 'Like what you see? Visit the ' +\n",
              "            '<a target=\"_blank\" href=https://colab.research.google.com/notebooks/data_table.ipynb>data table notebook</a>'\n",
              "            + ' to learn more about interactive tables.';\n",
              "          element.innerHTML = '';\n",
              "          dataTable['output_type'] = 'display_data';\n",
              "          await google.colab.output.renderOutput(dataTable, element);\n",
              "          const docLink = document.createElement('div');\n",
              "          docLink.innerHTML = docLinkHtml;\n",
              "          element.appendChild(docLink);\n",
              "        }\n",
              "      </script>\n",
              "    </div>\n",
              "  </div>\n",
              "  "
            ]
          },
          "metadata": {},
          "execution_count": 36
        }
      ]
    },
    {
      "cell_type": "code",
      "source": [
        "#idea from https://www.youtube.com/watch?v=Fuw0wv3X-0o\n",
        "import numpy as np\n",
        "from tensorflow.keras.preprocessing.text import one_hot\n",
        "from tensorflow.keras.preprocessing.sequence import pad_sequences\n",
        "from tensorflow.keras.models import Sequential\n",
        "from tensorflow.keras.layers import Dense\n",
        "from tensorflow.keras.layers import Flatten\n",
        "from tensorflow.keras.layers import Embedding"
      ],
      "metadata": {
        "id": "DsOv6K47DJLe"
      },
      "execution_count": 37,
      "outputs": []
    },
    {
      "cell_type": "code",
      "source": [
        "#convert\n",
        "practice_set['nouns_adjec']= practice_set['nouns_adjec'].astype(str)"
      ],
      "metadata": {
        "id": "JeRgBLT9Dwo2",
        "colab": {
          "base_uri": "https://localhost:8080/"
        },
        "outputId": "b914328c-51a7-4687-94ad-3e5d647cf68c"
      },
      "execution_count": 38,
      "outputs": [
        {
          "output_type": "stream",
          "name": "stderr",
          "text": [
            "<ipython-input-38-5f837cc53c80>:2: SettingWithCopyWarning: \n",
            "A value is trying to be set on a copy of a slice from a DataFrame.\n",
            "Try using .loc[row_indexer,col_indexer] = value instead\n",
            "\n",
            "See the caveats in the documentation: https://pandas.pydata.org/pandas-docs/stable/user_guide/indexing.html#returning-a-view-versus-a-copy\n",
            "  practice_set['nouns_adjec']= practice_set['nouns_adjec'].astype(str)\n"
          ]
        }
      ]
    },
    {
      "cell_type": "code",
      "source": [
        "pd.set_option(\"max_colwidth\", None)"
      ],
      "metadata": {
        "id": "kfCvwsaa0H8P"
      },
      "execution_count": 39,
      "outputs": []
    },
    {
      "cell_type": "code",
      "source": [
        "practice_set.info()"
      ],
      "metadata": {
        "id": "1dF2LqSzEgH3",
        "colab": {
          "base_uri": "https://localhost:8080/"
        },
        "outputId": "e2ebefca-4a44-4548-a037-13e064e4f637"
      },
      "execution_count": 40,
      "outputs": [
        {
          "output_type": "stream",
          "name": "stdout",
          "text": [
            "<class 'pandas.core.frame.DataFrame'>\n",
            "Int64Index: 65698 entries, 0 to 67363\n",
            "Data columns (total 2 columns):\n",
            " #   Column       Non-Null Count  Dtype \n",
            "---  ------       --------------  ----- \n",
            " 0   nouns_adjec  65698 non-null  object\n",
            " 1   stars_y      65698 non-null  int64 \n",
            "dtypes: int64(1), object(1)\n",
            "memory usage: 1.5+ MB\n"
          ]
        }
      ]
    },
    {
      "cell_type": "code",
      "source": [
        "practice_set['nouns_adjec']"
      ],
      "metadata": {
        "colab": {
          "base_uri": "https://localhost:8080/"
        },
        "id": "YfTfo-6R0vRx",
        "outputId": "e7209c99-9cef-43f1-e70c-bf1042795efc"
      },
      "execution_count": null,
      "outputs": [
        {
          "output_type": "execute_result",
          "data": {
            "text/plain": [
              "0                                                                                                                                                                                                                                                'heart', 'philadelphia', 'female', 'cashier', 'pastry', 'show', 'display', 'case', 'evening', 'sesame', 'ball', 'paste', 'rice', 'ball', 'bai', 'tang', 'gao', 'area''nice', 'little', 'bakery', 'chinatown', 'flirtatious', 'adorn', 'fill', 'bean', 'glutinous', 'similar', 'place', 'worth'\n",
              "1                                                                                                                                                                         'bakery', 'variety', 'bun', 'pastry', 'bun', 'mung', 'coconut', 'stuff', 'egg', 'tart', 'dozen', 'price', 'standard', 'thing', 'service', 'serve', 'coffee', 'tea', 'couple', 'group', 'guy', 'chillin', 'corner', 'debate', 'something', 'place', 'stock', 'bun', 'town''chinatown', 'decent', 'beanfilled', 'bun', 'free', 'good', 'table', 'old', 'table', 'great'\n",
              "2                                                                                                                                                                                                                                                                                                                                                                                    'kind', 'service', 'everyone', 'treat', 'treat', 'judgement', 'theyre', 'favorite''delightful', 'chinatown', 'clean', 'happy', 'delicious', 'ton', 'sweet'\n",
              "3                                                                                                                                                                                                                                                                                                                                                                                                                                                   'order', 'graduation', 'event', 'staff', 'nice''niece', 'perfect', 'come', 'future', 'good'\n",
              "4        'milk', 'saint', 'honore', 'pastry', 'business', 'boyfriend', 'time', 'cross', 'mind', 'try', 'think', 'year', 'try', 'hkstyle', 'milk', 'tea', 'hook', 'think', 'day', 'week', 'milk', 'tea', 'sugar', 'i', 'zhong', 'gang', 'milk', 'day', 'ice', 'ice', 'etc', 'note', 'try', 'crispy', 'roast', 'pork', 'bun', 'name', 'pork', 'bun', 'crispy', 'roast', 'pork', 'bun''hkstyle', 'sure', 'memorable', 'decide', 'watch', 'good', 'good', 'hkstyle', 'certain', 'lady', 'enough', 'much', 'side', 'wrong', 'roast', 'decent', 'try'\n",
              "                                                                                                                                                                                                                                                                          ...                                                                                                                                                                                                                                                                  \n",
              "67359                                                                                                                                                                                                                                                                                                                                                                                   'coffee', 'shop', 'work', 'price', 'variety', 'beverage', 'cold', 'choose', 'selection', 'something', 'eat''cute', 'low', 'nice', 'hot', 'seem', 'nice'\n",
              "67360                                                                                                                                                                                                                                                                                                                                                                                                    'cash', 'coffee', 'spot', 'cozy', 'spot', 'coffee', 'medium', 'latte', 'get', 'time', 'part''nice', 'invite', 'pick', 'ordered', 'bad'\n",
              "67361                                                                                                                                                                                                                                                                                                                                                                                         'hand', 'ice', 'coffee', 'terrific', 'guy', 'counter', 'try', 'apartment', 'bella', 'vista', 'place', 'vote', 'apartment', 'good''freak', 'close'\n",
              "67362                                                                                                                                                'place', 'chill', 'corner', 'coffee', 'shop', 'baristaowner', 'neighborhood', 'order', 'tea', 'afternoon', 'jerk', 'get', 'anyway', 'say', 'day', 'judgment', 'pushiness', 'pastry', 'nothing', 'complain', 'chair''great', 'super', 'nonpretentious', 'friendly', 'iced', 'free', 'wifi', 'im', 'know', 'im', 'cheap', 'comfortable', 'awesome', 'great', 'little', 'comfortable', 'much'\n",
              "67363                                                                                                                                                                                                                                                                                                                                                                                                                     'neighborhood', 'gem', 'owner', 'guy', 'place', 'spot', 'hang', 'work', 'coffee''super', 'nice', 'great', 'delicious'\n",
              "Name: nouns_adjec, Length: 65698, dtype: object"
            ]
          },
          "metadata": {},
          "execution_count": 22
        }
      ]
    },
    {
      "cell_type": "code",
      "source": [
        "practice_set['nouns_adjec'] = practice_set['nouns_adjec'].astype(str).apply(lambda x: x.replace('\"', ''))"
      ],
      "metadata": {
        "id": "dppodKn6FV02",
        "colab": {
          "base_uri": "https://localhost:8080/"
        },
        "outputId": "eecc6f3a-93b2-4711-9298-9bc4db0518a0"
      },
      "execution_count": 41,
      "outputs": [
        {
          "output_type": "stream",
          "name": "stderr",
          "text": [
            "<ipython-input-41-4933b39ab411>:1: SettingWithCopyWarning: \n",
            "A value is trying to be set on a copy of a slice from a DataFrame.\n",
            "Try using .loc[row_indexer,col_indexer] = value instead\n",
            "\n",
            "See the caveats in the documentation: https://pandas.pydata.org/pandas-docs/stable/user_guide/indexing.html#returning-a-view-versus-a-copy\n",
            "  practice_set['nouns_adjec'] = practice_set['nouns_adjec'].astype(str).apply(lambda x: x.replace('\"', ''))\n"
          ]
        }
      ]
    },
    {
      "cell_type": "code",
      "source": [
        "practice_set['nouns_adjec'] = practice_set['nouns_adjec'].apply(lambda x: x.replace('[', ''))\n",
        "practice_set['nouns_adjec'] = practice_set['nouns_adjec'].apply(lambda x: x.replace(']', ''))\n",
        "practice_set['nouns_adjec'] = practice_set['nouns_adjec'].apply(lambda x: x.replace(',', ''))\n",
        "practice_set['nouns_adjec'] =practice_set['nouns_adjec'].apply(lambda x: x.replace(\", '\", \"'\"))\n",
        "practice_set['nouns_adjec'] =practice_set['nouns_adjec'].apply(lambda x: x.replace(\"'\", \"\"))"
      ],
      "metadata": {
        "id": "uWpmuHM9kFBz",
        "colab": {
          "base_uri": "https://localhost:8080/"
        },
        "outputId": "42c3a9f0-9b1e-4906-b991-a104b0fe6cab"
      },
      "execution_count": 42,
      "outputs": [
        {
          "output_type": "stream",
          "name": "stderr",
          "text": [
            "<ipython-input-42-63d9651a53b3>:1: SettingWithCopyWarning: \n",
            "A value is trying to be set on a copy of a slice from a DataFrame.\n",
            "Try using .loc[row_indexer,col_indexer] = value instead\n",
            "\n",
            "See the caveats in the documentation: https://pandas.pydata.org/pandas-docs/stable/user_guide/indexing.html#returning-a-view-versus-a-copy\n",
            "  practice_set['nouns_adjec'] = practice_set['nouns_adjec'].apply(lambda x: x.replace('[', ''))\n",
            "<ipython-input-42-63d9651a53b3>:2: SettingWithCopyWarning: \n",
            "A value is trying to be set on a copy of a slice from a DataFrame.\n",
            "Try using .loc[row_indexer,col_indexer] = value instead\n",
            "\n",
            "See the caveats in the documentation: https://pandas.pydata.org/pandas-docs/stable/user_guide/indexing.html#returning-a-view-versus-a-copy\n",
            "  practice_set['nouns_adjec'] = practice_set['nouns_adjec'].apply(lambda x: x.replace(']', ''))\n",
            "<ipython-input-42-63d9651a53b3>:3: SettingWithCopyWarning: \n",
            "A value is trying to be set on a copy of a slice from a DataFrame.\n",
            "Try using .loc[row_indexer,col_indexer] = value instead\n",
            "\n",
            "See the caveats in the documentation: https://pandas.pydata.org/pandas-docs/stable/user_guide/indexing.html#returning-a-view-versus-a-copy\n",
            "  practice_set['nouns_adjec'] = practice_set['nouns_adjec'].apply(lambda x: x.replace(',', ''))\n",
            "<ipython-input-42-63d9651a53b3>:4: SettingWithCopyWarning: \n",
            "A value is trying to be set on a copy of a slice from a DataFrame.\n",
            "Try using .loc[row_indexer,col_indexer] = value instead\n",
            "\n",
            "See the caveats in the documentation: https://pandas.pydata.org/pandas-docs/stable/user_guide/indexing.html#returning-a-view-versus-a-copy\n",
            "  practice_set['nouns_adjec'] =practice_set['nouns_adjec'].apply(lambda x: x.replace(\", '\", \"'\"))\n",
            "<ipython-input-42-63d9651a53b3>:5: SettingWithCopyWarning: \n",
            "A value is trying to be set on a copy of a slice from a DataFrame.\n",
            "Try using .loc[row_indexer,col_indexer] = value instead\n",
            "\n",
            "See the caveats in the documentation: https://pandas.pydata.org/pandas-docs/stable/user_guide/indexing.html#returning-a-view-versus-a-copy\n",
            "  practice_set['nouns_adjec'] =practice_set['nouns_adjec'].apply(lambda x: x.replace(\"'\", \"\"))\n"
          ]
        }
      ]
    },
    {
      "cell_type": "code",
      "source": [
        "#create the 'top' restaurants based off of the stars distribution in notebook 1 \n",
        "top_rest_cv= practice_set[(practice_set['stars_y'] >= 3)]"
      ],
      "metadata": {
        "id": "Ab5FKZfjgiIL"
      },
      "execution_count": 43,
      "outputs": []
    },
    {
      "cell_type": "code",
      "source": [
        "top_rest_cv"
      ],
      "metadata": {
        "colab": {
          "base_uri": "https://localhost:8080/",
          "height": 607
        },
        "id": "HkWFSBeYhAUd",
        "outputId": "6d461931-63b4-47a7-ac32-1c5dd68442ba"
      },
      "execution_count": 44,
      "outputs": [
        {
          "output_type": "execute_result",
          "data": {
            "text/plain": [
              "                                                                                                                                                                                                                                                                                                                                             nouns_adjec  \\\n",
              "0                                                                                                                                                 heart philadelphia female cashier pastry show display case evening sesame ball paste rice ball bai tang gao areanice little bakery chinatown flirtatious adorn fill bean glutinous similar place worth   \n",
              "1                                                                                                     bakery variety bun pastry bun mung coconut stuff egg tart dozen price standard thing service serve coffee tea couple group guy chillin corner debate something place stock bun townchinatown decent beanfilled bun free good table old table great   \n",
              "2                                                                                                                                                                                                                                        kind service everyone treat treat judgement theyre favoritedelightful chinatown clean happy delicious ton sweet   \n",
              "3                                                                                                                                                                                                                                                                                        order graduation event staff niceniece perfect come future good   \n",
              "4      milk saint honore pastry business boyfriend time cross mind try think year try hkstyle milk tea hook think day week milk tea sugar i zhong gang milk day ice ice etc note try crispy roast pork bun name pork bun crispy roast pork bunhkstyle sure memorable decide watch good good hkstyle certain lady enough much side wrong roast decent try   \n",
              "...                                                                                                                                                                                                                                                                                                                                                  ...   \n",
              "67359                                                                                                                                                                                                                                             coffee shop work price variety beverage cold choose selection something eatcute low nice hot seem nice   \n",
              "67360                                                                                                                                                                                                                                                           cash coffee spot cozy spot coffee medium latte get time partnice invite pick ordered bad   \n",
              "67361                                                                                                                                                                                                                                                hand ice coffee terrific guy counter try apartment bella vista place vote apartment goodfreak close   \n",
              "67362                                                                         place chill corner coffee shop baristaowner neighborhood order tea afternoon jerk get anyway say day judgment pushiness pastry nothing complain chairgreat super nonpretentious friendly iced free wifi im know im cheap comfortable awesome great little comfortable much   \n",
              "67363                                                                                                                                                                                                                                                                   neighborhood gem owner guy place spot hang work coffeesuper nice great delicious   \n",
              "\n",
              "       stars_y  \n",
              "0            4  \n",
              "1            4  \n",
              "2            5  \n",
              "3            5  \n",
              "4            4  \n",
              "...        ...  \n",
              "67359        5  \n",
              "67360        3  \n",
              "67361        5  \n",
              "67362        5  \n",
              "67363        4  \n",
              "\n",
              "[54135 rows x 2 columns]"
            ],
            "text/html": [
              "\n",
              "  <div id=\"df-21b04e24-0637-4a92-8446-4a2c21a451ec\">\n",
              "    <div class=\"colab-df-container\">\n",
              "      <div>\n",
              "<style scoped>\n",
              "    .dataframe tbody tr th:only-of-type {\n",
              "        vertical-align: middle;\n",
              "    }\n",
              "\n",
              "    .dataframe tbody tr th {\n",
              "        vertical-align: top;\n",
              "    }\n",
              "\n",
              "    .dataframe thead th {\n",
              "        text-align: right;\n",
              "    }\n",
              "</style>\n",
              "<table border=\"1\" class=\"dataframe\">\n",
              "  <thead>\n",
              "    <tr style=\"text-align: right;\">\n",
              "      <th></th>\n",
              "      <th>nouns_adjec</th>\n",
              "      <th>stars_y</th>\n",
              "    </tr>\n",
              "  </thead>\n",
              "  <tbody>\n",
              "    <tr>\n",
              "      <th>0</th>\n",
              "      <td>heart philadelphia female cashier pastry show display case evening sesame ball paste rice ball bai tang gao areanice little bakery chinatown flirtatious adorn fill bean glutinous similar place worth</td>\n",
              "      <td>4</td>\n",
              "    </tr>\n",
              "    <tr>\n",
              "      <th>1</th>\n",
              "      <td>bakery variety bun pastry bun mung coconut stuff egg tart dozen price standard thing service serve coffee tea couple group guy chillin corner debate something place stock bun townchinatown decent beanfilled bun free good table old table great</td>\n",
              "      <td>4</td>\n",
              "    </tr>\n",
              "    <tr>\n",
              "      <th>2</th>\n",
              "      <td>kind service everyone treat treat judgement theyre favoritedelightful chinatown clean happy delicious ton sweet</td>\n",
              "      <td>5</td>\n",
              "    </tr>\n",
              "    <tr>\n",
              "      <th>3</th>\n",
              "      <td>order graduation event staff niceniece perfect come future good</td>\n",
              "      <td>5</td>\n",
              "    </tr>\n",
              "    <tr>\n",
              "      <th>4</th>\n",
              "      <td>milk saint honore pastry business boyfriend time cross mind try think year try hkstyle milk tea hook think day week milk tea sugar i zhong gang milk day ice ice etc note try crispy roast pork bun name pork bun crispy roast pork bunhkstyle sure memorable decide watch good good hkstyle certain lady enough much side wrong roast decent try</td>\n",
              "      <td>4</td>\n",
              "    </tr>\n",
              "    <tr>\n",
              "      <th>...</th>\n",
              "      <td>...</td>\n",
              "      <td>...</td>\n",
              "    </tr>\n",
              "    <tr>\n",
              "      <th>67359</th>\n",
              "      <td>coffee shop work price variety beverage cold choose selection something eatcute low nice hot seem nice</td>\n",
              "      <td>5</td>\n",
              "    </tr>\n",
              "    <tr>\n",
              "      <th>67360</th>\n",
              "      <td>cash coffee spot cozy spot coffee medium latte get time partnice invite pick ordered bad</td>\n",
              "      <td>3</td>\n",
              "    </tr>\n",
              "    <tr>\n",
              "      <th>67361</th>\n",
              "      <td>hand ice coffee terrific guy counter try apartment bella vista place vote apartment goodfreak close</td>\n",
              "      <td>5</td>\n",
              "    </tr>\n",
              "    <tr>\n",
              "      <th>67362</th>\n",
              "      <td>place chill corner coffee shop baristaowner neighborhood order tea afternoon jerk get anyway say day judgment pushiness pastry nothing complain chairgreat super nonpretentious friendly iced free wifi im know im cheap comfortable awesome great little comfortable much</td>\n",
              "      <td>5</td>\n",
              "    </tr>\n",
              "    <tr>\n",
              "      <th>67363</th>\n",
              "      <td>neighborhood gem owner guy place spot hang work coffeesuper nice great delicious</td>\n",
              "      <td>4</td>\n",
              "    </tr>\n",
              "  </tbody>\n",
              "</table>\n",
              "<p>54135 rows × 2 columns</p>\n",
              "</div>\n",
              "      <button class=\"colab-df-convert\" onclick=\"convertToInteractive('df-21b04e24-0637-4a92-8446-4a2c21a451ec')\"\n",
              "              title=\"Convert this dataframe to an interactive table.\"\n",
              "              style=\"display:none;\">\n",
              "        \n",
              "  <svg xmlns=\"http://www.w3.org/2000/svg\" height=\"24px\"viewBox=\"0 0 24 24\"\n",
              "       width=\"24px\">\n",
              "    <path d=\"M0 0h24v24H0V0z\" fill=\"none\"/>\n",
              "    <path d=\"M18.56 5.44l.94 2.06.94-2.06 2.06-.94-2.06-.94-.94-2.06-.94 2.06-2.06.94zm-11 1L8.5 8.5l.94-2.06 2.06-.94-2.06-.94L8.5 2.5l-.94 2.06-2.06.94zm10 10l.94 2.06.94-2.06 2.06-.94-2.06-.94-.94-2.06-.94 2.06-2.06.94z\"/><path d=\"M17.41 7.96l-1.37-1.37c-.4-.4-.92-.59-1.43-.59-.52 0-1.04.2-1.43.59L10.3 9.45l-7.72 7.72c-.78.78-.78 2.05 0 2.83L4 21.41c.39.39.9.59 1.41.59.51 0 1.02-.2 1.41-.59l7.78-7.78 2.81-2.81c.8-.78.8-2.07 0-2.86zM5.41 20L4 18.59l7.72-7.72 1.47 1.35L5.41 20z\"/>\n",
              "  </svg>\n",
              "      </button>\n",
              "      \n",
              "  <style>\n",
              "    .colab-df-container {\n",
              "      display:flex;\n",
              "      flex-wrap:wrap;\n",
              "      gap: 12px;\n",
              "    }\n",
              "\n",
              "    .colab-df-convert {\n",
              "      background-color: #E8F0FE;\n",
              "      border: none;\n",
              "      border-radius: 50%;\n",
              "      cursor: pointer;\n",
              "      display: none;\n",
              "      fill: #1967D2;\n",
              "      height: 32px;\n",
              "      padding: 0 0 0 0;\n",
              "      width: 32px;\n",
              "    }\n",
              "\n",
              "    .colab-df-convert:hover {\n",
              "      background-color: #E2EBFA;\n",
              "      box-shadow: 0px 1px 2px rgba(60, 64, 67, 0.3), 0px 1px 3px 1px rgba(60, 64, 67, 0.15);\n",
              "      fill: #174EA6;\n",
              "    }\n",
              "\n",
              "    [theme=dark] .colab-df-convert {\n",
              "      background-color: #3B4455;\n",
              "      fill: #D2E3FC;\n",
              "    }\n",
              "\n",
              "    [theme=dark] .colab-df-convert:hover {\n",
              "      background-color: #434B5C;\n",
              "      box-shadow: 0px 1px 3px 1px rgba(0, 0, 0, 0.15);\n",
              "      filter: drop-shadow(0px 1px 2px rgba(0, 0, 0, 0.3));\n",
              "      fill: #FFFFFF;\n",
              "    }\n",
              "  </style>\n",
              "\n",
              "      <script>\n",
              "        const buttonEl =\n",
              "          document.querySelector('#df-21b04e24-0637-4a92-8446-4a2c21a451ec button.colab-df-convert');\n",
              "        buttonEl.style.display =\n",
              "          google.colab.kernel.accessAllowed ? 'block' : 'none';\n",
              "\n",
              "        async function convertToInteractive(key) {\n",
              "          const element = document.querySelector('#df-21b04e24-0637-4a92-8446-4a2c21a451ec');\n",
              "          const dataTable =\n",
              "            await google.colab.kernel.invokeFunction('convertToInteractive',\n",
              "                                                     [key], {});\n",
              "          if (!dataTable) return;\n",
              "\n",
              "          const docLinkHtml = 'Like what you see? Visit the ' +\n",
              "            '<a target=\"_blank\" href=https://colab.research.google.com/notebooks/data_table.ipynb>data table notebook</a>'\n",
              "            + ' to learn more about interactive tables.';\n",
              "          element.innerHTML = '';\n",
              "          dataTable['output_type'] = 'display_data';\n",
              "          await google.colab.output.renderOutput(dataTable, element);\n",
              "          const docLink = document.createElement('div');\n",
              "          docLink.innerHTML = docLinkHtml;\n",
              "          element.appendChild(docLink);\n",
              "        }\n",
              "      </script>\n",
              "    </div>\n",
              "  </div>\n",
              "  "
            ]
          },
          "metadata": {},
          "execution_count": 44
        }
      ]
    },
    {
      "cell_type": "markdown",
      "source": [
        "Model with CV "
      ],
      "metadata": {
        "id": "Do3PZzHTNNJ4"
      }
    },
    {
      "cell_type": "code",
      "source": [
        "import matplotlib.pyplot as plt\n",
        "from sklearn.feature_extraction.text import CountVectorizer\n",
        "#set X to encompass all tweet_text \n",
        "X=None\n",
        "X = top_rest_cv['nouns_adjec']\n",
        "\n",
        "\n",
        "#use the CV classifier to pass the column without a tokenizer, preprocessor and set lowercase=False \n",
        "cv = CountVectorizer(tokenizer=None,\n",
        "                             preprocessor=None,\n",
        "                             lowercase=False)\n",
        "#creates a sparse matrix\n",
        "words = cv.fit_transform(X)\n",
        "#add all the values into a variable called sum_words\n",
        "sum_words = words.sum(axis=0)\n",
        "\n",
        "#for every word in cv.vocabulary.items (which returns a list), add it to the unique count\n",
        "#gives off a list of tuples' (item',count) that resembles a pd\n",
        "words_freq = [(word, sum_words[0, i]) for word, i in cv.vocabulary_.items()]\n",
        "#sort by ascending order\n",
        "words_freq = sorted(words_freq, key = lambda x: x[1], reverse = True)\n",
        "#create the df\n",
        "frequency = pd.DataFrame(words_freq, columns=['word', 'freq'])\n",
        "#use iloc next time\n",
        "frequency.head(30).plot(x='word', y='freq', kind='bar', figsize=(15, 7), color = 'red')\n",
        "plt.xlabel(\"Word\")\n",
        "plt.ylabel(\"Counts of Word\", labelpad=14)\n",
        "plt.title(\"Word analysis through Count Vectorization\", y=1.02)"
      ],
      "metadata": {
        "colab": {
          "base_uri": "https://localhost:8080/",
          "height": 484
        },
        "id": "IZmgGs4BYfKg",
        "outputId": "7e740c44-a374-4238-b301-f4c79774b187"
      },
      "execution_count": 45,
      "outputs": [
        {
          "output_type": "execute_result",
          "data": {
            "text/plain": [
              "Text(0.5, 1.02, 'Word analysis through Count Vectorization')"
            ]
          },
          "metadata": {},
          "execution_count": 45
        },
        {
          "output_type": "display_data",
          "data": {
            "text/plain": [
              "<Figure size 1080x504 with 1 Axes>"
            ],
            "image/png": "[encoded data removed]"
          },
          "metadata": {
            "needs_background": "light"
          }
        }
      ]
    },
    {
      "cell_type": "code",
      "source": [
        "low_rest_cv= practice_set[(practice_set['stars_y'] <= 3)]"
      ],
      "metadata": {
        "id": "VgBmnnfKiG_f"
      },
      "execution_count": 46,
      "outputs": []
    },
    {
      "cell_type": "code",
      "source": [
        "import matplotlib.pyplot as plt\n",
        "from sklearn.feature_extraction.text import CountVectorizer\n",
        "#set X to encompass all tweet_text \n",
        "X=None\n",
        "\n",
        "sum_words= None\n",
        "words_freq = None\n",
        "frequency = None\n",
        "X = low_rest_cv['nouns_adjec']\n",
        "\n",
        "\n",
        "#use the CV classifier to pass the column without a tokenizer, preprocessor and set lowercase=False \n",
        "cv = CountVectorizer(tokenizer=None,\n",
        "                             preprocessor=None,\n",
        "                             lowercase=False)\n",
        "#creates a sparse matrix\n",
        "words = cv.fit_transform(X)\n",
        "#add all the values into a variable called sum_words\n",
        "sum_words = words.sum(axis=0)\n",
        "\n",
        "#for every word in cv.vocabulary.items (which returns a list), add it to the unique count\n",
        "#gives off a list of tuples' (item',count) that resembles a pd\n",
        "words_freq = [(word, sum_words[0, i]) for word, i in cv.vocabulary_.items()]\n",
        "#sort by ascending order\n",
        "words_freq = sorted(words_freq, key = lambda x: x[1], reverse = True)\n",
        "#create the df\n",
        "frequency = pd.DataFrame(words_freq, columns=['word', 'freq'])\n",
        "#use iloc next time\n",
        "frequency.head(30).plot(x='word', y='freq', kind='bar', figsize=(15, 7), color = 'red')\n",
        "plt.xlabel(\"Word\")\n",
        "plt.ylabel(\"Counts of Word\", labelpad=14)\n",
        "plt.title(\"Word analysis through Count Vectorization\", y=1.02)"
      ],
      "metadata": {
        "colab": {
          "base_uri": "https://localhost:8080/",
          "height": 484
        },
        "id": "XJgEVkomho6m",
        "outputId": "2c3ba1a9-6ba9-4267-8aca-89bd381583c9"
      },
      "execution_count": 47,
      "outputs": [
        {
          "output_type": "execute_result",
          "data": {
            "text/plain": [
              "Text(0.5, 1.02, 'Word analysis through Count Vectorization')"
            ]
          },
          "metadata": {},
          "execution_count": 47
        },
        {
          "output_type": "display_data",
          "data": {
            "text/plain": [
              "<Figure size 1080x504 with 1 Axes>"
            ],
            "image/png": "[encoded data removed]"
          },
          "metadata": {
            "needs_background": "light"
          }
        }
      ]
    },
    {
      "cell_type": "markdown",
      "source": [
        "Model with W2V"
      ],
      "metadata": {
        "id": "5XKJ2Yv8NRHJ"
      }
    },
    {
      "cell_type": "code",
      "source": [
        "#import gensim\n",
        "import nltk\n",
        "from gensim.models import Word2Vec, KeyedVectors\n"
      ],
      "metadata": {
        "id": "NllTx_scMjnC"
      },
      "execution_count": 48,
      "outputs": []
    },
    {
      "cell_type": "code",
      "source": [
        "nltk.download('punkt')"
      ],
      "metadata": {
        "id": "kZth_U5mM3-c",
        "colab": {
          "base_uri": "https://localhost:8080/"
        },
        "outputId": "b4886069-a6f9-4697-8226-50ac8fedc318"
      },
      "execution_count": 49,
      "outputs": [
        {
          "output_type": "stream",
          "name": "stderr",
          "text": [
            "[nltk_data] Downloading package punkt to /root/nltk_data...\n",
            "[nltk_data]   Unzipping tokenizers/punkt.zip.\n"
          ]
        },
        {
          "output_type": "execute_result",
          "data": {
            "text/plain": [
              "True"
            ]
          },
          "metadata": {},
          "execution_count": 49
        }
      ]
    },
    {
      "cell_type": "code",
      "source": [
        "practice_set['nouns_adjec']"
      ],
      "metadata": {
        "colab": {
          "base_uri": "https://localhost:8080/"
        },
        "id": "NVWWxb7Mfmc9",
        "outputId": "9a3fb938-6f70-4dcb-dff8-f2fb6ae35a87"
      },
      "execution_count": 50,
      "outputs": [
        {
          "output_type": "execute_result",
          "data": {
            "text/plain": [
              "0                                                                                                                                                   heart philadelphia female cashier pastry show display case evening sesame ball paste rice ball bai tang gao areanice little bakery chinatown flirtatious adorn fill bean glutinous similar place worth\n",
              "1                                                                                                       bakery variety bun pastry bun mung coconut stuff egg tart dozen price standard thing service serve coffee tea couple group guy chillin corner debate something place stock bun townchinatown decent beanfilled bun free good table old table great\n",
              "2                                                                                                                                                                                                                                          kind service everyone treat treat judgement theyre favoritedelightful chinatown clean happy delicious ton sweet\n",
              "3                                                                                                                                                                                                                                                                                          order graduation event staff niceniece perfect come future good\n",
              "4        milk saint honore pastry business boyfriend time cross mind try think year try hkstyle milk tea hook think day week milk tea sugar i zhong gang milk day ice ice etc note try crispy roast pork bun name pork bun crispy roast pork bunhkstyle sure memorable decide watch good good hkstyle certain lady enough much side wrong roast decent try\n",
              "                                                                                                                                                                               ...                                                                                                                                                                        \n",
              "67359                                                                                                                                                                                                                                               coffee shop work price variety beverage cold choose selection something eatcute low nice hot seem nice\n",
              "67360                                                                                                                                                                                                                                                             cash coffee spot cozy spot coffee medium latte get time partnice invite pick ordered bad\n",
              "67361                                                                                                                                                                                                                                                  hand ice coffee terrific guy counter try apartment bella vista place vote apartment goodfreak close\n",
              "67362                                                                           place chill corner coffee shop baristaowner neighborhood order tea afternoon jerk get anyway say day judgment pushiness pastry nothing complain chairgreat super nonpretentious friendly iced free wifi im know im cheap comfortable awesome great little comfortable much\n",
              "67363                                                                                                                                                                                                                                                                     neighborhood gem owner guy place spot hang work coffeesuper nice great delicious\n",
              "Name: nouns_adjec, Length: 65698, dtype: object"
            ]
          },
          "metadata": {},
          "execution_count": 50
        }
      ]
    },
    {
      "cell_type": "code",
      "source": [
        "from nltk import word_tokenize\n",
        "nltk.download('punkt') "
      ],
      "metadata": {
        "id": "3r_ZhU_9sWMX",
        "colab": {
          "base_uri": "https://localhost:8080/"
        },
        "outputId": "0c920a6d-c722-4bff-8c51-4e541508a964"
      },
      "execution_count": 51,
      "outputs": [
        {
          "output_type": "stream",
          "name": "stderr",
          "text": [
            "[nltk_data] Downloading package punkt to /root/nltk_data...\n",
            "[nltk_data]   Package punkt is already up-to-date!\n"
          ]
        },
        {
          "output_type": "execute_result",
          "data": {
            "text/plain": [
              "True"
            ]
          },
          "metadata": {},
          "execution_count": 51
        }
      ]
    },
    {
      "cell_type": "code",
      "source": [
        "practice_set['nouns_adjec']= practice_set['nouns_adjec'].astype(str)"
      ],
      "metadata": {
        "colab": {
          "base_uri": "https://localhost:8080/"
        },
        "id": "17Vs6HunhHOJ",
        "outputId": "acc3095d-49db-4bf6-97e3-4f94c1f3b484"
      },
      "execution_count": 52,
      "outputs": [
        {
          "output_type": "stream",
          "name": "stderr",
          "text": [
            "<ipython-input-52-7285264f639a>:1: SettingWithCopyWarning: \n",
            "A value is trying to be set on a copy of a slice from a DataFrame.\n",
            "Try using .loc[row_indexer,col_indexer] = value instead\n",
            "\n",
            "See the caveats in the documentation: https://pandas.pydata.org/pandas-docs/stable/user_guide/indexing.html#returning-a-view-versus-a-copy\n",
            "  practice_set['nouns_adjec']= practice_set['nouns_adjec'].astype(str)\n"
          ]
        }
      ]
    },
    {
      "cell_type": "code",
      "source": [
        "corpus =  practice_set['nouns_adjec'].map(word_tokenize)\n"
      ],
      "metadata": {
        "id": "m4DUxWvvPJhC"
      },
      "execution_count": 53,
      "outputs": []
    },
    {
      "cell_type": "code",
      "source": [
        "corpus"
      ],
      "metadata": {
        "id": "nYIEeJJJw7C4",
        "outputId": "76a6b9e5-1280-45b2-910d-103d26118fd8",
        "colab": {
          "base_uri": "https://localhost:8080/"
        }
      },
      "execution_count": 54,
      "outputs": [
        {
          "output_type": "execute_result",
          "data": {
            "text/plain": [
              "0                                                                                                                                                                                  [heart, philadelphia, female, cashier, pastry, show, display, case, evening, sesame, ball, paste, rice, ball, bai, tang, gao, areanice, little, bakery, chinatown, flirtatious, adorn, fill, bean, glutinous, similar, place, worth]\n",
              "1                                                                                                                             [bakery, variety, bun, pastry, bun, mung, coconut, stuff, egg, tart, dozen, price, standard, thing, service, serve, coffee, tea, couple, group, guy, chillin, corner, debate, something, place, stock, bun, townchinatown, decent, beanfilled, bun, free, good, table, old, table, great]\n",
              "2                                                                                                                                                                                                                                                                                        [kind, service, everyone, treat, treat, judgement, theyre, favoritedelightful, chinatown, clean, happy, delicious, ton, sweet]\n",
              "3                                                                                                                                                                                                                                                                                                                                             [order, graduation, event, staff, niceniece, perfect, come, future, good]\n",
              "4        [milk, saint, honore, pastry, business, boyfriend, time, cross, mind, try, think, year, try, hkstyle, milk, tea, hook, think, day, week, milk, tea, sugar, i, zhong, gang, milk, day, ice, ice, etc, note, try, crispy, roast, pork, bun, name, pork, bun, crispy, roast, pork, bunhkstyle, sure, memorable, decide, watch, good, good, hkstyle, certain, lady, enough, much, side, wrong, roast, decent, try]\n",
              "                                                                                                                                                                                                              ...                                                                                                                                                                                                      \n",
              "67359                                                                                                                                                                                                                                                                                           [coffee, shop, work, price, variety, beverage, cold, choose, selection, something, eatcute, low, nice, hot, seem, nice]\n",
              "67360                                                                                                                                                                                                                                                                                                          [cash, coffee, spot, cozy, spot, coffee, medium, latte, get, time, partnice, invite, pick, ordered, bad]\n",
              "67361                                                                                                                                                                                                                                                                                               [hand, ice, coffee, terrific, guy, counter, try, apartment, bella, vista, place, vote, apartment, goodfreak, close]\n",
              "67362                                                                                                  [place, chill, corner, coffee, shop, baristaowner, neighborhood, order, tea, afternoon, jerk, get, anyway, say, day, judgment, pushiness, pastry, nothing, complain, chairgreat, super, nonpretentious, friendly, iced, free, wifi, im, know, im, cheap, comfortable, awesome, great, little, comfortable, much]\n",
              "67363                                                                                                                                                                                                                                                                                                                     [neighborhood, gem, owner, guy, place, spot, hang, work, coffeesuper, nice, great, delicious]\n",
              "Name: nouns_adjec, Length: 65698, dtype: object"
            ]
          },
          "metadata": {},
          "execution_count": 54
        }
      ]
    },
    {
      "cell_type": "code",
      "source": [
        "from gensim.models import Phrases\n",
        "\n",
        "# Train a bigram detector.\n",
        "bigram_transformer = Phrases(corpus)\n",
        "\n",
        "# Apply the trained MWE detector to a corpus, using the result to train a Word2vec model.\n",
        "bi_gram_model = Word2Vec(bigram_transformer[corpus], min_count=1)"
      ],
      "metadata": {
        "colab": {
          "base_uri": "https://localhost:8080/"
        },
        "id": "ryJOoIKZN8PU",
        "outputId": "e72cdf8d-4c1f-4241-ccfc-402a2d5b8f7a"
      },
      "execution_count": 58,
      "outputs": [
        {
          "output_type": "stream",
          "name": "stderr",
          "text": [
            "/usr/local/lib/python3.8/dist-packages/gensim/models/phrases.py:598: UserWarning: For a faster implementation, use the gensim.models.phrases.Phraser class\n",
            "  warnings.warn(\"For a faster implementation, use the gensim.models.phrases.Phraser class\")\n"
          ]
        }
      ]
    },
    {
      "cell_type": "code",
      "source": [
        "list_model_manager= bi_gram_model.most_similar('waiteress')\n",
        "list_model_manager\n",
        "word = []\n",
        "frequency = []\n",
        "\n",
        "for i in range(len(list_model_manager)):\n",
        "  word.append(list_model_manager[i][0])\n",
        "  frequency.append(list_model_manager[i][1])\n",
        "\n",
        "\n",
        "plt.barh(word, frequency, color='r')\n",
        "\n",
        "plt.xlabel(\"Cosine Similarity\")\n",
        "plt.ylabel(\"Words\", labelpad=14)\n",
        "plt.title(\"n gram associated with Waitress\", y=1.02)\n",
        "plt.show()\n"
      ],
      "metadata": {
        "colab": {
          "base_uri": "https://localhost:8080/",
          "height": 355
        },
        "id": "sGqprXAJPAhc",
        "outputId": "af82a373-9fee-4691-98e9-691ad585abcf"
      },
      "execution_count": 67,
      "outputs": [
        {
          "output_type": "stream",
          "name": "stderr",
          "text": [
            "<ipython-input-67-df7f94ea0282>:1: DeprecationWarning: Call to deprecated `most_similar` (Method will be removed in 4.0.0, use self.wv.most_similar() instead).\n",
            "  list_model_manager= bi_gram_model.most_similar('waiteress')\n"
          ]
        },
        {
          "output_type": "display_data",
          "data": {
            "text/plain": [
              "<Figure size 432x288 with 1 Axes>"
            ],
            "image/png": "[encoded data removed]"
          },
          "metadata": {
            "needs_background": "light"
          }
        }
      ]
    },
    {
      "cell_type": "code",
      "source": [
        "#min count = 1 for freq \n",
        "#vectorsize = 100 \n",
        "#windows = amount it will go left and right \n",
        "model = Word2Vec(corpus, size=300, min_count = 1, window = 10)"
      ],
      "metadata": {
        "id": "D_0Uvq4_PlQh"
      },
      "execution_count": 55,
      "outputs": []
    },
    {
      "cell_type": "code",
      "source": [
        "vocabulary = model.wv.vocab"
      ],
      "metadata": {
        "id": "kQnxQGGjRsKQ"
      },
      "execution_count": 56,
      "outputs": []
    },
    {
      "cell_type": "code",
      "source": [
        "#vocabulary\n"
      ],
      "metadata": {
        "id": "VA0OXYPISSqM"
      },
      "execution_count": 68,
      "outputs": []
    },
    {
      "cell_type": "code",
      "source": [
        "model1 = model.wv"
      ],
      "metadata": {
        "id": "jIhF_UtBUc9Q"
      },
      "execution_count": 69,
      "outputs": []
    },
    {
      "cell_type": "code",
      "source": [
        "list_model_manager= model1.most_similar('waiter')\n",
        "list_model_manager\n",
        "word = []\n",
        "frequency = []\n",
        "\n",
        "for i in range(len(list_model_manager)):\n",
        "  word.append(list_model_manager[i][0])\n",
        "  frequency.append(list_model_manager[i][1])\n",
        "\n",
        "\n",
        "plt.barh(word, frequency, color='r')\n",
        "\n",
        "plt.xlabel(\"Cosine Similarity\")\n",
        "plt.ylabel(\"Words\", labelpad=14)\n",
        "plt.title(\"Words associated with Waiter\", y=1.02)\n",
        "plt.show()\n"
      ],
      "metadata": {
        "colab": {
          "base_uri": "https://localhost:8080/",
          "height": 300
        },
        "id": "sheUkEmV21jk",
        "outputId": "e6149e0c-8e64-4f65-d8c0-ef3b98df0876"
      },
      "execution_count": 70,
      "outputs": [
        {
          "output_type": "display_data",
          "data": {
            "text/plain": [
              "<Figure size 432x288 with 1 Axes>"
            ],
            "image/png": "[encoded data removed]"
          },
          "metadata": {
            "needs_background": "light"
          }
        }
      ]
    },
    {
      "cell_type": "code",
      "source": [
        "list_model_flavor= model1.most_similar(\"flavor\")\n",
        "\n",
        "word = []\n",
        "frequency = []\n",
        "\n",
        "for i in range(len(list_model_flavor)):\n",
        "  word.append(list_model_flavor[i][0])\n",
        "  frequency.append(list_model_flavor[i][1])\n",
        "\n",
        "\n",
        "plt.barh(word, frequency, color='r')\n",
        "plt.xlabel(\"Cosine Similarity\")\n",
        "plt.ylabel(\"Words\", labelpad=14)\n",
        "plt.title(\"Words associated with Flavor\", y=1.02)\n",
        "plt.show()"
      ],
      "metadata": {
        "colab": {
          "base_uri": "https://localhost:8080/",
          "height": 300
        },
        "id": "D4sE4c_3zOzx",
        "outputId": "37d4dfa9-ab25-49ce-9186-36f9e3139811"
      },
      "execution_count": 71,
      "outputs": [
        {
          "output_type": "display_data",
          "data": {
            "text/plain": [
              "<Figure size 432x288 with 1 Axes>"
            ],
            "image/png": "[encoded data removed]"
          },
          "metadata": {
            "needs_background": "light"
          }
        }
      ]
    },
    {
      "cell_type": "code",
      "source": [
        "list_model_flavor= model1.most_similar(\"food\")\n",
        "\n",
        "word = []\n",
        "frequency = []\n",
        "\n",
        "for i in range(len(list_model_flavor)):\n",
        "  word.append(list_model_flavor[i][0])\n",
        "  frequency.append(list_model_flavor[i][1])\n",
        "\n",
        "\n",
        "plt.barh(word, frequency, color='r')\n",
        "plt.xlabel(\"Cosine Similarity\")\n",
        "plt.ylabel(\"Words\", labelpad=14)\n",
        "plt.title(\"Words associated with Food\", y=1.02)\n",
        "plt.show()"
      ],
      "metadata": {
        "colab": {
          "base_uri": "https://localhost:8080/",
          "height": 300
        },
        "id": "3bpNIhZDU2VJ",
        "outputId": "d153dd58-7aa1-473a-a27b-df522e094bb4"
      },
      "execution_count": 72,
      "outputs": [
        {
          "output_type": "display_data",
          "data": {
            "text/plain": [
              "<Figure size 432x288 with 1 Axes>"
            ],
            "image/png": "[encoded data removed]"
          },
          "metadata": {
            "needs_background": "light"
          }
        }
      ]
    },
    {
      "cell_type": "code",
      "source": [
        "for_keras= practice_set['nouns_adjec'].values"
      ],
      "metadata": {
        "id": "2KFBydfs25Yh"
      },
      "execution_count": 73,
      "outputs": []
    },
    {
      "cell_type": "code",
      "source": [
        "for_keras"
      ],
      "metadata": {
        "colab": {
          "base_uri": "https://localhost:8080/"
        },
        "id": "SBtvf7cq4LV-",
        "outputId": "e8b25f8c-8c10-434f-bf31-a1dc88813028"
      },
      "execution_count": 74,
      "outputs": [
        {
          "output_type": "execute_result",
          "data": {
            "text/plain": [
              "array(['heart philadelphia female cashier pastry show display case evening sesame ball paste rice ball bai tang gao areanice little bakery chinatown flirtatious adorn fill bean glutinous similar place worth',\n",
              "       'bakery variety bun pastry bun mung coconut stuff egg tart dozen price standard thing service serve coffee tea couple group guy chillin corner debate something place stock bun townchinatown decent beanfilled bun free good table old table great',\n",
              "       'kind service everyone treat treat judgement theyre favoritedelightful chinatown clean happy delicious ton sweet',\n",
              "       ...,\n",
              "       'hand ice coffee terrific guy counter try apartment bella vista place vote apartment goodfreak close',\n",
              "       'place chill corner coffee shop baristaowner neighborhood order tea afternoon jerk get anyway say day judgment pushiness pastry nothing complain chairgreat super nonpretentious friendly iced free wifi im know im cheap comfortable awesome great little comfortable much',\n",
              "       'neighborhood gem owner guy place spot hang work coffeesuper nice great delicious'],\n",
              "      dtype=object)"
            ]
          },
          "metadata": {},
          "execution_count": 74
        }
      ]
    },
    {
      "cell_type": "code",
      "source": [
        "import numpy as np\n",
        "from tensorflow.keras.preprocessing.text import one_hot\n",
        "from tensorflow.keras.preprocessing.sequence import pad_sequences\n",
        "from tensorflow.keras.models import Sequential\n",
        "from tensorflow.keras.layers import Dense\n",
        "from tensorflow.keras.layers import Flatten\n",
        "from tensorflow.keras.layers import Embedding"
      ],
      "metadata": {
        "id": "PdmBPr_O4i3Z"
      },
      "execution_count": 75,
      "outputs": []
    },
    {
      "cell_type": "code",
      "source": [
        "#vocab size, one hot for keras \n",
        "vocab_size = 300\n",
        "encoded_reviews = [one_hot(x, vocab_size) for x in for_keras]\n",
        "print(encoded_reviews)"
      ],
      "metadata": {
        "colab": {
          "base_uri": "https://localhost:8080/"
        },
        "id": "sGEvSMEj4uEL",
        "outputId": "156382a9-d75f-46ab-cfe7-030f5ef12f3e"
      },
      "execution_count": 79,
      "outputs": [
        {
          "output_type": "stream",
          "name": "stderr",
          "text": [
            "IOPub data rate exceeded.\n",
            "The notebook server will temporarily stop sending output\n",
            "to the client in order to avoid crashing it.\n",
            "To change this limit, set the config variable\n",
            "`--NotebookApp.iopub_data_rate_limit`.\n",
            "\n",
            "Current values:\n",
            "NotebookApp.iopub_data_rate_limit=1000000.0 (bytes/sec)\n",
            "NotebookApp.rate_limit_window=3.0 (secs)\n",
            "\n"
          ]
        }
      ]
    },
    {
      "cell_type": "code",
      "source": [
        "max_length = 10\n",
        "padded_reviews = pad_sequences(encoded_reviews, maxlen=max_length, padding='post')\n",
        "print(padded_reviews)"
      ],
      "metadata": {
        "colab": {
          "base_uri": "https://localhost:8080/"
        },
        "id": "qQu_UqWl5d6T",
        "outputId": "9c63ce81-8469-4d0a-eb8a-bac782850580"
      },
      "execution_count": 80,
      "outputs": [
        {
          "output_type": "stream",
          "name": "stdout",
          "text": [
            "[[164 293 167 ... 153  76 251]\n",
            " [ 42 260  75 ... 161 204  87]\n",
            " [249 238 268 ...  82 135 181]\n",
            " ...\n",
            " [261  63  44 ...  44 152 268]\n",
            " [288 189 288 ...  30 174  94]\n",
            " [ 33 153  76 ...  98  87  82]]\n"
          ]
        }
      ]
    },
    {
      "cell_type": "code",
      "source": [
        "embeded_vector_size = 5\n",
        "model = Sequential()\n",
        "model.add(Embedding(vocab_size, embeded_vector_size, input_length=max_length, name = \"embedding\"))\n",
        "model.add(Flatten())\n",
        "model.add(Dense(1, activation='sigmoid'))"
      ],
      "metadata": {
        "id": "ll578UG65-Ij"
      },
      "execution_count": 81,
      "outputs": []
    },
    {
      "cell_type": "code",
      "source": [
        "practice_set.columns"
      ],
      "metadata": {
        "colab": {
          "base_uri": "https://localhost:8080/"
        },
        "id": "KTGSRxxrAoI_",
        "outputId": "e781f719-72f2-451b-c856-4244a3970954"
      },
      "execution_count": 82,
      "outputs": [
        {
          "output_type": "execute_result",
          "data": {
            "text/plain": [
              "Index(['nouns_adjec', 'stars_y'], dtype='object')"
            ]
          },
          "metadata": {},
          "execution_count": 82
        }
      ]
    },
    {
      "cell_type": "code",
      "source": [
        "def stars_transform(x):\n",
        "  if x >= 3.5:\n",
        "    return 1\n",
        "  else:\n",
        "    return 0 \n",
        "\n",
        "\n",
        "practice_set['stars_y'] = practice_set['stars_y'].apply(stars_transform)"
      ],
      "metadata": {
        "id": "nCgpBeg57B0b",
        "colab": {
          "base_uri": "https://localhost:8080/"
        },
        "outputId": "8d8ef153-8e66-4eba-8d5e-cb16c460aaa5"
      },
      "execution_count": 83,
      "outputs": [
        {
          "output_type": "stream",
          "name": "stderr",
          "text": [
            "<ipython-input-83-3b0cd9d07dc3>:8: SettingWithCopyWarning: \n",
            "A value is trying to be set on a copy of a slice from a DataFrame.\n",
            "Try using .loc[row_indexer,col_indexer] = value instead\n",
            "\n",
            "See the caveats in the documentation: https://pandas.pydata.org/pandas-docs/stable/user_guide/indexing.html#returning-a-view-versus-a-copy\n",
            "  practice_set['stars_y'] = practice_set['stars_y'].apply(stars_transform)\n"
          ]
        }
      ]
    },
    {
      "cell_type": "code",
      "source": [
        "practice_set['stars_y'].value_counts()"
      ],
      "metadata": {
        "colab": {
          "base_uri": "https://localhost:8080/"
        },
        "id": "ELtLB5NDkc40",
        "outputId": "5a4bf3b2-94f9-45f8-d689-de71fe6a3f2e"
      },
      "execution_count": 84,
      "outputs": [
        {
          "output_type": "execute_result",
          "data": {
            "text/plain": [
              "1    45608\n",
              "0    20090\n",
              "Name: stars_y, dtype: int64"
            ]
          },
          "metadata": {},
          "execution_count": 84
        }
      ]
    },
    {
      "cell_type": "code",
      "source": [
        "sentiment = practice_set['stars_y'].values.flatten()"
      ],
      "metadata": {
        "id": "zLQxroEBk0ut"
      },
      "execution_count": 85,
      "outputs": []
    },
    {
      "cell_type": "code",
      "source": [
        "X = padded_reviews\n",
        "y=sentiment"
      ],
      "metadata": {
        "id": "HAqBMkWi7M-d"
      },
      "execution_count": 86,
      "outputs": []
    },
    {
      "cell_type": "code",
      "source": [
        "sentiment\n"
      ],
      "metadata": {
        "colab": {
          "base_uri": "https://localhost:8080/"
        },
        "id": "erHuaqsayBH1",
        "outputId": "8d4ffdf7-c6a0-42a1-e8de-b9dd01b4f230"
      },
      "execution_count": 87,
      "outputs": [
        {
          "output_type": "execute_result",
          "data": {
            "text/plain": [
              "array([1, 1, 1, ..., 1, 1, 1])"
            ]
          },
          "metadata": {},
          "execution_count": 87
        }
      ]
    },
    {
      "cell_type": "code",
      "source": [
        "model.compile(optimizer='adam', loss = 'binary_crossentropy', metrics=['accuracy'])\n",
        "model.summary()"
      ],
      "metadata": {
        "colab": {
          "base_uri": "https://localhost:8080/"
        },
        "id": "v1mGNdH87tn3",
        "outputId": "b7b1ff02-235c-4035-c212-c7ec903edfcd"
      },
      "execution_count": 88,
      "outputs": [
        {
          "output_type": "stream",
          "name": "stdout",
          "text": [
            "Model: \"sequential_1\"\n",
            "_________________________________________________________________\n",
            " Layer (type)                Output Shape              Param #   \n",
            "=================================================================\n",
            " embedding (Embedding)       (None, 10, 5)             1500      \n",
            "                                                                 \n",
            " flatten (Flatten)           (None, 50)                0         \n",
            "                                                                 \n",
            " dense (Dense)               (None, 1)                 51        \n",
            "                                                                 \n",
            "=================================================================\n",
            "Total params: 1,551\n",
            "Trainable params: 1,551\n",
            "Non-trainable params: 0\n",
            "_________________________________________________________________\n"
          ]
        }
      ]
    },
    {
      "cell_type": "code",
      "source": [
        "model.fit(X, y, epochs=50, verbose=0)"
      ],
      "metadata": {
        "colab": {
          "base_uri": "https://localhost:8080/"
        },
        "id": "hYEL52bp770G",
        "outputId": "8ce4048d-1043-4d98-d2a2-5fc325d9ef95"
      },
      "execution_count": 89,
      "outputs": [
        {
          "output_type": "execute_result",
          "data": {
            "text/plain": [
              "<keras.callbacks.History at 0x7ff547ef7280>"
            ]
          },
          "metadata": {},
          "execution_count": 89
        }
      ]
    },
    {
      "cell_type": "code",
      "source": [
        "loss, accuracy = model.evaluate(X,y)\n",
        "accuracy"
      ],
      "metadata": {
        "colab": {
          "base_uri": "https://localhost:8080/"
        },
        "id": "BIMv4lg38MPh",
        "outputId": "c7f405fc-411f-4073-9927-5dda06d1284f"
      },
      "execution_count": 90,
      "outputs": [
        {
          "output_type": "stream",
          "name": "stdout",
          "text": [
            "2054/2054 [==============================] - 3s 1ms/step - loss: 0.4871 - accuracy: 0.7660\n"
          ]
        },
        {
          "output_type": "execute_result",
          "data": {
            "text/plain": [
              "0.7659746408462524"
            ]
          },
          "metadata": {},
          "execution_count": 90
        }
      ]
    },
    {
      "cell_type": "code",
      "source": [
        "model.get_layer('embedding').get_weights()[0]"
      ],
      "metadata": {
        "colab": {
          "base_uri": "https://localhost:8080/"
        },
        "id": "Nju41UYz8TpC",
        "outputId": "b53cedac-5230-4b93-8224-4e97b99e7deb"
      },
      "execution_count": 91,
      "outputs": [
        {
          "output_type": "execute_result",
          "data": {
            "text/plain": [
              "array([[-0.12903145,  0.03645514,  0.11620658, -0.30025154,  0.05454271],\n",
              "       [ 0.10832434, -0.03827906,  0.15285577, -0.1730711 ,  0.3362035 ],\n",
              "       [ 0.04614276, -0.55291986, -0.09321934, -0.09094229,  0.07947518],\n",
              "       ...,\n",
              "       [-0.03259981,  0.82224166, -0.49888173,  0.01189768, -0.2510604 ],\n",
              "       [ 0.00980227,  0.5971864 ,  0.00493329, -0.6921804 ,  0.2917085 ],\n",
              "       [ 0.5033656 ,  0.03626359,  1.1724364 , -0.17609575, -0.33060157]],\n",
              "      dtype=float32)"
            ]
          },
          "metadata": {},
          "execution_count": 91
        }
      ]
    },
    {
      "cell_type": "markdown",
      "source": [
        "# Discussion\n",
        "Although the accuracy of the model is sub-80, actions prescribed can be validated by feeding in more data into the model. \n",
        "\n",
        "## Food Recommendations \n",
        "\n",
        "Tips are preferred compared to the full text.\n",
        "The words; balance and texture appear most similar with flavor.\n",
        "\n",
        "\n",
        "Some areas of flavor to explore might be spice and sweet flavors that have ‘hints’ of other ‘combinations’\n",
        "\n",
        "\n",
        "Additionally, consistency with flavor appears to high in similarity scores\n",
        "Waiter and Waitress show similar cosine similarity scores for certain behaviors.\n",
        "\n",
        "## Service Recommendations\n",
        "\n",
        "Refilling water is associated with the job, so a business recommendation may be to advise your staff to walk around with water when busy.\n",
        "\n",
        "Another task is probably taking orders from customers, don’t overcomplicate things or arrive too early before they’ve made up their mind on their order.\n",
        "\n",
        "\n"
      ],
      "metadata": {
        "id": "GU0lDb0Bc9In"
      }
    },
    {
      "cell_type": "code",
      "source": [],
      "metadata": {
        "id": "8kFZejX_Y7vk"
      },
      "execution_count": null,
      "outputs": []
    }
  ]
}