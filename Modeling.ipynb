{
  "nbformat": 4,
  "nbformat_minor": 0,
  "metadata": {
    "colab": {
      "provenance": [],
      "authorship_tag": "ABX9TyPlQ3kFCTYwZNlLjaWtHb47",
      "include_colab_link": true
    },
    "kernelspec": {
      "name": "python3",
      "display_name": "Python 3"
    },
    "language_info": {
      "name": "python"
    }
  },
  "cells": [
    {
      "cell_type": "markdown",
      "metadata": {
        "id": "view-in-github",
        "colab_type": "text"
      },
      "source": [
        "<a href=\"https://colab.research.google.com/github/RaymondLeong94/Flatiron_Capstone_Project-/blob/main/Modeling.ipynb\" target=\"_parent\"><img src=\"https://colab.research.google.com/assets/colab-badge.svg\" alt=\"Open In Colab\"/></a>"
      ]
    },
    {
      "cell_type": "code",
      "source": [
        "#https://www.youtube.com/watch?v=Fuw0wv3X-0o"
      ],
      "metadata": {
        "id": "TVhnSFdD9RiM"
      },
      "execution_count": null,
      "outputs": []
    },
    {
      "cell_type": "code",
      "execution_count": 41,
      "metadata": {
        "colab": {
          "base_uri": "https://localhost:8080/"
        },
        "id": "fo0_E549BTi_",
        "outputId": "d856d720-7789-4686-d789-1ba59bdaa444"
      },
      "outputs": [
        {
          "output_type": "stream",
          "name": "stdout",
          "text": [
            "Mounted at /content/gdrive/\n"
          ]
        }
      ],
      "source": [
        "import pandas as pd\n",
        "import json\n",
        "from google.colab import drive\n",
        "\n",
        "drive.mount('/content/gdrive/', force_remount=True)"
      ]
    },
    {
      "cell_type": "code",
      "source": [
        "%cd gdrive/MyDrive"
      ],
      "metadata": {
        "colab": {
          "base_uri": "https://localhost:8080/"
        },
        "id": "PfAfm61GBW_M",
        "outputId": "0fb1b5aa-f224-4d8d-a8c2-3c625157161e"
      },
      "execution_count": 42,
      "outputs": [
        {
          "output_type": "stream",
          "name": "stdout",
          "text": [
            "[Errno 107] Transport endpoint is not connected: 'gdrive/MyDrive'\n",
            "/content/gdrive/MyDrive\n"
          ]
        }
      ]
    },
    {
      "cell_type": "code",
      "source": [
        "import json\n",
        "preprocessed3 = pd.read_json('/content/gdrive/MyDrive/final_preprocessed_data.json', encoding='utf8') "
      ],
      "metadata": {
        "id": "sgCp0y90BgDo"
      },
      "execution_count": 54,
      "outputs": []
    },
    {
      "cell_type": "code",
      "source": [
        "practice_set= preprocessed3\n",
        "practice_set.head()"
      ],
      "metadata": {
        "id": "kqkfW65zBrXC",
        "colab": {
          "base_uri": "https://localhost:8080/",
          "height": 1000
        },
        "outputId": "84b1340d-1493-4794-9379-16d628d25033"
      },
      "execution_count": 55,
      "outputs": [
        {
          "output_type": "execute_result",
          "data": {
            "text/plain": [
              "              business_id  stars_x  review_count ByAppointmentOnly  \\\n",
              "0  MTSW4McQd7CbVtyjqoe9mw      4.0            80             False   \n",
              "1  MTSW4McQd7CbVtyjqoe9mw      4.0            80             False   \n",
              "2  MTSW4McQd7CbVtyjqoe9mw      4.0            80             False   \n",
              "3  MTSW4McQd7CbVtyjqoe9mw      4.0            80             False   \n",
              "4  MTSW4McQd7CbVtyjqoe9mw      4.0            80             False   \n",
              "\n",
              "  BusinessAcceptsCreditCards CoatCheck RestaurantsTakeOut RestaurantsDelivery  \\\n",
              "0                      False   unknown               True               False   \n",
              "1                      False   unknown               True               False   \n",
              "2                      False   unknown               True               False   \n",
              "3                      False   unknown               True               False   \n",
              "4                      False   unknown               True               False   \n",
              "\n",
              "  Caters     WiFi  ... stars_y  \\\n",
              "0   True  u'free'  ...       4   \n",
              "1   True  u'free'  ...       4   \n",
              "2   True  u'free'  ...       5   \n",
              "3   True  u'free'  ...       5   \n",
              "4   True  u'free'  ...       4   \n",
              "\n",
              "                                                                                                                                                                                                                                                                                                                                                                                                                                                                                                                                                                                                                                                                                                                                                                                                                                                                                                                                                                                                                     text  \\\n",
              "0                                                                                                                                                                                                                                                                                                                                                                                                                                                                                                                                                                                                 This is nice little Chinese bakery in the heart of Philadelphia's Chinatown! The female cashier was very friendly (flirtatious!) and the pastries shown in nicely adorned display cases. I stopped by early one evening had a sesame ball, which was filled with bean paste. The glutinous rice of the ball was nicely flavored, similar to Bai Tang Gao. Definitely as place worth stopping at if you are in the area.   \n",
              "1                                                                                                                                                                                                                                                                                                                                                                                       This is the bakery I usually go to in Chinatown.  They have a decent variety of buns and pastries.  Red bean-filled buns, mung bean-filled buns, coconut stuff, egg tarts etc.  If you buy a dozen, they will give you two more for free.  The prices are standard for a Chinese bakery, with most things at approximately $1.  The service has always been good.  They do serve coffee and tea.  There are a couple of tables inside, with usually the expected group of older Chinese guys chillin' in the corner table debating about something.  Great place to stock up on the buns, which I usually do before leaving town.   \n",
              "2                                                                                                                                                                                                                                                                                                                                                                                                                                                                                                                                                                                                                                                                                                                                                                                   A delightful find in Chinatown! Very clean, and very kind service. Everyone always seems happy in here, and their treats are absolutely delicious. You can also get a ton of sweet treats without any judgement! They're my favorite.   \n",
              "3                                                                                                                                                                                                                                                                                                                                                                                                                                                                                                                                                                                                                                                                                                                                                                                                                                                       I ordered a graduation cake for my niece and it came out absolutely perfect. Will come again for future events! Staff was nice also and the cake was really good.   \n",
              "4  HK-STYLE MILK TEA:  FOUR STARS\\n\\nNot quite sure why there are two Saint Honore Pastries business listings on Yelp, but I have been checking in to this one.\\n\\nBoyfriend and I go by it all the time while in Chinatown, but it never crossed our mind to try it.  I think we might have tried it once a year or two ago, but it wasn't memorable.  I decided to try the HK-style milk tea not too long ago and was hooked.  I think I went here almost every day one week to get the milk tea, only to realize that I should REALLY watch my sugar intake...it's sooo good!  \\n\\nI personally don't think it's better than Zhong Gang's HK-style milk tea because they have their off days when a certain lady makes them (not enough ice, too much ice, etc.).\\n\\nOn a side note:  I wanted to try the crispy roast pork bun, but accidentally said the wrong name in Chinese and got the roast pork bun.  It was decent enough, although I will get to trying the crispy roast pork bun soon!  \\n\\nI will be back~   \n",
              "\n",
              "  total_hours weekend_hours distance_to_lowest_star  \\\n",
              "0        94.0          42.0              987.992116   \n",
              "1        94.0          42.0              987.992116   \n",
              "2        94.0          42.0              987.992116   \n",
              "3        94.0          42.0              987.992116   \n",
              "4        94.0          42.0              987.992116   \n",
              "\n",
              "                                                                                                                                                                                                                                                                                                                                                                                                                                                                                                                                                                                                           text_refurbished  \\\n",
              "0                                                                                                                                                                                                                                                                                                                                                      nice little bakery heart philadelphia chinatown female cashier friendly flirtatious pastry show nicely adorn display case stop early one evening sesame ball fill bean paste glutinous rice ball nicely flavor similar bai tang gao definitely place worth stop area   \n",
              "1                                                                                                                                                                                                                                                                   bakery usually go chinatown decent variety bun pastry red beanfilled bun mung beanfilled bun coconut stuff egg tart etc buy dozen give two free price standard bakery thing approximately service good serve coffee tea couple table inside usually expect group old guy chillin corner table debate something great place stock bun usually leave town   \n",
              "2                                                                                                                                                                                                                                                                                                                                                                                                                                                                    delightful find chinatown clean kind service everyone seem happy treat absolutely delicious also get ton sweet treat without judgement theyre favorite   \n",
              "3                                                                                                                                                                                                                                                                                                                                                                                                                                                                                                                    order graduation cake niece come absolutely perfect come future event staff nice also cake really good   \n",
              "4  hkstyle milk tea four stars\\n\\nnot quite sure two saint honore pastry business listing yelp check one\\n\\nboyfriend go time chinatown never cross mind try think might try year two ago wasnt memorable decide try hkstyle milk tea long ago hook think go almost every day one week get milk tea realize really watch sugar intakeits sooo good \\n\\ni personally think good zhong gang hkstyle milk tea day certain lady make enough ice much ice etc\\n\\non side note want try crispy roast pork bun accidentally say wrong name get roast pork bun decent enough although get try crispy roast pork bun soon \\n\\ni back   \n",
              "\n",
              "                                                                                                                                                                                                                                                                                                                                                                                                                                                                                                                                                                                                                                                                                                                                                                                                                                                                                                                                                                                                                                                                                                                                                                                                                                                                          entities  \\\n",
              "0                                                                                                                                                                                                                                                                                                                                                                                                                                                                                                                                                                                                                                                                                                                                                             (S\\n  nice/JJ\\n  little/JJ\\n  bakery/JJ\\n  heart/NN\\n  philadelphia/NN\\n  chinatown/JJ\\n  female/NN\\n  cashier/NN\\n  friendly/RB\\n  flirtatious/JJ\\n  pastry/NN\\n  show/NN\\n  nicely/RB\\n  adorn/JJ\\n  display/NN\\n  case/NN\\n  stop/VBD\\n  early/RB\\n  one/CD\\n  evening/NN\\n  sesame/NN\\n  ball/NN\\n  fill/JJ\\n  bean/JJ\\n  paste/NN\\n  glutinous/JJ\\n  rice/NN\\n  ball/NN\\n  nicely/RB\\n  flavor/VBD\\n  similar/JJ\\n  bai/NN\\n  tang/NN\\n  gao/NN\\n  definitely/RB\\n  place/JJ\\n  worth/JJ\\n  stop/VB\\n  area/NN)   \n",
              "1                                                                                                                                                                                                                                                                                                                                                                                                                                                                                                                                                                            (S\\n  bakery/NN\\n  usually/RB\\n  go/VBP\\n  chinatown/JJ\\n  decent/JJ\\n  variety/NN\\n  bun/NN\\n  pastry/NN\\n  red/VBD\\n  beanfilled/JJ\\n  bun/NN\\n  mung/NN\\n  beanfilled/VBD\\n  bun/JJ\\n  coconut/NN\\n  stuff/NN\\n  egg/NN\\n  tart/NN\\n  etc/FW\\n  buy/VB\\n  dozen/NN\\n  give/VBP\\n  two/CD\\n  free/JJ\\n  price/NN\\n  standard/NN\\n  bakery/IN\\n  thing/NN\\n  approximately/RB\\n  service/NN\\n  good/JJ\\n  serve/NN\\n  coffee/NN\\n  tea/NN\\n  couple/NN\\n  table/JJ\\n  inside/RB\\n  usually/RB\\n  expect/VBP\\n  group/NN\\n  old/JJ\\n  guy/NN\\n  chillin/NN\\n  corner/NN\\n  table/JJ\\n  debate/NN\\n  something/NN\\n  great/JJ\\n  place/NN\\n  stock/NN\\n  bun/NN\\n  usually/RB\\n  leave/VBP\\n  town/NN)   \n",
              "2                                                                                                                                                                                                                                                                                                                                                                                                                                                                                                                                                                                                                                                                                                                                                                                                                                                                                                                                                                                      (S\\n  delightful/JJ\\n  find/VBP\\n  chinatown/JJ\\n  clean/JJ\\n  kind/NN\\n  service/NN\\n  everyone/NN\\n  seem/VBP\\n  happy/JJ\\n  treat/NN\\n  absolutely/RB\\n  delicious/JJ\\n  also/RB\\n  get/VBP\\n  ton/JJ\\n  sweet/JJ\\n  treat/NN\\n  without/IN\\n  judgement/NN\\n  theyre/NN\\n  favorite/NN)   \n",
              "3                                                                                                                                                                                                                                                                                                                                                                                                                                                                                                                                                                                                                                                                                                                                                                                                                                                                                                                                                                                                                                                                      (S\\n  order/NN\\n  graduation/NN\\n  cake/VB\\n  niece/JJ\\n  come/VB\\n  absolutely/RB\\n  perfect/JJ\\n  come/JJ\\n  future/JJ\\n  event/NN\\n  staff/NN\\n  nice/NN\\n  also/RB\\n  cake/VBP\\n  really/RB\\n  good/JJ)   \n",
              "4  (S\\n  hkstyle/JJ\\n  milk/NN\\n  tea/IN\\n  four/CD\\n  stars/NNS\\n  not/RB\\n  quite/RB\\n  sure/JJ\\n  two/CD\\n  saint/NN\\n  honore/NN\\n  pastry/NN\\n  business/NN\\n  listing/VBG\\n  yelp/JJR\\n  check/VB\\n  one/CD\\n  boyfriend/NN\\n  go/VB\\n  time/NN\\n  chinatown/VBN\\n  never/RB\\n  cross/NN\\n  mind/NN\\n  try/NN\\n  think/NN\\n  might/MD\\n  try/VB\\n  year/NN\\n  two/CD\\n  ago/IN\\n  wasnt/NNS\\n  memorable/JJ\\n  decide/JJ\\n  try/NN\\n  hkstyle/NN\\n  milk/NN\\n  tea/NN\\n  long/RB\\n  ago/RB\\n  hook/NN\\n  think/NN\\n  go/VBP\\n  almost/RB\\n  every/DT\\n  day/NN\\n  one/CD\\n  week/NN\\n  get/VB\\n  milk/NN\\n  tea/NN\\n  realize/VBP\\n  really/RB\\n  watch/JJ\\n  sugar/NN\\n  intakeits/NNS\\n  sooo/VBP\\n  good/JJ\\n  i/NN\\n  personally/RB\\n  think/VBP\\n  good/JJ\\n  zhong/NN\\n  gang/NN\\n  hkstyle/JJ\\n  milk/NN\\n  tea/VBN\\n  day/NN\\n  certain/JJ\\n  lady/JJ\\n  make/VB\\n  enough/JJ\\n  ice/NN\\n  much/JJ\\n  ice/NN\\n  etc/NN\\n  on/IN\\n  side/JJ\\n  note/NN\\n  want/VBP\\n  try/NN\\n  crispy/NN\\n  roast/NN\\n  pork/NN\\n  bun/NN\\n  accidentally/RB\\n  say/VBP\\n  wrong/JJ\\n  name/NN\\n  get/VB\\n  roast/JJ\\n  pork/NN\\n  bun/NN\\n  decent/JJ\\n  enough/RB\\n  although/IN\\n  get/VB\\n  try/JJ\\n  crispy/NN\\n  roast/NN\\n  pork/NN\\n  bun/NN\\n  soon/RB\\n  i/VBZ\\n  back/RP)   \n",
              "\n",
              "                                                                                                                                                                                                                                                                                                                                                                extract_nouns  \\\n",
              "0                                                                                                                                                                                                       'heart', 'philadelphia', 'female', 'cashier', 'pastry', 'show', 'display', 'case', 'evening', 'sesame', 'ball', 'paste', 'rice', 'ball', 'bai', 'tang', 'gao', 'area'   \n",
              "1                                                                                                   'bakery', 'variety', 'bun', 'pastry', 'bun', 'mung', 'coconut', 'stuff', 'egg', 'tart', 'dozen', 'price', 'standard', 'thing', 'service', 'serve', 'coffee', 'tea', 'couple', 'group', 'guy', 'chillin', 'corner', 'debate', 'something', 'place', 'stock', 'bun', 'town'   \n",
              "2                                                                                                                                                                                                                                                                                          'kind', 'service', 'everyone', 'treat', 'treat', 'judgement', 'theyre', 'favorite'   \n",
              "3                                                                                                                                                                                                                                                                                                                             'order', 'graduation', 'event', 'staff', 'nice'   \n",
              "4  'milk', 'saint', 'honore', 'pastry', 'business', 'boyfriend', 'time', 'cross', 'mind', 'try', 'think', 'year', 'try', 'hkstyle', 'milk', 'tea', 'hook', 'think', 'day', 'week', 'milk', 'tea', 'sugar', 'i', 'zhong', 'gang', 'milk', 'day', 'ice', 'ice', 'etc', 'note', 'try', 'crispy', 'roast', 'pork', 'bun', 'name', 'pork', 'bun', 'crispy', 'roast', 'pork', 'bun'   \n",
              "\n",
              "                                                                                                                                             extract_adjectives  \\\n",
              "0                                     'nice', 'little', 'bakery', 'chinatown', 'flirtatious', 'adorn', 'fill', 'bean', 'glutinous', 'similar', 'place', 'worth'   \n",
              "1                                                                  'chinatown', 'decent', 'beanfilled', 'bun', 'free', 'good', 'table', 'old', 'table', 'great'   \n",
              "2                                                                                      'delightful', 'chinatown', 'clean', 'happy', 'delicious', 'ton', 'sweet'   \n",
              "3                                                                                                                  'niece', 'perfect', 'come', 'future', 'good'   \n",
              "4  'hkstyle', 'sure', 'memorable', 'decide', 'watch', 'good', 'good', 'hkstyle', 'certain', 'lady', 'enough', 'much', 'side', 'wrong', 'roast', 'decent', 'try'   \n",
              "\n",
              "                                                                                                                                                                                                                                                                                                                                                                                                                                                                                                                              nouns_adjec  \n",
              "0                                                                                                                                                                                                                                          'heart', 'philadelphia', 'female', 'cashier', 'pastry', 'show', 'display', 'case', 'evening', 'sesame', 'ball', 'paste', 'rice', 'ball', 'bai', 'tang', 'gao', 'area''nice', 'little', 'bakery', 'chinatown', 'flirtatious', 'adorn', 'fill', 'bean', 'glutinous', 'similar', 'place', 'worth'  \n",
              "1                                                                                                                                                                   'bakery', 'variety', 'bun', 'pastry', 'bun', 'mung', 'coconut', 'stuff', 'egg', 'tart', 'dozen', 'price', 'standard', 'thing', 'service', 'serve', 'coffee', 'tea', 'couple', 'group', 'guy', 'chillin', 'corner', 'debate', 'something', 'place', 'stock', 'bun', 'town''chinatown', 'decent', 'beanfilled', 'bun', 'free', 'good', 'table', 'old', 'table', 'great'  \n",
              "2                                                                                                                                                                                                                                                                                                                                                                              'kind', 'service', 'everyone', 'treat', 'treat', 'judgement', 'theyre', 'favorite''delightful', 'chinatown', 'clean', 'happy', 'delicious', 'ton', 'sweet'  \n",
              "3                                                                                                                                                                                                                                                                                                                                                                                                                                             'order', 'graduation', 'event', 'staff', 'nice''niece', 'perfect', 'come', 'future', 'good'  \n",
              "4  'milk', 'saint', 'honore', 'pastry', 'business', 'boyfriend', 'time', 'cross', 'mind', 'try', 'think', 'year', 'try', 'hkstyle', 'milk', 'tea', 'hook', 'think', 'day', 'week', 'milk', 'tea', 'sugar', 'i', 'zhong', 'gang', 'milk', 'day', 'ice', 'ice', 'etc', 'note', 'try', 'crispy', 'roast', 'pork', 'bun', 'name', 'pork', 'bun', 'crispy', 'roast', 'pork', 'bun''hkstyle', 'sure', 'memorable', 'decide', 'watch', 'good', 'good', 'hkstyle', 'certain', 'lady', 'enough', 'much', 'side', 'wrong', 'roast', 'decent', 'try'  \n",
              "\n",
              "[5 rows x 49 columns]"
            ],
            "text/html": [
              "\n",
              "  <div id=\"df-03abbf69-d9fb-43ae-b764-3d25a2a944e2\">\n",
              "    <div class=\"colab-df-container\">\n",
              "      <div>\n",
              "<style scoped>\n",
              "    .dataframe tbody tr th:only-of-type {\n",
              "        vertical-align: middle;\n",
              "    }\n",
              "\n",
              "    .dataframe tbody tr th {\n",
              "        vertical-align: top;\n",
              "    }\n",
              "\n",
              "    .dataframe thead th {\n",
              "        text-align: right;\n",
              "    }\n",
              "</style>\n",
              "<table border=\"1\" class=\"dataframe\">\n",
              "  <thead>\n",
              "    <tr style=\"text-align: right;\">\n",
              "      <th></th>\n",
              "      <th>business_id</th>\n",
              "      <th>stars_x</th>\n",
              "      <th>review_count</th>\n",
              "      <th>ByAppointmentOnly</th>\n",
              "      <th>BusinessAcceptsCreditCards</th>\n",
              "      <th>CoatCheck</th>\n",
              "      <th>RestaurantsTakeOut</th>\n",
              "      <th>RestaurantsDelivery</th>\n",
              "      <th>Caters</th>\n",
              "      <th>WiFi</th>\n",
              "      <th>...</th>\n",
              "      <th>stars_y</th>\n",
              "      <th>text</th>\n",
              "      <th>total_hours</th>\n",
              "      <th>weekend_hours</th>\n",
              "      <th>distance_to_lowest_star</th>\n",
              "      <th>text_refurbished</th>\n",
              "      <th>entities</th>\n",
              "      <th>extract_nouns</th>\n",
              "      <th>extract_adjectives</th>\n",
              "      <th>nouns_adjec</th>\n",
              "    </tr>\n",
              "  </thead>\n",
              "  <tbody>\n",
              "    <tr>\n",
              "      <th>0</th>\n",
              "      <td>MTSW4McQd7CbVtyjqoe9mw</td>\n",
              "      <td>4.0</td>\n",
              "      <td>80</td>\n",
              "      <td>False</td>\n",
              "      <td>False</td>\n",
              "      <td>unknown</td>\n",
              "      <td>True</td>\n",
              "      <td>False</td>\n",
              "      <td>True</td>\n",
              "      <td>u'free'</td>\n",
              "      <td>...</td>\n",
              "      <td>4</td>\n",
              "      <td>This is nice little Chinese bakery in the heart of Philadelphia's Chinatown! The female cashier was very friendly (flirtatious!) and the pastries shown in nicely adorned display cases. I stopped by early one evening had a sesame ball, which was filled with bean paste. The glutinous rice of the ball was nicely flavored, similar to Bai Tang Gao. Definitely as place worth stopping at if you are in the area.</td>\n",
              "      <td>94.0</td>\n",
              "      <td>42.0</td>\n",
              "      <td>987.992116</td>\n",
              "      <td>nice little bakery heart philadelphia chinatown female cashier friendly flirtatious pastry show nicely adorn display case stop early one evening sesame ball fill bean paste glutinous rice ball nicely flavor similar bai tang gao definitely place worth stop area</td>\n",
              "      <td>(S\\n  nice/JJ\\n  little/JJ\\n  bakery/JJ\\n  heart/NN\\n  philadelphia/NN\\n  chinatown/JJ\\n  female/NN\\n  cashier/NN\\n  friendly/RB\\n  flirtatious/JJ\\n  pastry/NN\\n  show/NN\\n  nicely/RB\\n  adorn/JJ\\n  display/NN\\n  case/NN\\n  stop/VBD\\n  early/RB\\n  one/CD\\n  evening/NN\\n  sesame/NN\\n  ball/NN\\n  fill/JJ\\n  bean/JJ\\n  paste/NN\\n  glutinous/JJ\\n  rice/NN\\n  ball/NN\\n  nicely/RB\\n  flavor/VBD\\n  similar/JJ\\n  bai/NN\\n  tang/NN\\n  gao/NN\\n  definitely/RB\\n  place/JJ\\n  worth/JJ\\n  stop/VB\\n  area/NN)</td>\n",
              "      <td>'heart', 'philadelphia', 'female', 'cashier', 'pastry', 'show', 'display', 'case', 'evening', 'sesame', 'ball', 'paste', 'rice', 'ball', 'bai', 'tang', 'gao', 'area'</td>\n",
              "      <td>'nice', 'little', 'bakery', 'chinatown', 'flirtatious', 'adorn', 'fill', 'bean', 'glutinous', 'similar', 'place', 'worth'</td>\n",
              "      <td>'heart', 'philadelphia', 'female', 'cashier', 'pastry', 'show', 'display', 'case', 'evening', 'sesame', 'ball', 'paste', 'rice', 'ball', 'bai', 'tang', 'gao', 'area''nice', 'little', 'bakery', 'chinatown', 'flirtatious', 'adorn', 'fill', 'bean', 'glutinous', 'similar', 'place', 'worth'</td>\n",
              "    </tr>\n",
              "    <tr>\n",
              "      <th>1</th>\n",
              "      <td>MTSW4McQd7CbVtyjqoe9mw</td>\n",
              "      <td>4.0</td>\n",
              "      <td>80</td>\n",
              "      <td>False</td>\n",
              "      <td>False</td>\n",
              "      <td>unknown</td>\n",
              "      <td>True</td>\n",
              "      <td>False</td>\n",
              "      <td>True</td>\n",
              "      <td>u'free'</td>\n",
              "      <td>...</td>\n",
              "      <td>4</td>\n",
              "      <td>This is the bakery I usually go to in Chinatown.  They have a decent variety of buns and pastries.  Red bean-filled buns, mung bean-filled buns, coconut stuff, egg tarts etc.  If you buy a dozen, they will give you two more for free.  The prices are standard for a Chinese bakery, with most things at approximately $1.  The service has always been good.  They do serve coffee and tea.  There are a couple of tables inside, with usually the expected group of older Chinese guys chillin' in the corner table debating about something.  Great place to stock up on the buns, which I usually do before leaving town.</td>\n",
              "      <td>94.0</td>\n",
              "      <td>42.0</td>\n",
              "      <td>987.992116</td>\n",
              "      <td>bakery usually go chinatown decent variety bun pastry red beanfilled bun mung beanfilled bun coconut stuff egg tart etc buy dozen give two free price standard bakery thing approximately service good serve coffee tea couple table inside usually expect group old guy chillin corner table debate something great place stock bun usually leave town</td>\n",
              "      <td>(S\\n  bakery/NN\\n  usually/RB\\n  go/VBP\\n  chinatown/JJ\\n  decent/JJ\\n  variety/NN\\n  bun/NN\\n  pastry/NN\\n  red/VBD\\n  beanfilled/JJ\\n  bun/NN\\n  mung/NN\\n  beanfilled/VBD\\n  bun/JJ\\n  coconut/NN\\n  stuff/NN\\n  egg/NN\\n  tart/NN\\n  etc/FW\\n  buy/VB\\n  dozen/NN\\n  give/VBP\\n  two/CD\\n  free/JJ\\n  price/NN\\n  standard/NN\\n  bakery/IN\\n  thing/NN\\n  approximately/RB\\n  service/NN\\n  good/JJ\\n  serve/NN\\n  coffee/NN\\n  tea/NN\\n  couple/NN\\n  table/JJ\\n  inside/RB\\n  usually/RB\\n  expect/VBP\\n  group/NN\\n  old/JJ\\n  guy/NN\\n  chillin/NN\\n  corner/NN\\n  table/JJ\\n  debate/NN\\n  something/NN\\n  great/JJ\\n  place/NN\\n  stock/NN\\n  bun/NN\\n  usually/RB\\n  leave/VBP\\n  town/NN)</td>\n",
              "      <td>'bakery', 'variety', 'bun', 'pastry', 'bun', 'mung', 'coconut', 'stuff', 'egg', 'tart', 'dozen', 'price', 'standard', 'thing', 'service', 'serve', 'coffee', 'tea', 'couple', 'group', 'guy', 'chillin', 'corner', 'debate', 'something', 'place', 'stock', 'bun', 'town'</td>\n",
              "      <td>'chinatown', 'decent', 'beanfilled', 'bun', 'free', 'good', 'table', 'old', 'table', 'great'</td>\n",
              "      <td>'bakery', 'variety', 'bun', 'pastry', 'bun', 'mung', 'coconut', 'stuff', 'egg', 'tart', 'dozen', 'price', 'standard', 'thing', 'service', 'serve', 'coffee', 'tea', 'couple', 'group', 'guy', 'chillin', 'corner', 'debate', 'something', 'place', 'stock', 'bun', 'town''chinatown', 'decent', 'beanfilled', 'bun', 'free', 'good', 'table', 'old', 'table', 'great'</td>\n",
              "    </tr>\n",
              "    <tr>\n",
              "      <th>2</th>\n",
              "      <td>MTSW4McQd7CbVtyjqoe9mw</td>\n",
              "      <td>4.0</td>\n",
              "      <td>80</td>\n",
              "      <td>False</td>\n",
              "      <td>False</td>\n",
              "      <td>unknown</td>\n",
              "      <td>True</td>\n",
              "      <td>False</td>\n",
              "      <td>True</td>\n",
              "      <td>u'free'</td>\n",
              "      <td>...</td>\n",
              "      <td>5</td>\n",
              "      <td>A delightful find in Chinatown! Very clean, and very kind service. Everyone always seems happy in here, and their treats are absolutely delicious. You can also get a ton of sweet treats without any judgement! They're my favorite.</td>\n",
              "      <td>94.0</td>\n",
              "      <td>42.0</td>\n",
              "      <td>987.992116</td>\n",
              "      <td>delightful find chinatown clean kind service everyone seem happy treat absolutely delicious also get ton sweet treat without judgement theyre favorite</td>\n",
              "      <td>(S\\n  delightful/JJ\\n  find/VBP\\n  chinatown/JJ\\n  clean/JJ\\n  kind/NN\\n  service/NN\\n  everyone/NN\\n  seem/VBP\\n  happy/JJ\\n  treat/NN\\n  absolutely/RB\\n  delicious/JJ\\n  also/RB\\n  get/VBP\\n  ton/JJ\\n  sweet/JJ\\n  treat/NN\\n  without/IN\\n  judgement/NN\\n  theyre/NN\\n  favorite/NN)</td>\n",
              "      <td>'kind', 'service', 'everyone', 'treat', 'treat', 'judgement', 'theyre', 'favorite'</td>\n",
              "      <td>'delightful', 'chinatown', 'clean', 'happy', 'delicious', 'ton', 'sweet'</td>\n",
              "      <td>'kind', 'service', 'everyone', 'treat', 'treat', 'judgement', 'theyre', 'favorite''delightful', 'chinatown', 'clean', 'happy', 'delicious', 'ton', 'sweet'</td>\n",
              "    </tr>\n",
              "    <tr>\n",
              "      <th>3</th>\n",
              "      <td>MTSW4McQd7CbVtyjqoe9mw</td>\n",
              "      <td>4.0</td>\n",
              "      <td>80</td>\n",
              "      <td>False</td>\n",
              "      <td>False</td>\n",
              "      <td>unknown</td>\n",
              "      <td>True</td>\n",
              "      <td>False</td>\n",
              "      <td>True</td>\n",
              "      <td>u'free'</td>\n",
              "      <td>...</td>\n",
              "      <td>5</td>\n",
              "      <td>I ordered a graduation cake for my niece and it came out absolutely perfect. Will come again for future events! Staff was nice also and the cake was really good.</td>\n",
              "      <td>94.0</td>\n",
              "      <td>42.0</td>\n",
              "      <td>987.992116</td>\n",
              "      <td>order graduation cake niece come absolutely perfect come future event staff nice also cake really good</td>\n",
              "      <td>(S\\n  order/NN\\n  graduation/NN\\n  cake/VB\\n  niece/JJ\\n  come/VB\\n  absolutely/RB\\n  perfect/JJ\\n  come/JJ\\n  future/JJ\\n  event/NN\\n  staff/NN\\n  nice/NN\\n  also/RB\\n  cake/VBP\\n  really/RB\\n  good/JJ)</td>\n",
              "      <td>'order', 'graduation', 'event', 'staff', 'nice'</td>\n",
              "      <td>'niece', 'perfect', 'come', 'future', 'good'</td>\n",
              "      <td>'order', 'graduation', 'event', 'staff', 'nice''niece', 'perfect', 'come', 'future', 'good'</td>\n",
              "    </tr>\n",
              "    <tr>\n",
              "      <th>4</th>\n",
              "      <td>MTSW4McQd7CbVtyjqoe9mw</td>\n",
              "      <td>4.0</td>\n",
              "      <td>80</td>\n",
              "      <td>False</td>\n",
              "      <td>False</td>\n",
              "      <td>unknown</td>\n",
              "      <td>True</td>\n",
              "      <td>False</td>\n",
              "      <td>True</td>\n",
              "      <td>u'free'</td>\n",
              "      <td>...</td>\n",
              "      <td>4</td>\n",
              "      <td>HK-STYLE MILK TEA:  FOUR STARS\\n\\nNot quite sure why there are two Saint Honore Pastries business listings on Yelp, but I have been checking in to this one.\\n\\nBoyfriend and I go by it all the time while in Chinatown, but it never crossed our mind to try it.  I think we might have tried it once a year or two ago, but it wasn't memorable.  I decided to try the HK-style milk tea not too long ago and was hooked.  I think I went here almost every day one week to get the milk tea, only to realize that I should REALLY watch my sugar intake...it's sooo good!  \\n\\nI personally don't think it's better than Zhong Gang's HK-style milk tea because they have their off days when a certain lady makes them (not enough ice, too much ice, etc.).\\n\\nOn a side note:  I wanted to try the crispy roast pork bun, but accidentally said the wrong name in Chinese and got the roast pork bun.  It was decent enough, although I will get to trying the crispy roast pork bun soon!  \\n\\nI will be back~</td>\n",
              "      <td>94.0</td>\n",
              "      <td>42.0</td>\n",
              "      <td>987.992116</td>\n",
              "      <td>hkstyle milk tea four stars\\n\\nnot quite sure two saint honore pastry business listing yelp check one\\n\\nboyfriend go time chinatown never cross mind try think might try year two ago wasnt memorable decide try hkstyle milk tea long ago hook think go almost every day one week get milk tea realize really watch sugar intakeits sooo good \\n\\ni personally think good zhong gang hkstyle milk tea day certain lady make enough ice much ice etc\\n\\non side note want try crispy roast pork bun accidentally say wrong name get roast pork bun decent enough although get try crispy roast pork bun soon \\n\\ni back</td>\n",
              "      <td>(S\\n  hkstyle/JJ\\n  milk/NN\\n  tea/IN\\n  four/CD\\n  stars/NNS\\n  not/RB\\n  quite/RB\\n  sure/JJ\\n  two/CD\\n  saint/NN\\n  honore/NN\\n  pastry/NN\\n  business/NN\\n  listing/VBG\\n  yelp/JJR\\n  check/VB\\n  one/CD\\n  boyfriend/NN\\n  go/VB\\n  time/NN\\n  chinatown/VBN\\n  never/RB\\n  cross/NN\\n  mind/NN\\n  try/NN\\n  think/NN\\n  might/MD\\n  try/VB\\n  year/NN\\n  two/CD\\n  ago/IN\\n  wasnt/NNS\\n  memorable/JJ\\n  decide/JJ\\n  try/NN\\n  hkstyle/NN\\n  milk/NN\\n  tea/NN\\n  long/RB\\n  ago/RB\\n  hook/NN\\n  think/NN\\n  go/VBP\\n  almost/RB\\n  every/DT\\n  day/NN\\n  one/CD\\n  week/NN\\n  get/VB\\n  milk/NN\\n  tea/NN\\n  realize/VBP\\n  really/RB\\n  watch/JJ\\n  sugar/NN\\n  intakeits/NNS\\n  sooo/VBP\\n  good/JJ\\n  i/NN\\n  personally/RB\\n  think/VBP\\n  good/JJ\\n  zhong/NN\\n  gang/NN\\n  hkstyle/JJ\\n  milk/NN\\n  tea/VBN\\n  day/NN\\n  certain/JJ\\n  lady/JJ\\n  make/VB\\n  enough/JJ\\n  ice/NN\\n  much/JJ\\n  ice/NN\\n  etc/NN\\n  on/IN\\n  side/JJ\\n  note/NN\\n  want/VBP\\n  try/NN\\n  crispy/NN\\n  roast/NN\\n  pork/NN\\n  bun/NN\\n  accidentally/RB\\n  say/VBP\\n  wrong/JJ\\n  name/NN\\n  get/VB\\n  roast/JJ\\n  pork/NN\\n  bun/NN\\n  decent/JJ\\n  enough/RB\\n  although/IN\\n  get/VB\\n  try/JJ\\n  crispy/NN\\n  roast/NN\\n  pork/NN\\n  bun/NN\\n  soon/RB\\n  i/VBZ\\n  back/RP)</td>\n",
              "      <td>'milk', 'saint', 'honore', 'pastry', 'business', 'boyfriend', 'time', 'cross', 'mind', 'try', 'think', 'year', 'try', 'hkstyle', 'milk', 'tea', 'hook', 'think', 'day', 'week', 'milk', 'tea', 'sugar', 'i', 'zhong', 'gang', 'milk', 'day', 'ice', 'ice', 'etc', 'note', 'try', 'crispy', 'roast', 'pork', 'bun', 'name', 'pork', 'bun', 'crispy', 'roast', 'pork', 'bun'</td>\n",
              "      <td>'hkstyle', 'sure', 'memorable', 'decide', 'watch', 'good', 'good', 'hkstyle', 'certain', 'lady', 'enough', 'much', 'side', 'wrong', 'roast', 'decent', 'try'</td>\n",
              "      <td>'milk', 'saint', 'honore', 'pastry', 'business', 'boyfriend', 'time', 'cross', 'mind', 'try', 'think', 'year', 'try', 'hkstyle', 'milk', 'tea', 'hook', 'think', 'day', 'week', 'milk', 'tea', 'sugar', 'i', 'zhong', 'gang', 'milk', 'day', 'ice', 'ice', 'etc', 'note', 'try', 'crispy', 'roast', 'pork', 'bun', 'name', 'pork', 'bun', 'crispy', 'roast', 'pork', 'bun''hkstyle', 'sure', 'memorable', 'decide', 'watch', 'good', 'good', 'hkstyle', 'certain', 'lady', 'enough', 'much', 'side', 'wrong', 'roast', 'decent', 'try'</td>\n",
              "    </tr>\n",
              "  </tbody>\n",
              "</table>\n",
              "<p>5 rows × 49 columns</p>\n",
              "</div>\n",
              "      <button class=\"colab-df-convert\" onclick=\"convertToInteractive('df-03abbf69-d9fb-43ae-b764-3d25a2a944e2')\"\n",
              "              title=\"Convert this dataframe to an interactive table.\"\n",
              "              style=\"display:none;\">\n",
              "        \n",
              "  <svg xmlns=\"http://www.w3.org/2000/svg\" height=\"24px\"viewBox=\"0 0 24 24\"\n",
              "       width=\"24px\">\n",
              "    <path d=\"M0 0h24v24H0V0z\" fill=\"none\"/>\n",
              "    <path d=\"M18.56 5.44l.94 2.06.94-2.06 2.06-.94-2.06-.94-.94-2.06-.94 2.06-2.06.94zm-11 1L8.5 8.5l.94-2.06 2.06-.94-2.06-.94L8.5 2.5l-.94 2.06-2.06.94zm10 10l.94 2.06.94-2.06 2.06-.94-2.06-.94-.94-2.06-.94 2.06-2.06.94z\"/><path d=\"M17.41 7.96l-1.37-1.37c-.4-.4-.92-.59-1.43-.59-.52 0-1.04.2-1.43.59L10.3 9.45l-7.72 7.72c-.78.78-.78 2.05 0 2.83L4 21.41c.39.39.9.59 1.41.59.51 0 1.02-.2 1.41-.59l7.78-7.78 2.81-2.81c.8-.78.8-2.07 0-2.86zM5.41 20L4 18.59l7.72-7.72 1.47 1.35L5.41 20z\"/>\n",
              "  </svg>\n",
              "      </button>\n",
              "      \n",
              "  <style>\n",
              "    .colab-df-container {\n",
              "      display:flex;\n",
              "      flex-wrap:wrap;\n",
              "      gap: 12px;\n",
              "    }\n",
              "\n",
              "    .colab-df-convert {\n",
              "      background-color: #E8F0FE;\n",
              "      border: none;\n",
              "      border-radius: 50%;\n",
              "      cursor: pointer;\n",
              "      display: none;\n",
              "      fill: #1967D2;\n",
              "      height: 32px;\n",
              "      padding: 0 0 0 0;\n",
              "      width: 32px;\n",
              "    }\n",
              "\n",
              "    .colab-df-convert:hover {\n",
              "      background-color: #E2EBFA;\n",
              "      box-shadow: 0px 1px 2px rgba(60, 64, 67, 0.3), 0px 1px 3px 1px rgba(60, 64, 67, 0.15);\n",
              "      fill: #174EA6;\n",
              "    }\n",
              "\n",
              "    [theme=dark] .colab-df-convert {\n",
              "      background-color: #3B4455;\n",
              "      fill: #D2E3FC;\n",
              "    }\n",
              "\n",
              "    [theme=dark] .colab-df-convert:hover {\n",
              "      background-color: #434B5C;\n",
              "      box-shadow: 0px 1px 3px 1px rgba(0, 0, 0, 0.15);\n",
              "      filter: drop-shadow(0px 1px 2px rgba(0, 0, 0, 0.3));\n",
              "      fill: #FFFFFF;\n",
              "    }\n",
              "  </style>\n",
              "\n",
              "      <script>\n",
              "        const buttonEl =\n",
              "          document.querySelector('#df-03abbf69-d9fb-43ae-b764-3d25a2a944e2 button.colab-df-convert');\n",
              "        buttonEl.style.display =\n",
              "          google.colab.kernel.accessAllowed ? 'block' : 'none';\n",
              "\n",
              "        async function convertToInteractive(key) {\n",
              "          const element = document.querySelector('#df-03abbf69-d9fb-43ae-b764-3d25a2a944e2');\n",
              "          const dataTable =\n",
              "            await google.colab.kernel.invokeFunction('convertToInteractive',\n",
              "                                                     [key], {});\n",
              "          if (!dataTable) return;\n",
              "\n",
              "          const docLinkHtml = 'Like what you see? Visit the ' +\n",
              "            '<a target=\"_blank\" href=https://colab.research.google.com/notebooks/data_table.ipynb>data table notebook</a>'\n",
              "            + ' to learn more about interactive tables.';\n",
              "          element.innerHTML = '';\n",
              "          dataTable['output_type'] = 'display_data';\n",
              "          await google.colab.output.renderOutput(dataTable, element);\n",
              "          const docLink = document.createElement('div');\n",
              "          docLink.innerHTML = docLinkHtml;\n",
              "          element.appendChild(docLink);\n",
              "        }\n",
              "      </script>\n",
              "    </div>\n",
              "  </div>\n",
              "  "
            ]
          },
          "metadata": {},
          "execution_count": 55
        }
      ]
    },
    {
      "cell_type": "code",
      "source": [
        "practice_set= practice_set[['nouns_adjec', 'stars_y']]"
      ],
      "metadata": {
        "id": "b1VqNTPNCE9l"
      },
      "execution_count": 56,
      "outputs": []
    },
    {
      "cell_type": "code",
      "source": [
        "\n",
        "practice_set = practice_set.reset_index()"
      ],
      "metadata": {
        "id": "FgoAECoyCbJ8"
      },
      "execution_count": 59,
      "outputs": []
    },
    {
      "cell_type": "code",
      "source": [
        "practice_set"
      ],
      "metadata": {
        "colab": {
          "base_uri": "https://localhost:8080/",
          "height": 520
        },
        "id": "iON7iAtH_g5-",
        "outputId": "1b9188c2-f6bb-4e7a-c1e0-5b802fde9cd7"
      },
      "execution_count": 60,
      "outputs": [
        {
          "output_type": "execute_result",
          "data": {
            "text/plain": [
              "       index  \\\n",
              "0          0   \n",
              "1          1   \n",
              "2          2   \n",
              "3          3   \n",
              "4          4   \n",
              "...      ...   \n",
              "65693  67359   \n",
              "65694  67360   \n",
              "65695  67361   \n",
              "65696  67362   \n",
              "65697  67363   \n",
              "\n",
              "                                                                                                                                                                                                                                                                                                                                                                                                                                                                                                                                  nouns_adjec  \\\n",
              "0                                                                                                                                                                                                                                              'heart', 'philadelphia', 'female', 'cashier', 'pastry', 'show', 'display', 'case', 'evening', 'sesame', 'ball', 'paste', 'rice', 'ball', 'bai', 'tang', 'gao', 'area''nice', 'little', 'bakery', 'chinatown', 'flirtatious', 'adorn', 'fill', 'bean', 'glutinous', 'similar', 'place', 'worth'   \n",
              "1                                                                                                                                                                       'bakery', 'variety', 'bun', 'pastry', 'bun', 'mung', 'coconut', 'stuff', 'egg', 'tart', 'dozen', 'price', 'standard', 'thing', 'service', 'serve', 'coffee', 'tea', 'couple', 'group', 'guy', 'chillin', 'corner', 'debate', 'something', 'place', 'stock', 'bun', 'town''chinatown', 'decent', 'beanfilled', 'bun', 'free', 'good', 'table', 'old', 'table', 'great'   \n",
              "2                                                                                                                                                                                                                                                                                                                                                                                  'kind', 'service', 'everyone', 'treat', 'treat', 'judgement', 'theyre', 'favorite''delightful', 'chinatown', 'clean', 'happy', 'delicious', 'ton', 'sweet'   \n",
              "3                                                                                                                                                                                                                                                                                                                                                                                                                                                 'order', 'graduation', 'event', 'staff', 'nice''niece', 'perfect', 'come', 'future', 'good'   \n",
              "4      'milk', 'saint', 'honore', 'pastry', 'business', 'boyfriend', 'time', 'cross', 'mind', 'try', 'think', 'year', 'try', 'hkstyle', 'milk', 'tea', 'hook', 'think', 'day', 'week', 'milk', 'tea', 'sugar', 'i', 'zhong', 'gang', 'milk', 'day', 'ice', 'ice', 'etc', 'note', 'try', 'crispy', 'roast', 'pork', 'bun', 'name', 'pork', 'bun', 'crispy', 'roast', 'pork', 'bun''hkstyle', 'sure', 'memorable', 'decide', 'watch', 'good', 'good', 'hkstyle', 'certain', 'lady', 'enough', 'much', 'side', 'wrong', 'roast', 'decent', 'try'   \n",
              "...                                                                                                                                                                                                                                                                                                                                                                                                                                                                                                                                       ...   \n",
              "65693                                                                                                                                                                                                                                                                                                                                                                                 'coffee', 'shop', 'work', 'price', 'variety', 'beverage', 'cold', 'choose', 'selection', 'something', 'eat''cute', 'low', 'nice', 'hot', 'seem', 'nice'   \n",
              "65694                                                                                                                                                                                                                                                                                                                                                                                                  'cash', 'coffee', 'spot', 'cozy', 'spot', 'coffee', 'medium', 'latte', 'get', 'time', 'part''nice', 'invite', 'pick', 'ordered', 'bad'   \n",
              "65695                                                                                                                                                                                                                                                                                                                                                                                       'hand', 'ice', 'coffee', 'terrific', 'guy', 'counter', 'try', 'apartment', 'bella', 'vista', 'place', 'vote', 'apartment', 'good''freak', 'close'   \n",
              "65696                                                                                                                                              'place', 'chill', 'corner', 'coffee', 'shop', 'baristaowner', 'neighborhood', 'order', 'tea', 'afternoon', 'jerk', 'get', 'anyway', 'say', 'day', 'judgment', 'pushiness', 'pastry', 'nothing', 'complain', 'chair''great', 'super', 'nonpretentious', 'friendly', 'iced', 'free', 'wifi', 'im', 'know', 'im', 'cheap', 'comfortable', 'awesome', 'great', 'little', 'comfortable', 'much'   \n",
              "65697                                                                                                                                                                                                                                                                                                                                                                                                                   'neighborhood', 'gem', 'owner', 'guy', 'place', 'spot', 'hang', 'work', 'coffee''super', 'nice', 'great', 'delicious'   \n",
              "\n",
              "       stars_y  \n",
              "0            4  \n",
              "1            4  \n",
              "2            5  \n",
              "3            5  \n",
              "4            4  \n",
              "...        ...  \n",
              "65693        5  \n",
              "65694        3  \n",
              "65695        5  \n",
              "65696        5  \n",
              "65697        4  \n",
              "\n",
              "[65698 rows x 3 columns]"
            ],
            "text/html": [
              "\n",
              "  <div id=\"df-4b95f678-5024-4dc6-bfc9-d7f0b7f3d995\">\n",
              "    <div class=\"colab-df-container\">\n",
              "      <div>\n",
              "<style scoped>\n",
              "    .dataframe tbody tr th:only-of-type {\n",
              "        vertical-align: middle;\n",
              "    }\n",
              "\n",
              "    .dataframe tbody tr th {\n",
              "        vertical-align: top;\n",
              "    }\n",
              "\n",
              "    .dataframe thead th {\n",
              "        text-align: right;\n",
              "    }\n",
              "</style>\n",
              "<table border=\"1\" class=\"dataframe\">\n",
              "  <thead>\n",
              "    <tr style=\"text-align: right;\">\n",
              "      <th></th>\n",
              "      <th>index</th>\n",
              "      <th>nouns_adjec</th>\n",
              "      <th>stars_y</th>\n",
              "    </tr>\n",
              "  </thead>\n",
              "  <tbody>\n",
              "    <tr>\n",
              "      <th>0</th>\n",
              "      <td>0</td>\n",
              "      <td>'heart', 'philadelphia', 'female', 'cashier', 'pastry', 'show', 'display', 'case', 'evening', 'sesame', 'ball', 'paste', 'rice', 'ball', 'bai', 'tang', 'gao', 'area''nice', 'little', 'bakery', 'chinatown', 'flirtatious', 'adorn', 'fill', 'bean', 'glutinous', 'similar', 'place', 'worth'</td>\n",
              "      <td>4</td>\n",
              "    </tr>\n",
              "    <tr>\n",
              "      <th>1</th>\n",
              "      <td>1</td>\n",
              "      <td>'bakery', 'variety', 'bun', 'pastry', 'bun', 'mung', 'coconut', 'stuff', 'egg', 'tart', 'dozen', 'price', 'standard', 'thing', 'service', 'serve', 'coffee', 'tea', 'couple', 'group', 'guy', 'chillin', 'corner', 'debate', 'something', 'place', 'stock', 'bun', 'town''chinatown', 'decent', 'beanfilled', 'bun', 'free', 'good', 'table', 'old', 'table', 'great'</td>\n",
              "      <td>4</td>\n",
              "    </tr>\n",
              "    <tr>\n",
              "      <th>2</th>\n",
              "      <td>2</td>\n",
              "      <td>'kind', 'service', 'everyone', 'treat', 'treat', 'judgement', 'theyre', 'favorite''delightful', 'chinatown', 'clean', 'happy', 'delicious', 'ton', 'sweet'</td>\n",
              "      <td>5</td>\n",
              "    </tr>\n",
              "    <tr>\n",
              "      <th>3</th>\n",
              "      <td>3</td>\n",
              "      <td>'order', 'graduation', 'event', 'staff', 'nice''niece', 'perfect', 'come', 'future', 'good'</td>\n",
              "      <td>5</td>\n",
              "    </tr>\n",
              "    <tr>\n",
              "      <th>4</th>\n",
              "      <td>4</td>\n",
              "      <td>'milk', 'saint', 'honore', 'pastry', 'business', 'boyfriend', 'time', 'cross', 'mind', 'try', 'think', 'year', 'try', 'hkstyle', 'milk', 'tea', 'hook', 'think', 'day', 'week', 'milk', 'tea', 'sugar', 'i', 'zhong', 'gang', 'milk', 'day', 'ice', 'ice', 'etc', 'note', 'try', 'crispy', 'roast', 'pork', 'bun', 'name', 'pork', 'bun', 'crispy', 'roast', 'pork', 'bun''hkstyle', 'sure', 'memorable', 'decide', 'watch', 'good', 'good', 'hkstyle', 'certain', 'lady', 'enough', 'much', 'side', 'wrong', 'roast', 'decent', 'try'</td>\n",
              "      <td>4</td>\n",
              "    </tr>\n",
              "    <tr>\n",
              "      <th>...</th>\n",
              "      <td>...</td>\n",
              "      <td>...</td>\n",
              "      <td>...</td>\n",
              "    </tr>\n",
              "    <tr>\n",
              "      <th>65693</th>\n",
              "      <td>67359</td>\n",
              "      <td>'coffee', 'shop', 'work', 'price', 'variety', 'beverage', 'cold', 'choose', 'selection', 'something', 'eat''cute', 'low', 'nice', 'hot', 'seem', 'nice'</td>\n",
              "      <td>5</td>\n",
              "    </tr>\n",
              "    <tr>\n",
              "      <th>65694</th>\n",
              "      <td>67360</td>\n",
              "      <td>'cash', 'coffee', 'spot', 'cozy', 'spot', 'coffee', 'medium', 'latte', 'get', 'time', 'part''nice', 'invite', 'pick', 'ordered', 'bad'</td>\n",
              "      <td>3</td>\n",
              "    </tr>\n",
              "    <tr>\n",
              "      <th>65695</th>\n",
              "      <td>67361</td>\n",
              "      <td>'hand', 'ice', 'coffee', 'terrific', 'guy', 'counter', 'try', 'apartment', 'bella', 'vista', 'place', 'vote', 'apartment', 'good''freak', 'close'</td>\n",
              "      <td>5</td>\n",
              "    </tr>\n",
              "    <tr>\n",
              "      <th>65696</th>\n",
              "      <td>67362</td>\n",
              "      <td>'place', 'chill', 'corner', 'coffee', 'shop', 'baristaowner', 'neighborhood', 'order', 'tea', 'afternoon', 'jerk', 'get', 'anyway', 'say', 'day', 'judgment', 'pushiness', 'pastry', 'nothing', 'complain', 'chair''great', 'super', 'nonpretentious', 'friendly', 'iced', 'free', 'wifi', 'im', 'know', 'im', 'cheap', 'comfortable', 'awesome', 'great', 'little', 'comfortable', 'much'</td>\n",
              "      <td>5</td>\n",
              "    </tr>\n",
              "    <tr>\n",
              "      <th>65697</th>\n",
              "      <td>67363</td>\n",
              "      <td>'neighborhood', 'gem', 'owner', 'guy', 'place', 'spot', 'hang', 'work', 'coffee''super', 'nice', 'great', 'delicious'</td>\n",
              "      <td>4</td>\n",
              "    </tr>\n",
              "  </tbody>\n",
              "</table>\n",
              "<p>65698 rows × 3 columns</p>\n",
              "</div>\n",
              "      <button class=\"colab-df-convert\" onclick=\"convertToInteractive('df-4b95f678-5024-4dc6-bfc9-d7f0b7f3d995')\"\n",
              "              title=\"Convert this dataframe to an interactive table.\"\n",
              "              style=\"display:none;\">\n",
              "        \n",
              "  <svg xmlns=\"http://www.w3.org/2000/svg\" height=\"24px\"viewBox=\"0 0 24 24\"\n",
              "       width=\"24px\">\n",
              "    <path d=\"M0 0h24v24H0V0z\" fill=\"none\"/>\n",
              "    <path d=\"M18.56 5.44l.94 2.06.94-2.06 2.06-.94-2.06-.94-.94-2.06-.94 2.06-2.06.94zm-11 1L8.5 8.5l.94-2.06 2.06-.94-2.06-.94L8.5 2.5l-.94 2.06-2.06.94zm10 10l.94 2.06.94-2.06 2.06-.94-2.06-.94-.94-2.06-.94 2.06-2.06.94z\"/><path d=\"M17.41 7.96l-1.37-1.37c-.4-.4-.92-.59-1.43-.59-.52 0-1.04.2-1.43.59L10.3 9.45l-7.72 7.72c-.78.78-.78 2.05 0 2.83L4 21.41c.39.39.9.59 1.41.59.51 0 1.02-.2 1.41-.59l7.78-7.78 2.81-2.81c.8-.78.8-2.07 0-2.86zM5.41 20L4 18.59l7.72-7.72 1.47 1.35L5.41 20z\"/>\n",
              "  </svg>\n",
              "      </button>\n",
              "      \n",
              "  <style>\n",
              "    .colab-df-container {\n",
              "      display:flex;\n",
              "      flex-wrap:wrap;\n",
              "      gap: 12px;\n",
              "    }\n",
              "\n",
              "    .colab-df-convert {\n",
              "      background-color: #E8F0FE;\n",
              "      border: none;\n",
              "      border-radius: 50%;\n",
              "      cursor: pointer;\n",
              "      display: none;\n",
              "      fill: #1967D2;\n",
              "      height: 32px;\n",
              "      padding: 0 0 0 0;\n",
              "      width: 32px;\n",
              "    }\n",
              "\n",
              "    .colab-df-convert:hover {\n",
              "      background-color: #E2EBFA;\n",
              "      box-shadow: 0px 1px 2px rgba(60, 64, 67, 0.3), 0px 1px 3px 1px rgba(60, 64, 67, 0.15);\n",
              "      fill: #174EA6;\n",
              "    }\n",
              "\n",
              "    [theme=dark] .colab-df-convert {\n",
              "      background-color: #3B4455;\n",
              "      fill: #D2E3FC;\n",
              "    }\n",
              "\n",
              "    [theme=dark] .colab-df-convert:hover {\n",
              "      background-color: #434B5C;\n",
              "      box-shadow: 0px 1px 3px 1px rgba(0, 0, 0, 0.15);\n",
              "      filter: drop-shadow(0px 1px 2px rgba(0, 0, 0, 0.3));\n",
              "      fill: #FFFFFF;\n",
              "    }\n",
              "  </style>\n",
              "\n",
              "      <script>\n",
              "        const buttonEl =\n",
              "          document.querySelector('#df-4b95f678-5024-4dc6-bfc9-d7f0b7f3d995 button.colab-df-convert');\n",
              "        buttonEl.style.display =\n",
              "          google.colab.kernel.accessAllowed ? 'block' : 'none';\n",
              "\n",
              "        async function convertToInteractive(key) {\n",
              "          const element = document.querySelector('#df-4b95f678-5024-4dc6-bfc9-d7f0b7f3d995');\n",
              "          const dataTable =\n",
              "            await google.colab.kernel.invokeFunction('convertToInteractive',\n",
              "                                                     [key], {});\n",
              "          if (!dataTable) return;\n",
              "\n",
              "          const docLinkHtml = 'Like what you see? Visit the ' +\n",
              "            '<a target=\"_blank\" href=https://colab.research.google.com/notebooks/data_table.ipynb>data table notebook</a>'\n",
              "            + ' to learn more about interactive tables.';\n",
              "          element.innerHTML = '';\n",
              "          dataTable['output_type'] = 'display_data';\n",
              "          await google.colab.output.renderOutput(dataTable, element);\n",
              "          const docLink = document.createElement('div');\n",
              "          docLink.innerHTML = docLinkHtml;\n",
              "          element.appendChild(docLink);\n",
              "        }\n",
              "      </script>\n",
              "    </div>\n",
              "  </div>\n",
              "  "
            ]
          },
          "metadata": {},
          "execution_count": 60
        }
      ]
    },
    {
      "cell_type": "code",
      "source": [
        "#idea from https://www.youtube.com/watch?v=Fuw0wv3X-0o\n",
        "import numpy as np\n",
        "from tensorflow.keras.preprocessing.text import one_hot\n",
        "from tensorflow.keras.preprocessing.sequence import pad_sequences\n",
        "from tensorflow.keras.models import Sequential\n",
        "from tensorflow.keras.layers import Dense\n",
        "from tensorflow.keras.layers import Flatten\n",
        "from tensorflow.keras.layers import Embedding"
      ],
      "metadata": {
        "id": "DsOv6K47DJLe"
      },
      "execution_count": 61,
      "outputs": []
    },
    {
      "cell_type": "code",
      "source": [
        "#convert\n",
        "practice_set['nouns_adjec']= practice_set['nouns_adjec'].astype(str)"
      ],
      "metadata": {
        "id": "JeRgBLT9Dwo2"
      },
      "execution_count": 62,
      "outputs": []
    },
    {
      "cell_type": "code",
      "source": [
        "pd.set_option(\"max_colwidth\", None)"
      ],
      "metadata": {
        "id": "kfCvwsaa0H8P"
      },
      "execution_count": 63,
      "outputs": []
    },
    {
      "cell_type": "code",
      "source": [
        "practice_set.info()"
      ],
      "metadata": {
        "id": "1dF2LqSzEgH3",
        "colab": {
          "base_uri": "https://localhost:8080/"
        },
        "outputId": "a2ced0b0-1810-499a-b1fb-f512d546d8ac"
      },
      "execution_count": 64,
      "outputs": [
        {
          "output_type": "stream",
          "name": "stdout",
          "text": [
            "<class 'pandas.core.frame.DataFrame'>\n",
            "RangeIndex: 65698 entries, 0 to 65697\n",
            "Data columns (total 3 columns):\n",
            " #   Column       Non-Null Count  Dtype \n",
            "---  ------       --------------  ----- \n",
            " 0   index        65698 non-null  int64 \n",
            " 1   nouns_adjec  65698 non-null  object\n",
            " 2   stars_y      65698 non-null  int64 \n",
            "dtypes: int64(2), object(1)\n",
            "memory usage: 1.5+ MB\n"
          ]
        }
      ]
    },
    {
      "cell_type": "code",
      "source": [
        "practice_set['nouns_adjec']"
      ],
      "metadata": {
        "colab": {
          "base_uri": "https://localhost:8080/"
        },
        "id": "YfTfo-6R0vRx",
        "outputId": "d8244fa2-a94b-4ad4-d151-dfc30a625a19"
      },
      "execution_count": 65,
      "outputs": [
        {
          "output_type": "execute_result",
          "data": {
            "text/plain": [
              "0                                                                                                                                                                                                                                                'heart', 'philadelphia', 'female', 'cashier', 'pastry', 'show', 'display', 'case', 'evening', 'sesame', 'ball', 'paste', 'rice', 'ball', 'bai', 'tang', 'gao', 'area''nice', 'little', 'bakery', 'chinatown', 'flirtatious', 'adorn', 'fill', 'bean', 'glutinous', 'similar', 'place', 'worth'\n",
              "1                                                                                                                                                                         'bakery', 'variety', 'bun', 'pastry', 'bun', 'mung', 'coconut', 'stuff', 'egg', 'tart', 'dozen', 'price', 'standard', 'thing', 'service', 'serve', 'coffee', 'tea', 'couple', 'group', 'guy', 'chillin', 'corner', 'debate', 'something', 'place', 'stock', 'bun', 'town''chinatown', 'decent', 'beanfilled', 'bun', 'free', 'good', 'table', 'old', 'table', 'great'\n",
              "2                                                                                                                                                                                                                                                                                                                                                                                    'kind', 'service', 'everyone', 'treat', 'treat', 'judgement', 'theyre', 'favorite''delightful', 'chinatown', 'clean', 'happy', 'delicious', 'ton', 'sweet'\n",
              "3                                                                                                                                                                                                                                                                                                                                                                                                                                                   'order', 'graduation', 'event', 'staff', 'nice''niece', 'perfect', 'come', 'future', 'good'\n",
              "4        'milk', 'saint', 'honore', 'pastry', 'business', 'boyfriend', 'time', 'cross', 'mind', 'try', 'think', 'year', 'try', 'hkstyle', 'milk', 'tea', 'hook', 'think', 'day', 'week', 'milk', 'tea', 'sugar', 'i', 'zhong', 'gang', 'milk', 'day', 'ice', 'ice', 'etc', 'note', 'try', 'crispy', 'roast', 'pork', 'bun', 'name', 'pork', 'bun', 'crispy', 'roast', 'pork', 'bun''hkstyle', 'sure', 'memorable', 'decide', 'watch', 'good', 'good', 'hkstyle', 'certain', 'lady', 'enough', 'much', 'side', 'wrong', 'roast', 'decent', 'try'\n",
              "                                                                                                                                                                                                                                                                          ...                                                                                                                                                                                                                                                                  \n",
              "65693                                                                                                                                                                                                                                                                                                                                                                                   'coffee', 'shop', 'work', 'price', 'variety', 'beverage', 'cold', 'choose', 'selection', 'something', 'eat''cute', 'low', 'nice', 'hot', 'seem', 'nice'\n",
              "65694                                                                                                                                                                                                                                                                                                                                                                                                    'cash', 'coffee', 'spot', 'cozy', 'spot', 'coffee', 'medium', 'latte', 'get', 'time', 'part''nice', 'invite', 'pick', 'ordered', 'bad'\n",
              "65695                                                                                                                                                                                                                                                                                                                                                                                         'hand', 'ice', 'coffee', 'terrific', 'guy', 'counter', 'try', 'apartment', 'bella', 'vista', 'place', 'vote', 'apartment', 'good''freak', 'close'\n",
              "65696                                                                                                                                                'place', 'chill', 'corner', 'coffee', 'shop', 'baristaowner', 'neighborhood', 'order', 'tea', 'afternoon', 'jerk', 'get', 'anyway', 'say', 'day', 'judgment', 'pushiness', 'pastry', 'nothing', 'complain', 'chair''great', 'super', 'nonpretentious', 'friendly', 'iced', 'free', 'wifi', 'im', 'know', 'im', 'cheap', 'comfortable', 'awesome', 'great', 'little', 'comfortable', 'much'\n",
              "65697                                                                                                                                                                                                                                                                                                                                                                                                                     'neighborhood', 'gem', 'owner', 'guy', 'place', 'spot', 'hang', 'work', 'coffee''super', 'nice', 'great', 'delicious'\n",
              "Name: nouns_adjec, Length: 65698, dtype: object"
            ]
          },
          "metadata": {},
          "execution_count": 65
        }
      ]
    },
    {
      "cell_type": "code",
      "source": [
        "practice_set['nouns_adjec'] = practice_set['nouns_adjec'].astype(str).apply(lambda x: x.replace('\"', ''))"
      ],
      "metadata": {
        "id": "dppodKn6FV02"
      },
      "execution_count": 66,
      "outputs": []
    },
    {
      "cell_type": "code",
      "source": [
        "practice_set['nouns_adjec'] = practice_set['nouns_adjec'].apply(lambda x: x.replace('[', ''))\n",
        "practice_set['nouns_adjec'] = practice_set['nouns_adjec'].apply(lambda x: x.replace(']', ''))\n",
        "practice_set['nouns_adjec'] = practice_set['nouns_adjec'].apply(lambda x: x.replace(',', ''))"
      ],
      "metadata": {
        "id": "uWpmuHM9kFBz"
      },
      "execution_count": 67,
      "outputs": []
    },
    {
      "cell_type": "code",
      "source": [
        "practice_set['nouns_adjec'][0]"
      ],
      "metadata": {
        "colab": {
          "base_uri": "https://localhost:8080/",
          "height": 53
        },
        "id": "StbXtLLgHAI1",
        "outputId": "7780ac31-1f43-48df-cb3e-e26d48a87988"
      },
      "execution_count": 68,
      "outputs": [
        {
          "output_type": "execute_result",
          "data": {
            "text/plain": [
              "\"'heart' 'philadelphia' 'female' 'cashier' 'pastry' 'show' 'display' 'case' 'evening' 'sesame' 'ball' 'paste' 'rice' 'ball' 'bai' 'tang' 'gao' 'area''nice' 'little' 'bakery' 'chinatown' 'flirtatious' 'adorn' 'fill' 'bean' 'glutinous' 'similar' 'place' 'worth'\""
            ],
            "application/vnd.google.colaboratory.intrinsic+json": {
              "type": "string"
            }
          },
          "metadata": {},
          "execution_count": 68
        }
      ]
    },
    {
      "cell_type": "code",
      "source": [],
      "metadata": {
        "id": "6d8UuwfMkCm1"
      },
      "execution_count": 68,
      "outputs": []
    },
    {
      "cell_type": "code",
      "source": [
        "import nltk\n",
        "from gensim.models import Word2Vec, KeyedVectors\n"
      ],
      "metadata": {
        "id": "NllTx_scMjnC"
      },
      "execution_count": 69,
      "outputs": []
    },
    {
      "cell_type": "code",
      "source": [
        "nltk.download('punkt')"
      ],
      "metadata": {
        "id": "kZth_U5mM3-c",
        "colab": {
          "base_uri": "https://localhost:8080/"
        },
        "outputId": "71161c99-e72c-4c3f-c9d4-6643ba190b9f"
      },
      "execution_count": 70,
      "outputs": [
        {
          "output_type": "stream",
          "name": "stderr",
          "text": [
            "[nltk_data] Downloading package punkt to /root/nltk_data...\n",
            "[nltk_data]   Package punkt is already up-to-date!\n"
          ]
        },
        {
          "output_type": "execute_result",
          "data": {
            "text/plain": [
              "True"
            ]
          },
          "metadata": {},
          "execution_count": 70
        }
      ]
    },
    {
      "cell_type": "code",
      "source": [],
      "metadata": {
        "id": "ys28IHHyPIBa"
      },
      "execution_count": 70,
      "outputs": []
    },
    {
      "cell_type": "code",
      "source": [
        "practice_set['nouns_adjec'][2]"
      ],
      "metadata": {
        "colab": {
          "base_uri": "https://localhost:8080/",
          "height": 35
        },
        "id": "NVWWxb7Mfmc9",
        "outputId": "ef5f99da-ae2a-4848-c089-f5b73cfb8a60"
      },
      "execution_count": 71,
      "outputs": [
        {
          "output_type": "execute_result",
          "data": {
            "text/plain": [
              "\"'kind' 'service' 'everyone' 'treat' 'treat' 'judgement' 'theyre' 'favorite''delightful' 'chinatown' 'clean' 'happy' 'delicious' 'ton' 'sweet'\""
            ],
            "application/vnd.google.colaboratory.intrinsic+json": {
              "type": "string"
            }
          },
          "metadata": {},
          "execution_count": 71
        }
      ]
    },
    {
      "cell_type": "code",
      "source": [
        "from nltk import word_tokenize\n",
        "nltk.download('punkt') "
      ],
      "metadata": {
        "id": "3r_ZhU_9sWMX",
        "colab": {
          "base_uri": "https://localhost:8080/"
        },
        "outputId": "db811961-7f39-456a-d333-bdadc58241d2"
      },
      "execution_count": 72,
      "outputs": [
        {
          "output_type": "stream",
          "name": "stderr",
          "text": [
            "[nltk_data] Downloading package punkt to /root/nltk_data...\n",
            "[nltk_data]   Package punkt is already up-to-date!\n"
          ]
        },
        {
          "output_type": "execute_result",
          "data": {
            "text/plain": [
              "True"
            ]
          },
          "metadata": {},
          "execution_count": 72
        }
      ]
    },
    {
      "cell_type": "code",
      "source": [
        "practice_set['nouns_adjec']= practice_set['nouns_adjec'].astype(str)"
      ],
      "metadata": {
        "id": "17Vs6HunhHOJ"
      },
      "execution_count": 73,
      "outputs": []
    },
    {
      "cell_type": "code",
      "source": [
        "corpus =  practice_set['nouns_adjec'].map(word_tokenize)\n"
      ],
      "metadata": {
        "id": "m4DUxWvvPJhC"
      },
      "execution_count": 74,
      "outputs": []
    },
    {
      "cell_type": "code",
      "source": [],
      "metadata": {
        "id": "4x1liBa6sldw"
      },
      "execution_count": 74,
      "outputs": []
    },
    {
      "cell_type": "code",
      "source": [
        "nltk.download('punkt')"
      ],
      "metadata": {
        "colab": {
          "base_uri": "https://localhost:8080/"
        },
        "id": "6irQ3YlpPb3C",
        "outputId": "d90236ea-d19e-4b01-96a7-a65d4f9b2657"
      },
      "execution_count": 75,
      "outputs": [
        {
          "output_type": "stream",
          "name": "stderr",
          "text": [
            "[nltk_data] Downloading package punkt to /root/nltk_data...\n",
            "[nltk_data]   Package punkt is already up-to-date!\n"
          ]
        },
        {
          "output_type": "execute_result",
          "data": {
            "text/plain": [
              "True"
            ]
          },
          "metadata": {},
          "execution_count": 75
        }
      ]
    },
    {
      "cell_type": "code",
      "source": [],
      "metadata": {
        "id": "PPraP2JNVb_z"
      },
      "execution_count": 75,
      "outputs": []
    },
    {
      "cell_type": "code",
      "source": [
        "corpus"
      ],
      "metadata": {
        "id": "nYIEeJJJw7C4",
        "outputId": "19d49061-6358-4775-b790-4211a7a881f3",
        "colab": {
          "base_uri": "https://localhost:8080/"
        }
      },
      "execution_count": 76,
      "outputs": [
        {
          "output_type": "execute_result",
          "data": {
            "text/plain": [
              "0                                                                                                                                                                                         ['heart, ', 'philadelphia, ', 'female, ', 'cashier, ', 'pastry, ', 'show, ', 'display, ', 'case, ', 'evening, ', 'sesame, ', 'ball, ', 'paste, ', 'rice, ', 'ball, ', 'bai, ', 'tang, ', 'gao, ', 'area, '', nice, ', 'little, ', 'bakery, ', 'chinatown, ', 'flirtatious, ', 'adorn, ', 'fill, ', 'bean, ', 'glutinous, ', 'similar, ', 'place, ', 'worth, ']\n",
              "1                                                                                                ['bakery, ', 'variety, ', 'bun, ', 'pastry, ', 'bun, ', 'mung, ', 'coconut, ', 'stuff, ', 'egg, ', 'tart, ', 'dozen, ', 'price, ', 'standard, ', 'thing, ', 'service, ', 'serve, ', 'coffee, ', 'tea, ', 'couple, ', 'group, ', 'guy, ', 'chillin, ', 'corner, ', 'debate, ', 'something, ', 'place, ', 'stock, ', 'bun, ', 'town, '', chinatown, ', 'decent, ', 'beanfilled, ', 'bun, ', 'free, ', 'good, ', 'table, ', 'old, ', 'table, ', 'great, ']\n",
              "2                                                                                                                                                                                                                                                                                                                                                           ['kind, ', 'service, ', 'everyone, ', 'treat, ', 'treat, ', 'judgement, ', 'theyre, ', 'favorite, '', delightful, ', 'chinatown, ', 'clean, ', 'happy, ', 'delicious, ', 'ton, ', 'sweet, ']\n",
              "3                                                                                                                                                                                                                                                                                                                                                                                                                                    ['order, ', 'graduation, ', 'event, ', 'staff, ', 'nice, '', niece, ', 'perfect, ', 'come, ', 'future, ', 'good, ']\n",
              "4        ['milk, ', 'saint, ', 'honore, ', 'pastry, ', 'business, ', 'boyfriend, ', 'time, ', 'cross, ', 'mind, ', 'try, ', 'think, ', 'year, ', 'try, ', 'hkstyle, ', 'milk, ', 'tea, ', 'hook, ', 'think, ', 'day, ', 'week, ', 'milk, ', 'tea, ', 'sugar, ', ', i, ', 'zhong, ', 'gang, ', 'milk, ', 'day, ', 'ice, ', 'ice, ', 'etc, ', 'note, ', 'try, ', 'crispy, ', 'roast, ', 'pork, ', 'bun, ', 'name, ', 'pork, ', 'bun, ', 'crispy, ', 'roast, ', 'pork, ', 'bun, '', hkstyle, ', 'sure, ', 'memorable, ', 'decide, ', 'watch, ', 'good, ...]\n",
              "                                                                                                                                                                                                                                                                              ...                                                                                                                                                                                                                                                                       \n",
              "65693                                                                                                                                                                                                                                                                                                                                                      ['coffee, ', 'shop, ', 'work, ', 'price, ', 'variety, ', 'beverage, ', 'cold, ', 'choose, ', 'selection, ', 'something, ', 'eat, '', cute, ', 'low, ', 'nice, ', 'hot, ', 'seem, ', 'nice, ']\n",
              "65694                                                                                                                                                                                                                                                                                                                                                                         ['cash, ', 'coffee, ', 'spot, ', 'cozy, ', 'spot, ', 'coffee, ', 'medium, ', 'latte, ', 'get, ', 'time, ', 'part, '', nice, ', 'invite, ', 'pick, ', 'ordered, ', 'bad, ']\n",
              "65695                                                                                                                                                                                                                                                                                                                                                              ['hand, ', 'ice, ', 'coffee, ', 'terrific, ', 'guy, ', 'counter, ', 'try, ', 'apartment, ', 'bella, ', 'vista, ', 'place, ', 'vote, ', 'apartment, ', 'good, '', freak, ', 'close, ']\n",
              "65696                                                                         ['place, ', 'chill, ', 'corner, ', 'coffee, ', 'shop, ', 'baristaowner, ', 'neighborhood, ', 'order, ', 'tea, ', 'afternoon, ', 'jerk, ', 'get, ', 'anyway, ', 'say, ', 'day, ', 'judgment, ', 'pushiness, ', 'pastry, ', 'nothing, ', 'complain, ', 'chair, '', great, ', 'super, ', 'nonpretentious, ', 'friendly, ', 'iced, ', 'free, ', 'wifi, ', 'im, ', 'know, ', 'im, ', 'cheap, ', 'comfortable, ', 'awesome, ', 'great, ', 'little, ', 'comfortable, ', 'much, ']\n",
              "65697                                                                                                                                                                                                                                                                                                                                                                                                ['neighborhood, ', 'gem, ', 'owner, ', 'guy, ', 'place, ', 'spot, ', 'hang, ', 'work, ', 'coffee, '', super, ', 'nice, ', 'great, ', 'delicious, ']\n",
              "Name: nouns_adjec, Length: 65698, dtype: object"
            ]
          },
          "metadata": {},
          "execution_count": 76
        }
      ]
    },
    {
      "cell_type": "code",
      "source": [],
      "metadata": {
        "id": "MpxDxY00PfkR"
      },
      "execution_count": 76,
      "outputs": []
    },
    {
      "cell_type": "code",
      "source": [],
      "metadata": {
        "id": "dQqRCLI8w3L2"
      },
      "execution_count": 76,
      "outputs": []
    },
    {
      "cell_type": "code",
      "source": [
        "vectorizedcorpus.type()"
      ],
      "metadata": {
        "colab": {
          "base_uri": "https://localhost:8080/",
          "height": 755
        },
        "id": "g3RcR0b4Sdvr",
        "outputId": "0e06d635-9673-43ef-9f01-6d4034c9b09e"
      },
      "execution_count": 77,
      "outputs": [
        {
          "output_type": "stream",
          "name": "stderr",
          "text": [
            "ERROR:root:Internal Python error in the inspect module.\n",
            "Below is the traceback from this internal error.\n",
            "\n"
          ]
        },
        {
          "output_type": "stream",
          "name": "stdout",
          "text": [
            "Traceback (most recent call last):\n",
            "  File \"/usr/local/lib/python3.8/dist-packages/IPython/core/interactiveshell.py\", line 3326, in run_code\n",
            "    exec(code_obj, self.user_global_ns, self.user_ns)\n",
            "  File \"<ipython-input-77-745c667f9e20>\", line 1, in <module>\n",
            "    vectorizedcorpus.type()\n",
            "NameError: name 'vectorizedcorpus' is not defined\n",
            "\n",
            "During handling of the above exception, another exception occurred:\n",
            "\n",
            "Traceback (most recent call last):\n",
            "  File \"/usr/local/lib/python3.8/dist-packages/IPython/core/interactiveshell.py\", line 2040, in showtraceback\n",
            "    stb = value._render_traceback_()\n",
            "AttributeError: 'NameError' object has no attribute '_render_traceback_'\n",
            "\n",
            "During handling of the above exception, another exception occurred:\n",
            "\n",
            "Traceback (most recent call last):\n",
            "  File \"/usr/local/lib/python3.8/dist-packages/IPython/core/ultratb.py\", line 1101, in get_records\n",
            "    return _fixed_getinnerframes(etb, number_of_lines_of_context, tb_offset)\n",
            "  File \"/usr/local/lib/python3.8/dist-packages/IPython/core/ultratb.py\", line 319, in wrapped\n",
            "    return f(*args, **kwargs)\n",
            "  File \"/usr/local/lib/python3.8/dist-packages/IPython/core/ultratb.py\", line 353, in _fixed_getinnerframes\n",
            "    records = fix_frame_records_filenames(inspect.getinnerframes(etb, context))\n",
            "  File \"/usr/lib/python3.8/inspect.py\", line 1515, in getinnerframes\n",
            "    frameinfo = (tb.tb_frame,) + getframeinfo(tb, context)\n",
            "  File \"/usr/lib/python3.8/inspect.py\", line 1473, in getframeinfo\n",
            "    filename = getsourcefile(frame) or getfile(frame)\n",
            "  File \"/usr/lib/python3.8/inspect.py\", line 708, in getsourcefile\n",
            "    if getattr(getmodule(object, filename), '__loader__', None) is not None:\n",
            "  File \"/usr/lib/python3.8/inspect.py\", line 737, in getmodule\n",
            "    file = getabsfile(object, _filename)\n",
            "  File \"/usr/lib/python3.8/inspect.py\", line 721, in getabsfile\n",
            "    return os.path.normcase(os.path.abspath(_filename))\n",
            "  File \"/usr/lib/python3.8/posixpath.py\", line 379, in abspath\n",
            "    cwd = os.getcwd()\n",
            "FileNotFoundError: [Errno 2] No such file or directory\n"
          ]
        },
        {
          "output_type": "error",
          "ename": "NameError",
          "evalue": "ignored",
          "traceback": [
            "\u001b[0;31m---------------------------------------------------------------------------\u001b[0m"
          ]
        }
      ]
    },
    {
      "cell_type": "code",
      "source": [],
      "metadata": {
        "id": "bUp9pk4QSx-b"
      },
      "execution_count": null,
      "outputs": []
    },
    {
      "cell_type": "code",
      "source": [
        "#min count = 1 for freq \n",
        "#vectorsize = 100 \n",
        "#windows = amount it will go left and right \n",
        "model = Word2Vec(corpus, size=300, min_count = 1, window = 10)"
      ],
      "metadata": {
        "id": "D_0Uvq4_PlQh"
      },
      "execution_count": 79,
      "outputs": []
    },
    {
      "cell_type": "code",
      "source": [
        "vocabulary = model.wv.vocab"
      ],
      "metadata": {
        "id": "kQnxQGGjRsKQ"
      },
      "execution_count": 80,
      "outputs": []
    },
    {
      "cell_type": "code",
      "source": [
        "vocabulary\n"
      ],
      "metadata": {
        "id": "VA0OXYPISSqM",
        "colab": {
          "base_uri": "https://localhost:8080/"
        },
        "outputId": "6c1838c1-8005-4fb2-a41f-7500bc173796"
      },
      "execution_count": 81,
      "outputs": [
        {
          "output_type": "execute_result",
          "data": {
            "text/plain": [
              "{\"'heart\": <gensim.models.keyedvectors.Vocab at 0x7f96071de4f0>,\n",
              " \"'\": <gensim.models.keyedvectors.Vocab at 0x7f96071de070>,\n",
              " \"'philadelphia\": <gensim.models.keyedvectors.Vocab at 0x7f96071de970>,\n",
              " \"'female\": <gensim.models.keyedvectors.Vocab at 0x7f96071ded90>,\n",
              " \"'cashier\": <gensim.models.keyedvectors.Vocab at 0x7f96071de100>,\n",
              " \"'pastry\": <gensim.models.keyedvectors.Vocab at 0x7f96071de9d0>,\n",
              " \"'show\": <gensim.models.keyedvectors.Vocab at 0x7f96071defa0>,\n",
              " \"'display\": <gensim.models.keyedvectors.Vocab at 0x7f96071deee0>,\n",
              " \"'case\": <gensim.models.keyedvectors.Vocab at 0x7f96071de1c0>,\n",
              " \"'evening\": <gensim.models.keyedvectors.Vocab at 0x7f96071dea30>,\n",
              " \"'sesame\": <gensim.models.keyedvectors.Vocab at 0x7f96071de4c0>,\n",
              " \"'ball\": <gensim.models.keyedvectors.Vocab at 0x7f96071de8e0>,\n",
              " \"'paste\": <gensim.models.keyedvectors.Vocab at 0x7f96071de7f0>,\n",
              " \"'rice\": <gensim.models.keyedvectors.Vocab at 0x7f96071de940>,\n",
              " \"'bai\": <gensim.models.keyedvectors.Vocab at 0x7f96071debb0>,\n",
              " \"'tang\": <gensim.models.keyedvectors.Vocab at 0x7f96071de340>,\n",
              " \"'gao\": <gensim.models.keyedvectors.Vocab at 0x7f9676543f10>,\n",
              " \"'area\": <gensim.models.keyedvectors.Vocab at 0x7f9676543e50>,\n",
              " \"''\": <gensim.models.keyedvectors.Vocab at 0x7f9676543130>,\n",
              " 'nice': <gensim.models.keyedvectors.Vocab at 0x7f9676543c10>,\n",
              " \"'little\": <gensim.models.keyedvectors.Vocab at 0x7f9676543250>,\n",
              " \"'bakery\": <gensim.models.keyedvectors.Vocab at 0x7f96765434c0>,\n",
              " \"'chinatown\": <gensim.models.keyedvectors.Vocab at 0x7f96765431c0>,\n",
              " \"'flirtatious\": <gensim.models.keyedvectors.Vocab at 0x7f9676543b50>,\n",
              " \"'adorn\": <gensim.models.keyedvectors.Vocab at 0x7f96f42c58e0>,\n",
              " \"'fill\": <gensim.models.keyedvectors.Vocab at 0x7f9605d26f70>,\n",
              " \"'bean\": <gensim.models.keyedvectors.Vocab at 0x7f9605d26b50>,\n",
              " \"'glutinous\": <gensim.models.keyedvectors.Vocab at 0x7f9605d261f0>,\n",
              " \"'similar\": <gensim.models.keyedvectors.Vocab at 0x7f9605d26e20>,\n",
              " \"'place\": <gensim.models.keyedvectors.Vocab at 0x7f9605d26760>,\n",
              " \"'worth\": <gensim.models.keyedvectors.Vocab at 0x7f9605d26ac0>,\n",
              " \"'variety\": <gensim.models.keyedvectors.Vocab at 0x7f9605d26040>,\n",
              " \"'bun\": <gensim.models.keyedvectors.Vocab at 0x7f9605d260a0>,\n",
              " \"'mung\": <gensim.models.keyedvectors.Vocab at 0x7f9605d26f10>,\n",
              " \"'coconut\": <gensim.models.keyedvectors.Vocab at 0x7f9605d26ee0>,\n",
              " \"'stuff\": <gensim.models.keyedvectors.Vocab at 0x7f9605d26490>,\n",
              " \"'egg\": <gensim.models.keyedvectors.Vocab at 0x7f9605d267f0>,\n",
              " \"'tart\": <gensim.models.keyedvectors.Vocab at 0x7f9605d26d30>,\n",
              " \"'dozen\": <gensim.models.keyedvectors.Vocab at 0x7f9605d26340>,\n",
              " \"'price\": <gensim.models.keyedvectors.Vocab at 0x7f9605d26b20>,\n",
              " \"'standard\": <gensim.models.keyedvectors.Vocab at 0x7f9605d261c0>,\n",
              " \"'thing\": <gensim.models.keyedvectors.Vocab at 0x7f9605d26a30>,\n",
              " \"'service\": <gensim.models.keyedvectors.Vocab at 0x7f9605d263d0>,\n",
              " \"'serve\": <gensim.models.keyedvectors.Vocab at 0x7f9605d26220>,\n",
              " \"'coffee\": <gensim.models.keyedvectors.Vocab at 0x7f9605d26850>,\n",
              " \"'tea\": <gensim.models.keyedvectors.Vocab at 0x7f9675249af0>,\n",
              " \"'couple\": <gensim.models.keyedvectors.Vocab at 0x7f96752497f0>,\n",
              " \"'group\": <gensim.models.keyedvectors.Vocab at 0x7f9675249490>,\n",
              " \"'guy\": <gensim.models.keyedvectors.Vocab at 0x7f9675249160>,\n",
              " \"'chillin\": <gensim.models.keyedvectors.Vocab at 0x7f9675249910>,\n",
              " \"'corner\": <gensim.models.keyedvectors.Vocab at 0x7f9675249940>,\n",
              " \"'debate\": <gensim.models.keyedvectors.Vocab at 0x7f9675249850>,\n",
              " \"'something\": <gensim.models.keyedvectors.Vocab at 0x7f96752495e0>,\n",
              " \"'stock\": <gensim.models.keyedvectors.Vocab at 0x7f9675249430>,\n",
              " \"'town\": <gensim.models.keyedvectors.Vocab at 0x7f9675249970>,\n",
              " 'chinatown': <gensim.models.keyedvectors.Vocab at 0x7f9675249820>,\n",
              " \"'decent\": <gensim.models.keyedvectors.Vocab at 0x7f9675249070>,\n",
              " \"'beanfilled\": <gensim.models.keyedvectors.Vocab at 0x7f96752492e0>,\n",
              " \"'free\": <gensim.models.keyedvectors.Vocab at 0x7f96752494c0>,\n",
              " \"'good\": <gensim.models.keyedvectors.Vocab at 0x7f9675249220>,\n",
              " \"'table\": <gensim.models.keyedvectors.Vocab at 0x7f967653e5b0>,\n",
              " \"'old\": <gensim.models.keyedvectors.Vocab at 0x7f967653ec40>,\n",
              " \"'great\": <gensim.models.keyedvectors.Vocab at 0x7f967653e640>,\n",
              " \"'kind\": <gensim.models.keyedvectors.Vocab at 0x7f967653ec10>,\n",
              " \"'everyone\": <gensim.models.keyedvectors.Vocab at 0x7f967653e340>,\n",
              " \"'treat\": <gensim.models.keyedvectors.Vocab at 0x7f967653e7f0>,\n",
              " \"'judgement\": <gensim.models.keyedvectors.Vocab at 0x7f967653ebe0>,\n",
              " \"'theyre\": <gensim.models.keyedvectors.Vocab at 0x7f967653e460>,\n",
              " \"'favorite\": <gensim.models.keyedvectors.Vocab at 0x7f967653eee0>,\n",
              " 'delightful': <gensim.models.keyedvectors.Vocab at 0x7f967653e130>,\n",
              " \"'clean\": <gensim.models.keyedvectors.Vocab at 0x7f96058186d0>,\n",
              " \"'happy\": <gensim.models.keyedvectors.Vocab at 0x7f9605818700>,\n",
              " \"'delicious\": <gensim.models.keyedvectors.Vocab at 0x7f9605818ac0>,\n",
              " \"'ton\": <gensim.models.keyedvectors.Vocab at 0x7f9605818fd0>,\n",
              " \"'sweet\": <gensim.models.keyedvectors.Vocab at 0x7f9605818eb0>,\n",
              " \"'order\": <gensim.models.keyedvectors.Vocab at 0x7f9605818340>,\n",
              " \"'graduation\": <gensim.models.keyedvectors.Vocab at 0x7f96058187c0>,\n",
              " \"'event\": <gensim.models.keyedvectors.Vocab at 0x7f9605818100>,\n",
              " \"'staff\": <gensim.models.keyedvectors.Vocab at 0x7f96058188e0>,\n",
              " \"'nice\": <gensim.models.keyedvectors.Vocab at 0x7f9605818f40>,\n",
              " 'niece': <gensim.models.keyedvectors.Vocab at 0x7f9605818e80>,\n",
              " \"'perfect\": <gensim.models.keyedvectors.Vocab at 0x7f96058187f0>,\n",
              " \"'come\": <gensim.models.keyedvectors.Vocab at 0x7f96058180d0>,\n",
              " \"'future\": <gensim.models.keyedvectors.Vocab at 0x7f9605818a30>,\n",
              " \"'milk\": <gensim.models.keyedvectors.Vocab at 0x7f9605818c10>,\n",
              " \"'saint\": <gensim.models.keyedvectors.Vocab at 0x7f9605818f70>,\n",
              " \"'honore\": <gensim.models.keyedvectors.Vocab at 0x7f9605818b80>,\n",
              " \"'business\": <gensim.models.keyedvectors.Vocab at 0x7f96058180a0>,\n",
              " \"'boyfriend\": <gensim.models.keyedvectors.Vocab at 0x7f9605818520>,\n",
              " \"'time\": <gensim.models.keyedvectors.Vocab at 0x7f96058182e0>,\n",
              " \"'cross\": <gensim.models.keyedvectors.Vocab at 0x7f96058189a0>,\n",
              " \"'mind\": <gensim.models.keyedvectors.Vocab at 0x7f96058188b0>,\n",
              " \"'try\": <gensim.models.keyedvectors.Vocab at 0x7f96058181f0>,\n",
              " \"'think\": <gensim.models.keyedvectors.Vocab at 0x7f9605818550>,\n",
              " \"'year\": <gensim.models.keyedvectors.Vocab at 0x7f96058189d0>,\n",
              " \"'hkstyle\": <gensim.models.keyedvectors.Vocab at 0x7f9605818c70>,\n",
              " \"'hook\": <gensim.models.keyedvectors.Vocab at 0x7f9605818d60>,\n",
              " \"'day\": <gensim.models.keyedvectors.Vocab at 0x7f95f69a6340>,\n",
              " \"'week\": <gensim.models.keyedvectors.Vocab at 0x7f95f69a6100>,\n",
              " \"'sugar\": <gensim.models.keyedvectors.Vocab at 0x7f95f69a6640>,\n",
              " 'i': <gensim.models.keyedvectors.Vocab at 0x7f95f69a6d90>,\n",
              " \"'zhong\": <gensim.models.keyedvectors.Vocab at 0x7f95f69a6280>,\n",
              " \"'gang\": <gensim.models.keyedvectors.Vocab at 0x7f95f69a66a0>,\n",
              " \"'ice\": <gensim.models.keyedvectors.Vocab at 0x7f95f69a67f0>,\n",
              " \"'etc\": <gensim.models.keyedvectors.Vocab at 0x7f95f69a6dc0>,\n",
              " \"'note\": <gensim.models.keyedvectors.Vocab at 0x7f95f69a6e50>,\n",
              " \"'crispy\": <gensim.models.keyedvectors.Vocab at 0x7f95f69a6e80>,\n",
              " \"'roast\": <gensim.models.keyedvectors.Vocab at 0x7f95f69a61c0>,\n",
              " \"'pork\": <gensim.models.keyedvectors.Vocab at 0x7f95f69a6250>,\n",
              " \"'name\": <gensim.models.keyedvectors.Vocab at 0x7f95f69a6550>,\n",
              " 'hkstyle': <gensim.models.keyedvectors.Vocab at 0x7f95f69a61f0>,\n",
              " \"'sure\": <gensim.models.keyedvectors.Vocab at 0x7f95f69a65e0>,\n",
              " \"'memorable\": <gensim.models.keyedvectors.Vocab at 0x7f95f69a68e0>,\n",
              " \"'decide\": <gensim.models.keyedvectors.Vocab at 0x7f95f69a6be0>,\n",
              " \"'watch\": <gensim.models.keyedvectors.Vocab at 0x7f95f69a6b50>,\n",
              " \"'certain\": <gensim.models.keyedvectors.Vocab at 0x7f95f69a6820>,\n",
              " \"'lady\": <gensim.models.keyedvectors.Vocab at 0x7f95f69a6cd0>,\n",
              " \"'enough\": <gensim.models.keyedvectors.Vocab at 0x7f95f69a6c70>,\n",
              " \"'much\": <gensim.models.keyedvectors.Vocab at 0x7f95f69a63a0>,\n",
              " \"'side\": <gensim.models.keyedvectors.Vocab at 0x7f95f69a6f40>,\n",
              " \"'wrong\": <gensim.models.keyedvectors.Vocab at 0x7f95f69a6760>,\n",
              " \"'bao\": <gensim.models.keyedvectors.Vocab at 0x7f95f69a6940>,\n",
              " \"'isnt\": <gensim.models.keyedvectors.Vocab at 0x7f95f69a6f10>,\n",
              " \"'seat\": <gensim.models.keyedvectors.Vocab at 0x7f95f69a6130>,\n",
              " 'favorite': <gensim.models.keyedvectors.Vocab at 0x7f95f69a6f70>,\n",
              " \"'pineapple\": <gensim.models.keyedvectors.Vocab at 0x7f95f69a6af0>,\n",
              " \"'red\": <gensim.models.keyedvectors.Vocab at 0x7f95f69a6220>,\n",
              " \"'bags\": <gensim.models.keyedvectors.Vocab at 0x7f95f69a6df0>,\n",
              " \"'multiple\": <gensim.models.keyedvectors.Vocab at 0x7f95f69a6fd0>,\n",
              " \"'custard\": <gensim.models.keyedvectors.Vocab at 0x7f95f69a6580>,\n",
              " \"'english\": <gensim.models.keyedvectors.Vocab at 0x7f95f69a6730>,\n",
              " \"'ordinary\": <gensim.models.keyedvectors.Vocab at 0x7f95f69a6040>,\n",
              " \"'drop\": <gensim.models.keyedvectors.Vocab at 0x7f95f69a6a30>,\n",
              " \"'store\": <gensim.models.keyedvectors.Vocab at 0x7f95f69a6160>,\n",
              " \"'company\": <gensim.models.keyedvectors.Vocab at 0x7f9675251f10>,\n",
              " \"'kong\": <gensim.models.keyedvectors.Vocab at 0x7f9675251be0>,\n",
              " \"'werent\": <gensim.models.keyedvectors.Vocab at 0x7f9675251640>,\n",
              " \"'didnt\": <gensim.models.keyedvectors.Vocab at 0x7f9675251e80>,\n",
              " \"'way\": <gensim.models.keyedvectors.Vocab at 0x7f9675251f70>,\n",
              " \"'hong\": <gensim.models.keyedvectors.Vocab at 0x7f9675251430>,\n",
              " \"'kongthey\": <gensim.models.keyedvectors.Vocab at 0x7f9675251400>,\n",
              " \"'credit\": <gensim.models.keyedvectors.Vocab at 0x7f9675251340>,\n",
              " \"'card\": <gensim.models.keyedvectors.Vocab at 0x7f9675251b80>,\n",
              " \"'lot\": <gensim.models.keyedvectors.Vocab at 0x7f96752516a0>,\n",
              " \"'construction\": <gensim.models.keyedvectors.Vocab at 0x7f9675251ac0>,\n",
              " 'hong': <gensim.models.keyedvectors.Vocab at 0x7f9675251a60>,\n",
              " \"'find\": <gensim.models.keyedvectors.Vocab at 0x7f9675251a00>,\n",
              " \"'fresh\": <gensim.models.keyedvectors.Vocab at 0x7f9675251580>,\n",
              " \"'alley\": <gensim.models.keyedvectors.Vocab at 0x7f96752511f0>,\n",
              " \"'impression\": <gensim.models.keyedvectors.Vocab at 0x7f9675251880>,\n",
              " \"'kok\": <gensim.models.keyedvectors.Vocab at 0x7f9675251460>,\n",
              " \"'sell\": <gensim.models.keyedvectors.Vocab at 0x7f96752519d0>,\n",
              " \"'roll\": <gensim.models.keyedvectors.Vocab at 0x7f9667b8f040>,\n",
              " \"'cake\": <gensim.models.keyedvectors.Vocab at 0x7f9667b8f0a0>,\n",
              " \"'taro\": <gensim.models.keyedvectors.Vocab at 0x7f9667b8f100>,\n",
              " \"'meat\": <gensim.models.keyedvectors.Vocab at 0x7f9667b8f160>,\n",
              " \"'ham\": <gensim.models.keyedvectors.Vocab at 0x7f9667b8f1c0>,\n",
              " \"'fare\": <gensim.models.keyedvectors.Vocab at 0x7f9667b8f220>,\n",
              " \"'bc\": <gensim.models.keyedvectors.Vocab at 0x7f9667b8f280>,\n",
              " \"'rest\": <gensim.models.keyedvectors.Vocab at 0x7f9667b8f2e0>,\n",
              " \"'look\": <gensim.models.keyedvectors.Vocab at 0x7f9667b8f340>,\n",
              " \"'street\": <gensim.models.keyedvectors.Vocab at 0x7f9667b8f3a0>,\n",
              " \"'chicken\": <gensim.models.keyedvectors.Vocab at 0x7f9667b8f400>,\n",
              " \"'king\": <gensim.models.keyedvectors.Vocab at 0x7f9667b8f460>,\n",
              " \"'bbq\": <gensim.models.keyedvectors.Vocab at 0x7f9667b8f4c0>,\n",
              " \"'restaurant\": <gensim.models.keyedvectors.Vocab at 0x7f9667b8f520>,\n",
              " \"'fancy\": <gensim.models.keyedvectors.Vocab at 0x7f9667b8f580>,\n",
              " \"'quality\": <gensim.models.keyedvectors.Vocab at 0x7f9667b8f5e0>,\n",
              " \"'bland\": <gensim.models.keyedvectors.Vocab at 0x7f9667b8f640>,\n",
              " \"'youre\": <gensim.models.keyedvectors.Vocab at 0x7f9667b8f6a0>,\n",
              " \"'dessert\": <gensim.models.keyedvectors.Vocab at 0x7f9667b8f700>,\n",
              " \"'feel\": <gensim.models.keyedvectors.Vocab at 0x7f9667b8f760>,\n",
              " \"'load\": <gensim.models.keyedvectors.Vocab at 0x7f9667b8f7c0>,\n",
              " \"'stash\": <gensim.models.keyedvectors.Vocab at 0x7f9667b8f820>,\n",
              " \"'goody\": <gensim.models.keyedvectors.Vocab at 0x7f9667b8f880>,\n",
              " \"'take\": <gensim.models.keyedvectors.Vocab at 0x7f9667b8f8e0>,\n",
              " \"'home\": <gensim.models.keyedvectors.Vocab at 0x7f9667b8f940>,\n",
              " \"'eat\": <gensim.models.keyedvectors.Vocab at 0x7f9667b8f9a0>,\n",
              " \"'taste\": <gensim.models.keyedvectors.Vocab at 0x7f9667b8fa00>,\n",
              " \"'stick\": <gensim.models.keyedvectors.Vocab at 0x7f9667b8fa60>,\n",
              " \"'min\": <gensim.models.keyedvectors.Vocab at 0x7f9667b8fac0>,\n",
              " \"'pair\": <gensim.models.keyedvectors.Vocab at 0x7f9667b8fb20>,\n",
              " \"'afternoon\": <gensim.models.keyedvectors.Vocab at 0x7f9667b8fb80>,\n",
              " 'good': <gensim.models.keyedvectors.Vocab at 0x7f9667b8fbe0>,\n",
              " \"'asian\": <gensim.models.keyedvectors.Vocab at 0x7f9667b8fc40>,\n",
              " \"'mong\": <gensim.models.keyedvectors.Vocab at 0x7f9667b8fca0>,\n",
              " \"'cheese\": <gensim.models.keyedvectors.Vocab at 0x7f9667b8fd00>,\n",
              " \"'bread\": <gensim.models.keyedvectors.Vocab at 0x7f96765437c0>,\n",
              " \"'typical\": <gensim.models.keyedvectors.Vocab at 0x7f9671068e80>,\n",
              " \"'south\": <gensim.models.keyedvectors.Vocab at 0x7f9667b8fd60>,\n",
              " \"'east\": <gensim.models.keyedvectors.Vocab at 0x7f9667b8fdc0>,\n",
              " \"'bad\": <gensim.models.keyedvectors.Vocab at 0x7f9667b8fe20>,\n",
              " \"'new\": <gensim.models.keyedvectors.Vocab at 0x7f9667b8fe80>,\n",
              " \"'taiwanese\": <gensim.models.keyedvectors.Vocab at 0x7f9667b8fee0>,\n",
              " \"'wong\": <gensim.models.keyedvectors.Vocab at 0x7f9667b8ff40>,\n",
              " \"'solid\": <gensim.models.keyedvectors.Vocab at 0x7f9667b8ffa0>,\n",
              " \"'poor\": <gensim.models.keyedvectors.Vocab at 0x7f9667b90040>,\n",
              " \"'special\": <gensim.models.keyedvectors.Vocab at 0x7f9667b900a0>,\n",
              " \"'cheap\": <gensim.models.keyedvectors.Vocab at 0x7f9667b90100>,\n",
              " \"'large\": <gensim.models.keyedvectors.Vocab at 0x7f9667b90160>,\n",
              " \"'green\": <gensim.models.keyedvectors.Vocab at 0x7f9667b901c0>,\n",
              " \"'next\": <gensim.models.keyedvectors.Vocab at 0x7f9667b90220>,\n",
              " \"'second\": <gensim.models.keyedvectors.Vocab at 0x7f9667b90280>,\n",
              " \"'get\": <gensim.models.keyedvectors.Vocab at 0x7f9667b902e0>,\n",
              " \"'goodness\": <gensim.models.keyedvectors.Vocab at 0x7f9667b90340>,\n",
              " \"'piece\": <gensim.models.keyedvectors.Vocab at 0x7f9667b903a0>,\n",
              " \"'heaven\": <gensim.models.keyedvectors.Vocab at 0x7f9667b90400>,\n",
              " \"'amount\": <gensim.models.keyedvectors.Vocab at 0x7f9667b90460>,\n",
              " \"'filling\": <gensim.models.keyedvectors.Vocab at 0x7f9667b904c0>,\n",
              " \"'term\": <gensim.models.keyedvectors.Vocab at 0x7f9667b90520>,\n",
              " \"'par\": <gensim.models.keyedvectors.Vocab at 0x7f9667b90580>,\n",
              " 'fresh': <gensim.models.keyedvectors.Vocab at 0x7f9667b905e0>,\n",
              " \"'oh\": <gensim.models.keyedvectors.Vocab at 0x7f9667b90640>,\n",
              " \"'right\": <gensim.models.keyedvectors.Vocab at 0x7f9667b906a0>,\n",
              " \"'flakiness\": <gensim.models.keyedvectors.Vocab at 0x7f9667b90700>,\n",
              " \"'creamy\": <gensim.models.keyedvectors.Vocab at 0x7f9667b90760>,\n",
              " \"'ive\": <gensim.models.keyedvectors.Vocab at 0x7f9667b907c0>,\n",
              " \"'significant\": <gensim.models.keyedvectors.Vocab at 0x7f9667b90820>,\n",
              " \"'differential\": <gensim.models.keyedvectors.Vocab at 0x7f9667b90880>,\n",
              " \"'happiness\": <gensim.models.keyedvectors.Vocab at 0x7f9667b908e0>,\n",
              " \"'cute\": <gensim.models.keyedvectors.Vocab at 0x7f9667b90940>,\n",
              " \"'bunny\": <gensim.models.keyedvectors.Vocab at 0x7f9667b909a0>,\n",
              " \"'fruit\": <gensim.models.keyedvectors.Vocab at 0x7f9667b90a00>,\n",
              " \"'cent\": <gensim.models.keyedvectors.Vocab at 0x7f9667b90a60>,\n",
              " \"'wonder\": <gensim.models.keyedvectors.Vocab at 0x7f9667b90ac0>,\n",
              " \"'everything\": <gensim.models.keyedvectors.Vocab at 0x7f9667b90b20>,\n",
              " \"'version\": <gensim.models.keyedvectors.Vocab at 0x7f9667b90b80>,\n",
              " \"'vanilla\": <gensim.models.keyedvectors.Vocab at 0x7f9667b90be0>,\n",
              " \"'cherry\": <gensim.models.keyedvectors.Vocab at 0x7f9667b90c40>,\n",
              " \"'moist\": <gensim.models.keyedvectors.Vocab at 0x7f9667b90ca0>,\n",
              " \"'simple\": <gensim.models.keyedvectors.Vocab at 0x7f9667b90d00>,\n",
              " \"'difference\": <gensim.models.keyedvectors.Vocab at 0x7f9667b90d60>,\n",
              " \"'decoration\": <gensim.models.keyedvectors.Vocab at 0x7f9667b90dc0>,\n",
              " \"'im\": <gensim.models.keyedvectors.Vocab at 0x7f9667b90e20>,\n",
              " \"'child\": <gensim.models.keyedvectors.Vocab at 0x7f9667b90e80>,\n",
              " \"'idea\": <gensim.models.keyedvectors.Vocab at 0x7f9667b90ee0>,\n",
              " \"'animal\": <gensim.models.keyedvectors.Vocab at 0x7f9667b90f40>,\n",
              " \"'mango\": <gensim.models.keyedvectors.Vocab at 0x7f9667b90fa0>,\n",
              " \"'thai\": <gensim.models.keyedvectors.Vocab at 0x7f9667b91040>,\n",
              " \"'havent\": <gensim.models.keyedvectors.Vocab at 0x7f9667b910a0>,\n",
              " \"'dinner\": <gensim.models.keyedvectors.Vocab at 0x7f9667b91100>,\n",
              " \"'doesnt\": <gensim.models.keyedvectors.Vocab at 0x7f9667b91160>,\n",
              " \"'matter\": <gensim.models.keyedvectors.Vocab at 0x7f9667b911c0>,\n",
              " \"'meal\": <gensim.models.keyedvectors.Vocab at 0x7f9667b91220>,\n",
              " 'little': <gensim.models.keyedvectors.Vocab at 0x7f9667b91280>,\n",
              " \"'square\": <gensim.models.keyedvectors.Vocab at 0x7f9667b912e0>,\n",
              " \"'cant\": <gensim.models.keyedvectors.Vocab at 0x7f9667b91340>,\n",
              " \"'first\": <gensim.models.keyedvectors.Vocab at 0x7f9667b913a0>,\n",
              " \"'chocolate\": <gensim.models.keyedvectors.Vocab at 0x7f9667b91400>,\n",
              " \"'different\": <gensim.models.keyedvectors.Vocab at 0x7f9667b91460>,\n",
              " \"'fluffy\": <gensim.models.keyedvectors.Vocab at 0x7f9667b914c0>,\n",
              " \"'main\": <gensim.models.keyedvectors.Vocab at 0x7f9667b91520>,\n",
              " \"'excite\": <gensim.models.keyedvectors.Vocab at 0x7f9667b91580>,\n",
              " \"'bubble\": <gensim.models.keyedvectors.Vocab at 0x7f9667b915e0>,\n",
              " \"'smoothy\": <gensim.models.keyedvectors.Vocab at 0x7f9667b91640>,\n",
              " \"'distract\": <gensim.models.keyedvectors.Vocab at 0x7f9667b916a0>,\n",
              " \"'full\": <gensim.models.keyedvectors.Vocab at 0x7f9667b91700>,\n",
              " \"'asia\": <gensim.models.keyedvectors.Vocab at 0x7f9667b91760>,\n",
              " \"'walk\": <gensim.models.keyedvectors.Vocab at 0x7f9667b917c0>,\n",
              " \"'lol\": <gensim.models.keyedvectors.Vocab at 0x7f9667b91820>,\n",
              " \"'chewy\": <gensim.models.keyedvectors.Vocab at 0x7f9667b91880>,\n",
              " \"'fan\": <gensim.models.keyedvectors.Vocab at 0x7f9667b918e0>,\n",
              " \"'almond\": <gensim.models.keyedvectors.Vocab at 0x7f9667b91940>,\n",
              " \"'cooky\": <gensim.models.keyedvectors.Vocab at 0x7f9667b919a0>,\n",
              " \"'alot\": <gensim.models.keyedvectors.Vocab at 0x7f9667b91a00>,\n",
              " \"'review\": <gensim.models.keyedvectors.Vocab at 0x7f9667b91a60>,\n",
              " \"'eating\": <gensim.models.keyedvectors.Vocab at 0x7f9667b91ac0>,\n",
              " 'second': <gensim.models.keyedvectors.Vocab at 0x7f9667b91b20>,\n",
              " \"'lazy\": <gensim.models.keyedvectors.Vocab at 0x7f9667b91b80>,\n",
              " \"'soft\": <gensim.models.keyedvectors.Vocab at 0x7f9667b91be0>,\n",
              " \"'big\": <gensim.models.keyedvectors.Vocab at 0x7f9667b91c40>,\n",
              " \"'dry\": <gensim.models.keyedvectors.Vocab at 0x7f9667b91ca0>,\n",
              " \"'ill\": <gensim.models.keyedvectors.Vocab at 0x7f9667b91d00>,\n",
              " \"'bfs\": <gensim.models.keyedvectors.Vocab at 0x7f9667b91d60>,\n",
              " \"'goto\": <gensim.models.keyedvectors.Vocab at 0x7f9667b91dc0>,\n",
              " \"'hk\": <gensim.models.keyedvectors.Vocab at 0x7f9667b91e20>,\n",
              " \"'month\": <gensim.models.keyedvectors.Vocab at 0x7f9667b91e80>,\n",
              " \"'dog\": <gensim.models.keyedvectors.Vocab at 0x7f9667b91ee0>,\n",
              " \"'cash\": <gensim.models.keyedvectors.Vocab at 0x7f9667b91f40>,\n",
              " \"'nicer\": <gensim.models.keyedvectors.Vocab at 0x7f9667b91fa0>,\n",
              " \"'language\": <gensim.models.keyedvectors.Vocab at 0x7f9667b92040>,\n",
              " \"'chill\": <gensim.models.keyedvectors.Vocab at 0x7f9667b920a0>,\n",
              " \"'spot\": <gensim.models.keyedvectors.Vocab at 0x7f9667b92100>,\n",
              " \"'break\": <gensim.models.keyedvectors.Vocab at 0x7f9667b92160>,\n",
              " \"'let\": <gensim.models.keyedvectors.Vocab at 0x7f9667b921c0>,\n",
              " \"'drink\": <gensim.models.keyedvectors.Vocab at 0x7f9667b92220>,\n",
              " \"'anything\": <gensim.models.keyedvectors.Vocab at 0x7f9667b92280>,\n",
              " \"'foam\": <gensim.models.keyedvectors.Vocab at 0x7f9667b922e0>,\n",
              " \"'part\": <gensim.models.keyedvectors.Vocab at 0x7f9667b92340>,\n",
              " \"'em\": <gensim.models.keyedvectors.Vocab at 0x7f9667b923a0>,\n",
              " 'last': <gensim.models.keyedvectors.Vocab at 0x7f9667b92400>,\n",
              " \"'hot\": <gensim.models.keyedvectors.Vocab at 0x7f9667b92460>,\n",
              " \"'speak\": <gensim.models.keyedvectors.Vocab at 0x7f9667b924c0>,\n",
              " \"'overall\": <gensim.models.keyedvectors.Vocab at 0x7f9667b92520>,\n",
              " \"'phillychinatown\": <gensim.models.keyedvectors.Vocab at 0x7f9667b92580>,\n",
              " \"'short\": <gensim.models.keyedvectors.Vocab at 0x7f9667b925e0>,\n",
              " \"'minute\": <gensim.models.keyedvectors.Vocab at 0x7f9667b92640>,\n",
              " \"'silky\": <gensim.models.keyedvectors.Vocab at 0x7f9667b926a0>,\n",
              " \"'authentic\": <gensim.models.keyedvectors.Vocab at 0x7f9667b92700>,\n",
              " \"'wish\": <gensim.models.keyedvectors.Vocab at 0x7f9667b92760>,\n",
              " \"'dimsum\": <gensim.models.keyedvectors.Vocab at 0x7f9667b927c0>,\n",
              " 'excellent': <gensim.models.keyedvectors.Vocab at 0x7f9667b92820>,\n",
              " \"'early\": <gensim.models.keyedvectors.Vocab at 0x7f9667b92880>,\n",
              " \"'shop\": <gensim.models.keyedvectors.Vocab at 0x7f9667b928e0>,\n",
              " \"'flavor\": <gensim.models.keyedvectors.Vocab at 0x7f9667b92940>,\n",
              " \"'kid\": <gensim.models.keyedvectors.Vocab at 0x7f9667b929a0>,\n",
              " \"'level\": <gensim.models.keyedvectors.Vocab at 0x7f9667b92a00>,\n",
              " \"'sweetness\": <gensim.models.keyedvectors.Vocab at 0x7f9667b92a60>,\n",
              " \"'boba\": <gensim.models.keyedvectors.Vocab at 0x7f9667b92ac0>,\n",
              " \"'cup\": <gensim.models.keyedvectors.Vocab at 0x7f9667b92b20>,\n",
              " \"'none\": <gensim.models.keyedvectors.Vocab at 0x7f9667b92b80>,\n",
              " \"'cost\": <gensim.models.keyedvectors.Vocab at 0x7f9667b92be0>,\n",
              " \"'range\": <gensim.models.keyedvectors.Vocab at 0x7f9667b92c40>,\n",
              " \"'dealsimilar\": <gensim.models.keyedvectors.Vocab at 0x7f9667b92ca0>,\n",
              " \"'abps\": <gensim.models.keyedvectors.Vocab at 0x7f9667b92d00>,\n",
              " \"'sale\": <gensim.models.keyedvectors.Vocab at 0x7f9667b92d60>,\n",
              " \"'pick\": <gensim.models.keyedvectors.Vocab at 0x7f9667b92dc0>,\n",
              " \"'savory\": <gensim.models.keyedvectors.Vocab at 0x7f9667b92e20>,\n",
              " \"'left\": <gensim.models.keyedvectors.Vocab at 0x7f9667b92e80>,\n",
              " \"'bag\": <gensim.models.keyedvectors.Vocab at 0x7f9667b92ee0>,\n",
              " \"'sugary\": <gensim.models.keyedvectors.Vocab at 0x7f9667b92f40>,\n",
              " \"'small\": <gensim.models.keyedvectors.Vocab at 0x7f9667b92fa0>,\n",
              " \"'monday\": <gensim.models.keyedvectors.Vocab at 0x7f9667b94040>,\n",
              " \"'bit\": <gensim.models.keyedvectors.Vocab at 0x7f9667b940a0>,\n",
              " \"'onion\": <gensim.models.keyedvectors.Vocab at 0x7f9667b94100>,\n",
              " \"'box\": <gensim.models.keyedvectors.Vocab at 0x7f9667b94160>,\n",
              " \"'consistent\": <gensim.models.keyedvectors.Vocab at 0x7f9667b941c0>,\n",
              " \"'layer\": <gensim.models.keyedvectors.Vocab at 0x7f9667b94220>,\n",
              " \"'flaky\": <gensim.models.keyedvectors.Vocab at 0x7f9667b94280>,\n",
              " \"'shell\": <gensim.models.keyedvectors.Vocab at 0x7f9667b942e0>,\n",
              " \"'breakfast\": <gensim.models.keyedvectors.Vocab at 0x7f9667b94340>,\n",
              " \"'excellent\": <gensim.models.keyedvectors.Vocab at 0x7f9667b943a0>,\n",
              " 'sunday': <gensim.models.keyedvectors.Vocab at 0x7f9667b94400>,\n",
              " \"'greenleafs\": <gensim.models.keyedvectors.Vocab at 0x7f9667b94460>,\n",
              " \"'race\": <gensim.models.keyedvectors.Vocab at 0x7f9667b944c0>,\n",
              " \"'ask\": <gensim.models.keyedvectors.Vocab at 0x7f9667b94520>,\n",
              " \"'woman\": <gensim.models.keyedvectors.Vocab at 0x7f9667b94580>,\n",
              " \"'polite\": <gensim.models.keyedvectors.Vocab at 0x7f9667b945e0>,\n",
              " \"'smile\": <gensim.models.keyedvectors.Vocab at 0x7f9667b94640>,\n",
              " \"'answer\": <gensim.models.keyedvectors.Vocab at 0x7f9667b946a0>,\n",
              " \"'communication\": <gensim.models.keyedvectors.Vocab at 0x7f9667b94700>,\n",
              " \"'gap\": <gensim.models.keyedvectors.Vocab at 0x7f9667b94760>,\n",
              " \"'couldnt\": <gensim.models.keyedvectors.Vocab at 0x7f9667b947c0>,\n",
              " \"'clueless\": <gensim.models.keyedvectors.Vocab at 0x7f9667b94820>,\n",
              " \"'date\": <gensim.models.keyedvectors.Vocab at 0x7f9667b94880>,\n",
              " \"'bake\": <gensim.models.keyedvectors.Vocab at 0x7f9667b948e0>,\n",
              " \"'end\": <gensim.models.keyedvectors.Vocab at 0x7f9667b94940>,\n",
              " \"'consistency\": <gensim.models.keyedvectors.Vocab at 0x7f9667b949a0>,\n",
              " 'ive': <gensim.models.keyedvectors.Vocab at 0x7f9667b94a00>,\n",
              " \"'many\": <gensim.models.keyedvectors.Vocab at 0x7f9667b94a60>,\n",
              " \"'st\": <gensim.models.keyedvectors.Vocab at 0x7f9667b94ac0>,\n",
              " \"'give\": <gensim.models.keyedvectors.Vocab at 0x7f9667b94b20>,\n",
              " \"'unobservant\": <gensim.models.keyedvectors.Vocab at 0x7f9667b94b80>,\n",
              " \"'surprised\": <gensim.models.keyedvectors.Vocab at 0x7f9667b94be0>,\n",
              " \"'crust\": <gensim.models.keyedvectors.Vocab at 0x7f9667b94c40>,\n",
              " \"'light\": <gensim.models.keyedvectors.Vocab at 0x7f9667b94ca0>,\n",
              " \"'star\": <gensim.models.keyedvectors.Vocab at 0x7f9667b94d00>,\n",
              " \"'cupcake\": <gensim.models.keyedvectors.Vocab at 0x7f9667b94d60>,\n",
              " \"'love\": <gensim.models.keyedvectors.Vocab at 0x7f9667b94dc0>,\n",
              " \"'cheesecake\": <gensim.models.keyedvectors.Vocab at 0x7f9667b94e20>,\n",
              " 'didnt': <gensim.models.keyedvectors.Vocab at 0x7f9667b94e80>,\n",
              " \"'sponge\": <gensim.models.keyedvectors.Vocab at 0x7f9667b94ee0>,\n",
              " \"'buttery\": <gensim.models.keyedvectors.Vocab at 0x7f9667b94f40>,\n",
              " \"'trip\": <gensim.models.keyedvectors.Vocab at 0x7f9667b94fa0>,\n",
              " \"'kc\": <gensim.models.keyedvectors.Vocab at 0x7f9667b95040>,\n",
              " \"'gem\": <gensim.models.keyedvectors.Vocab at 0x7f9667b950a0>,\n",
              " \"'pho\": <gensim.models.keyedvectors.Vocab at 0x7f9667b95100>,\n",
              " \"'friend\": <gensim.models.keyedvectors.Vocab at 0x7f9667b95160>,\n",
              " \"'worki\": <gensim.models.keyedvectors.Vocab at 0x7f9667b951c0>,\n",
              " \"'slice\": <gensim.models.keyedvectors.Vocab at 0x7f9667b95220>,\n",
              " \"'world\": <gensim.models.keyedvectors.Vocab at 0x7f9667b95280>,\n",
              " \"'frost\": <gensim.models.keyedvectors.Vocab at 0x7f9667b952e0>,\n",
              " 'stumble': <gensim.models.keyedvectors.Vocab at 0x7f9667b95340>,\n",
              " \"'upon\": <gensim.models.keyedvectors.Vocab at 0x7f9667b953a0>,\n",
              " \"'super\": <gensim.models.keyedvectors.Vocab at 0x7f9667b95400>,\n",
              " \"'mei\": <gensim.models.keyedvectors.Vocab at 0x7f9667b95460>,\n",
              " \"'foo\": <gensim.models.keyedvectors.Vocab at 0x7f9667b954c0>,\n",
              " \"'logo\": <gensim.models.keyedvectors.Vocab at 0x7f9667b95520>,\n",
              " \"'wrap\": <gensim.models.keyedvectors.Vocab at 0x7f9667b95580>,\n",
              " \"'yep\": <gensim.models.keyedvectors.Vocab at 0x7f9667b955e0>,\n",
              " \"'cream\": <gensim.models.keyedvectors.Vocab at 0x7f9667b95640>,\n",
              " \"'starbux\": <gensim.models.keyedvectors.Vocab at 0x7f9667b956a0>,\n",
              " \"'decaf\": <gensim.models.keyedvectors.Vocab at 0x7f9667b95700>,\n",
              " \"'bed\": <gensim.models.keyedvectors.Vocab at 0x7f9667b95760>,\n",
              " \"'pleasure\": <gensim.models.keyedvectors.Vocab at 0x7f9667b957c0>,\n",
              " 'partial': <gensim.models.keyedvectors.Vocab at 0x7f9667b95820>,\n",
              " \"'addict\": <gensim.models.keyedvectors.Vocab at 0x7f9667b95880>,\n",
              " \"'same\": <gensim.models.keyedvectors.Vocab at 0x7f9667b958e0>,\n",
              " \"'warm\": <gensim.models.keyedvectors.Vocab at 0x7f9667b95940>,\n",
              " \"'steam\": <gensim.models.keyedvectors.Vocab at 0x7f9667b959a0>,\n",
              " \"'tried\": <gensim.models.keyedvectors.Vocab at 0x7f9667b95a00>,\n",
              " \"'several\": <gensim.models.keyedvectors.Vocab at 0x7f9667b95a60>,\n",
              " \"'close\": <gensim.models.keyedvectors.Vocab at 0x7f9667b95ac0>,\n",
              " \"'serf\": <gensim.models.keyedvectors.Vocab at 0x7f9667b95b20>,\n",
              " \"'portion\": <gensim.models.keyedvectors.Vocab at 0x7f9667b95b80>,\n",
              " \"'non\": <gensim.models.keyedvectors.Vocab at 0x7f9667b95be0>,\n",
              " \"'afraid\": <gensim.models.keyedvectors.Vocab at 0x7f9667b95c40>,\n",
              " \"'whoameat\": <gensim.models.keyedvectors.Vocab at 0x7f9667b95ca0>,\n",
              " \"'bite\": <gensim.models.keyedvectors.Vocab at 0x7f9667b95d00>,\n",
              " \"'purchase\": <gensim.models.keyedvectors.Vocab at 0x7f9667b95d60>,\n",
              " \"'awesome\": <gensim.models.keyedvectors.Vocab at 0x7f9667b95dc0>,\n",
              " \"'hate\": <gensim.models.keyedvectors.Vocab at 0x7f9667b95e20>,\n",
              " \"'use\": <gensim.models.keyedvectors.Vocab at 0x7f9667b95e80>,\n",
              " \"'powder\": <gensim.models.keyedvectors.Vocab at 0x7f9667b95ee0>,\n",
              " \"'shake\": <gensim.models.keyedvectors.Vocab at 0x7f9667b95f40>,\n",
              " \"'make\": <gensim.models.keyedvectors.Vocab at 0x7f9667b95fa0>,\n",
              " \"'request\": <gensim.models.keyedvectors.Vocab at 0x7f9667b96040>,\n",
              " \"'fact\": <gensim.models.keyedvectors.Vocab at 0x7f9667b960a0>,\n",
              " \"'dirty\": <gensim.models.keyedvectors.Vocab at 0x7f9667b96100>,\n",
              " \"'correct\": <gensim.models.keyedvectors.Vocab at 0x7f9667b96160>,\n",
              " \"'generous\": <gensim.models.keyedvectors.Vocab at 0x7f9667b961c0>,\n",
              " \"'strawberry\": <gensim.models.keyedvectors.Vocab at 0x7f9667b96220>,\n",
              " \"'real\": <gensim.models.keyedvectors.Vocab at 0x7f9667b96280>,\n",
              " \"'spectacular\": <gensim.models.keyedvectors.Vocab at 0x7f9667b962e0>,\n",
              " \"'lotus\": <gensim.models.keyedvectors.Vocab at 0x7f9667b96340>,\n",
              " \"'stop\": <gensim.models.keyedvectors.Vocab at 0x7f9667b963a0>,\n",
              " \"'sometime\": <gensim.models.keyedvectors.Vocab at 0x7f9667b96400>,\n",
              " \"'birthday\": <gensim.models.keyedvectors.Vocab at 0x7f9667b96460>,\n",
              " \"'candle\": <gensim.models.keyedvectors.Vocab at 0x7f9667b964c0>,\n",
              " \"'expensive\": <gensim.models.keyedvectors.Vocab at 0x7f9667b96520>,\n",
              " \"'decision\": <gensim.models.keyedvectors.Vocab at 0x7f9667b96580>,\n",
              " \"'base\": <gensim.models.keyedvectors.Vocab at 0x7f9667b965e0>,\n",
              " \"'owner\": <gensim.models.keyedvectors.Vocab at 0x7f9667b96640>,\n",
              " \"'offer\": <gensim.models.keyedvectors.Vocab at 0x7f9667b966a0>,\n",
              " \"'suggestion\": <gensim.models.keyedvectors.Vocab at 0x7f9667b96700>,\n",
              " \"'homemade\": <gensim.models.keyedvectors.Vocab at 0x7f9667b96760>,\n",
              " \"'wedding\": <gensim.models.keyedvectors.Vocab at 0x7f9667b967c0>,\n",
              " \"'leftover\": <gensim.models.keyedvectors.Vocab at 0x7f9667b96820>,\n",
              " \"'hecka\": <gensim.models.keyedvectors.Vocab at 0x7f9667b96880>,\n",
              " \"'cause\": <gensim.models.keyedvectors.Vocab at 0x7f9667b968e0>,\n",
              " \"'deal\": <gensim.models.keyedvectors.Vocab at 0x7f9667b96940>,\n",
              " \"'server\": <gensim.models.keyedvectors.Vocab at 0x7f9667b969a0>,\n",
              " \"'mini\": <gensim.models.keyedvectors.Vocab at 0x7f9667b96a00>,\n",
              " \"'hour\": <gensim.models.keyedvectors.Vocab at 0x7f9667b96a60>,\n",
              " \"'hit\": <gensim.models.keyedvectors.Vocab at 0x7f9667b96ac0>,\n",
              " 'reasonable': <gensim.models.keyedvectors.Vocab at 0x7f9667b96b20>,\n",
              " \"'fondant\": <gensim.models.keyedvectors.Vocab at 0x7f9667b96b80>,\n",
              " \"'top\": <gensim.models.keyedvectors.Vocab at 0x7f9667b96be0>,\n",
              " \"'normal\": <gensim.models.keyedvectors.Vocab at 0x7f9667b96c40>,\n",
              " \"'whole\": <gensim.models.keyedvectors.Vocab at 0x7f9667b96ca0>,\n",
              " \"'huge\": <gensim.models.keyedvectors.Vocab at 0x7f9667b96d00>,\n",
              " 'u': <gensim.models.keyedvectors.Vocab at 0x7f9667b96d60>,\n",
              " \"'scratch\": <gensim.models.keyedvectors.Vocab at 0x7f9667b96dc0>,\n",
              " \"'catch\": <gensim.models.keyedvectors.Vocab at 0x7f9667b96e20>,\n",
              " \"'bring\": <gensim.models.keyedvectors.Vocab at 0x7f9667b96e80>,\n",
              " \"'batch\": <gensim.models.keyedvectors.Vocab at 0x7f9667b96ee0>,\n",
              " \"'favor\": <gensim.models.keyedvectors.Vocab at 0x7f9667b96f40>,\n",
              " \"'butter\": <gensim.models.keyedvectors.Vocab at 0x7f9667b96fa0>,\n",
              " \"'act\": <gensim.models.keyedvectors.Vocab at 0x7f9667b98040>,\n",
              " \"'nothing\": <gensim.models.keyedvectors.Vocab at 0x7f9667b980a0>,\n",
              " \"'sit\": <gensim.models.keyedvectors.Vocab at 0x7f9667b98100>,\n",
              " \"'refrigerator\": <gensim.models.keyedvectors.Vocab at 0x7f9667b98160>,\n",
              " \"'soda\": <gensim.models.keyedvectors.Vocab at 0x7f9667b981c0>,\n",
              " \"'door\": <gensim.models.keyedvectors.Vocab at 0x7f9667b98220>,\n",
              " \"'finger\": <gensim.models.keyedvectors.Vocab at 0x7f9667b98280>,\n",
              " \"'discount\": <gensim.models.keyedvectors.Vocab at 0x7f9667b982e0>,\n",
              " \"'pay\": <gensim.models.keyedvectors.Vocab at 0x7f9667b98340>,\n",
              " \"'wasnt\": <gensim.models.keyedvectors.Vocab at 0x7f9667b983a0>,\n",
              " \"'age\": <gensim.models.keyedvectors.Vocab at 0x7f9667b98400>,\n",
              " \"'counter\": <gensim.models.keyedvectors.Vocab at 0x7f9667b98460>,\n",
              " \"'job\": <gensim.models.keyedvectors.Vocab at 0x7f9667b984c0>,\n",
              " \"'newspaper\": <gensim.models.keyedvectors.Vocab at 0x7f9667b98520>,\n",
              " \"'regret\": <gensim.models.keyedvectors.Vocab at 0x7f9667b98580>,\n",
              " \"'last\": <gensim.models.keyedvectors.Vocab at 0x7f9667b985e0>,\n",
              " \"'darn\": <gensim.models.keyedvectors.Vocab at 0x7f9667b98640>,\n",
              " \"'lemon\": <gensim.models.keyedvectors.Vocab at 0x7f9667b986a0>,\n",
              " \"'stray\": <gensim.models.keyedvectors.Vocab at 0x7f9667b98700>,\n",
              " \"'young\": <gensim.models.keyedvectors.Vocab at 0x7f9667b98760>,\n",
              " \"'middle\": <gensim.models.keyedvectors.Vocab at 0x7f9667b987c0>,\n",
              " \"'agedold\": <gensim.models.keyedvectors.Vocab at 0x7f9667b98820>,\n",
              " \"'read\": <gensim.models.keyedvectors.Vocab at 0x7f9667b98880>,\n",
              " \"'cafe\": <gensim.models.keyedvectors.Vocab at 0x7f9667b988e0>,\n",
              " \"'cafes\": <gensim.models.keyedvectors.Vocab at 0x7f9667b98940>,\n",
              " \"'visit\": <gensim.models.keyedvectors.Vocab at 0x7f9667b989a0>,\n",
              " \"'selection\": <gensim.models.keyedvectors.Vocab at 0x7f9667b98a00>,\n",
              " \"'size\": <gensim.models.keyedvectors.Vocab at 0x7f9667b98a60>,\n",
              " \"'flower\": <gensim.models.keyedvectors.Vocab at 0x7f9667b98ac0>,\n",
              " \"'pot\": <gensim.models.keyedvectors.Vocab at 0x7f9667b98b20>,\n",
              " \"'texture\": <gensim.models.keyedvectors.Vocab at 0x7f9667b98b80>,\n",
              " \"'mention\": <gensim.models.keyedvectors.Vocab at 0x7f9667b98be0>,\n",
              " \"'pretty\": <gensim.models.keyedvectors.Vocab at 0x7f9667b98c40>,\n",
              " 'wide': <gensim.models.keyedvectors.Vocab at 0x7f9667b98ca0>,\n",
              " \"'individual\": <gensim.models.keyedvectors.Vocab at 0x7f9667b98d00>,\n",
              " \"'personal\": <gensim.models.keyedvectors.Vocab at 0x7f9667b98d60>,\n",
              " \"'baked\": <gensim.models.keyedvectors.Vocab at 0x7f9667b98dc0>,\n",
              " \"'eggy\": <gensim.models.keyedvectors.Vocab at 0x7f9667b98e20>,\n",
              " \"'snowman\": <gensim.models.keyedvectors.Vocab at 0x7f9667b98e80>,\n",
              " \"'kathy\": <gensim.models.keyedvectors.Vocab at 0x7f9667b98ee0>,\n",
              " \"'menu\": <gensim.models.keyedvectors.Vocab at 0x7f9667b98f40>,\n",
              " \"'durian\": <gensim.models.keyedvectors.Vocab at 0x7f9667b98fa0>,\n",
              " \"'reserve\": <gensim.models.keyedvectors.Vocab at 0x7f9667b99040>,\n",
              " 'cold': <gensim.models.keyedvectors.Vocab at 0x7f9667b990a0>,\n",
              " \"'welcome\": <gensim.models.keyedvectors.Vocab at 0x7f9667b99100>,\n",
              " \"'important\": <gensim.models.keyedvectors.Vocab at 0x7f9667b99160>,\n",
              " \"'raisin\": <gensim.models.keyedvectors.Vocab at 0x7f9667b991c0>,\n",
              " \"'doughy\": <gensim.models.keyedvectors.Vocab at 0x7f9667b99220>,\n",
              " \"'tendency\": <gensim.models.keyedvectors.Vocab at 0x7f9667b99280>,\n",
              " \"'roof\": <gensim.models.keyedvectors.Vocab at 0x7f9667b992e0>,\n",
              " \"'mouth\": <gensim.models.keyedvectors.Vocab at 0x7f9667b99340>,\n",
              " \"'toast\": <gensim.models.keyedvectors.Vocab at 0x7f9667b993a0>,\n",
              " \"'crisp\": <gensim.models.keyedvectors.Vocab at 0x7f9667b99400>,\n",
              " \"'cover\": <gensim.models.keyedvectors.Vocab at 0x7f9667b99460>,\n",
              " \"'seed\": <gensim.models.keyedvectors.Vocab at 0x7f9667b994c0>,\n",
              " \"'romas\": <gensim.models.keyedvectors.Vocab at 0x7f9667b99520>,\n",
              " \"'isgros\": <gensim.models.keyedvectors.Vocab at 0x7f9667b99580>,\n",
              " \"'twist\": <gensim.models.keyedvectors.Vocab at 0x7f9667b995e0>,\n",
              " \"'compliment\": <gensim.models.keyedvectors.Vocab at 0x7f9667b99640>,\n",
              " \"'puff\": <gensim.models.keyedvectors.Vocab at 0x7f9667b996a0>,\n",
              " \"'honey\": <gensim.models.keyedvectors.Vocab at 0x7f9667b99700>,\n",
              " 'scant': <gensim.models.keyedvectors.Vocab at 0x7f9667b99760>,\n",
              " \"'flushing\": <gensim.models.keyedvectors.Vocab at 0x7f9667b997c0>,\n",
              " \"'fantastic\": <gensim.models.keyedvectors.Vocab at 0x7f9667b99820>,\n",
              " \"'delish\": <gensim.models.keyedvectors.Vocab at 0x7f9667b99880>,\n",
              " \"'plenty\": <gensim.models.keyedvectors.Vocab at 0x7f9667b998e0>,\n",
              " \"'drizzle\": <gensim.models.keyedvectors.Vocab at 0x7f9667b99940>,\n",
              " \"'flakey\": <gensim.models.keyedvectors.Vocab at 0x7f9667b999a0>,\n",
              " \"'cookie\": <gensim.models.keyedvectors.Vocab at 0x7f9667b99a00>,\n",
              " \"'hydrogenate\": <gensim.models.keyedvectors.Vocab at 0x7f9667b99a60>,\n",
              " \"'life\": <gensim.models.keyedvectors.Vocab at 0x7f9667b99ac0>,\n",
              " \"'multilayer\": <gensim.models.keyedvectors.Vocab at 0x7f9667b99b20>,\n",
              " \"'cocktail\": <gensim.models.keyedvectors.Vocab at 0x7f9667b99b80>,\n",
              " \"'savoury\": <gensim.models.keyedvectors.Vocab at 0x7f9667b99be0>,\n",
              " \"'beef\": <gensim.models.keyedvectors.Vocab at 0x7f9667b99c40>,\n",
              " \"'run\": <gensim.models.keyedvectors.Vocab at 0x7f9667b99ca0>,\n",
              " \"'post\": <gensim.models.keyedvectors.Vocab at 0x7f9667b99d00>,\n",
              " \"'wall\": <gensim.models.keyedvectors.Vocab at 0x7f9667b99d60>,\n",
              " \"'munch\": <gensim.models.keyedvectors.Vocab at 0x7f9667b99dc0>,\n",
              " \"'park\": <gensim.models.keyedvectors.Vocab at 0x7f9667b99e20>,\n",
              " \"'shortbread\": <gensim.models.keyedvectors.Vocab at 0x7f9667b99e80>,\n",
              " \"'crimped\": <gensim.models.keyedvectors.Vocab at 0x7f9667b99ee0>,\n",
              " \"'fat\": <gensim.models.keyedvectors.Vocab at 0x7f9667b99f40>,\n",
              " \"'peach\": <gensim.models.keyedvectors.Vocab at 0x7f9667b99fa0>,\n",
              " \"'like\": <gensim.models.keyedvectors.Vocab at 0x7f9667b9a040>,\n",
              " \"'usual\": <gensim.models.keyedvectors.Vocab at 0x7f9667b9a0a0>,\n",
              " \"'extensive\": <gensim.models.keyedvectors.Vocab at 0x7f9667b9a100>,\n",
              " \"'perfection\": <gensim.models.keyedvectors.Vocab at 0x7f9667b9a160>,\n",
              " \"'morning\": <gensim.models.keyedvectors.Vocab at 0x7f9667b9a1c0>,\n",
              " \"'deliver\": <gensim.models.keyedvectors.Vocab at 0x7f9667b9a220>,\n",
              " \"'premise\": <gensim.models.keyedvectors.Vocab at 0x7f9667b9a280>,\n",
              " 'soft': <gensim.models.keyedvectors.Vocab at 0x7f9667b9a2e0>,\n",
              " \"'notice\": <gensim.models.keyedvectors.Vocab at 0x7f9667b9a340>,\n",
              " \"'till\": <gensim.models.keyedvectors.Vocab at 0x7f9667b9a3a0>,\n",
              " \"'arent\": <gensim.models.keyedvectors.Vocab at 0x7f9667b9a400>,\n",
              " \"'custom\": <gensim.models.keyedvectors.Vocab at 0x7f9667b9a460>,\n",
              " 'double': <gensim.models.keyedvectors.Vocab at 0x7f9667b9a4c0>,\n",
              " \"'update\": <gensim.models.keyedvectors.Vocab at 0x7f9667b9a520>,\n",
              " \"'gong\": <gensim.models.keyedvectors.Vocab at 0x7f9667b9a580>,\n",
              " \"'youll\": <gensim.models.keyedvectors.Vocab at 0x7f9667b9a5e0>,\n",
              " \"'whip\": <gensim.models.keyedvectors.Vocab at 0x7f9667b9a640>,\n",
              " \"'youd\": <gensim.models.keyedvectors.Vocab at 0x7f9667b9a6a0>,\n",
              " \"'work\": <gensim.models.keyedvectors.Vocab at 0x7f9667b9a700>,\n",
              " \"'croissant\": <gensim.models.keyedvectors.Vocab at 0x7f9667b9a760>,\n",
              " \"'melt\": <gensim.models.keyedvectors.Vocab at 0x7f9667b9a7c0>,\n",
              " \"'surround\": <gensim.models.keyedvectors.Vocab at 0x7f9667b9a820>,\n",
              " 'guilty': <gensim.models.keyedvectors.Vocab at 0x7f9667b9a880>,\n",
              " \"'low\": <gensim.models.keyedvectors.Vocab at 0x7f9667b9a8e0>,\n",
              " \"'smoking\": <gensim.models.keyedvectors.Vocab at 0x7f9667b9a940>,\n",
              " \"'ban\": <gensim.models.keyedvectors.Vocab at 0x7f9667b9a9a0>,\n",
              " \"'phila\": <gensim.models.keyedvectors.Vocab at 0x7f9667b9aa00>,\n",
              " \"'reason\": <gensim.models.keyedvectors.Vocab at 0x7f9667b9aa60>,\n",
              " \"'scorephew\": <gensim.models.keyedvectors.Vocab at 0x7f9667b9aac0>,\n",
              " \"'foul\": <gensim.models.keyedvectors.Vocab at 0x7f9667b9ab20>,\n",
              " \"'smell\": <gensim.models.keyedvectors.Vocab at 0x7f9667b9ab80>,\n",
              " \"'money\": <gensim.models.keyedvectors.Vocab at 0x7f9667b9abe0>,\n",
              " \"'magnificent\": <gensim.models.keyedvectors.Vocab at 0x7f9667b9ac40>,\n",
              " \"'decorate\": <gensim.models.keyedvectors.Vocab at 0x7f9667b9aca0>,\n",
              " \"'pastrycrazy\": <gensim.models.keyedvectors.Vocab at 0x7f9667b9ad00>,\n",
              " \"'delishmy\": <gensim.models.keyedvectors.Vocab at 0x7f9667b9ad60>,\n",
              " \"'bunit\": <gensim.models.keyedvectors.Vocab at 0x7f9667b9adc0>,\n",
              " \"'share\": <gensim.models.keyedvectors.Vocab at 0x7f9667b9ae20>,\n",
              " \"'coffeebuy\": <gensim.models.keyedvectors.Vocab at 0x7f9667b9ae80>,\n",
              " \"'refrigerate\": <gensim.models.keyedvectors.Vocab at 0x7f9667b9aee0>,\n",
              " \"'impress\": <gensim.models.keyedvectors.Vocab at 0x7f9667b9af40>,\n",
              " \"'party\": <gensim.models.keyedvectors.Vocab at 0x7f9667b9afa0>,\n",
              " \"'yummynice\": <gensim.models.keyedvectors.Vocab at 0x7f9667b9c040>,\n",
              " \"'go\": <gensim.models.keyedvectors.Vocab at 0x7f9667b9c0a0>,\n",
              " 'glad': <gensim.models.keyedvectors.Vocab at 0x7f9667b9c100>,\n",
              " \"'beautiful\": <gensim.models.keyedvectors.Vocab at 0x7f9667b9c160>,\n",
              " \"'french\": <gensim.models.keyedvectors.Vocab at 0x7f9667b9c1c0>,\n",
              " \"'rich\": <gensim.models.keyedvectors.Vocab at 0x7f9667b9c220>,\n",
              " \"'bridal\": <gensim.models.keyedvectors.Vocab at 0x7f9667b9c280>,\n",
              " \"'mine\": <gensim.models.keyedvectors.Vocab at 0x7f9667b9c2e0>,\n",
              " \"'college\": <gensim.models.keyedvectors.Vocab at 0x7f9667b9c340>,\n",
              " \"'nyc\": <gensim.models.keyedvectors.Vocab at 0x7f9667b9c3a0>,\n",
              " \"'earth\": <gensim.models.keyedvectors.Vocab at 0x7f9667b9c400>,\n",
              " \"'shatter\": <gensim.models.keyedvectors.Vocab at 0x7f9667b9c460>,\n",
              " \"'traditional\": <gensim.models.keyedvectors.Vocab at 0x7f9667b9c4c0>,\n",
              " \"'visited\": <gensim.models.keyedvectors.Vocab at 0x7f9667b9c520>,\n",
              " \"'mean\": <gensim.models.keyedvectors.Vocab at 0x7f9667b9c580>,\n",
              " \"'bolo\": <gensim.models.keyedvectors.Vocab at 0x7f9667b9c5e0>,\n",
              " \"'brew\": <gensim.models.keyedvectors.Vocab at 0x7f9667b9c640>,\n",
              " \"'yum\": <gensim.models.keyedvectors.Vocab at 0x7f9667b9c6a0>,\n",
              " \"'downside\": <gensim.models.keyedvectors.Vocab at 0x7f9667b9c700>,\n",
              " \"'packaging\": <gensim.models.keyedvectors.Vocab at 0x7f9667b9c760>,\n",
              " \"'paper\": <gensim.models.keyedvectors.Vocab at 0x7f9667b9c7c0>,\n",
              " \"'travel\": <gensim.models.keyedvectors.Vocab at 0x7f9667b9c820>,\n",
              " 'like': <gensim.models.keyedvectors.Vocab at 0x7f9667b9c880>,\n",
              " \"'strong\": <gensim.models.keyedvectors.Vocab at 0x7f9667b9c8e0>,\n",
              " \"'affordable\": <gensim.models.keyedvectors.Vocab at 0x7f9667b9c940>,\n",
              " \"'open\": <gensim.models.keyedvectors.Vocab at 0x7f9667b9c9a0>,\n",
              " \"'wax\": <gensim.models.keyedvectors.Vocab at 0x7f9667b9ca00>,\n",
              " \"'hard\": <gensim.models.keyedvectors.Vocab at 0x7f9667b9ca60>,\n",
              " \"'keep\": <gensim.models.keyedvectors.Vocab at 0x7f9667b9cac0>,\n",
              " \"'scold\": <gensim.models.keyedvectors.Vocab at 0x7f9667b9cb20>,\n",
              " \"'meyou\": <gensim.models.keyedvectors.Vocab at 0x7f9667b9cb80>,\n",
              " \"'advance\": <gensim.models.keyedvectors.Vocab at 0x7f9667b9cbe0>,\n",
              " \"'proceed\": <gensim.models.keyedvectors.Vocab at 0x7f9667b9cc40>,\n",
              " \"'response\": <gensim.models.keyedvectors.Vocab at 0x7f9667b9cca0>,\n",
              " \"'guess\": <gensim.models.keyedvectors.Vocab at 0x7f9667b9cd00>,\n",
              " \"'adult\": <gensim.models.keyedvectors.Vocab at 0x7f9667b9cd60>,\n",
              " \"'earn\": <gensim.models.keyedvectors.Vocab at 0x7f9667b9cdc0>,\n",
              " 'horrible': <gensim.models.keyedvectors.Vocab at 0x7f9667b9ce20>,\n",
              " \"'necessary\": <gensim.models.keyedvectors.Vocab at 0x7f9667b9ce80>,\n",
              " \"'faint\": <gensim.models.keyedvectors.Vocab at 0x7f9667b9cee0>,\n",
              " \"'unfathomable\": <gensim.models.keyedvectors.Vocab at 0x7f9667b9cf40>,\n",
              " \"'rocky\": <gensim.models.keyedvectors.Vocab at 0x7f9667b9cfa0>,\n",
              " \"'yuck\": <gensim.models.keyedvectors.Vocab at 0x7f9667b9d040>,\n",
              " \"'experience\": <gensim.models.keyedvectors.Vocab at 0x7f9667b9d0a0>,\n",
              " \"'desire\": <gensim.models.keyedvectors.Vocab at 0x7f9667b9d100>,\n",
              " \"'blend\": <gensim.models.keyedvectors.Vocab at 0x7f9667b9d160>,\n",
              " \"'smooth\": <gensim.models.keyedvectors.Vocab at 0x7f9667b9d1c0>,\n",
              " \"'gritty\": <gensim.models.keyedvectors.Vocab at 0x7f9667b9d220>,\n",
              " \"'white\": <gensim.models.keyedvectors.Vocab at 0x7f9667b9d280>,\n",
              " \"'random\": <gensim.models.keyedvectors.Vocab at 0x7f9667b9d2e0>,\n",
              " \"'family\": <gensim.models.keyedvectors.Vocab at 0x7f9667b9d340>,\n",
              " \"'member\": <gensim.models.keyedvectors.Vocab at 0x7f9667b9d3a0>,\n",
              " \"'fruity\": <gensim.models.keyedvectors.Vocab at 0x7f9667b9d400>,\n",
              " 'walked': <gensim.models.keyedvectors.Vocab at 0x7f9667b9d460>,\n",
              " \"'willing\": <gensim.models.keyedvectors.Vocab at 0x7f9667b9d4c0>,\n",
              " \"'yesterday\": <gensim.models.keyedvectors.Vocab at 0x7f9667b9d520>,\n",
              " \"'hunt\": <gensim.models.keyedvectors.Vocab at 0x7f9667b9d580>,\n",
              " \"'grab\": <gensim.models.keyedvectors.Vocab at 0x7f9667b9d5e0>,\n",
              " \"'curry\": <gensim.models.keyedvectors.Vocab at 0x7f9667b9d640>,\n",
              " \"'ate\": <gensim.models.keyedvectors.Vocab at 0x7f9667b9d6a0>,\n",
              " \"'wait\": <gensim.models.keyedvectors.Vocab at 0x7f9667b9d700>,\n",
              " \"'briefly\": <gensim.models.keyedvectors.Vocab at 0x7f9667b9d760>,\n",
              " \"'sort\": <gensim.models.keyedvectors.Vocab at 0x7f9667b9d7c0>,\n",
              " 'unsuccessful': <gensim.models.keyedvectors.Vocab at 0x7f9667b9d820>,\n",
              " \"'inoffensive\": <gensim.models.keyedvectors.Vocab at 0x7f9667b9d880>,\n",
              " \"'desert\": <gensim.models.keyedvectors.Vocab at 0x7f9667b9d8e0>,\n",
              " 'many': <gensim.models.keyedvectors.Vocab at 0x7f9667b9d940>,\n",
              " \"'beleive\": <gensim.models.keyedvectors.Vocab at 0x7f9667b9d9a0>,\n",
              " \"'superior\": <gensim.models.keyedvectors.Vocab at 0x7f9667b9da00>,\n",
              " \"'attractive\": <gensim.models.keyedvectors.Vocab at 0x7f9667b9da60>,\n",
              " \"'escape\": <gensim.models.keyedvectors.Vocab at 0x7f9667b9dac0>,\n",
              " \"'freshness\": <gensim.models.keyedvectors.Vocab at 0x7f9667b9db20>,\n",
              " \"'amaze\": <gensim.models.keyedvectors.Vocab at 0x7f9667b9db80>,\n",
              " 'bubble': <gensim.models.keyedvectors.Vocab at 0x7f9667b9dbe0>,\n",
              " \"'deliciousness\": <gensim.models.keyedvectors.Vocab at 0x7f9667b9dc40>,\n",
              " \"'sf\": <gensim.models.keyedvectors.Vocab at 0x7f9667b9dca0>,\n",
              " \"'suck\": <gensim.models.keyedvectors.Vocab at 0x7f9667b9dd00>,\n",
              " \"'waitress\": <gensim.models.keyedvectors.Vocab at 0x7f9667b9dd60>,\n",
              " \"'fake\": <gensim.models.keyedvectors.Vocab at 0x7f9667b9ddc0>,\n",
              " 'bun': <gensim.models.keyedvectors.Vocab at 0x7f9667b9de20>,\n",
              " \"'comment\": <gensim.models.keyedvectors.Vocab at 0x7f9667b9de80>,\n",
              " \"'pricey\": <gensim.models.keyedvectors.Vocab at 0x7f9667b9dee0>,\n",
              " \"'appreciate\": <gensim.models.keyedvectors.Vocab at 0x7f9667b9df40>,\n",
              " \"'terrific\": <gensim.models.keyedvectors.Vocab at 0x7f9667b9dfa0>,\n",
              " \"'write\": <gensim.models.keyedvectors.Vocab at 0x7f9667b9e040>,\n",
              " \"'mother\": <gensim.models.keyedvectors.Vocab at 0x7f9667b9e0a0>,\n",
              " \"'buck\": <gensim.models.keyedvectors.Vocab at 0x7f9667b9e100>,\n",
              " 'cake': <gensim.models.keyedvectors.Vocab at 0x7f9667b9e160>,\n",
              " \"'skeptical\": <gensim.models.keyedvectors.Vocab at 0x7f9667b9e1c0>,\n",
              " \"'capital\": <gensim.models.keyedvectors.Vocab at 0x7f9667b9e220>,\n",
              " 'c': <gensim.models.keyedvectors.Vocab at 0x7f9667b9e280>,\n",
              " \"'chat\": <gensim.models.keyedvectors.Vocab at 0x7f9667b9e2e0>,\n",
              " \"'help\": <gensim.models.keyedvectors.Vocab at 0x7f9667b9e340>,\n",
              " \"'prepare\": <gensim.models.keyedvectors.Vocab at 0x7f9667b9e3a0>,\n",
              " \"'stuffed\": <gensim.models.keyedvectors.Vocab at 0x7f9667b9e400>,\n",
              " 'cheap': <gensim.models.keyedvectors.Vocab at 0x7f9667b9e460>,\n",
              " \"'sweeter\": <gensim.models.keyedvectors.Vocab at 0x7f9667b9e4c0>,\n",
              " \"'tempt\": <gensim.models.keyedvectors.Vocab at 0x7f9667b9e520>,\n",
              " \"'pop\": <gensim.models.keyedvectors.Vocab at 0x7f9667b9e580>,\n",
              " 'cute': <gensim.models.keyedvectors.Vocab at 0x7f9667b9e5e0>,\n",
              " \"'mom\": <gensim.models.keyedvectors.Vocab at 0x7f9667b9e640>,\n",
              " \"'disappoint\": <gensim.models.keyedvectors.Vocab at 0x7f9667b9e6a0>,\n",
              " \"'see\": <gensim.models.keyedvectors.Vocab at 0x7f9667b9e700>,\n",
              " \"'argue\": <gensim.models.keyedvectors.Vocab at 0x7f9667b9e760>,\n",
              " \"'phone\": <gensim.models.keyedvectors.Vocab at 0x7f9667b9e7c0>,\n",
              " \"'confirm\": <gensim.models.keyedvectors.Vocab at 0x7f9667b9e820>,\n",
              " 'first': <gensim.models.keyedvectors.Vocab at 0x7f9667b9e880>,\n",
              " \"'fine\": <gensim.models.keyedvectors.Vocab at 0x7f9667b9e8e0>,\n",
              " \"'forth\": <gensim.models.keyedvectors.Vocab at 0x7f9667b9e940>,\n",
              " \"'careful\": <gensim.models.keyedvectors.Vocab at 0x7f9667b9e9a0>,\n",
              " 'delish': <gensim.models.keyedvectors.Vocab at 0x7f9667b9ea00>,\n",
              " \"'vietnamese\": <gensim.models.keyedvectors.Vocab at 0x7f9667b9ea60>,\n",
              " \"'mandarin\": <gensim.models.keyedvectors.Vocab at 0x7f9667b9eac0>,\n",
              " \"'cantonese\": <gensim.models.keyedvectors.Vocab at 0x7f9667b9eb20>,\n",
              " \"'intake\": <gensim.models.keyedvectors.Vocab at 0x7f9667b9eb80>,\n",
              " \"'venture\": <gensim.models.keyedvectors.Vocab at 0x7f9667b9ebe0>,\n",
              " \"'lunch\": <gensim.models.keyedvectors.Vocab at 0x7f9667b9ec40>,\n",
              " \"'childhood\": <gensim.models.keyedvectors.Vocab at 0x7f9667b9eca0>,\n",
              " \"'machine\": <gensim.models.keyedvectors.Vocab at 0x7f9667b9ed00>,\n",
              " \"'womp\": <gensim.models.keyedvectors.Vocab at 0x7f9667b9ed60>,\n",
              " \"'leave\": <gensim.models.keyedvectors.Vocab at 0x7f9667b9edc0>,\n",
              " \"'buy\": <gensim.models.keyedvectors.Vocab at 0x7f9667b9ee20>,\n",
              " \"'glad\": <gensim.models.keyedvectors.Vocab at 0x7f9667b9ee80>,\n",
              " \"'opinion\": <gensim.models.keyedvectors.Vocab at 0x7f9667b9eee0>,\n",
              " \"'realize\": <gensim.models.keyedvectors.Vocab at 0x7f9667b9ef40>,\n",
              " \"'want\": <gensim.models.keyedvectors.Vocab at 0x7f9667b9efa0>,\n",
              " 'freak': <gensim.models.keyedvectors.Vocab at 0x7f9667ba0040>,\n",
              " \"'linda\": <gensim.models.keyedvectors.Vocab at 0x7f9667ba00a0>,\n",
              " \"'n\": <gensim.models.keyedvectors.Vocab at 0x7f9667ba0100>,\n",
              " \"'sign\": <gensim.models.keyedvectors.Vocab at 0x7f9667ba0160>,\n",
              " \"'frozen\": <gensim.models.keyedvectors.Vocab at 0x7f9667ba01c0>,\n",
              " \"'weird\": <gensim.models.keyedvectors.Vocab at 0x7f9667ba0220>,\n",
              " \"'beat\": <gensim.models.keyedvectors.Vocab at 0x7f9667ba0280>,\n",
              " \"'communicate\": <gensim.models.keyedvectors.Vocab at 0x7f9667ba02e0>,\n",
              " \"'reasonable\": <gensim.models.keyedvectors.Vocab at 0x7f9667ba0340>,\n",
              " \"'familys\": <gensim.models.keyedvectors.Vocab at 0x7f9667ba03a0>,\n",
              " \"'easy\": <gensim.models.keyedvectors.Vocab at 0x7f9667ba0400>,\n",
              " \"'cuz\": <gensim.models.keyedvectors.Vocab at 0x7f9667ba0460>,\n",
              " \"'pro\": <gensim.models.keyedvectors.Vocab at 0x7f9667ba04c0>,\n",
              " 'durian': <gensim.models.keyedvectors.Vocab at 0x7f9667ba0520>,\n",
              " \"'angel\": <gensim.models.keyedvectors.Vocab at 0x7f9667ba0580>,\n",
              " \"'chestnut\": <gensim.models.keyedvectors.Vocab at 0x7f9667ba05e0>,\n",
              " \"'goodand\": <gensim.models.keyedvectors.Vocab at 0x7f9667ba0640>,\n",
              " \"'item\": <gensim.models.keyedvectors.Vocab at 0x7f9667ba06a0>,\n",
              " \"'cakeand\": <gensim.models.keyedvectors.Vocab at 0x7f9667ba0700>,\n",
              " \"'premadesee\": <gensim.models.keyedvectors.Vocab at 0x7f9667ba0760>,\n",
              " \"'style\": <gensim.models.keyedvectors.Vocab at 0x7f9667ba07c0>,\n",
              " 'affordable': <gensim.models.keyedvectors.Vocab at 0x7f9667ba0820>,\n",
              " \"'fruitcaketiramisu\": <gensim.models.keyedvectors.Vocab at 0x7f9667ba0880>,\n",
              " \"'moresome\": <gensim.models.keyedvectors.Vocab at 0x7f9667ba08e0>,\n",
              " \"'hongkong\": <gensim.models.keyedvectors.Vocab at 0x7f9667ba0940>,\n",
              " \"'establishment\": <gensim.models.keyedvectors.Vocab at 0x7f9667ba09a0>,\n",
              " \"'mood\": <gensim.models.keyedvectors.Vocab at 0x7f9667ba0a00>,\n",
              " \"'room\": <gensim.models.keyedvectors.Vocab at 0x7f9667ba0a60>,\n",
              " \"'bathroom\": <gensim.models.keyedvectors.Vocab at 0x7f9667ba0ac0>,\n",
              " \"'lock\": <gensim.models.keyedvectors.Vocab at 0x7f9667ba0b20>,\n",
              " \"'explanation\": <gensim.models.keyedvectors.Vocab at 0x7f9667ba0b80>,\n",
              " \"'person\": <gensim.models.keyedvectors.Vocab at 0x7f9667ba0be0>,\n",
              " \"'confuse\": <gensim.models.keyedvectors.Vocab at 0x7f9667ba0c40>,\n",
              " \"'restroom\": <gensim.models.keyedvectors.Vocab at 0x7f9667ba0ca0>,\n",
              " \"'barrierthey\": <gensim.models.keyedvectors.Vocab at 0x7f9667ba0d00>,\n",
              " \"'check\": <gensim.models.keyedvectors.Vocab at 0x7f9667ba0d60>,\n",
              " \"'spell\": <gensim.models.keyedvectors.Vocab at 0x7f9667ba0dc0>,\n",
              " \"'change\": <gensim.models.keyedvectors.Vocab at 0x7f9667ba0e20>,\n",
              " \"'attitude\": <gensim.models.keyedvectors.Vocab at 0x7f9667ba0e80>,\n",
              " \"'talk\": <gensim.models.keyedvectors.Vocab at 0x7f9667ba0ee0>,\n",
              " \"'admit\": <gensim.models.keyedvectors.Vocab at 0x7f9667ba0f40>,\n",
              " \"'employee\": <gensim.models.keyedvectors.Vocab at 0x7f9667ba0fa0>,\n",
              " \"'wont\": <gensim.models.keyedvectors.Vocab at 0x7f9667ba1040>,\n",
              " 'terrible': <gensim.models.keyedvectors.Vocab at 0x7f9667ba10a0>,\n",
              " \"'terrible\": <gensim.models.keyedvectors.Vocab at 0x7f9667ba1100>,\n",
              " \"'disrespected\": <gensim.models.keyedvectors.Vocab at 0x7f9667ba1160>,\n",
              " \"'friday\": <gensim.models.keyedvectors.Vocab at 0x7f9667ba11c0>,\n",
              " \"'preordered\": <gensim.models.keyedvectors.Vocab at 0x7f9667ba1220>,\n",
              " \"'key\": <gensim.models.keyedvectors.Vocab at 0x7f9667ba1280>,\n",
              " \"'mumble\": <gensim.models.keyedvectors.Vocab at 0x7f9667ba12e0>,\n",
              " \"'understood\": <gensim.models.keyedvectors.Vocab at 0x7f9667ba1340>,\n",
              " \"'shock\": <gensim.models.keyedvectors.Vocab at 0x7f9667ba13a0>,\n",
              " \"'tasty\": <gensim.models.keyedvectors.Vocab at 0x7f9667ba1400>,\n",
              " \"'edge\": <gensim.models.keyedvectors.Vocab at 0x7f9667ba1460>,\n",
              " 'egg': <gensim.models.keyedvectors.Vocab at 0x7f9667ba14c0>,\n",
              " \"'thick\": <gensim.models.keyedvectors.Vocab at 0x7f9667ba1520>,\n",
              " \"'stale\": <gensim.models.keyedvectors.Vocab at 0x7f9667ba1580>,\n",
              " \"'search\": <gensim.models.keyedvectors.Vocab at 0x7f9667ba15e0>,\n",
              " \"'today\": <gensim.models.keyedvectors.Vocab at 0x7f9667ba1640>,\n",
              " 'close': <gensim.models.keyedvectors.Vocab at 0x7f9667ba16a0>,\n",
              " \"'york\": <gensim.models.keyedvectors.Vocab at 0x7f9667ba1700>,\n",
              " \"'trial\": <gensim.models.keyedvectors.Vocab at 0x7f9667ba1760>,\n",
              " \"'error\": <gensim.models.keyedvectors.Vocab at 0x7f9667ba17c0>,\n",
              " \"'hi\": <gensim.models.keyedvectors.Vocab at 0x7f9667ba1820>,\n",
              " \"'point\": <gensim.models.keyedvectors.Vocab at 0x7f9667ba1880>,\n",
              " \"'assortment\": <gensim.models.keyedvectors.Vocab at 0x7f9667ba18e0>,\n",
              " \"'someone\": <gensim.models.keyedvectors.Vocab at 0x7f9667ba1940>,\n",
              " \"'balance\": <gensim.models.keyedvectors.Vocab at 0x7f9667ba19a0>,\n",
              " \"'salty\": <gensim.models.keyedvectors.Vocab at 0x7f9667ba1a00>,\n",
              " \"'decadence\": <gensim.models.keyedvectors.Vocab at 0x7f9667ba1a60>,\n",
              " \"'notch\": <gensim.models.keyedvectors.Vocab at 0x7f9667ba1ac0>,\n",
              " \"'mustgo\": <gensim.models.keyedvectors.Vocab at 0x7f9667ba1b20>,\n",
              " \"'wander\": <gensim.models.keyedvectors.Vocab at 0x7f9667ba1b80>,\n",
              " \"'bank\": <gensim.models.keyedvectors.Vocab at 0x7f9667ba1be0>,\n",
              " 'new': <gensim.models.keyedvectors.Vocab at 0x7f9667ba1c40>,\n",
              " \"'helpful\": <gensim.models.keyedvectors.Vocab at 0x7f9667ba1ca0>,\n",
              " \"'proper\": <gensim.models.keyedvectors.Vocab at 0x7f9667ba1d00>,\n",
              " \"'accent\": <gensim.models.keyedvectors.Vocab at 0x7f9667ba1d60>,\n",
              " \"'friendly\": <gensim.models.keyedvectors.Vocab at 0x7f9667ba1dc0>,\n",
              " \"'regular\": <gensim.models.keyedvectors.Vocab at 0x7f9667ba1e20>,\n",
              " \"'available\": <gensim.models.keyedvectors.Vocab at 0x7f9667ba1e80>,\n",
              " \"'wide\": <gensim.models.keyedvectors.Vocab at 0x7f9667ba1ee0>,\n",
              " \"'ready\": <gensim.models.keyedvectors.Vocab at 0x7f9667ba1f40>,\n",
              " \"'obsessed\": <gensim.models.keyedvectors.Vocab at 0x7f9667ba1fa0>,\n",
              " \"'lucky\": <gensim.models.keyedvectors.Vocab at 0x7f9667ba2040>,\n",
              " \"'straight\": <gensim.models.keyedvectors.Vocab at 0x7f9667ba20a0>,\n",
              " \"'cold\": <gensim.models.keyedvectors.Vocab at 0x7f9667ba2100>,\n",
              " \"'exceptional\": <gensim.models.keyedvectors.Vocab at 0x7f9667ba2160>,\n",
              " \"'fry\": <gensim.models.keyedvectors.Vocab at 0x7f9667ba21c0>,\n",
              " \"'news\": <gensim.models.keyedvectors.Vocab at 0x7f9667ba2220>,\n",
              " \"'practice\": <gensim.models.keyedvectors.Vocab at 0x7f9667ba2280>,\n",
              " \"'move\": <gensim.models.keyedvectors.Vocab at 0x7f9667ba22e0>,\n",
              " \"'late\": <gensim.models.keyedvectors.Vocab at 0x7f9667ba2340>,\n",
              " \"'drive\": <gensim.models.keyedvectors.Vocab at 0x7f9667ba23a0>,\n",
              " \"'steak\": <gensim.models.keyedvectors.Vocab at 0x7f9667ba2400>,\n",
              " \"'precaution\": <gensim.models.keyedvectors.Vocab at 0x7f9667ba2460>,\n",
              " \"'hand\": <gensim.models.keyedvectors.Vocab at 0x7f9667ba24c0>,\n",
              " \"'glove\": <gensim.models.keyedvectors.Vocab at 0x7f9667ba2520>,\n",
              " \"'flush\": <gensim.models.keyedvectors.Vocab at 0x7f9667ba2580>,\n",
              " \"'norm\": <gensim.models.keyedvectors.Vocab at 0x7f9667ba25e0>,\n",
              " \"'covid\": <gensim.models.keyedvectors.Vocab at 0x7f9667ba2640>,\n",
              " \"'rate\": <gensim.models.keyedvectors.Vocab at 0x7f9667ba26a0>,\n",
              " \"'yup\": <gensim.models.keyedvectors.Vocab at 0x7f9667ba2700>,\n",
              " \"'waaaaay\": <gensim.models.keyedvectors.Vocab at 0x7f9667ba2760>,\n",
              " \"'head\": <gensim.models.keyedvectors.Vocab at 0x7f9667ba27c0>,\n",
              " \"'cha\": <gensim.models.keyedvectors.Vocab at 0x7f9667ba2820>,\n",
              " \"'sui\": <gensim.models.keyedvectors.Vocab at 0x7f9667ba2880>,\n",
              " \"'baos\": <gensim.models.keyedvectors.Vocab at 0x7f9667ba28e0>,\n",
              " \"'id\": <gensim.models.keyedvectors.Vocab at 0x7f9667ba2940>,\n",
              " \"'lack\": <gensim.models.keyedvectors.Vocab at 0x7f9667ba29a0>,\n",
              " \"'safety\": <gensim.models.keyedvectors.Vocab at 0x7f9667ba2a00>,\n",
              " \"'bump\": <gensim.models.keyedvectors.Vocab at 0x7f9667ba2a60>,\n",
              " \"'yelp\": <gensim.models.keyedvectors.Vocab at 0x7f9667ba2ac0>,\n",
              " \"'mistake\": <gensim.models.keyedvectors.Vocab at 0x7f9667ba2b20>,\n",
              " \"'night\": <gensim.models.keyedvectors.Vocab at 0x7f9667ba2b80>,\n",
              " \"'closing\": <gensim.models.keyedvectors.Vocab at 0x7f9667ba2be0>,\n",
              " 'im': <gensim.models.keyedvectors.Vocab at 0x7f9667ba2c40>,\n",
              " \"'pandemic\": <gensim.models.keyedvectors.Vocab at 0x7f9667ba2ca0>,\n",
              " \"'thought\": <gensim.models.keyedvectors.Vocab at 0x7f9667ba2d00>,\n",
              " \"'eager\": <gensim.models.keyedvectors.Vocab at 0x7f9667ba2d60>,\n",
              " \"'paranoid\": <gensim.models.keyedvectors.Vocab at 0x7f9667ba2dc0>,\n",
              " \"'support\": <gensim.models.keyedvectors.Vocab at 0x7f9667ba2e20>,\n",
              " \"'plan\": <gensim.models.keyedvectors.Vocab at 0x7f9667ba2e80>,\n",
              " 'awesome': <gensim.models.keyedvectors.Vocab at 0x7f9667ba2ee0>,\n",
              " \"'happen\": <gensim.models.keyedvectors.Vocab at 0x7f9667ba2f40>,\n",
              " \"'plain\": <gensim.models.keyedvectors.Vocab at 0x7f9667ba2fa0>,\n",
              " \"'color\": <gensim.models.keyedvectors.Vocab at 0x7f9667ba4040>,\n",
              " \"'introduce\": <gensim.models.keyedvectors.Vocab at 0x7f9667ba40a0>,\n",
              " \"'happenedshame\": <gensim.models.keyedvectors.Vocab at 0x7f9667ba4100>,\n",
              " \"'cut\": <gensim.models.keyedvectors.Vocab at 0x7f9667ba4160>,\n",
              " \"'product\": <gensim.models.keyedvectors.Vocab at 0x7f9667ba41c0>,\n",
              " 'oh': <gensim.models.keyedvectors.Vocab at 0x7f9667ba4220>,\n",
              " \"'stuck\": <gensim.models.keyedvectors.Vocab at 0x7f9667ba4280>,\n",
              " \"'disgust\": <gensim.models.keyedvectors.Vocab at 0x7f9667ba42e0>,\n",
              " \"'funky\": <gensim.models.keyedvectors.Vocab at 0x7f9667ba4340>,\n",
              " \"'sister\": <gensim.models.keyedvectors.Vocab at 0x7f9667ba43a0>,\n",
              " \"'extra\": <gensim.models.keyedvectors.Vocab at 0x7f9667ba4400>,\n",
              " \"'nonedible\": <gensim.models.keyedvectors.Vocab at 0x7f9667ba4460>,\n",
              " \"'bunschar\": <gensim.models.keyedvectors.Vocab at 0x7f9667ba44c0>,\n",
              " \"'siu\": <gensim.models.keyedvectors.Vocab at 0x7f9667ba4520>,\n",
              " \"'tender\": <gensim.models.keyedvectors.Vocab at 0x7f9667ba4580>,\n",
              " \"'fall\": <gensim.models.keyedvectors.Vocab at 0x7f9667ba45e0>,\n",
              " \"'flavorful\": <gensim.models.keyedvectors.Vocab at 0x7f9667ba4640>,\n",
              " \"'ratio\": <gensim.models.keyedvectors.Vocab at 0x7f9667ba46a0>,\n",
              " \"'enjoyable\": <gensim.models.keyedvectors.Vocab at 0x7f9667ba4700>,\n",
              " \"'liked\": <gensim.models.keyedvectors.Vocab at 0x7f9667ba4760>,\n",
              " \"'chunky\": <gensim.models.keyedvectors.Vocab at 0x7f9667ba47c0>,\n",
              " 'extra': <gensim.models.keyedvectors.Vocab at 0x7f9667ba4820>,\n",
              " \"'brioche\": <gensim.models.keyedvectors.Vocab at 0x7f9667ba4880>,\n",
              " \"'oomph\": <gensim.models.keyedvectors.Vocab at 0x7f9667ba48e0>,\n",
              " \"'fryer\": <gensim.models.keyedvectors.Vocab at 0x7f9667ba4940>,\n",
              " \"'oil\": <gensim.models.keyedvectors.Vocab at 0x7f9667ba49a0>,\n",
              " 'sweet': <gensim.models.keyedvectors.Vocab at 0x7f9667ba4a00>,\n",
              " \"'long\": <gensim.models.keyedvectors.Vocab at 0x7f9667ba4a60>,\n",
              " \"'skimpy\": <gensim.models.keyedvectors.Vocab at 0x7f9667ba4ac0>,\n",
              " \"'couldve\": <gensim.models.keyedvectors.Vocab at 0x7f9667ba4b20>,\n",
              " \"'complete\": <gensim.models.keyedvectors.Vocab at 0x7f9667ba4b80>,\n",
              " 'joint': <gensim.models.keyedvectors.Vocab at 0x7f9667ba4be0>,\n",
              " \"'delightful\": <gensim.models.keyedvectors.Vocab at 0x7f9667ba4c40>,\n",
              " \"'mixture\": <gensim.models.keyedvectors.Vocab at 0x7f9667ba4ca0>,\n",
              " \"'tummy\": <gensim.models.keyedvectors.Vocab at 0x7f9667ba4d00>,\n",
              " \"'saturday\": <gensim.models.keyedvectors.Vocab at 0x7f9667ba4d60>,\n",
              " \"'theyve\": <gensim.models.keyedvectors.Vocab at 0x7f9667ba4dc0>,\n",
              " \"'scallion\": <gensim.models.keyedvectors.Vocab at 0x7f9667ba4e20>,\n",
              " \"'forewarning\": <gensim.models.keyedvectors.Vocab at 0x7f9667ba4e80>,\n",
              " \"'mayonnaise\": <gensim.models.keyedvectors.Vocab at 0x7f9667ba4ee0>,\n",
              " \"'mayonnaiselike\": <gensim.models.keyedvectors.Vocab at 0x7f9667ba4f40>,\n",
              " \"'spread\": <gensim.models.keyedvectors.Vocab at 0x7f9667ba4fa0>,\n",
              " \"'combination\": <gensim.models.keyedvectors.Vocab at 0x7f9667ba5040>,\n",
              " 'pandemic': <gensim.models.keyedvectors.Vocab at 0x7f9667ba50a0>,\n",
              " \"'popular\": <gensim.models.keyedvectors.Vocab at 0x7f9667ba5100>,\n",
              " \"'other\": <gensim.models.keyedvectors.Vocab at 0x7f9667ba5160>,\n",
              " \"'familiar\": <gensim.models.keyedvectors.Vocab at 0x7f9667ba51c0>,\n",
              " \"'anticipate\": <gensim.models.keyedvectors.Vocab at 0x7f9667ba5220>,\n",
              " \"'city\": <gensim.models.keyedvectors.Vocab at 0x7f9667ba5280>,\n",
              " \"'call\": <gensim.models.keyedvectors.Vocab at 0x7f9667ba52e0>,\n",
              " \"'opening\": <gensim.models.keyedvectors.Vocab at 0x7f9667ba5340>,\n",
              " \"'ambiance\": <gensim.models.keyedvectors.Vocab at 0x7f9667ba53a0>,\n",
              " \"'hello\": <gensim.models.keyedvectors.Vocab at 0x7f9667ba5400>,\n",
              " \"'chef\": <gensim.models.keyedvectors.Vocab at 0x7f9667ba5460>,\n",
              " \"'beam\": <gensim.models.keyedvectors.Vocab at 0x7f9667ba54c0>,\n",
              " \"'accomplishment\": <gensim.models.keyedvectors.Vocab at 0x7f9667ba5520>,\n",
              " \"'fusion\": <gensim.models.keyedvectors.Vocab at 0x7f9667ba5580>,\n",
              " \"'bar\": <gensim.models.keyedvectors.Vocab at 0x7f9667ba55e0>,\n",
              " \"'thrill\": <gensim.models.keyedvectors.Vocab at 0x7f9667ba5640>,\n",
              " \"'quite\": <gensim.models.keyedvectors.Vocab at 0x7f9667ba56a0>,\n",
              " \"'amazing\": <gensim.models.keyedvectors.Vocab at 0x7f9667ba5700>,\n",
              " \"'official\": <gensim.models.keyedvectors.Vocab at 0x7f9667ba5760>,\n",
              " \"'pleased\": <gensim.models.keyedvectors.Vocab at 0x7f9667ba57c0>,\n",
              " \"'fish\": <gensim.models.keyedvectors.Vocab at 0x7f9667ba5820>,\n",
              " \"'ownerexecutive\": <gensim.models.keyedvectors.Vocab at 0x7f9667ba5880>,\n",
              " \"'sushiasian\": <gensim.models.keyedvectors.Vocab at 0x7f9667ba58e0>,\n",
              " \"'tuna\": <gensim.models.keyedvectors.Vocab at 0x7f9667ba5940>,\n",
              " \"'neighborhood\": <gensim.models.keyedvectors.Vocab at 0x7f9667ba59a0>,\n",
              " \"'team\": <gensim.models.keyedvectors.Vocab at 0x7f9667ba5a00>,\n",
              " \"'scramble\": <gensim.models.keyedvectors.Vocab at 0x7f9667ba5a60>,\n",
              " \"'tonight\": <gensim.models.keyedvectors.Vocab at 0x7f9667ba5ac0>,\n",
              " \"'dollar\": <gensim.models.keyedvectors.Vocab at 0x7f9667ba5b20>,\n",
              " \"'dish\": <gensim.models.keyedvectors.Vocab at 0x7f9667ba5b80>,\n",
              " \"'customer\": <gensim.models.keyedvectors.Vocab at 0x7f9667ba5be0>,\n",
              " 'live': <gensim.models.keyedvectors.Vocab at 0x7f9667ba5c40>,\n",
              " \"'lose\": <gensim.models.keyedvectors.Vocab at 0x7f9667ba5ca0>,\n",
              " \"'edamame\": <gensim.models.keyedvectors.Vocab at 0x7f9667ba5d00>,\n",
              " \"'tartare\": <gensim.models.keyedvectors.Vocab at 0x7f9667ba5d60>,\n",
              " \"'tartar\": <gensim.models.keyedvectors.Vocab at 0x7f9667ba5dc0>,\n",
              " \"'ocean\": <gensim.models.keyedvectors.Vocab at 0x7f9667ba5e20>,\n",
              " \"'rock\": <gensim.models.keyedvectors.Vocab at 0x7f9667ba5e80>,\n",
              " \"'shrimp\": <gensim.models.keyedvectors.Vocab at 0x7f9667ba5ee0>,\n",
              " \"'miso\": <gensim.models.keyedvectors.Vocab at 0x7f9667ba5f40>,\n",
              " \"'soup\": <gensim.models.keyedvectors.Vocab at 0x7f9667ba5fa0>,\n",
              " \"'surf\": <gensim.models.keyedvectors.Vocab at 0x7f9667ba6040>,\n",
              " \"'turf\": <gensim.models.keyedvectors.Vocab at 0x7f9667ba60a0>,\n",
              " \"'profile\": <gensim.models.keyedvectors.Vocab at 0x7f9667ba6100>,\n",
              " \"'enjoy\": <gensim.models.keyedvectors.Vocab at 0x7f9667ba6160>,\n",
              " \"'chance\": <gensim.models.keyedvectors.Vocab at 0x7f9667ba61c0>,\n",
              " \"'please\": <gensim.models.keyedvectors.Vocab at 0x7f9667ba6220>,\n",
              " 'basic': <gensim.models.keyedvectors.Vocab at 0x7f9667ba6280>,\n",
              " \"'california\": <gensim.models.keyedvectors.Vocab at 0x7f9667ba62e0>,\n",
              " \"'die\": <gensim.models.keyedvectors.Vocab at 0x7f9667ba6340>,\n",
              " \"'tiny\": <gensim.models.keyedvectors.Vocab at 0x7f9667ba63a0>,\n",
              " \"'spice\": <gensim.models.keyedvectors.Vocab at 0x7f9667ba6400>,\n",
              " \"'follow\": <gensim.models.keyedvectors.Vocab at 0x7f9667ba6460>,\n",
              " \"'able\": <gensim.models.keyedvectors.Vocab at 0x7f9667ba64c0>,\n",
              " \"'entire\": <gensim.models.keyedvectors.Vocab at 0x7f9667ba6520>,\n",
              " \"'adventure\": <gensim.models.keyedvectors.Vocab at 0x7f9667ba6580>,\n",
              " \"'sake\": <gensim.models.keyedvectors.Vocab at 0x7f9667ba65e0>,\n",
              " \"'beer\": <gensim.models.keyedvectors.Vocab at 0x7f9667ba6640>,\n",
              " 'great': <gensim.models.keyedvectors.Vocab at 0x7f9667ba66a0>,\n",
              " \"'din\": <gensim.models.keyedvectors.Vocab at 0x7f9667ba6700>,\n",
              " \"'lobster\": <gensim.models.keyedvectors.Vocab at 0x7f9667ba6760>,\n",
              " \"'umami\": <gensim.models.keyedvectors.Vocab at 0x7f9667ba67c0>,\n",
              " \"'ingredient\": <gensim.models.keyedvectors.Vocab at 0x7f9667ba6820>,\n",
              " 'hard': <gensim.models.keyedvectors.Vocab at 0x7f9667ba6880>,\n",
              " \"'forgot\": <gensim.models.keyedvectors.Vocab at 0x7f9667ba68e0>,\n",
              " \"'complementary\": <gensim.models.keyedvectors.Vocab at 0x7f9667ba6940>,\n",
              " \"'fishtown\": <gensim.models.keyedvectors.Vocab at 0x7f9667ba69a0>,\n",
              " \"'dynamite\": <gensim.models.keyedvectors.Vocab at 0x7f9667ba6a00>,\n",
              " \"'ub\": <gensim.models.keyedvectors.Vocab at 0x7f9667ba6a60>,\n",
              " \"'flood\": <gensim.models.keyedvectors.Vocab at 0x7f9667ba6ac0>,\n",
              " \"'mediocre\": <gensim.models.keyedvectors.Vocab at 0x7f9667ba6b20>,\n",
              " \"'laban\": <gensim.models.keyedvectors.Vocab at 0x7f9667ba6b80>,\n",
              " \"'fork\": <gensim.models.keyedvectors.Vocab at 0x7f9667ba6be0>,\n",
              " \"'road\": <gensim.models.keyedvectors.Vocab at 0x7f9667ba6c40>,\n",
              " \"'option\": <gensim.models.keyedvectors.Vocab at 0x7f9667ba6ca0>,\n",
              " \"'royal\": <gensim.models.keyedvectors.Vocab at 0x7f9667ba6d00>,\n",
              " \"'izakaya\": <gensim.models.keyedvectors.Vocab at 0x7f9667ba6d60>,\n",
              " \"'boy\": <gensim.models.keyedvectors.Vocab at 0x7f9667ba6dc0>,\n",
              " \"'guarantee\": <gensim.models.keyedvectors.Vocab at 0x7f9667ba6e20>,\n",
              " \"'ginger\": <gensim.models.keyedvectors.Vocab at 0x7f9667ba6e80>,\n",
              " \"'avocado\": <gensim.models.keyedvectors.Vocab at 0x7f9667ba6ee0>,\n",
              " \"'dress\": <gensim.models.keyedvectors.Vocab at 0x7f9667ba6f40>,\n",
              " \"'mix\": <gensim.models.keyedvectors.Vocab at 0x7f9667ba6fa0>,\n",
              " \"'consider\": <gensim.models.keyedvectors.Vocab at 0x7f9667ba8040>,\n",
              " \"'romaine\": <gensim.models.keyedvectors.Vocab at 0x7f9667ba80a0>,\n",
              " \"'dragon\": <gensim.models.keyedvectors.Vocab at 0x7f9667ba8100>,\n",
              " 'j': <gensim.models.keyedvectors.Vocab at 0x7f9667ba8160>,\n",
              " \"'salmon\": <gensim.models.keyedvectors.Vocab at 0x7f9667ba81c0>,\n",
              " \"'fattier\": <gensim.models.keyedvectors.Vocab at 0x7f9667ba8220>,\n",
              " \"'alaskan\": <gensim.models.keyedvectors.Vocab at 0x7f9667ba8280>,\n",
              " \"'highlight\": <gensim.models.keyedvectors.Vocab at 0x7f9667ba82e0>,\n",
              " \"'craft\": <gensim.models.keyedvectors.Vocab at 0x7f9667ba8340>,\n",
              " \"'delicate\": <gensim.models.keyedvectors.Vocab at 0x7f9667ba83a0>,\n",
              " \"'subtlety\": <gensim.models.keyedvectors.Vocab at 0x7f9667ba8400>,\n",
              " \"'preparation\": <gensim.models.keyedvectors.Vocab at 0x7f9667ba8460>,\n",
              " \"'care\": <gensim.models.keyedvectors.Vocab at 0x7f9667ba84c0>,\n",
              " \"'ken\": <gensim.models.keyedvectors.Vocab at 0x7f9667ba8520>,\n",
              " \"'dig\": <gensim.models.keyedvectors.Vocab at 0x7f9667ba8580>,\n",
              " \"'upscale\": <gensim.models.keyedvectors.Vocab at 0x7f9667ba85e0>,\n",
              " \"'frequent\": <gensim.models.keyedvectors.Vocab at 0x7f9667ba8640>,\n",
              " \"'desired\": <gensim.models.keyedvectors.Vocab at 0x7f9667ba86a0>,\n",
              " \"'understanding\": <gensim.models.keyedvectors.Vocab at 0x7f9667ba8700>,\n",
              " \"'narrow\": <gensim.models.keyedvectors.Vocab at 0x7f9667ba8760>,\n",
              " \"'location\": <gensim.models.keyedvectors.Vocab at 0x7f9667ba87c0>,\n",
              " \"'spring\": <gensim.models.keyedvectors.Vocab at 0x7f9667ba8820>,\n",
              " \"'classic\": <gensim.models.keyedvectors.Vocab at 0x7f9667ba8880>,\n",
              " \"'tasmanian\": <gensim.models.keyedvectors.Vocab at 0x7f9667ba88e0>,\n",
              " \"'wild\": <gensim.models.keyedvectors.Vocab at 0x7f9667ba8940>,\n",
              " \"'present\": <gensim.models.keyedvectors.Vocab at 0x7f9667ba89a0>,\n",
              " \"'humble\": <gensim.models.keyedvectors.Vocab at 0x7f9667ba8a00>,\n",
              " \"'coast\": <gensim.models.keyedvectors.Vocab at 0x7f9667ba8a60>,\n",
              " \"'wasabi\": <gensim.models.keyedvectors.Vocab at 0x7f9667ba8ac0>,\n",
              " \"'count\": <gensim.models.keyedvectors.Vocab at 0x7f9667ba8b20>,\n",
              " 'fish': <gensim.models.keyedvectors.Vocab at 0x7f9667ba8b80>,\n",
              " \"'grate\": <gensim.models.keyedvectors.Vocab at 0x7f9667ba8be0>,\n",
              " \"'girlfriend\": <gensim.models.keyedvectors.Vocab at 0x7f9667ba8c40>,\n",
              " \"'girl\": <gensim.models.keyedvectors.Vocab at 0x7f9667ba8ca0>,\n",
              " \"'heard\": <gensim.models.keyedvectors.Vocab at 0x7f9667ba8d00>,\n",
              " \"'space\": <gensim.models.keyedvectors.Vocab at 0x7f9667ba8d60>,\n",
              " \"'lay\": <gensim.models.keyedvectors.Vocab at 0x7f9667ba8dc0>,\n",
              " \"'retro\": <gensim.models.keyedvectors.Vocab at 0x7f9667ba8e20>,\n",
              " \"'scenery\": <gensim.models.keyedvectors.Vocab at 0x7f9667ba8e80>,\n",
              " \"'water\": <gensim.models.keyedvectors.Vocab at 0x7f9667ba8ee0>,\n",
              " \"'chickenshrimp\": <gensim.models.keyedvectors.Vocab at 0x7f9667ba8f40>,\n",
              " \"'house\": <gensim.models.keyedvectors.Vocab at 0x7f9667ba8fa0>,\n",
              " \"'spicy\": <gensim.models.keyedvectors.Vocab at 0x7f9667ba9040>,\n",
              " \"'yellowtail\": <gensim.models.keyedvectors.Vocab at 0x7f9667ba90a0>,\n",
              " \"'spider\": <gensim.models.keyedvectors.Vocab at 0x7f9667ba9100>,\n",
              " \"'manager\": <gensim.models.keyedvectors.Vocab at 0x7f9667ba9160>,\n",
              " \"'touch\": <gensim.models.keyedvectors.Vocab at 0x7f9667ba91c0>,\n",
              " \"'neat\": <gensim.models.keyedvectors.Vocab at 0x7f9667ba9220>,\n",
              " ...}"
            ]
          },
          "metadata": {},
          "execution_count": 81
        }
      ]
    },
    {
      "cell_type": "code",
      "source": [
        "model1 = model.wv"
      ],
      "metadata": {
        "id": "jIhF_UtBUc9Q"
      },
      "execution_count": 82,
      "outputs": []
    },
    {
      "cell_type": "code",
      "source": [
        "model1.most_similar('service')"
      ],
      "metadata": {
        "colab": {
          "base_uri": "https://localhost:8080/"
        },
        "id": "sheUkEmV21jk",
        "outputId": "5b3c80f7-67d3-4c09-d591-5219f6260bcc"
      },
      "execution_count": 83,
      "outputs": [
        {
          "output_type": "execute_result",
          "data": {
            "text/plain": [
              "[('menu', 0.8527047634124756),\n",
              " ('underwhelmed', 0.8397247791290283),\n",
              " ('tough', 0.8395524024963379),\n",
              " ('checked', 0.8334258794784546),\n",
              " ('impossible', 0.8321889042854309),\n",
              " ('affordable', 0.8275795578956604),\n",
              " ('fan', 0.826906681060791),\n",
              " ('own', 0.824568510055542),\n",
              " ('wide', 0.8203316926956177),\n",
              " ('real', 0.8202391266822815)]"
            ]
          },
          "metadata": {},
          "execution_count": 83
        }
      ]
    },
    {
      "cell_type": "code",
      "source": [
        "model1.most_similar(\"flavor\")"
      ],
      "metadata": {
        "colab": {
          "base_uri": "https://localhost:8080/"
        },
        "id": "D4sE4c_3zOzx",
        "outputId": "88bf83cc-2b70-45b7-a9ae-cfd108882ac9"
      },
      "execution_count": 84,
      "outputs": [
        {
          "output_type": "execute_result",
          "data": {
            "text/plain": [
              "[(\"'optionsalad\", 0.7891819477081299),\n",
              " ('coffee', 0.7834130525588989),\n",
              " ('find', 0.7767985463142395),\n",
              " ('chill', 0.7751347422599792),\n",
              " ('dissapointed', 0.7652608156204224),\n",
              " ('staple', 0.7631983160972595),\n",
              " ('picked', 0.7580418586730957),\n",
              " ('gyro', 0.7578526139259338),\n",
              " ('sneak', 0.757631778717041),\n",
              " ('downtown', 0.7559709548950195)]"
            ]
          },
          "metadata": {},
          "execution_count": 84
        }
      ]
    },
    {
      "cell_type": "code",
      "source": [
        "for_keras= practice_set['nouns_adjec'].values"
      ],
      "metadata": {
        "id": "2KFBydfs25Yh"
      },
      "execution_count": 89,
      "outputs": []
    },
    {
      "cell_type": "code",
      "source": [
        "for_keras"
      ],
      "metadata": {
        "colab": {
          "base_uri": "https://localhost:8080/"
        },
        "id": "SBtvf7cq4LV-",
        "outputId": "5c6ed206-f7e5-46f5-c5d2-64980d869961"
      },
      "execution_count": 90,
      "outputs": [
        {
          "output_type": "execute_result",
          "data": {
            "text/plain": [
              "array([\"'heart' 'philadelphia' 'female' 'cashier' 'pastry' 'show' 'display' 'case' 'evening' 'sesame' 'ball' 'paste' 'rice' 'ball' 'bai' 'tang' 'gao' 'area''nice' 'little' 'bakery' 'chinatown' 'flirtatious' 'adorn' 'fill' 'bean' 'glutinous' 'similar' 'place' 'worth'\",\n",
              "       \"'bakery' 'variety' 'bun' 'pastry' 'bun' 'mung' 'coconut' 'stuff' 'egg' 'tart' 'dozen' 'price' 'standard' 'thing' 'service' 'serve' 'coffee' 'tea' 'couple' 'group' 'guy' 'chillin' 'corner' 'debate' 'something' 'place' 'stock' 'bun' 'town''chinatown' 'decent' 'beanfilled' 'bun' 'free' 'good' 'table' 'old' 'table' 'great'\",\n",
              "       \"'kind' 'service' 'everyone' 'treat' 'treat' 'judgement' 'theyre' 'favorite''delightful' 'chinatown' 'clean' 'happy' 'delicious' 'ton' 'sweet'\",\n",
              "       ...,\n",
              "       \"'hand' 'ice' 'coffee' 'terrific' 'guy' 'counter' 'try' 'apartment' 'bella' 'vista' 'place' 'vote' 'apartment' 'good''freak' 'close'\",\n",
              "       \"'place' 'chill' 'corner' 'coffee' 'shop' 'baristaowner' 'neighborhood' 'order' 'tea' 'afternoon' 'jerk' 'get' 'anyway' 'say' 'day' 'judgment' 'pushiness' 'pastry' 'nothing' 'complain' 'chair''great' 'super' 'nonpretentious' 'friendly' 'iced' 'free' 'wifi' 'im' 'know' 'im' 'cheap' 'comfortable' 'awesome' 'great' 'little' 'comfortable' 'much'\",\n",
              "       \"'neighborhood' 'gem' 'owner' 'guy' 'place' 'spot' 'hang' 'work' 'coffee''super' 'nice' 'great' 'delicious'\"],\n",
              "      dtype=object)"
            ]
          },
          "metadata": {},
          "execution_count": 90
        }
      ]
    },
    {
      "cell_type": "code",
      "source": [
        "import numpy as np\n",
        "from tensorflow.keras.preprocessing.text import one_hot\n",
        "from tensorflow.keras.preprocessing.sequence import pad_sequences\n",
        "from tensorflow.keras.models import Sequential\n",
        "from tensorflow.keras.layers import Dense\n",
        "from tensorflow.keras.layers import Flatten\n",
        "from tensorflow.keras.layers import Embedding"
      ],
      "metadata": {
        "id": "PdmBPr_O4i3Z"
      },
      "execution_count": 91,
      "outputs": []
    },
    {
      "cell_type": "code",
      "source": [
        "vocab_size = 300\n",
        "encoded_reviews = [one_hot(x, vocab_size) for x in for_keras]\n",
        "print(encoded_reviews)"
      ],
      "metadata": {
        "colab": {
          "base_uri": "https://localhost:8080/"
        },
        "id": "sGEvSMEj4uEL",
        "outputId": "fe9b62e7-8ddf-47cc-a86e-3272423fefd7"
      },
      "execution_count": 92,
      "outputs": [
        {
          "output_type": "stream",
          "name": "stderr",
          "text": [
            "IOPub data rate exceeded.\n",
            "The notebook server will temporarily stop sending output\n",
            "to the client in order to avoid crashing it.\n",
            "To change this limit, set the config variable\n",
            "`--NotebookApp.iopub_data_rate_limit`.\n",
            "\n",
            "Current values:\n",
            "NotebookApp.iopub_data_rate_limit=1000000.0 (bytes/sec)\n",
            "NotebookApp.rate_limit_window=3.0 (secs)\n",
            "\n"
          ]
        }
      ]
    },
    {
      "cell_type": "code",
      "source": [
        "max_length = 10\n",
        "padded_reviews = pad_sequences(encoded_reviews, maxlen=max_length, padding='post')\n",
        "print(padded_reviews)"
      ],
      "metadata": {
        "colab": {
          "base_uri": "https://localhost:8080/"
        },
        "id": "qQu_UqWl5d6T",
        "outputId": "65eacd29-791f-43f7-c0ca-ea0241d58e07"
      },
      "execution_count": 93,
      "outputs": [
        {
          "output_type": "stream",
          "name": "stdout",
          "text": [
            "[[254 228 223 ...  43  35  53]\n",
            " [ 31  86  91 ... 249 294 282]\n",
            " [ 67 266 247 ... 209 289 279]\n",
            " ...\n",
            " [237  33 172 ... 172 185 144]\n",
            " [ 86 256  86 ...  55  44 166]\n",
            " [ 63 193  35 ...  65 282 209]]\n"
          ]
        }
      ]
    },
    {
      "cell_type": "code",
      "source": [
        "embeded_vector_size = 5\n",
        "model = Sequential()\n",
        "model.add(Embedding(vocab_size, embeded_vector_size, input_length=max_length, name = \"embedding\"))\n",
        "model.add(Flatten())\n",
        "model.add(Dense(1, activation='sigmoid'))"
      ],
      "metadata": {
        "id": "ll578UG65-Ij"
      },
      "execution_count": 94,
      "outputs": []
    },
    {
      "cell_type": "code",
      "source": [
        "practice_set.columns"
      ],
      "metadata": {
        "colab": {
          "base_uri": "https://localhost:8080/"
        },
        "id": "KTGSRxxrAoI_",
        "outputId": "23806767-f4d9-4a24-86b8-48eca6e4ac0a"
      },
      "execution_count": 97,
      "outputs": [
        {
          "output_type": "execute_result",
          "data": {
            "text/plain": [
              "Index(['index', 'nouns_adjec', 'stars_y'], dtype='object')"
            ]
          },
          "metadata": {},
          "execution_count": 97
        }
      ]
    },
    {
      "cell_type": "code",
      "source": [
        "def stars_transform(x):\n",
        "  if x >= 4:\n",
        "    return 1\n",
        "  else:\n",
        "    return 0 \n",
        "\n",
        "\n",
        "practice_set['stars_y'] = practice_set['stars_y'].apply(stars_transform)"
      ],
      "metadata": {
        "id": "nCgpBeg57B0b"
      },
      "execution_count": 98,
      "outputs": []
    },
    {
      "cell_type": "code",
      "source": [],
      "metadata": {
        "id": "J3TUnlREk0HM"
      },
      "execution_count": null,
      "outputs": []
    },
    {
      "cell_type": "code",
      "source": [
        "practice_set['stars_y'].value_counts()"
      ],
      "metadata": {
        "colab": {
          "base_uri": "https://localhost:8080/"
        },
        "id": "ELtLB5NDkc40",
        "outputId": "c912e0e4-7704-4e75-a61c-22486da5941c"
      },
      "execution_count": 99,
      "outputs": [
        {
          "output_type": "execute_result",
          "data": {
            "text/plain": [
              "1    45608\n",
              "0    20090\n",
              "Name: stars_y, dtype: int64"
            ]
          },
          "metadata": {},
          "execution_count": 99
        }
      ]
    },
    {
      "cell_type": "code",
      "source": [
        "sentiment = practice_set['stars_y'].values.flatten()"
      ],
      "metadata": {
        "id": "zLQxroEBk0ut"
      },
      "execution_count": 100,
      "outputs": []
    },
    {
      "cell_type": "code",
      "source": [
        "X = padded_reviews\n",
        "y=sentiment"
      ],
      "metadata": {
        "id": "HAqBMkWi7M-d"
      },
      "execution_count": 101,
      "outputs": []
    },
    {
      "cell_type": "code",
      "source": [
        "sentiment\n"
      ],
      "metadata": {
        "colab": {
          "base_uri": "https://localhost:8080/"
        },
        "id": "erHuaqsayBH1",
        "outputId": "c5b339a9-0f28-4d70-97af-478f7facbe18"
      },
      "execution_count": 102,
      "outputs": [
        {
          "output_type": "execute_result",
          "data": {
            "text/plain": [
              "array([1, 1, 1, ..., 1, 1, 1])"
            ]
          },
          "metadata": {},
          "execution_count": 102
        }
      ]
    },
    {
      "cell_type": "code",
      "source": [
        "model.compile(optimizer='adam', loss = 'binary_crossentropy', metrics=['accuracy'])\n",
        "model.summary()"
      ],
      "metadata": {
        "colab": {
          "base_uri": "https://localhost:8080/"
        },
        "id": "v1mGNdH87tn3",
        "outputId": "de5506c6-7619-448c-a8e0-17df9d643f0f"
      },
      "execution_count": 103,
      "outputs": [
        {
          "output_type": "stream",
          "name": "stdout",
          "text": [
            "Model: \"sequential\"\n",
            "_________________________________________________________________\n",
            " Layer (type)                Output Shape              Param #   \n",
            "=================================================================\n",
            " embedding (Embedding)       (None, 10, 5)             1500      \n",
            "                                                                 \n",
            " flatten (Flatten)           (None, 50)                0         \n",
            "                                                                 \n",
            " dense (Dense)               (None, 1)                 51        \n",
            "                                                                 \n",
            "=================================================================\n",
            "Total params: 1,551\n",
            "Trainable params: 1,551\n",
            "Non-trainable params: 0\n",
            "_________________________________________________________________\n"
          ]
        }
      ]
    },
    {
      "cell_type": "code",
      "source": [
        "model.fit(X, y, epochs=50, verbose=0)"
      ],
      "metadata": {
        "colab": {
          "base_uri": "https://localhost:8080/"
        },
        "id": "hYEL52bp770G",
        "outputId": "2872c598-8fa9-4dab-d2a7-9cce1c1da84c"
      },
      "execution_count": 104,
      "outputs": [
        {
          "output_type": "execute_result",
          "data": {
            "text/plain": [
              "<keras.callbacks.History at 0x7f965e454430>"
            ]
          },
          "metadata": {},
          "execution_count": 104
        }
      ]
    },
    {
      "cell_type": "code",
      "source": [
        "loss, accuracy = model.evaluate(X,y)\n",
        "accuracy"
      ],
      "metadata": {
        "colab": {
          "base_uri": "https://localhost:8080/"
        },
        "id": "BIMv4lg38MPh",
        "outputId": "1f3cfc95-504b-4d7c-a30e-eea978e029ea"
      },
      "execution_count": 105,
      "outputs": [
        {
          "output_type": "stream",
          "name": "stdout",
          "text": [
            "2054/2054 [==============================] - 5s 2ms/step - loss: 0.4916 - accuracy: 0.7616\n"
          ]
        },
        {
          "output_type": "execute_result",
          "data": {
            "text/plain": [
              "0.7616061568260193"
            ]
          },
          "metadata": {},
          "execution_count": 105
        }
      ]
    },
    {
      "cell_type": "code",
      "source": [
        "model.get_layer('embedding').get_weights()[0]"
      ],
      "metadata": {
        "colab": {
          "base_uri": "https://localhost:8080/"
        },
        "id": "Nju41UYz8TpC",
        "outputId": "7eac8217-4252-4fb1-8493-46040ee22b62"
      },
      "execution_count": null,
      "outputs": [
        {
          "output_type": "execute_result",
          "data": {
            "text/plain": [
              "array([[-0.08514103, -0.23153287,  0.24459454, -0.3646788 , -0.25075015],\n",
              "       [-0.2938213 ,  0.07905864,  0.3493986 , -1.0039985 , -0.11557846],\n",
              "       [-0.34502858, -0.07566555, -0.0161044 , -0.06921784, -0.3675889 ],\n",
              "       ...,\n",
              "       [-0.39592603, -0.27611938,  0.35098198,  0.09522876,  0.12187388],\n",
              "       [-0.31211022, -0.16910024,  0.5180508 , -0.35287592, -0.57010895],\n",
              "       [-0.465337  , -0.43238527,  0.5847294 , -0.07537656, -0.48818544]],\n",
              "      dtype=float32)"
            ]
          },
          "metadata": {},
          "execution_count": 48
        }
      ]
    },
    {
      "cell_type": "code",
      "source": [],
      "metadata": {
        "id": "VnJANOk-83t8"
      },
      "execution_count": null,
      "outputs": []
    }
  ]
}